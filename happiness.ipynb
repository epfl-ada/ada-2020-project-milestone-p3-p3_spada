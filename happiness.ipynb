{
 "cells": [
  {
   "cell_type": "markdown",
   "metadata": {},
   "source": [
    "# Where to take my talents to - a world happiness analysis\n"
   ]
  },
  {
   "cell_type": "code",
   "execution_count": 150,
   "metadata": {},
   "outputs": [
    {
     "data": {
      "text/html": [
       "        <script type=\"text/javascript\">\n",
       "        window.PlotlyConfig = {MathJaxConfig: 'local'};\n",
       "        if (window.MathJax) {MathJax.Hub.Config({SVG: {font: \"STIX-Web\"}});}\n",
       "        if (typeof require !== 'undefined') {\n",
       "        require.undef(\"plotly\");\n",
       "        requirejs.config({\n",
       "            paths: {\n",
       "                'plotly': ['https://cdn.plot.ly/plotly-latest.min']\n",
       "            }\n",
       "        });\n",
       "        require(['plotly'], function(Plotly) {\n",
       "            window._Plotly = Plotly;\n",
       "        });\n",
       "        }\n",
       "        </script>\n",
       "        "
      ]
     },
     "metadata": {},
     "output_type": "display_data"
    }
   ],
   "source": [
    "import pandas as pd\n",
    "import numpy as np\n",
    "import matplotlib.pyplot as plt\n",
    "import statsmodels.formula.api as smf\n",
    "import networkx as nx\n",
    "import seaborn as sns\n",
    "import warnings\n",
    "from scipy import stats\n",
    "# INTERACTIVE VISUALIZATION\n",
    "import chart_studio.plotly as py \n",
    "import plotly.graph_objs as go\n",
    "import plotly.express as px\n",
    "from plotly.offline import download_plotlyjs, init_notebook_mode, plot, iplot\n",
    "init_notebook_mode(connected=True)"
   ]
  },
  {
   "cell_type": "code",
   "execution_count": 2,
   "metadata": {},
   "outputs": [],
   "source": [
    "y2015 = pd.read_csv(\"Data/2015.csv\")\n",
    "y2016 = pd.read_csv(\"Data/2016.csv\")\n",
    "y2017 = pd.read_csv(\"Data/2017.csv\")\n",
    "y2018 = pd.read_csv(\"Data/2018.csv\")\n",
    "y2019 = pd.read_csv(\"Data/2019.csv\")\n",
    "y2020 = pd.read_csv(\"Data/2020.csv\")\n"
   ]
  },
  {
   "cell_type": "markdown",
   "metadata": {},
   "source": [
    "## Preprocessing \n",
    "\n",
    "For each year's dataframe, we will preprocess the data by determining if there are any invalid entries. Specifically, any values of NaN or 0 (when not appropriate), will be treated by taking the mean of the remaining values in the column. We then concatenate all the dataframes to form a final version which includes all the years."
   ]
  },
  {
   "cell_type": "code",
   "execution_count": 4,
   "metadata": {},
   "outputs": [],
   "source": [
    "# COLUMNS IMPORTANTS \n",
    "cols=['Year','Country','Happiness_Score','Happiness_Rank', 'GDP_per_capita', 'Healthy_life_expectancy','Freedom', 'Generosity','Perceptions_of_corruption']"
   ]
  },
  {
   "cell_type": "code",
   "execution_count": 5,
   "metadata": {},
   "outputs": [
    {
     "data": {
      "text/plain": [
       "Country name                                  Central African Republic\n",
       "Regional indicator                                  Sub-Saharan Africa\n",
       "Ladder score                                                    3.4759\n",
       "Standard error of ladder score                                0.115183\n",
       "upperwhisker                                                   3.70166\n",
       "lowerwhisker                                                   3.25014\n",
       "Logged GDP per capita                                          6.62516\n",
       "Social support                                                 0.31946\n",
       "Healthy life expectancy                                           45.2\n",
       "Freedom to make life choices                                  0.640881\n",
       "Generosity                                                   0.0824104\n",
       "Perceptions of corruption                                     0.891807\n",
       "Ladder score in Dystopia                                       1.97232\n",
       "Explained by: Log GDP per capita                             0.0410721\n",
       "Explained by: Social support                                         0\n",
       "Explained by: Healthy life expectancy                                0\n",
       "Explained by: Freedom to make life choices                    0.292814\n",
       "Explained by: Generosity                                      0.253513\n",
       "Explained by: Perceptions of corruption                      0.0282647\n",
       "Dystopia + residual                                             2.8602\n",
       "Name: 148, dtype: object"
      ]
     },
     "execution_count": 5,
     "metadata": {},
     "output_type": "execute_result"
    }
   ],
   "source": [
    "y2020.iloc[148]"
   ]
  },
  {
   "cell_type": "code",
   "execution_count": 6,
   "metadata": {},
   "outputs": [
    {
     "name": "stdout",
     "output_type": "stream",
     "text": [
      "Year                         0\n",
      "Country                      0\n",
      "Happiness_Score              0\n",
      "Happiness_Rank               0\n",
      "GDP_per_capita               1\n",
      "Healthy_life_expectancy      1\n",
      "Freedom                      1\n",
      "Generosity                   1\n",
      "Perceptions_of_corruption    1\n",
      "dtype: int64\n",
      "Number of null: 0\n"
     ]
    },
    {
     "data": {
      "text/html": [
       "<div>\n",
       "<style scoped>\n",
       "    .dataframe tbody tr th:only-of-type {\n",
       "        vertical-align: middle;\n",
       "    }\n",
       "\n",
       "    .dataframe tbody tr th {\n",
       "        vertical-align: top;\n",
       "    }\n",
       "\n",
       "    .dataframe thead th {\n",
       "        text-align: right;\n",
       "    }\n",
       "</style>\n",
       "<table border=\"1\" class=\"dataframe\">\n",
       "  <thead>\n",
       "    <tr style=\"text-align: right;\">\n",
       "      <th></th>\n",
       "      <th>Year</th>\n",
       "      <th>Country</th>\n",
       "      <th>Happiness_Score</th>\n",
       "      <th>Happiness_Rank</th>\n",
       "      <th>GDP_per_capita</th>\n",
       "      <th>Healthy_life_expectancy</th>\n",
       "      <th>Freedom</th>\n",
       "      <th>Generosity</th>\n",
       "      <th>Perceptions_of_corruption</th>\n",
       "    </tr>\n",
       "  </thead>\n",
       "  <tbody>\n",
       "    <tr>\n",
       "      <th>0</th>\n",
       "      <td>2015</td>\n",
       "      <td>Switzerland</td>\n",
       "      <td>7.587</td>\n",
       "      <td>1</td>\n",
       "      <td>1.39651</td>\n",
       "      <td>0.94143</td>\n",
       "      <td>0.66557</td>\n",
       "      <td>0.29678</td>\n",
       "      <td>0.41978</td>\n",
       "    </tr>\n",
       "    <tr>\n",
       "      <th>1</th>\n",
       "      <td>2015</td>\n",
       "      <td>Iceland</td>\n",
       "      <td>7.561</td>\n",
       "      <td>2</td>\n",
       "      <td>1.30232</td>\n",
       "      <td>0.94784</td>\n",
       "      <td>0.62877</td>\n",
       "      <td>0.43630</td>\n",
       "      <td>0.14145</td>\n",
       "    </tr>\n",
       "    <tr>\n",
       "      <th>2</th>\n",
       "      <td>2015</td>\n",
       "      <td>Denmark</td>\n",
       "      <td>7.527</td>\n",
       "      <td>3</td>\n",
       "      <td>1.32548</td>\n",
       "      <td>0.87464</td>\n",
       "      <td>0.64938</td>\n",
       "      <td>0.34139</td>\n",
       "      <td>0.48357</td>\n",
       "    </tr>\n",
       "    <tr>\n",
       "      <th>3</th>\n",
       "      <td>2015</td>\n",
       "      <td>Norway</td>\n",
       "      <td>7.522</td>\n",
       "      <td>4</td>\n",
       "      <td>1.45900</td>\n",
       "      <td>0.88521</td>\n",
       "      <td>0.66973</td>\n",
       "      <td>0.34699</td>\n",
       "      <td>0.36503</td>\n",
       "    </tr>\n",
       "    <tr>\n",
       "      <th>4</th>\n",
       "      <td>2015</td>\n",
       "      <td>Canada</td>\n",
       "      <td>7.427</td>\n",
       "      <td>5</td>\n",
       "      <td>1.32629</td>\n",
       "      <td>0.90563</td>\n",
       "      <td>0.63297</td>\n",
       "      <td>0.45811</td>\n",
       "      <td>0.32957</td>\n",
       "    </tr>\n",
       "  </tbody>\n",
       "</table>\n",
       "</div>"
      ],
      "text/plain": [
       "   Year      Country  Happiness_Score  Happiness_Rank  GDP_per_capita  \\\n",
       "0  2015  Switzerland            7.587               1         1.39651   \n",
       "1  2015      Iceland            7.561               2         1.30232   \n",
       "2  2015      Denmark            7.527               3         1.32548   \n",
       "3  2015       Norway            7.522               4         1.45900   \n",
       "4  2015       Canada            7.427               5         1.32629   \n",
       "\n",
       "   Healthy_life_expectancy  Freedom  Generosity  Perceptions_of_corruption  \n",
       "0                  0.94143  0.66557     0.29678                    0.41978  \n",
       "1                  0.94784  0.62877     0.43630                    0.14145  \n",
       "2                  0.87464  0.64938     0.34139                    0.48357  \n",
       "3                  0.88521  0.66973     0.34699                    0.36503  \n",
       "4                  0.90563  0.63297     0.45811                    0.32957  "
      ]
     },
     "execution_count": 6,
     "metadata": {},
     "output_type": "execute_result"
    }
   ],
   "source": [
    "y2015.rename(columns={'Economy (GDP per Capita)':'GDP_per_capita', \\\n",
    "                      'Happiness Score':'Happiness_Score',\\\n",
    "                      'Happiness Rank':'Happiness_Rank',\\\n",
    "                       'Health (Life Expectancy)':'Healthy_life_expectancy',\\\n",
    "                     'Trust (Government Corruption)':'Perceptions_of_corruption'}, inplace=True)\n",
    "y2015['Year']=2015\n",
    "y2015=y2015.loc[:,cols]\n",
    "\n",
    "# we check for any zeros/null in the dataframe to determine if it makes sense to replace its value with the mean of the column\n",
    "print((y2015== 0).sum())\n",
    "print('Number of null:', y2015.isnull().sum().sum())\n",
    "\n",
    "y2015.head()"
   ]
  },
  {
   "cell_type": "code",
   "execution_count": 7,
   "metadata": {},
   "outputs": [
    {
     "name": "stdout",
     "output_type": "stream",
     "text": [
      "Year                         0\n",
      "Country                      0\n",
      "Happiness_Score              0\n",
      "Happiness_Rank               0\n",
      "GDP_per_capita               1\n",
      "Healthy_life_expectancy      1\n",
      "Freedom                      1\n",
      "Generosity                   1\n",
      "Perceptions_of_corruption    1\n",
      "dtype: int64\n",
      "Number of null: 0\n"
     ]
    },
    {
     "data": {
      "text/html": [
       "<div>\n",
       "<style scoped>\n",
       "    .dataframe tbody tr th:only-of-type {\n",
       "        vertical-align: middle;\n",
       "    }\n",
       "\n",
       "    .dataframe tbody tr th {\n",
       "        vertical-align: top;\n",
       "    }\n",
       "\n",
       "    .dataframe thead th {\n",
       "        text-align: right;\n",
       "    }\n",
       "</style>\n",
       "<table border=\"1\" class=\"dataframe\">\n",
       "  <thead>\n",
       "    <tr style=\"text-align: right;\">\n",
       "      <th></th>\n",
       "      <th>Year</th>\n",
       "      <th>Country</th>\n",
       "      <th>Happiness_Score</th>\n",
       "      <th>Happiness_Rank</th>\n",
       "      <th>GDP_per_capita</th>\n",
       "      <th>Healthy_life_expectancy</th>\n",
       "      <th>Freedom</th>\n",
       "      <th>Generosity</th>\n",
       "      <th>Perceptions_of_corruption</th>\n",
       "    </tr>\n",
       "  </thead>\n",
       "  <tbody>\n",
       "    <tr>\n",
       "      <th>0</th>\n",
       "      <td>2016</td>\n",
       "      <td>Denmark</td>\n",
       "      <td>7.526</td>\n",
       "      <td>1</td>\n",
       "      <td>1.44178</td>\n",
       "      <td>0.79504</td>\n",
       "      <td>0.57941</td>\n",
       "      <td>0.36171</td>\n",
       "      <td>0.44453</td>\n",
       "    </tr>\n",
       "    <tr>\n",
       "      <th>1</th>\n",
       "      <td>2016</td>\n",
       "      <td>Switzerland</td>\n",
       "      <td>7.509</td>\n",
       "      <td>2</td>\n",
       "      <td>1.52733</td>\n",
       "      <td>0.86303</td>\n",
       "      <td>0.58557</td>\n",
       "      <td>0.28083</td>\n",
       "      <td>0.41203</td>\n",
       "    </tr>\n",
       "    <tr>\n",
       "      <th>2</th>\n",
       "      <td>2016</td>\n",
       "      <td>Iceland</td>\n",
       "      <td>7.501</td>\n",
       "      <td>3</td>\n",
       "      <td>1.42666</td>\n",
       "      <td>0.86733</td>\n",
       "      <td>0.56624</td>\n",
       "      <td>0.47678</td>\n",
       "      <td>0.14975</td>\n",
       "    </tr>\n",
       "    <tr>\n",
       "      <th>3</th>\n",
       "      <td>2016</td>\n",
       "      <td>Norway</td>\n",
       "      <td>7.498</td>\n",
       "      <td>4</td>\n",
       "      <td>1.57744</td>\n",
       "      <td>0.79579</td>\n",
       "      <td>0.59609</td>\n",
       "      <td>0.37895</td>\n",
       "      <td>0.35776</td>\n",
       "    </tr>\n",
       "    <tr>\n",
       "      <th>4</th>\n",
       "      <td>2016</td>\n",
       "      <td>Finland</td>\n",
       "      <td>7.413</td>\n",
       "      <td>5</td>\n",
       "      <td>1.40598</td>\n",
       "      <td>0.81091</td>\n",
       "      <td>0.57104</td>\n",
       "      <td>0.25492</td>\n",
       "      <td>0.41004</td>\n",
       "    </tr>\n",
       "  </tbody>\n",
       "</table>\n",
       "</div>"
      ],
      "text/plain": [
       "   Year      Country  Happiness_Score  Happiness_Rank  GDP_per_capita  \\\n",
       "0  2016      Denmark            7.526               1         1.44178   \n",
       "1  2016  Switzerland            7.509               2         1.52733   \n",
       "2  2016      Iceland            7.501               3         1.42666   \n",
       "3  2016       Norway            7.498               4         1.57744   \n",
       "4  2016      Finland            7.413               5         1.40598   \n",
       "\n",
       "   Healthy_life_expectancy  Freedom  Generosity  Perceptions_of_corruption  \n",
       "0                  0.79504  0.57941     0.36171                    0.44453  \n",
       "1                  0.86303  0.58557     0.28083                    0.41203  \n",
       "2                  0.86733  0.56624     0.47678                    0.14975  \n",
       "3                  0.79579  0.59609     0.37895                    0.35776  \n",
       "4                  0.81091  0.57104     0.25492                    0.41004  "
      ]
     },
     "execution_count": 7,
     "metadata": {},
     "output_type": "execute_result"
    }
   ],
   "source": [
    "y2016.rename(columns={'Economy (GDP per Capita)':'GDP_per_capita', \\\n",
    "                     'Happiness Score':'Happiness_Score',\\\n",
    "                      'Happiness Rank':'Happiness_Rank',\\\n",
    "                       'Health (Life Expectancy)':'Healthy_life_expectancy',\\\n",
    "                     'Trust (Government Corruption)':'Perceptions_of_corruption'}, inplace=True)\n",
    "y2016['Year']=2016\n",
    "y2016=y2016.loc[:,cols]\n",
    "\n",
    "# we check for any zeros/null in the dataframe to determine if it makes sense to replace its value with the mean of the column\n",
    "print((y2016== 0).sum())\n",
    "print('Number of null:', y2016.isnull().sum().sum())\n",
    "\n",
    "y2016.head()"
   ]
  },
  {
   "cell_type": "code",
   "execution_count": 8,
   "metadata": {},
   "outputs": [
    {
     "name": "stdout",
     "output_type": "stream",
     "text": [
      "Year                         0\n",
      "Country                      0\n",
      "Happiness_Score              0\n",
      "Happiness_Rank               0\n",
      "GDP_per_capita               1\n",
      "Healthy_life_expectancy      1\n",
      "Freedom                      1\n",
      "Generosity                   1\n",
      "Perceptions_of_corruption    1\n",
      "dtype: int64\n",
      "Number of null: 0\n"
     ]
    },
    {
     "data": {
      "text/html": [
       "<div>\n",
       "<style scoped>\n",
       "    .dataframe tbody tr th:only-of-type {\n",
       "        vertical-align: middle;\n",
       "    }\n",
       "\n",
       "    .dataframe tbody tr th {\n",
       "        vertical-align: top;\n",
       "    }\n",
       "\n",
       "    .dataframe thead th {\n",
       "        text-align: right;\n",
       "    }\n",
       "</style>\n",
       "<table border=\"1\" class=\"dataframe\">\n",
       "  <thead>\n",
       "    <tr style=\"text-align: right;\">\n",
       "      <th></th>\n",
       "      <th>Year</th>\n",
       "      <th>Country</th>\n",
       "      <th>Happiness_Score</th>\n",
       "      <th>Happiness_Rank</th>\n",
       "      <th>GDP_per_capita</th>\n",
       "      <th>Healthy_life_expectancy</th>\n",
       "      <th>Freedom</th>\n",
       "      <th>Generosity</th>\n",
       "      <th>Perceptions_of_corruption</th>\n",
       "    </tr>\n",
       "  </thead>\n",
       "  <tbody>\n",
       "    <tr>\n",
       "      <th>0</th>\n",
       "      <td>2017</td>\n",
       "      <td>Norway</td>\n",
       "      <td>7.537</td>\n",
       "      <td>1</td>\n",
       "      <td>1.616463</td>\n",
       "      <td>0.796667</td>\n",
       "      <td>0.635423</td>\n",
       "      <td>0.362012</td>\n",
       "      <td>0.315964</td>\n",
       "    </tr>\n",
       "    <tr>\n",
       "      <th>1</th>\n",
       "      <td>2017</td>\n",
       "      <td>Denmark</td>\n",
       "      <td>7.522</td>\n",
       "      <td>2</td>\n",
       "      <td>1.482383</td>\n",
       "      <td>0.792566</td>\n",
       "      <td>0.626007</td>\n",
       "      <td>0.355280</td>\n",
       "      <td>0.400770</td>\n",
       "    </tr>\n",
       "    <tr>\n",
       "      <th>2</th>\n",
       "      <td>2017</td>\n",
       "      <td>Iceland</td>\n",
       "      <td>7.504</td>\n",
       "      <td>3</td>\n",
       "      <td>1.480633</td>\n",
       "      <td>0.833552</td>\n",
       "      <td>0.627163</td>\n",
       "      <td>0.475540</td>\n",
       "      <td>0.153527</td>\n",
       "    </tr>\n",
       "    <tr>\n",
       "      <th>3</th>\n",
       "      <td>2017</td>\n",
       "      <td>Switzerland</td>\n",
       "      <td>7.494</td>\n",
       "      <td>4</td>\n",
       "      <td>1.564980</td>\n",
       "      <td>0.858131</td>\n",
       "      <td>0.620071</td>\n",
       "      <td>0.290549</td>\n",
       "      <td>0.367007</td>\n",
       "    </tr>\n",
       "    <tr>\n",
       "      <th>4</th>\n",
       "      <td>2017</td>\n",
       "      <td>Finland</td>\n",
       "      <td>7.469</td>\n",
       "      <td>5</td>\n",
       "      <td>1.443572</td>\n",
       "      <td>0.809158</td>\n",
       "      <td>0.617951</td>\n",
       "      <td>0.245483</td>\n",
       "      <td>0.382612</td>\n",
       "    </tr>\n",
       "  </tbody>\n",
       "</table>\n",
       "</div>"
      ],
      "text/plain": [
       "   Year      Country  Happiness_Score  Happiness_Rank  GDP_per_capita  \\\n",
       "0  2017       Norway            7.537               1        1.616463   \n",
       "1  2017      Denmark            7.522               2        1.482383   \n",
       "2  2017      Iceland            7.504               3        1.480633   \n",
       "3  2017  Switzerland            7.494               4        1.564980   \n",
       "4  2017      Finland            7.469               5        1.443572   \n",
       "\n",
       "   Healthy_life_expectancy   Freedom  Generosity  Perceptions_of_corruption  \n",
       "0                 0.796667  0.635423    0.362012                   0.315964  \n",
       "1                 0.792566  0.626007    0.355280                   0.400770  \n",
       "2                 0.833552  0.627163    0.475540                   0.153527  \n",
       "3                 0.858131  0.620071    0.290549                   0.367007  \n",
       "4                 0.809158  0.617951    0.245483                   0.382612  "
      ]
     },
     "execution_count": 8,
     "metadata": {},
     "output_type": "execute_result"
    }
   ],
   "source": [
    "y2017.rename(columns={'Economy..GDP.per.Capita.':'GDP_per_capita', \\\n",
    "                       'Health..Life.Expectancy.':'Healthy_life_expectancy',\\\n",
    "                     'Trust..Government.Corruption.':'Perceptions_of_corruption',\\\n",
    "                     'Happiness.Rank': 'Happiness_Rank',\\\n",
    "                     'Happiness.Score': 'Happiness_Score'}, inplace=True)\n",
    "y2017['Year']=2017\n",
    "y2017=y2017.loc[:,cols]\n",
    "\n",
    "# we check for any zeros/null in the dataframe to determine if it makes sense to replace its value with the mean of the column\n",
    "print((y2017== 0).sum())\n",
    "print('Number of null:', y2017.isnull().sum().sum())\n",
    "\n",
    "y2017.head()"
   ]
  },
  {
   "cell_type": "code",
   "execution_count": 9,
   "metadata": {},
   "outputs": [
    {
     "name": "stdout",
     "output_type": "stream",
     "text": [
      "Year                         0\n",
      "Country                      0\n",
      "Happiness_Score              0\n",
      "Happiness_Rank               0\n",
      "GDP_per_capita               1\n",
      "Healthy_life_expectancy      1\n",
      "Freedom                      1\n",
      "Generosity                   1\n",
      "Perceptions_of_corruption    2\n",
      "dtype: int64\n",
      "Number of null: 1\n",
      "['Perceptions_of_corruption']\n"
     ]
    },
    {
     "data": {
      "text/html": [
       "<div>\n",
       "<style scoped>\n",
       "    .dataframe tbody tr th:only-of-type {\n",
       "        vertical-align: middle;\n",
       "    }\n",
       "\n",
       "    .dataframe tbody tr th {\n",
       "        vertical-align: top;\n",
       "    }\n",
       "\n",
       "    .dataframe thead th {\n",
       "        text-align: right;\n",
       "    }\n",
       "</style>\n",
       "<table border=\"1\" class=\"dataframe\">\n",
       "  <thead>\n",
       "    <tr style=\"text-align: right;\">\n",
       "      <th></th>\n",
       "      <th>Year</th>\n",
       "      <th>Country</th>\n",
       "      <th>Happiness_Score</th>\n",
       "      <th>Happiness_Rank</th>\n",
       "      <th>GDP_per_capita</th>\n",
       "      <th>Healthy_life_expectancy</th>\n",
       "      <th>Freedom</th>\n",
       "      <th>Generosity</th>\n",
       "      <th>Perceptions_of_corruption</th>\n",
       "    </tr>\n",
       "  </thead>\n",
       "  <tbody>\n",
       "    <tr>\n",
       "      <th>0</th>\n",
       "      <td>2018</td>\n",
       "      <td>Finland</td>\n",
       "      <td>7.632</td>\n",
       "      <td>1</td>\n",
       "      <td>1.305</td>\n",
       "      <td>0.874</td>\n",
       "      <td>0.681</td>\n",
       "      <td>0.202</td>\n",
       "      <td>0.393</td>\n",
       "    </tr>\n",
       "    <tr>\n",
       "      <th>1</th>\n",
       "      <td>2018</td>\n",
       "      <td>Norway</td>\n",
       "      <td>7.594</td>\n",
       "      <td>2</td>\n",
       "      <td>1.456</td>\n",
       "      <td>0.861</td>\n",
       "      <td>0.686</td>\n",
       "      <td>0.286</td>\n",
       "      <td>0.340</td>\n",
       "    </tr>\n",
       "    <tr>\n",
       "      <th>2</th>\n",
       "      <td>2018</td>\n",
       "      <td>Denmark</td>\n",
       "      <td>7.555</td>\n",
       "      <td>3</td>\n",
       "      <td>1.351</td>\n",
       "      <td>0.868</td>\n",
       "      <td>0.683</td>\n",
       "      <td>0.284</td>\n",
       "      <td>0.408</td>\n",
       "    </tr>\n",
       "    <tr>\n",
       "      <th>3</th>\n",
       "      <td>2018</td>\n",
       "      <td>Iceland</td>\n",
       "      <td>7.495</td>\n",
       "      <td>4</td>\n",
       "      <td>1.343</td>\n",
       "      <td>0.914</td>\n",
       "      <td>0.677</td>\n",
       "      <td>0.353</td>\n",
       "      <td>0.138</td>\n",
       "    </tr>\n",
       "    <tr>\n",
       "      <th>4</th>\n",
       "      <td>2018</td>\n",
       "      <td>Switzerland</td>\n",
       "      <td>7.487</td>\n",
       "      <td>5</td>\n",
       "      <td>1.420</td>\n",
       "      <td>0.927</td>\n",
       "      <td>0.660</td>\n",
       "      <td>0.256</td>\n",
       "      <td>0.357</td>\n",
       "    </tr>\n",
       "  </tbody>\n",
       "</table>\n",
       "</div>"
      ],
      "text/plain": [
       "   Year      Country  Happiness_Score  Happiness_Rank  GDP_per_capita  \\\n",
       "0  2018      Finland            7.632               1           1.305   \n",
       "1  2018       Norway            7.594               2           1.456   \n",
       "2  2018      Denmark            7.555               3           1.351   \n",
       "3  2018      Iceland            7.495               4           1.343   \n",
       "4  2018  Switzerland            7.487               5           1.420   \n",
       "\n",
       "   Healthy_life_expectancy  Freedom  Generosity  Perceptions_of_corruption  \n",
       "0                    0.874    0.681       0.202                      0.393  \n",
       "1                    0.861    0.686       0.286                      0.340  \n",
       "2                    0.868    0.683       0.284                      0.408  \n",
       "3                    0.914    0.677       0.353                      0.138  \n",
       "4                    0.927    0.660       0.256                      0.357  "
      ]
     },
     "execution_count": 9,
     "metadata": {},
     "output_type": "execute_result"
    }
   ],
   "source": [
    "y2018.rename(columns={'Freedom to make life choices':'Freedom',\\\n",
    "                      'Overall rank': 'Happiness_Rank',\\\n",
    "                      'Country or region':'Country',\\\n",
    "                      'GDP per capita':'GDP_per_capita',\\\n",
    "                      'Perceptions of corruption':'Perceptions_of_corruption',\\\n",
    "                      'Healthy life expectancy':'Healthy_life_expectancy',\\\n",
    "                      'Score': 'Happiness_Score'}, inplace=True)\n",
    "y2018['Year']=2018\n",
    "y2018=y2018.loc[:,cols]\n",
    "\n",
    "# we check for any zeros/null in the dataframe to determine if it makes sense to replace its value with the mean of the column\n",
    "print((y2018== 0).sum())\n",
    "print('Number of null:', y2018.isnull().sum().sum())\n",
    "print(y2018.columns[y2018.isna().any()].tolist())\n",
    "\n",
    "y2018.head()"
   ]
  },
  {
   "cell_type": "code",
   "execution_count": 10,
   "metadata": {},
   "outputs": [
    {
     "name": "stdout",
     "output_type": "stream",
     "text": [
      "Year                         0\n",
      "Country                      0\n",
      "Happiness_Score              0\n",
      "Happiness_Rank               0\n",
      "GDP_per_capita               1\n",
      "Healthy_life_expectancy      1\n",
      "Freedom                      1\n",
      "Generosity                   1\n",
      "Perceptions_of_corruption    1\n",
      "dtype: int64\n",
      "Number of null: 0\n"
     ]
    },
    {
     "data": {
      "text/html": [
       "<div>\n",
       "<style scoped>\n",
       "    .dataframe tbody tr th:only-of-type {\n",
       "        vertical-align: middle;\n",
       "    }\n",
       "\n",
       "    .dataframe tbody tr th {\n",
       "        vertical-align: top;\n",
       "    }\n",
       "\n",
       "    .dataframe thead th {\n",
       "        text-align: right;\n",
       "    }\n",
       "</style>\n",
       "<table border=\"1\" class=\"dataframe\">\n",
       "  <thead>\n",
       "    <tr style=\"text-align: right;\">\n",
       "      <th></th>\n",
       "      <th>Year</th>\n",
       "      <th>Country</th>\n",
       "      <th>Happiness_Score</th>\n",
       "      <th>Happiness_Rank</th>\n",
       "      <th>GDP_per_capita</th>\n",
       "      <th>Healthy_life_expectancy</th>\n",
       "      <th>Freedom</th>\n",
       "      <th>Generosity</th>\n",
       "      <th>Perceptions_of_corruption</th>\n",
       "    </tr>\n",
       "  </thead>\n",
       "  <tbody>\n",
       "    <tr>\n",
       "      <th>0</th>\n",
       "      <td>2019</td>\n",
       "      <td>Finland</td>\n",
       "      <td>7.769</td>\n",
       "      <td>1</td>\n",
       "      <td>1.340</td>\n",
       "      <td>0.986</td>\n",
       "      <td>0.596</td>\n",
       "      <td>0.153</td>\n",
       "      <td>0.393</td>\n",
       "    </tr>\n",
       "    <tr>\n",
       "      <th>1</th>\n",
       "      <td>2019</td>\n",
       "      <td>Denmark</td>\n",
       "      <td>7.600</td>\n",
       "      <td>2</td>\n",
       "      <td>1.383</td>\n",
       "      <td>0.996</td>\n",
       "      <td>0.592</td>\n",
       "      <td>0.252</td>\n",
       "      <td>0.410</td>\n",
       "    </tr>\n",
       "    <tr>\n",
       "      <th>2</th>\n",
       "      <td>2019</td>\n",
       "      <td>Norway</td>\n",
       "      <td>7.554</td>\n",
       "      <td>3</td>\n",
       "      <td>1.488</td>\n",
       "      <td>1.028</td>\n",
       "      <td>0.603</td>\n",
       "      <td>0.271</td>\n",
       "      <td>0.341</td>\n",
       "    </tr>\n",
       "    <tr>\n",
       "      <th>3</th>\n",
       "      <td>2019</td>\n",
       "      <td>Iceland</td>\n",
       "      <td>7.494</td>\n",
       "      <td>4</td>\n",
       "      <td>1.380</td>\n",
       "      <td>1.026</td>\n",
       "      <td>0.591</td>\n",
       "      <td>0.354</td>\n",
       "      <td>0.118</td>\n",
       "    </tr>\n",
       "    <tr>\n",
       "      <th>4</th>\n",
       "      <td>2019</td>\n",
       "      <td>Netherlands</td>\n",
       "      <td>7.488</td>\n",
       "      <td>5</td>\n",
       "      <td>1.396</td>\n",
       "      <td>0.999</td>\n",
       "      <td>0.557</td>\n",
       "      <td>0.322</td>\n",
       "      <td>0.298</td>\n",
       "    </tr>\n",
       "  </tbody>\n",
       "</table>\n",
       "</div>"
      ],
      "text/plain": [
       "   Year      Country  Happiness_Score  Happiness_Rank  GDP_per_capita  \\\n",
       "0  2019      Finland            7.769               1           1.340   \n",
       "1  2019      Denmark            7.600               2           1.383   \n",
       "2  2019       Norway            7.554               3           1.488   \n",
       "3  2019      Iceland            7.494               4           1.380   \n",
       "4  2019  Netherlands            7.488               5           1.396   \n",
       "\n",
       "   Healthy_life_expectancy  Freedom  Generosity  Perceptions_of_corruption  \n",
       "0                    0.986    0.596       0.153                      0.393  \n",
       "1                    0.996    0.592       0.252                      0.410  \n",
       "2                    1.028    0.603       0.271                      0.341  \n",
       "3                    1.026    0.591       0.354                      0.118  \n",
       "4                    0.999    0.557       0.322                      0.298  "
      ]
     },
     "execution_count": 10,
     "metadata": {},
     "output_type": "execute_result"
    }
   ],
   "source": [
    "y2019.rename(columns={'Freedom to make life choices':'Freedom',\\\n",
    "                      'Overall rank': 'Happiness_Rank',\\\n",
    "                      'Country or region':'Country',\\\n",
    "                      'GDP per capita':'GDP_per_capita',\\\n",
    "                      'Perceptions of corruption':'Perceptions_of_corruption',\\\n",
    "                      'Healthy life expectancy':'Healthy_life_expectancy',\\\n",
    "                      'Score': 'Happiness_Score'}, inplace=True)\n",
    "y2019['Year']=2019\n",
    "y2019=y2019.loc[:,cols]\n",
    "\n",
    "# we check for any zeros/null in the dataframe to determine if it makes sense to replace its value with the mean of the column\n",
    "print((y2019== 0).sum())\n",
    "print('Number of null:', y2019.isnull().sum().sum())\n",
    "\n",
    "y2019.head()"
   ]
  },
  {
   "cell_type": "code",
   "execution_count": 11,
   "metadata": {},
   "outputs": [
    {
     "name": "stdout",
     "output_type": "stream",
     "text": [
      "Year                         0\n",
      "Country                      0\n",
      "Happiness_Score              0\n",
      "Happiness_Rank               0\n",
      "GDP_per_capita               0\n",
      "Healthy_life_expectancy      0\n",
      "Freedom                      0\n",
      "Generosity                   0\n",
      "Perceptions_of_corruption    0\n",
      "dtype: int64\n",
      "Number of null: 0\n"
     ]
    },
    {
     "data": {
      "text/html": [
       "<div>\n",
       "<style scoped>\n",
       "    .dataframe tbody tr th:only-of-type {\n",
       "        vertical-align: middle;\n",
       "    }\n",
       "\n",
       "    .dataframe tbody tr th {\n",
       "        vertical-align: top;\n",
       "    }\n",
       "\n",
       "    .dataframe thead th {\n",
       "        text-align: right;\n",
       "    }\n",
       "</style>\n",
       "<table border=\"1\" class=\"dataframe\">\n",
       "  <thead>\n",
       "    <tr style=\"text-align: right;\">\n",
       "      <th></th>\n",
       "      <th>Year</th>\n",
       "      <th>Country</th>\n",
       "      <th>Happiness_Score</th>\n",
       "      <th>Happiness_Rank</th>\n",
       "      <th>GDP_per_capita</th>\n",
       "      <th>Healthy_life_expectancy</th>\n",
       "      <th>Freedom</th>\n",
       "      <th>Generosity</th>\n",
       "      <th>Perceptions_of_corruption</th>\n",
       "    </tr>\n",
       "  </thead>\n",
       "  <tbody>\n",
       "    <tr>\n",
       "      <th>0</th>\n",
       "      <td>2020</td>\n",
       "      <td>Finland</td>\n",
       "      <td>7.8087</td>\n",
       "      <td>1.0</td>\n",
       "      <td>10.639267</td>\n",
       "      <td>71.900825</td>\n",
       "      <td>0.949172</td>\n",
       "      <td>-0.059482</td>\n",
       "      <td>0.195445</td>\n",
       "    </tr>\n",
       "    <tr>\n",
       "      <th>1</th>\n",
       "      <td>2020</td>\n",
       "      <td>Denmark</td>\n",
       "      <td>7.6456</td>\n",
       "      <td>2.0</td>\n",
       "      <td>10.774001</td>\n",
       "      <td>72.402504</td>\n",
       "      <td>0.951444</td>\n",
       "      <td>0.066202</td>\n",
       "      <td>0.168489</td>\n",
       "    </tr>\n",
       "    <tr>\n",
       "      <th>2</th>\n",
       "      <td>2020</td>\n",
       "      <td>Switzerland</td>\n",
       "      <td>7.5599</td>\n",
       "      <td>3.0</td>\n",
       "      <td>10.979933</td>\n",
       "      <td>74.102448</td>\n",
       "      <td>0.921337</td>\n",
       "      <td>0.105911</td>\n",
       "      <td>0.303728</td>\n",
       "    </tr>\n",
       "    <tr>\n",
       "      <th>3</th>\n",
       "      <td>2020</td>\n",
       "      <td>Iceland</td>\n",
       "      <td>7.5045</td>\n",
       "      <td>4.0</td>\n",
       "      <td>10.772559</td>\n",
       "      <td>73.000000</td>\n",
       "      <td>0.948892</td>\n",
       "      <td>0.246944</td>\n",
       "      <td>0.711710</td>\n",
       "    </tr>\n",
       "    <tr>\n",
       "      <th>4</th>\n",
       "      <td>2020</td>\n",
       "      <td>Norway</td>\n",
       "      <td>7.4880</td>\n",
       "      <td>5.0</td>\n",
       "      <td>11.087804</td>\n",
       "      <td>73.200783</td>\n",
       "      <td>0.955750</td>\n",
       "      <td>0.134533</td>\n",
       "      <td>0.263218</td>\n",
       "    </tr>\n",
       "  </tbody>\n",
       "</table>\n",
       "</div>"
      ],
      "text/plain": [
       "   Year      Country  Happiness_Score  Happiness_Rank  GDP_per_capita  \\\n",
       "0  2020      Finland           7.8087             1.0       10.639267   \n",
       "1  2020      Denmark           7.6456             2.0       10.774001   \n",
       "2  2020  Switzerland           7.5599             3.0       10.979933   \n",
       "3  2020      Iceland           7.5045             4.0       10.772559   \n",
       "4  2020       Norway           7.4880             5.0       11.087804   \n",
       "\n",
       "   Healthy_life_expectancy   Freedom  Generosity  Perceptions_of_corruption  \n",
       "0                71.900825  0.949172   -0.059482                   0.195445  \n",
       "1                72.402504  0.951444    0.066202                   0.168489  \n",
       "2                74.102448  0.921337    0.105911                   0.303728  \n",
       "3                73.000000  0.948892    0.246944                   0.711710  \n",
       "4                73.200783  0.955750    0.134533                   0.263218  "
      ]
     },
     "execution_count": 11,
     "metadata": {},
     "output_type": "execute_result"
    }
   ],
   "source": [
    "y2020.rename(columns={'Freedom to make life choices':'Freedom',\\\n",
    "                      'Logged GDP per capita':'GDP_per_capita', \\\n",
    "                      'Country name': 'Country',\\\n",
    "                      'Perceptions of corruption':'Perceptions_of_corruption',\\\n",
    "                      'Healthy life expectancy':'Healthy_life_expectancy',\\\n",
    "                      'Ladder score': 'Happiness_Score'}, inplace=True)\n",
    "y2020['Happiness_Rank'] = y2020['Happiness_Score'].rank(ascending=False)\n",
    "y2020['Year']=2020\n",
    "y2020=y2020.loc[:,cols]\n",
    "\n",
    "# we check for any zeros/null in the dataframe to determine if it makes sense to replace its value with the mean of the column\n",
    "print((y2020== 0).sum())\n",
    "print('Number of null:', y2020.isnull().sum().sum())\n",
    "\n",
    "y2020.head()"
   ]
  },
  {
   "cell_type": "markdown",
   "metadata": {},
   "source": [
    "We observe that the values with zero/null can in fact be replaced by the mean of the remaining entries for the corresponding column. The only columns where this wouldn't make sense is for `Country` and `Happiness_Rank`. We note that `y2020` has no invalid entries.\n",
    "\n",
    "We now mask all zero/null entries with the corresponding column mean.\n",
    "\n",
    "We also observe a discrepancy in units used between the `y2020` dataframe vs. the rest. Specifically, the `GDP_per_capita` and `Healthy_life_expectancy` are notably different magnitudes in y2020. Additionally, the range of values in certain columns of `y2020` are much greater than the other years. For example, for Finland the corresponding values are:\n",
    "\n",
    "* `GDP_per_capita`: 10.64 (2020) vs. 1.34 (2019)\n",
    "* `Healthy_life_expectancy`: 71.90 (2020) vs. 0.99 (2019)\n",
    "\n",
    "We decide to address this issue by normalizing the data for all columns that *do not* belong to `Country`, `Happiness_Score` and `Happiness_Rank`.\n",
    "\n",
    "We also note that normalizing the data for each year's dataframe will re-introduce zero values. However, the interpretation is different from having invalid entries."
   ]
  },
  {
   "cell_type": "code",
   "execution_count": 12,
   "metadata": {},
   "outputs": [],
   "source": [
    "# replace invalid values with mean\n",
    "\n",
    "y2015=y2015.mask(y2015==0).fillna(y2015.mean())\n",
    "y2016=y2016.mask(y2016==0).fillna(y2016.mean())\n",
    "y2017=y2017.mask(y2017==0).fillna(y2017.mean())\n",
    "y2018=y2018.mask(y2018==0).fillna(y2018.mean())\n",
    "y2019=y2019.mask(y2019==0).fillna(y2019.mean())"
   ]
  },
  {
   "cell_type": "code",
   "execution_count": 13,
   "metadata": {},
   "outputs": [],
   "source": [
    "# only normalize certain data\n",
    "\n",
    "cols_to_norm = ['GDP_per_capita','Healthy_life_expectancy','Freedom','Generosity','Perceptions_of_corruption']\n",
    "\n",
    "y2015[cols_to_norm] = y2015[cols_to_norm].apply(lambda x: (x-x.min())/(x.max()-x.min()))\n",
    "y2016[cols_to_norm] = y2016[cols_to_norm].apply(lambda x: (x-x.min())/(x.max()-x.min()))\n",
    "y2017[cols_to_norm] = y2017[cols_to_norm].apply(lambda x: (x-x.min())/(x.max()-x.min()))\n",
    "y2018[cols_to_norm] = y2018[cols_to_norm].apply(lambda x: (x-x.min())/(x.max()-x.min()))\n",
    "y2019[cols_to_norm] = y2019[cols_to_norm].apply(lambda x: (x-x.min())/(x.max()-x.min()))\n",
    "y2020[cols_to_norm] = y2020[cols_to_norm].apply(lambda x: (x-x.min())/(x.max()-x.min()))"
   ]
  },
  {
   "cell_type": "code",
   "execution_count": 14,
   "metadata": {},
   "outputs": [
    {
     "data": {
      "text/html": [
       "<div>\n",
       "<style scoped>\n",
       "    .dataframe tbody tr th:only-of-type {\n",
       "        vertical-align: middle;\n",
       "    }\n",
       "\n",
       "    .dataframe tbody tr th {\n",
       "        vertical-align: top;\n",
       "    }\n",
       "\n",
       "    .dataframe thead th {\n",
       "        text-align: right;\n",
       "    }\n",
       "</style>\n",
       "<table border=\"1\" class=\"dataframe\">\n",
       "  <thead>\n",
       "    <tr style=\"text-align: right;\">\n",
       "      <th></th>\n",
       "      <th>Year</th>\n",
       "      <th>Country</th>\n",
       "      <th>Happiness_Score</th>\n",
       "      <th>Happiness_Rank</th>\n",
       "      <th>GDP_per_capita</th>\n",
       "      <th>Healthy_life_expectancy</th>\n",
       "      <th>Freedom</th>\n",
       "      <th>Generosity</th>\n",
       "      <th>Perceptions_of_corruption</th>\n",
       "    </tr>\n",
       "  </thead>\n",
       "  <tbody>\n",
       "    <tr>\n",
       "      <th>0</th>\n",
       "      <td>2015</td>\n",
       "      <td>Switzerland</td>\n",
       "      <td>7.587</td>\n",
       "      <td>1.0</td>\n",
       "      <td>0.824544</td>\n",
       "      <td>0.914250</td>\n",
       "      <td>0.992982</td>\n",
       "      <td>0.371323</td>\n",
       "      <td>0.759606</td>\n",
       "    </tr>\n",
       "    <tr>\n",
       "      <th>1</th>\n",
       "      <td>2015</td>\n",
       "      <td>Iceland</td>\n",
       "      <td>7.561</td>\n",
       "      <td>2.0</td>\n",
       "      <td>0.768315</td>\n",
       "      <td>0.920807</td>\n",
       "      <td>0.930897</td>\n",
       "      <td>0.547066</td>\n",
       "      <td>0.253220</td>\n",
       "    </tr>\n",
       "    <tr>\n",
       "      <th>2</th>\n",
       "      <td>2015</td>\n",
       "      <td>Denmark</td>\n",
       "      <td>7.527</td>\n",
       "      <td>3.0</td>\n",
       "      <td>0.782141</td>\n",
       "      <td>0.845922</td>\n",
       "      <td>0.965668</td>\n",
       "      <td>0.427515</td>\n",
       "      <td>0.875664</td>\n",
       "    </tr>\n",
       "    <tr>\n",
       "      <th>3</th>\n",
       "      <td>2015</td>\n",
       "      <td>Norway</td>\n",
       "      <td>7.522</td>\n",
       "      <td>4.0</td>\n",
       "      <td>0.861849</td>\n",
       "      <td>0.856735</td>\n",
       "      <td>1.000000</td>\n",
       "      <td>0.434569</td>\n",
       "      <td>0.659996</td>\n",
       "    </tr>\n",
       "    <tr>\n",
       "      <th>4</th>\n",
       "      <td>2015</td>\n",
       "      <td>Canada</td>\n",
       "      <td>7.427</td>\n",
       "      <td>5.0</td>\n",
       "      <td>0.782625</td>\n",
       "      <td>0.877625</td>\n",
       "      <td>0.937983</td>\n",
       "      <td>0.574538</td>\n",
       "      <td>0.595481</td>\n",
       "    </tr>\n",
       "  </tbody>\n",
       "</table>\n",
       "</div>"
      ],
      "text/plain": [
       "   Year      Country  Happiness_Score  Happiness_Rank  GDP_per_capita  \\\n",
       "0  2015  Switzerland            7.587             1.0        0.824544   \n",
       "1  2015      Iceland            7.561             2.0        0.768315   \n",
       "2  2015      Denmark            7.527             3.0        0.782141   \n",
       "3  2015       Norway            7.522             4.0        0.861849   \n",
       "4  2015       Canada            7.427             5.0        0.782625   \n",
       "\n",
       "   Healthy_life_expectancy   Freedom  Generosity  Perceptions_of_corruption  \n",
       "0                 0.914250  0.992982    0.371323                   0.759606  \n",
       "1                 0.920807  0.930897    0.547066                   0.253220  \n",
       "2                 0.845922  0.965668    0.427515                   0.875664  \n",
       "3                 0.856735  1.000000    0.434569                   0.659996  \n",
       "4                 0.877625  0.937983    0.574538                   0.595481  "
      ]
     },
     "execution_count": 14,
     "metadata": {},
     "output_type": "execute_result"
    }
   ],
   "source": [
    "df = pd.concat([y2015, y2016, y2017, y2018, y2019, y2020], axis=0)\n",
    "df.head()"
   ]
  },
  {
   "cell_type": "code",
   "execution_count": 15,
   "metadata": {},
   "outputs": [
    {
     "data": {
      "text/plain": [
       "',Year,Country,Happiness_Score,Happiness_Rank,GDP_per_capita,Healthy_life_expectancy,Freedom,Generosity,Perceptions_of_corruption\\r\\n0,2015,Switzerland,7.587000000000001,1.0,0.824543913271885,0.9142497621459041,0.9929817457907345,0.3713234831021931,0.7596062877519831\\r\\n1,2015,Iceland,7.561,2.0,0.7683151057834663,0.9208073739884807,0.9308971893241554,0.5470657143936818,0.2532202896441307\\r\\n2,2015,Denmark,7.527,3.0,0.7821409809446487,0.8459216974086691,0.9656679151061174,0.42751514693471393,0.8756640710283095\\r\\n3,2015,Norway,7.522,4.0,0.8618487033764746,0.8567351072645245,1.0,0.43456902089710164,0.6599956335055673\\r\\n4,2015,Canada,7.4270000000000005,5.0,0.7826245283919957,0.8776253465508598,0.9379829267469717,0.5745380342364812,0.5954806782621351\\r\\n5,2015,Finland,7.406000000000001,6.0,0.7611096518458378,0.8607249179019735,0.9526942673010088,0.29162730353071586,0.7485808893093661\\r\\n6,2015,Netherlands,7.377999999999999,7.0,0.7845049906872343,0.8645408137167643,0.9089482741168136,0.5971986043406518,0.5746852485263082\\r\\n7,2015,Sweden,7.364,8.0,0.7858601174841204,0.8829860152022017,0.9832472922360563,0.45425688697426597,0.7935557819663779\\r\\n8,2015,New Zealand,7.2860000000000005,9.0,0.737188977506089,0.8804284442807601,0.94879711171846,0.5958256181586871,0.7767811658540135\\r\\n9,2015,Australia,7.284,10.0,0.7869764554181192,0.9041524721480527,0.9688058845362214,0.5462091725553918,0.6442398660941706\\r\\n10,2015,Israel,7.278,11.0,0.7242884091885955,0.8860551003079317,0.567196409893039,0.41533461814609074,0.13750818717706137\\r\\n11,2015,Costa Rica,7.226,12.0,0.561440374420937,0.8312207797522226,0.9393157202145965,0.318658756250866,0.18841423477185065\\r\\n12,2015,Austria,7.2,13.0,0.789155403791967,0.862065085064809,0.9234065526200358,0.4142765370517326,0.3356560657885161\\r\\n13,2015,Mexico,7.187,14.0,0.6001002913224127,0.7843353896203541,0.6829638627391436,0.17477232362166045,0.3836147296412197\\r\\n14,2015,United States,7.119,15.0,0.8233499689574478,0.832775782872459,0.7913250328980664,0.5026640970411519,0.2849683429153628\\r\\n15,2015,Brazil,6.983,16.0,0.5766392855437222,0.6642113985820827,0.6976077200796301,0.18107042537379237,0.3146423113310531\\r\\n16,2015,Luxembourg,6.946000000000001,17.0,0.9244770523902766,0.8912418541366152,0.9090663697405269,0.3506153245411833,0.6835565097154501\\r\\n17,2015,Ireland,6.94,18.0,0.7883972491522996,0.8670881543545202,0.9123393055977324,0.5756716925518649,0.5180845644421803\\r\\n18,2015,Belgium,6.937,19.0,0.7715984526481684,0.868459012368413,0.8562101427269966,0.2777588834725214,0.40595662615530165\\r\\n19,2015,United Arab Emirates,6.901,20.0,0.8429067768279287,0.7790258723874414,0.9524918176603568,0.33038582171333564,0.6978385852558038\\r\\n20,2015,United Kingdom,6.867000000000001,21.0,0.746853956731458,0.8815128543514511,0.8760333367074938,0.6513874718159947,0.5792882614074666\\r\\n21,2015,Oman,6.853,22.0,0.8028141267491283,0.7314652835323123,0.9375948982690554,0.2688407713915026,0.5876027945564369\\r\\n22,2015,Venezuela,6.81,23.0,0.6142485314484932,0.6882525652436341,0.5940041164760266,0.07106778017105646,0.19725638599810788\\r\\n23,2015,Singapore,6.797999999999999,24.0,0.8993743731792349,1.0,0.7853865101056112,0.38929826550277746,0.891183319991267\\r\\n24,2015,Panama,6.7860000000000005,25.0,0.6257641243612396,0.7660947938086323,0.7846779363633296,0.30526899192583357,0.1645258714795139\\r\\n25,2015,Germany,6.75,26.0,0.783597593008262,0.8635382459155593,0.9072780645814351,0.3528826411719508,0.39327559857361183\\r\\n26,2015,Chile,6.67,27.0,0.6518040498591146,0.8294816315256422,0.6146539798225191,0.4177404930154052,0.23000509424350485\\r\\n27,2015,Qatar,6.611000000000001,28.0,1.0,0.7668313742340075,0.950517933664001,0.4077894922470368,0.9457281129466559\\r\\n28,2015,France,6.575,29.0,0.7536654090453221,0.9187101658328984,0.7981914498768431,0.15282973711723286,0.37149770759042283\\r\\n29,2015,Argentina,6.574,30.0,0.6197824633459095,0.7564987877113832,0.6288591962749265,0.14173248182997641,0.15022560221235717\\r\\n30,2015,Czech Republic,6.505,31.0,0.6946845599121256,0.8154252217413989,0.6523096129837701,0.13209638614921462,0.04411978749727093\\r\\n31,2015,Uruguay,6.485,32.0,0.6246477864272411,0.7814299890535964,0.8884671188041973,0.2902291249417426,0.4426715668437523\\r\\n32,2015,Colombia,6.477,33.0,0.5392509193371222,0.6578174712784786,0.7721260586429125,0.22927609618460995,0.0890219052470708\\r\\n33,2015,Thailand,6.455,34.0,0.5680787048092077,0.7066466153106427,0.8092080844889832,0.7234125634533751,0.053853431336875035\\r\\n34,2015,Saudi Arabia,6.4110000000000005,35.0,0.8238872438989445,0.6879763475841184,0.3939163882984108,0.17013692073209136,0.5876027945564369\\r\\n35,2015,Spain,6.329,36.0,0.725207746310712,0.9287665346960071,0.6453419711846679,0.2270843567748681,0.11227348810130265\\r\\n36,2015,Malta,6.3020000000000005,37.0,0.7116505086202779,0.8587811640016778,0.8885177312143604,0.6493720792553124,0.2430499963612546\\r\\n37,2015,Taiwan,6.297999999999999,38.0,0.7615454415206074,0.8465968961319297,0.5405574113439281,0.3171346156268501,0.14376682919729278\\r\\n38,2015,Kuwait,6.295,39.0,0.9186923921868285,0.6927538900653715,0.8064244019300199,0.20190454596984472,0.4617931737137035\\r\\n39,2015,Suriname,6.269,40.0,0.5850565929605044,0.5733460188851036,0.8765732024158989,0.21151544924359797,0.24390510152099557\\r\\n40,2015,Trinidad and Tobago,6.167999999999999,41.0,0.7142950952767563,0.5801286969687669,0.812919661234268,0.39860685989242844,0.016610872571137473\\r\\n41,2015,El Salvador,6.13,42.0,0.4472754190744544,0.6441088911395513,0.5508486014103992,0.1321719633702402,0.21011935084782765\\r\\n42,2015,Guatemala,6.122999999999999,43.0,0.4359269783657291,0.6102261915722923,0.8441137766980463,0.34375039363135956,0.16820100429371954\\r\\n43,2015,Uzbekistan,6.002999999999999,44.0,0.368415397105879,0.5626246815824203,0.9805648344974188,0.28515285492952425,0.5567098464449457\\r\\n44,2015,Slovakia,5.995,45.0,0.6886730502889346,0.7583300084911354,0.40577656307993387,0.21028102130018014,0.058292700676806634\\r\\n45,2015,Japan,5.987,46.0,0.7494627250585032,0.9650738114967928,0.7071565947970442,0.13233571401579564,0.3244487300778692\\r\\n46,2015,South Korea,5.984,47.0,0.7338638425903815,0.9387512915733153,0.43035732361575063,0.23124110393127514,0.13881813550687724\\r\\n47,2015,Ecuador,5.975,48.0,0.5066622092745595,0.760099847568773,0.6895940884704929,0.14286614014536017,0.3249945418819591\\r\\n48,2015,Bahrain,5.96,49.0,0.7811141888342328,0.7155060409825165,0.637598272429733,0.21618864074367986,0.5525980641874682\\r\\n49,2015,Italy,5.9479999999999995,50.0,0.7377620707770188,0.9275798217884583,0.3127340823970037,0.2849765080804646,0.04865002547121752\\r\\n50,2015,Bolivia,5.89,51.0,0.3976013658722957,0.5027570614533141,0.8387319904173836,0.2561689906662132,0.15597481988210468\\r\\n51,2015,Moldova,5.888999999999999,52.0,0.34575433401786143,0.5836376842729849,0.42377771029456424,0.26139641512048273,0.02525289280256168\\r\\n52,2015,Paraguay,5.877999999999999,53.0,0.44447561965709925,0.6273414561785798,0.779431116509768,0.42878736348864455,0.1458227203260316\\r\\n53,2015,Kazakhstan,5.855,54.0,0.6609914513587085,0.6096430654022036,0.7414718088875392,0.14646865434757964,0.14967979040826723\\r\\n54,2015,Slovenia,5.848,55.0,0.6982663928554371,0.8446224513805769,0.8967844248743125,0.31652999785864544,0.06476966741867404\\r\\n55,2015,Lithuania,5.832999999999999,56.0,0.6757306939204355,0.6992603504895191,0.23016837061780876,0.030759928957412242,0.014627756349610655\\r\\n56,2015,Nicaragua,5.827999999999999,57.0,0.3450200582644826,0.7113934669408382,0.806019502648716,0.34785675597374954,0.34731824466923805\\r\\n57,2015,Peru,5.824,58.0,0.5282546922011557,0.698124789000399,0.5701825420926545,0.186209676403532,0.10483225383887634\\r\\n58,2015,Belarus,5.813,59.0,0.6068938344715603,0.7041708866586871,0.5101562236393696,0.1366310194107496,0.3431882686849574\\r\\n59,2015,Poland,5.791,60.0,0.6627883375519366,0.7481099550890546,0.7663225022775585,0.2085931300306088,0.07250200130994833\\r\\n60,2015,Malaysia,5.77,61.0,0.6623764267634557,0.6917513222641662,0.7646691635455679,0.41411278640617716,0.1869223491740048\\r\\n61,2015,Croatia,5.7589999999999995,62.0,0.6371125650699652,0.7573376709736162,0.3067786888011607,0.0660670873798637,0.04008078014700531\\r\\n62,2015,Libya,5.754,63.0,0.6663104732795263,0.6711475309210324,0.5730843202753314,0.227940898613158,0.19641947456516992\\r\\n63,2015,Russia,5.716,64.0,0.6700057309327092,0.6358121310703947,0.4889158821743091,0.0,0.050542173058729344\\r\\n64,2015,Jamaica,5.709,65.0,0.47464062276135444,0.6543800959600611,0.7211087491986368,0.2649107558981723,0.03769740193581253\\r\\n65,2015,North Cyprus,5.695,66.0,0.7120445102440423,0.8959682451994394,0.6972365624051017,0.32712340500573134,0.2556764427625355\\r\\n66,2015,Cyprus,5.689,67.0,0.7120862982950474,0.8959682451994394,0.5562810001012247,0.38341583846628635,0.10768866894694709\\r\\n67,2015,Algeria,5.605,68.0,0.5515963035484025,0.5830238672518389,0.3522623747342848,0.09602085931300305,0.31213157703223926\\r\\n68,2015,Kosovo,5.5889999999999995,69.0,0.469327570562109,0.5969984347665961,0.2876471977595573,0.3540918767083601,0.08212648278873444\\r\\n69,2015,Turkmenistan,5.547999999999999,70.0,0.5630462295238551,0.502409231807998,0.6733306340047913,0.21136429480154684,0.5570373335273997\\r\\n70,2015,Mauritius,5.477,71.0,0.5923814413295765,0.6769787926219194,0.8159901474508217,0.47292446056758497,0.1327050433010698\\r\\n71,2015,Hong Kong,5.474,72.0,0.8182936147858063,0.9877543504281373,0.8757465330499039,0.49476627744397844,0.6712939378502293\\r\\n72,2015,Estonia,5.428999999999999,73.0,0.6784230383494914,0.7425651413313691,0.6274083071835881,0.1068284019196614,0.27212357179244595\\r\\n73,2015,Indonesia,5.399,74.0,0.485320454653995,0.6037606522828878,0.6564767014205216,0.6466387030948871,0.25680779317924085\\r\\n74,2015,Vietnam,5.36,75.0,0.3682482449018578,0.7150968296350859,0.8729797212943279,0.20986534658453943,0.1858307255658249\\r\\n75,2015,Turkey,5.332000000000001,76.0,0.6242418453603323,0.6997104829716928,0.25501906400782803,0.15183463704039601,0.282348446255731\\r\\n76,2015,Kyrgyzstan,5.2860000000000005,77.0,0.2739982807201872,0.6170088696559556,0.6036036036036035,0.3757573467356939,0.07286587584600829\\r\\n77,2015,Nigeria,5.268,78.0,0.38149505707053827,0.11489631607484478,0.44935384823025276,0.340525765534268,0.06919074303180263\\r\\n78,2015,Bhutan,5.252999999999999,79.0,0.45078561535889966,0.5384300606655822,0.7677396497621217,0.6020859313003062,0.27687213448802855\\r\\n79,2015,Azerbaijan,5.212000000000001,80.0,0.602100148049095,0.606338683771701,0.49483753416337684,0.09573114663240499,0.2881522451058875\\r\\n80,2015,Pakistan,5.194,81.0,0.3463214575672191,0.47765194528844285,0.07428214731585517,0.42162012369471846,0.1862491812822939\\r\\n81,2015,Jordan,5.192,82.0,0.5293232723625769,0.6635668907098793,0.5560954212639605,0.13671919283527942,0.25591296121097445\\r\\n82,2015,Montenegro,5.192,82.0,0.5725440565452027,0.6930505682922588,0.17817255457704897,0.20079608006146948,0.2559675423913835\\r\\n83,2015,China,5.14,84.0,0.5222431825779646,0.7865246703291082,0.7422816074501466,0.10059328118505083,0.046466778254857725\\r\\n84,2015,Zambia,5.129,85.0,0.27167008930703473,0.2572711741296586,0.6938624017275702,0.2442655783546839,0.22270940979550252\\r\\n85,2015,Romania,5.124,86.0,0.6137769234442905,0.7377466777153731,0.46173701791679317,0.17066596127927042,0.007677752710865296\\r\\n86,2015,Serbia,5.122999999999999,87.0,0.5403971058789818,0.7167336750248084,0.20933292843405202,0.2397309450931489,0.043483007059165996\\r\\n87,2015,Portugal,5.102,88.0,0.6833003008739672,0.8464843630113862,0.7384350642777608,0.1703006713776468,0.015482861509351575\\r\\n88,2015,Latvia,5.098,89.0,0.6553679736377096,0.6921912244626544,0.37068529203360656,0.22707176057136377,0.11107270213230477\\r\\n89,2015,Philippines,5.073,90.0,0.4119227279239696,0.5456628712314192,0.9252960825994532,0.3122850772777085,0.21927079542973585\\r\\n90,2015,Somaliland region,5.0569999999999995,91.0,0.10337766846554276,0.399973401262417,0.6559874481222795,0.6313091234301982,0.7223091478058365\\r\\n91,2015,Morocco,5.013,92.0,0.4295154973972014,0.5747168768989964,0.5734723487532477,0.08783332703523158,0.1513536132741431\\r\\n92,2015,Macedonia,5.007,93.0,0.5391912221214004,0.7035263787864838,0.4345581536592772,0.27913186965448616,0.09278800669529147\\r\\n93,2015,Mozambique,4.971,94.0,0.040462772816275853,0.04455288545151357,0.4443432196241185,0.2779982113391024,0.2797467433229023\\r\\n94,2015,Albania,4.959,95.0,0.5154078513778118,0.783117985861748,0.47295610216958534,0.1772663719155047,0.11254639400334762\\r\\n95,2015,Bosnia and Herzegovina,4.949,96.0,0.48768446439658053,0.7601612292708877,0.026082262037318216,0.30997997203642824,0.0\\r\\n96,2015,Lesotho,4.898,97.0,0.21499952242227424,0.0290130845328341,0.4060464959341364,0.20391993853052692,0.22336438396041047\\r\\n97,2015,Dominican Republic,4.885,98.0,0.5253772864033622,0.6347788724181321,0.8430846576913992,0.2706294322891081,0.2548395313295976\\r\\n98,2015,Laos,4.876,99.0,0.3434739003772865,0.5128748120185372,0.8754597293923136,0.5289523737545504,0.4370497052616258\\r\\n99,2015,Mongolia,4.874,100.0,0.48527269688141744,0.5676989022905605,0.6061173533083646,0.41606519794933805,0.04437449967251292\\r\\n100,2015,Swaziland,4.867,101.0,0.41594632026362294,0.028542491483288832,0.3873367749772244,0.22748743528700452,0.05154282803289425\\r\\n101,2015,Greece,4.857,102.0,0.6798080137542385,0.8535841798893083,0.0,0.29639560433953577,0.021286660359508037\\r\\n102,2015,Lebanon,4.8389999999999995,103.0,0.6031448493242274,0.8099417896858281,0.44230185241421194,0.2727707868848329,0.0792336802270577\\r\\n103,2015,Hungary,4.8,104.0,0.6600362959071588,0.7276698482848929,0.41186692310287804,0.15872476035722835,0.04604832253838876\\r\\n104,2015,Honduras,4.788,105.0,0.346255790629925,0.6622471841144155,0.5474406991260924,0.2875461335953344,0.12004220944618298\\r\\n105,2015,Tajikistan,4.7860000000000005,106.0,0.22396604422369742,0.5381436127223806,0.6666835374700543,0.2868785348096084,0.27008587439051013\\r\\n106,2015,Tunisia,4.739,107.0,0.5168764028845695,0.7060634891405538,0.3132739481054088,0.0784995402385721,0.11154573902918273\\r\\n107,2015,Palestinian Territories,4.715,108.0,0.34825564735660736,0.6264923426326612,0.28342949691264296,0.13921324112912367,0.23066006840841277\\r\\n108,2015,Bangladesh,4.694,109.0,0.22818066765366066,0.5666349527872407,0.5587778790025981,0.2648099862701382,0.22454697620260533\\r\\n109,2015,Iran,4.686,110.0,0.5930918381966664,0.6652651178017166,0.37679252285993864,0.47723236216604314,0.10253984426169856\\r\\n110,2015,Ukraine,4.681,111.0,0.4678888676632122,0.6405589827005903,0.29395687822654115,0.1899003640302813,0.049741649079397425\\r\\n111,2015,Iraq,4.677,112.0,0.5791764172119013,0.5673817634963016,0.5932195173412644,0.22324251470606762,0.2467251291754603\\r\\n112,2015,South Africa,4.6419999999999995,113.0,0.5403732269926931,0.23439625980828452,0.43034045281236283,0.14830770005920213,0.15750309293355652\\r\\n113,2015,Ghana,4.633,114.0,0.31656239552987253,0.36170190999396407,0.5844552417586124,0.2883019058055902,0.07510370424277708\\r\\n114,2015,Zimbabwe,4.61,115.0,0.1526457806007928,0.2935989114978158,0.3064075311266322,0.23665747143810859,0.14285714285714288\\r\\n115,2015,Liberia,4.571000000000001,116.0,0.03337074358851903,0.30102609745368236,0.3514525761716773,0.30436206527352655,0.10925332945200496\\r\\n116,2015,India,4.565,117.0,0.37590739767897224,0.47829645316064606,0.5413334682997604,0.330977843278036,0.1503711520267812\\r\\n117,2015,Sudan,4.55,118.0,0.30193060795644494,0.3284125668804796,0.04018625366939972,0.23760218670092836,0.26259005894767484\\r\\n118,2015,Haiti,4.518,119.0,0.15009670948946943,0.348555995457754,0.2821810574619563,0.5792742067540844,0.30834728185721566\\r\\n119,2015,Congo (Kinshasa),4.5169999999999995,120.0,0.49598668464938195,0.05145832693940604,0.25147619529642,0.3103074733275391,0.13459719088858163\\r\\n120,2015,Nepal,4.513999999999999,121.0,0.20575839342853047,0.5329773194610685,0.5159597800047238,0.40430034387635566,0.10334036824103049\\r\\n121,2015,Ethiopia,4.512,122.0,0.10472682554085676,0.4018353128932265,0.6031480919121368,0.3038960057438688,0.2696492249472382\\r\\n122,2015,Sierra Leone,4.507,123.0,0.18801041119442194,0.5959133772095958,0.5591152950703512,0.26816057640227237,0.1557201077068627\\r\\n123,2015,Mauritania,4.436,124.0,0.26193347342279955,0.3181413620599699,0.2789249924081384,0.273350212246029,0.31355068772287314\\r\\n124,2015,Kenya,4.419,125.0,0.2085880414537466,0.375031969636518,0.58231264972838,0.4703800274597236,0.1021031948184266\\r\\n125,2015,Djibouti,4.369,126.0,0.2536833182100387,0.3224073903569346,0.6474170800013496,0.22539646550529674,0.5072047158139874\\r\\n126,2015,Armenia,4.35,127.0,0.4494663068914466,0.6978485713408833,0.20494651955326113,0.09643653402864376,0.06682555854741284\\r\\n127,2015,Botswana,4.332,128.0,0.5839880127990831,0.0,0.7051320983905253,0.12926224036075526,0.2228185721563205\\r\\n128,2015,Myanmar,4.3069999999999995,129.0,0.1526935383733703,0.4447104318202744,0.6127138374329385,1.0,0.34216941998398953\\r\\n129,2015,Georgia,4.297,130.0,0.4337599694350256,0.6971938331849943,0.5546782737793973,0.0673644963408029,0.6932537661014482\\r\\n130,2015,Malawi,4.292,131.0,0.0004417593963417563,0.18195582563504487,0.5964672537706245,0.4147803851919032,0.1228076559202387\\r\\n131,2015,Sri Lanka,4.271,132.0,0.4894813505898085,0.6755056317711691,0.7765124675237035,0.5117711521747346,0.162870242340441\\r\\n132,2015,Cameroon,4.252,133.0,0.24308706241940878,0.19054926393108879,0.701994128960421,0.25720187935356287,0.10113892729786769\\r\\n133,2015,Bulgaria,4.218,134.0,0.595097664644921,0.7352811793471032,0.38613894793670067,0.14765269747698043,0.011734953787933922\\r\\n134,2015,Egypt,4.194,135.0,0.5172763742299059,0.5824714319328075,0.16177413368424604,0.13971708926929421,0.11092715231788079\\r\\n135,2015,Yemen,4.077,136.0,0.31710564019294135,0.361006250703332,0.47022303202078475,0.11250928970008439,0.13876355432646822\\r\\n136,2015,Angola,4.033,137.0,0.44323988729165675,0.121811987846423,0.04529810709585992,0.15298089155928404,0.1254457463066735\\r\\n137,2015,Mali,3.995,138.0,0.1465208462677301,0.16171009422091276,0.5256604919526267,0.23427678897580273,0.22059893748635473\\r\\n138,2015,Congo (Brazzaville),3.989,139.0,0.39600745021252215,0.26880070384351756,0.5696764179910248,0.15353512451347162,0.2084819154355578\\r\\n139,2015,Comoros,3.9560000000000004,140.0,0.1335784898992311,0.32265291716539296,0.25673988595336905,0.2171837408205167,0.35792518739538604\\r\\n140,2015,Uganda,3.931,141.0,0.11683939061082191,0.2975478010005217,0.6415629112258324,0.36361460655758354,0.12808383669310822\\r\\n141,2015,Senegal,3.904,142.0,0.20874922393619566,0.39656671679505673,0.4904848668893612,0.26003602514202223,0.19077941925624042\\r\\n142,2015,Gabon,3.8960000000000004,143.0,0.6238000859639906,0.39484802913584793,0.40852650403212204,0.08342465580873924,0.1976566479877738\\r\\n143,2015,Niger,3.845,144.0,0.032296193705525576,0.25505120256984726,0.674714039882579,0.24169595283981413,0.28040171748781023\\r\\n144,2015,Cambodia,3.819,145.0,0.2657003677348489,0.5763537222887191,0.9877349259371732,0.5058635327312349,0.12771996215704826\\r\\n145,2015,Tanzania,3.781,146.0,0.16112278523329673,0.34209045616834954,0.42478995849782364,0.43051304336872864,0.10042937195255076\\r\\n146,2015,Madagascar,3.681,147.0,0.11517980801375424,0.4291092491994803,0.19376117690724431,0.26620816485911153,0.14367586056327777\\r\\n147,2015,Central African Republic,3.678,148.0,0.037728640336214724,0.019672835527729176,0.6947396835037283,0.2977238660267795,0.1466778254857725\\r\\n148,2015,Chad,3.667,149.0,0.1949890157123072,0.10469672324013547,0.26659243513176095,0.229087153132046,0.09173277054071756\\r\\n149,2015,Guinea,3.656,150.0,0.09484096661731696,0.19675904612834916,0.5065627425177986,0.35846275932433963,0.2167236736773161\\r\\n150,2015,Ivory Coast,3.655,151.0,0.26866134963465305,0.10648702288514462,0.6607787562843742,0.25149579916613135,0.3219379957790554\\r\\n151,2015,Burkina Faso,3.5869999999999997,152.0,0.14495677921581734,0.22863661009319788,0.5363903229071768,0.27142299310987666,0.22933192635179395\\r\\n152,2015,Afghanistan,3.575,153.0,0.18178996131620423,0.2614758207245087,0.2651246752370348,0.45738074544332336,0.1726948548140601\\r\\n153,2015,Rwanda,3.465,154.0,0.1234419026696595,0.38965104502347847,0.8688801160711273,0.28252024839713313,1.0\\r\\n154,2015,Benin,3.34,155.0,0.1619883948612637,0.2775885175295911,0.6875021088504234,0.2275000314905088,0.141601775707736\\r\\n155,2015,Syria,3.0060000000000002,156.0,0.3867782606619228,0.6896950352433273,0.1347133650504437,0.591769640630314,0.3398406229532057\\r\\n156,2015,Burundi,2.905,157.0,0.0,0.1802575985432076,0.07003070486216552,0.24597866203126378,0.17893530310748854\\r\\n157,2015,Togo,2.839,158.0,0.11544247576293042,0.2421201239910383,0.48510308060869856,0.20761062615727618,0.1911069063386944\\r\\n0,2016,Denmark,7.526,1.0,0.7836178903182738,0.8275288946234677,0.9517582435818717,0.42711330147849796,0.8791210980298412\\r\\n1,2016,Switzerland,7.5089999999999995,2.0,0.8320152065442448,0.9018730932828883,0.9619807829535837,0.32594501288369654,0.8143787724855076\\r\\n2,2016,Iceland,7.501,3.0,0.7750642091804985,0.9065749620023398,0.9299025871654026,0.5710479573712256,0.2918982449849598\\r\\n3,2016,Norway,7.497999999999999,4.0,0.860363418304425,0.8283489880047673,0.9794387560364427,0.4486778575538488,0.7062690491842466\\r\\n4,2016,Finland,7.412999999999999,5.0,0.763365126777774,0.844882070571769,0.9378682022602433,0.29353563655467435,0.8104145500906391\\r\\n5,2016,Canada,7.404,6.0,0.782695767285564,0.8631318819502914,0.9422824806253007,0.5354739449128161,0.6176816271240463\\r\\n6,2016,Netherlands,7.3389999999999995,7.0,0.7965728703483701,0.8464129115501952,0.9064538077299656,0.5677707452530458,0.5897527839199983\\r\\n7,2016,New Zealand,7.334,8.0,0.7377267121505267,0.866805900298514,0.9551768200600739,0.5926000050033773,0.8283431940875314\\r\\n8,2016,Australia,7.313,9.0,0.7851170473959923,0.8889374870151879,0.9334373288637381,0.5676581692642533,0.637642184107253\\r\\n9,2016,Sweden,7.291,10.0,0.7892920584275257,0.8670792647589471,0.9563550672928526,0.45316838866234704,0.8076854120600011\\r\\n10,2016,Israel,7.267,11.0,0.7247151601552335,0.8867177675964705,0.5948157121757744,0.3785430165361619,0.1674535349309747\\r\\n11,2016,Austria,7.119,12.0,0.7884830793252096,0.8391304823242538,0.8922484608108332,0.38576038826207687,0.41885296519850995\\r\\n12,2016,United States,7.104,13.0,0.8210572168856001,0.8099898308420719,0.7894920260873893,0.4884797238135741,0.28976672842088486\\r\\n13,2016,Costa Rica,7.087000000000001,14.0,0.5726101173302557,0.7908105802980765,0.9066861381702318,0.2567733219923448,0.2036893165202494\\r\\n14,2016,Puerto Rico,7.039,15.0,0.7370308769786044,0.8084371207068112,0.7672546839476261,0.25238285842943986,0.23811231299428273\\r\\n15,2016,Germany,6.994,16.0,0.7870631229987667,0.8492121636250313,0.8774954778539306,0.3555775148225051,0.5623418793203051\\r\\n16,2016,Brazil,6.952000000000001,17.0,0.5832173608046796,0.6297333056324013,0.6610796727459798,0.17200360243164134,0.27578238610330874\\r\\n17,2016,Belgium,6.928999999999999,18.0,0.7743457452224974,0.8543732846380107,0.8424467714366318,0.2778750656693268,0.5164644714038128\\r\\n18,2016,Ireland,6.907,19.0,0.8071687994297546,0.8488622571156769,0.8864899848985214,0.5370875340855077,0.5863065001294846\\r\\n19,2016,Luxembourg,6.871,20.0,0.928295034112895,0.8826173006899718,0.9007949020063393,0.3195406899657269,0.6973644893324568\\r\\n20,2016,Mexico,6.778,21.0,0.5987972800199132,0.7361048844761789,0.61600756733434,0.12145698346383807,0.3592302635510667\\r\\n21,2016,Singapore,6.739,22.0,0.898894583800052,0.9938985052431302,0.7995652101760732,0.38377154579341055,0.9296001912388692\\r\\n22,2016,United Kingdom,6.725,23.0,0.7615831098740707,0.8437886127300362,0.8205745199887153,0.6020438796187426,0.5393932150042829\\r\\n23,2016,Chile,6.705,24.0,0.6562857110530305,0.8535422566782939,0.6173351698501468,0.36987466539914443,0.22169764337935013\\r\\n24,2016,Panama,6.7010000000000005,25.0,0.6372549019607843,0.7327370343236416,0.8021706301133439,0.2771245590773772,0.1613777166875834\\r\\n25,2016,Argentina,6.65,26.0,0.6193272461898781,0.7204465681825637,0.6919298362070394,0.11212568483726516,0.13892707026036374\\r\\n26,2016,Czech Republic,6.596,27.0,0.7085864928775896,0.7933255333340622,0.6775585389734312,0.09886673504615615,0.07298950178290403\\r\\n27,2016,United Arab Emirates,6.5729999999999995,28.0,0.8581457972687055,0.7563338545482378,0.9231152193033406,0.3072824156305506,0.7019860953405446\\r\\n28,2016,Uruguay,6.545,29.0,0.63641197967935,0.7474768460302011,0.8927960968486035,0.20052285292572486,0.41976931811390666\\r\\n29,2016,Malta,6.4879999999999995,30.0,0.7078340857404705,0.8363968377199216,0.9028526859058398,0.6781077227128312,0.3432737703938325\\r\\n30,2016,Colombia,6.481,31.0,0.550846882318998,0.6105321859315712,0.7326042582850694,0.17012733595176743,0.10113747285802505\\r\\n31,2016,France,6.478,32.0,0.757085638640915,0.8744491706122269,0.7629233807398064,0.12677307182348083,0.34833363214406654\\r\\n32,2016,Thailand,6.474,33.0,0.5842130273921455,0.6680043300930533,0.812559119799532,0.7088659845395642,0.050020916751329705\\r\\n33,2016,Saudi Arabia,6.379,34.0,0.8106310036998065,0.6062458311919783,0.619243598466619,0.1680134090511095,0.5913663618797187\\r\\n34,2016,Taiwan,6.379,34.0,0.758449023002161,0.8281959039069248,0.527522859655819,0.2935731618842719,0.12565987370266338\\r\\n35,2016,Qatar,6.375,36.0,1.0,0.7424469399582299,0.9308153138950198,0.37979386085607786,0.9507559911552022\\r\\n36,2016,Spain,6.361000000000001,37.0,0.7274702148603238,0.9192918767016939,0.6132859821769362,0.19563205163485353,0.11583896093547681\\r\\n37,2016,Algeria,6.355,38.0,0.5634850593439914,0.6339868566367421,0.3388207570653346,0.06277987641658118,0.31544453076754514\\r\\n38,2016,Guatemala,6.324,39.0,0.44009028885645424,0.5490798552261815,0.8262666157752367,0.33501363420308705,0.16691567561106793\\r\\n39,2016,Suriname,6.269,40.0,0.5884898679610332,0.5151170546619576,0.8570503991105062,0.18312360843569409,0.24641925137950954\\r\\n40,2016,Kuwait,6.239,41.0,0.882822488487605,0.6532863875433282,0.7065666539438092,0.17436769819628248,0.4650889459949401\\r\\n41,2016,Bahrain,6.218,42.0,0.7827466820542411,0.6765442358369872,0.7764151413066926,0.18915267805768896,0.5069822108010119\\r\\n42,2016,Trinidad and Tobago,6.167999999999999,43.0,0.7179604675107204,0.5334324735109838,0.7943045852071889,0.37412753608685867,0.018307137592382314\\r\\n43,2016,Venezuela,6.084,44.0,0.6093140083500221,0.6350803144784752,0.31958711561758407,0.02783128611812974,0.1590071515368832\\r\\n44,2016,Slovakia,6.077999999999999,45.0,0.6919430207166536,0.7276196516243315,0.3783999070678238,0.1477497310684712,0.0522918783242694\\r\\n45,2016,El Salvador,6.068,46.0,0.4622438704275709,0.609887045804949,0.6087057534974029,0.08570785280064042,0.20500408374668816\\r\\n46,2016,Malaysia,6.005,47.0,0.6759274973694036,0.6401320897072813,0.6379461989080468,0.49344557576364034,0.17448554752086692\\r\\n47,2016,Nicaragua,5.992000000000001,48.0,0.360493533824378,0.6712628344614173,0.763255281368758,0.3470842818902759,0.318133827367079\\r\\n48,2016,Uzbekistan,5.987,49.0,0.3842933595827252,0.5066974292806141,1.0,0.40403522377604884,0.5579991633299468\\r\\n49,2016,Italy,5.977,50.0,0.7344964529377822,0.8887406646036762,0.30266018354104773,0.18336126885647813,0.044502878543397274\\r\\n50,2016,Ecuador,5.976,51.0,0.5184537750472376,0.7084404010803363,0.6585074428716041,0.10068045931003426,0.3528954760054981\\r\\n51,2016,Belize,5.956,52.0,0.46363554077141533,0.45646397603140404,0.840405582568579,0.27092037125059415,0.20815155680392036\\r\\n52,2016,Japan,5.921,53.0,0.7487073305952503,0.9586016861119919,0.7662257919978758,0.10255672578990817,0.37178031434889136\\r\\n53,2016,Kazakhstan,5.919,54.0,0.6634873222225993,0.5856778891889822,0.6626562007335003,0.16243464338428437,0.21534293511822944\\r\\n54,2016,Moldova,5.897,55.0,0.35932249414480155,0.5301630345642023,0.4084535090193995,0.22480174117529333,0.03149465128787426\\r\\n55,2016,Russia,5.856,56.0,0.6650996232307117,0.6032278875487956,0.5325843442473323,0.008893503114602358,0.06502121556206299\\r\\n56,2016,Poland,5.835,57.0,0.6727764389079347,0.7133062884760477,0.7401549975937204,0.15532984764716182,0.10314946512878742\\r\\n57,2016,South Korea,5.835,57.0,0.7370591629612029,0.9274818759362731,0.4078892779501817,0.21012933730267933,0.14729377079224684\\r\\n58,2016,Bolivia,5.822,59.0,0.4172804724890533,0.47178332039408216,0.8359249240777311,0.24607860305706353,0.14789139225880993\\r\\n59,2016,Lithuania,5.813,60.0,0.6859859927814173,0.665369096694477,0.30435287674870143,0.0,0.02984123189704974\\r\\n60,2016,Belarus,5.8020000000000005,61.0,0.6075885634115159,0.6482018085792701,0.472991586319056,0.14906311760438296,0.34134146098527857\\r\\n61,2016,North Cyprus,5.771,62.0,0.7098650192910401,0.8782434693230402,0.7137025174662706,0.30391764440997676,0.3238311520149803\\r\\n62,2016,Slovenia,5.768,63.0,0.7031103266465271,0.8236689884421506,0.8724837783567599,0.29661271358166763,0.06599733062411602\\r\\n63,2016,Peru,5.742999999999999,64.0,0.5314426982564521,0.6469990049533638,0.6125723958246899,0.15638055687589125,0.09900595629395006\\r\\n64,2016,Turkmenistan,5.6579999999999995,65.0,0.5790480069696661,0.43937322996511874,0.6110124628686171,0.25694844019713303,0.5606685392139285\\r\\n65,2016,Mauritius,5.648,66.0,0.6149994908523132,0.6819349829967305,0.7560032526261636,0.43686988717384234,0.09723301260981292\\r\\n66,2016,Libya,5.615,67.0,0.5715295927949944,0.5301083616721156,0.6651786455135331,0.18840217146573937,0.19954580768541205\\r\\n67,2016,Latvia,5.56,68.0,0.6569532602423542,0.6574743310771654,0.45482002688395085,0.19288019413103843,0.17068069085041535\\r\\n68,2016,Cyprus,5.546,69.0,0.7139155719991401,0.886313188195029,0.4798951194012512,0.32373101843744523,0.09773103049861549\\r\\n69,2016,Paraguay,5.537999999999999,70.0,0.47357523505651533,0.5956174209703344,0.7574968054564463,0.29108398168763916,0.140919141815574\\r\\n70,2016,Romania,5.528,71.0,0.6296968874104748,0.6973855423004166,0.5994623209810982,0.13589172691566806,0.00711169545210064\\r\\n71,2016,Estonia,5.517,72.0,0.6918921059479763,0.7028090931954118,0.6791018768980567,0.08002901958822203,0.3624972609016116\\r\\n72,2016,Jamaica,5.51,73.0,0.4733489471957276,0.6084546160322787,0.713719112497718,0.25292072148700373,0.07912508217295164\\r\\n73,2016,Croatia,5.4879999999999995,74.0,0.6391953203670389,0.7293363804358522,0.38696294329477743,0.20525104445500714,0.07330823323173767\\r\\n74,2016,Hong Kong,5.457999999999999,75.0,0.822607288731996,1.0,0.7880980434457922,0.4762214494783979,0.6240164146696148\\r\\n75,2016,Somalia,5.44,76.0,0.5076031640231703,0.08356204826522912,0.9324582220083307,0.3152127686188177,0.614713440506783\\r\\n76,2016,Kosovo,5.401,77.0,0.4779425907697181,0.5486534066679059,0.22912759919680045,0.32480674455257297,0.12400645431183886\\r\\n77,2016,Turkey,5.388999999999999,78.0,0.6269927474740619,0.6658502181448395,0.386664232728721,0.03354764466014559,0.2395665252295862\\r\\n78,2016,Indonesia,5.314,79.0,0.5059966283108742,0.4980700469093413,0.6413647753862493,0.6816601205813924,0.0\\r\\n79,2016,Jordan,5.303,80.0,0.5318443592093501,0.622046297005019,0.5880283443137124,0.15306581942811395,0.2584712842885316\\r\\n80,2016,Azerbaijan,5.291,81.0,0.6036907550094475,0.5541644341902396,0.5764782024261935,0.04521802216496135,0.3504452279925895\\r\\n81,2016,Philippines,5.279,82.0,0.42743514024190166,0.47250500256962596,0.9005293815031777,0.2457784004202837,0.22779338233829358\\r\\n82,2016,China,5.245,83.0,0.5494212687960355,0.7625446950892808,0.7206060505484656,0.036699772346333766,0.04826789378274467\\r\\n83,2016,Bhutan,5.196000000000001,84.0,0.45036375773621623,0.5022798596000131,0.754825005393385,0.581905286068096,0.31550429291420146\\r\\n84,2016,Kyrgyzstan,5.185,85.0,0.2850265322516773,0.5644976107946157,0.6575449310476442,0.4553948915517974,0.08844797705133567\\r\\n85,2016,Serbia,5.1770000000000005,86.0,0.5531380469094735,0.6643412463232481,0.25106623077050727,0.23405798914267126,0.08002151437279625\\r\\n86,2016,Bosnia and Herzegovina,5.162999999999999,87.0,0.49626059310048304,0.731982548412846,0.14806087057534972,0.3485352613013784,0.26774190314903384\\r\\n87,2016,Montenegro,5.1610000000000005,88.0,0.5780353687926411,0.6528927427203045,0.24099304668182342,0.18970304955845194,0.24699695213052048\\r\\n88,2016,Dominican Republic,5.155,89.0,0.5494608691716732,0.5887723748810862,0.8574652748966959,0.24092512445900982,0.2400446224028367\\r\\n89,2016,Morocco,5.151,90.0,0.44350723555434857,0.6084764851891135,0.41582170298212706,0.02536712280789533,0.16099922309209347\\r\\n90,2016,Hungary,5.145,91.0,0.6702703008497108,0.6974511497709205,0.31830929819612,0.09850399019338052,0.08267096954122591\\r\\n91,2016,Pakistan,5.132000000000001,92.0,0.35728024620119253,0.3989152898210009,0.23287807630395457,0.36474620368748906,0.27008506145540745\\r\\n92,2016,Lebanon,5.129,93.0,0.6030967493748797,0.7910839447585098,0.4254800112846214,0.2710329472393866,0.05456283989720911\\r\\n93,2016,Portugal,5.122999999999999,94.0,0.6898724867904461,0.8259871190666244,0.7324714980334887,0.12090661196307505,0.023884937946971052\\r\\n94,2016,Macedonia,5.121,95.0,0.5446126517542966,0.666068909713186,0.4493768565691432,0.2687063768043429,0.13396681208789019\\r\\n95,2016,Vietnam,5.061,96.0,0.3868164692305081,0.6815850764873759,0.9187839160955209,0.28831961574062487,0.22378931851232092\\r\\n96,2016,Somaliland Region,5.0569999999999995,97.0,0.11256123915232569,0.32020819437306597,0.6395891070213577,0.6185925499712305,0.7265483376162871\\r\\n97,2016,Tunisia,5.045,98.0,0.5208184831924692,0.6096355505013504,0.3810883021623326,0.023903634953593673,0.15633777565290144\\r\\n98,2016,Greece,5.033,99.0,0.6744792550603623,0.8332695482925654,0.08684179956521018,0.278168894577088,0.07579832267575051\\r\\n99,2016,Tajikistan,4.996,100.0,0.2442438025412127,0.5390200430822388,0.7105826515541246,0.2998649088134491,0.2626944759855774\\r\\n100,2016,Mongolia,4.907,101.0,0.5272054580632021,0.5647163023629624,0.5871819977098856,0.4066995221774698,0.05902508018088008\\r\\n101,2016,Laos,4.876,102.0,0.3529015760949504,0.3768821143100827,0.8559551270349658,0.5135216270982913,0.4402677344170202\\r\\n102,2016,Nigeria,4.875,103.0,0.39348630392722583,0.014039998687850594,0.4524635324183939,0.265103945162985,0.05434371202613597\\r\\n103,2016,Honduras,4.871,104.0,0.3607481076677641,0.5965796638710594,0.4342255928574984,0.23034298151252094,0.1311579911950437\\r\\n104,2016,Iran,4.813,105.0,0.6002115791498365,0.6605360130340173,0.3643439154317197,0.45672078653090836,0.1045439152174346\\r\\n105,2016,Zambia,4.795,106.0,0.3142063519002523,0.21594698916383281,0.6982027580942265,0.19814624871788455,0.22225542341480906\\r\\n106,2016,Nepal,4.793,107.0,0.22043266238982612,0.5057133172230545,0.6044408304153736,0.4519925950016261,0.13318990418135815\\r\\n107,2016,Palestinian Territories,4.754,108.0,0.3471425500379032,0.5797513476867899,0.2846877644833137,0.11418957796512647,0.20500408374668816\\r\\n108,2016,Albania,4.655,109.0,0.5084065940282634,0.7564869386460804,0.5190427985861032,0.18531258599554698,0.09918524273391899\\r\\n109,2016,Bangladesh,4.643,110.0,0.2744645463494111,0.5375985478879861,0.6503426873993926,0.21398193780802044,0.24424789338433034\\r\\n110,2016,Sierra Leone,4.635,111.0,0.17437742552300783,0.567919019487299,0.49944406644650585,0.2735846696520151,0.1568557142572561\\r\\n111,2016,Iraq,4.575,112.0,0.5759761492594729,0.5166806993756355,0.4027116281385353,0.2196982963500363,0.2652244068606944\\r\\n112,2016,Namibia,4.574,113.0,0.49571750223459266,0.3381080992422337,0.7969763852702499,0.07217371725914992,0.20072112990298607\\r\\n113,2016,Cameroon,4.513,114.0,0.2649604561963273,0.09703344887537858,0.6994307904213478,0.2583618942786381,0.11561983306440367\\r\\n114,2016,Ethiopia,4.508,115.0,0.133634296188181,0.3362820246465398,0.5993129656980699,0.3439446626472869,0.3356242156218251\\r\\n115,2016,South Africa,4.459,116.0,0.5473620492628672,0.16168961105704568,0.6952322474651089,0.14548570284942333,0.16121835096316658\\r\\n116,2016,Sri Lanka,4.415,117.0,0.5185216614054738,0.6362065760554602,0.833535239549279,0.562292047131814,0.1522341082491683\\r\\n117,2016,India,4.404,118.0,0.3868108120339884,0.4512372475479208,0.6587563683433179,0.28773171891026444,0.1673340106376621\\r\\n118,2016,Myanmar,4.395,119.0,0.16095289818177702,0.3942571594152187,0.698700609037654,1.0,0.39684057451343646\\r\\n119,2016,Egypt,4.362,120.0,0.5076428724981048,0.5280526609296579,0.30299208416999945,0.13360268181022186,0.20062152632522556\\r\\n120,2016,Armenia,4.36,121.0,0.4549800300962855,0.6589067608498353,0.22316998290711756,0.07214870037275159,0.06561883702862607\\r\\n121,2016,Kenya,4.356,122.0,0.263659300996798,0.2878309076793544,0.663585522494565,0.4916193430565632,0.12677543377358114\\r\\n122,2016,Ukraine,4.324,123.0,0.4617743231164364,0.5992586355833052,0.20362103586186295,0.22937983138618567,0.030020518337018662\\r\\n123,2016,Ghana,4.276,124.0,0.32498331127026686,0.28273539413687904,0.6701737499792562,0.23988692367347964,0.05852706229207752\\r\\n124,2016,Congo (Kinshasa),4.272,125.0,0.0,0.16375624637792088,0.24914120712258744,0.29311034948590303,0.11460387657124642\\r\\n125,2016,Georgia,4.252,126.0,0.44200242128011047,0.6583819010858035,0.5289168422974161,0.059552698071198056,0.6286579413932547\\r\\n126,2016,Congo (Brazzaville),4.236000000000001,127.0,0.40419537693900404,0.26667249844182256,0.6198078295358369,0.1257348710379506,0.18787226837187987\\r\\n127,2016,Senegal,4.218999999999999,128.0,0.21866761707568197,0.40056641116201763,0.5056008231135597,0.21361919295524479,0.22627940795633375\\r\\n128,2016,Bulgaria,4.217,129.0,0.5976545263229354,0.6996161962975518,0.34235549876367016,0.13469091636854874,0.005836769656766071\\r\\n129,2016,Mauritania,4.2010000000000005,130.0,0.31527556204247426,0.2713415634260221,0.20065052523274526,0.258436944937833,0.3512619773302256\\r\\n130,2016,Zimbabwe,4.1930000000000005,131.0,0.16620843374857155,0.1325926978885329,0.41222058115800125,0.20611412703574913,0.16454511046036774\\r\\n131,2016,Malawi,4.156000000000001,132.0,0.017243134992023353,0.2792691327785857,0.6777576793508023,0.36203187151327143,0.14426582202832725\\r\\n132,2016,Sudan,4.138999999999999,133.0,0.3247683378025185,0.2835882912534307,0.6058910459023853,0.20078553023290724,0.19356959301978124\\r\\n133,2016,Gabon,4.121,134.0,0.6233664845049387,0.34024034203361286,0.45651272009160454,0.05277312185725363,0.17912707424450686\\r\\n134,2016,Mali,4.073,135.0,0.14499960399624362,0.13693372552021257,0.44731907266964266,0.23814825006879645,0.26544353473176757\\r\\n135,2016,Haiti,4.0280000000000005,136.0,0.16086804023398166,0.25882147113818027,0.19056074611261387,0.5745503214669901,0.2819578079244606\\r\\n136,2016,Botswana,3.9739999999999998,137.0,0.5870189968659131,0.338184641291155,0.7218838679699296,0.13008780927125807,0.2081117153728162\\r\\n137,2016,Comoros,3.9560000000000004,138.0,0.12359842956224613,0.28601576766207776,0.2459881511475464,0.203199659770345,0.36086376222633915\\r\\n138,2016,Ivory Coast,3.9160000000000004,139.0,0.28198861772060235,0.007129345128098591,0.6650292902305048,0.22906712030620668,0.3029542421163768\\r\\n139,2016,Cambodia,3.907,140.0,0.2825373657830126,0.42284014739811704,0.9668763172306211,0.4792484927325945,0.15478395983983745\\r\\n140,2016,Angola,3.866,141.0,0.4473145288121019,0.01276065301302309,0.0,0.12565982037875562,0.16159684455865653\\r\\n141,2016,Niger,3.8560000000000003,142.0,0.043045608318341776,0.24425661268629784,0.621517117774938,0.23697245640807543,0.33574373991513773\\r\\n142,2016,South Sudan,3.832,143.0,0.1908342101987939,0.13074475413600425,0.31651703479978094,0.2986265729367323,0.25285364250283865\\r\\n143,2016,Chad,3.763,144.0,0.20678750438432728,0.0,0.20275809422658855,0.20816551172041128,0.09223291300623518\\r\\n144,2016,Burkina Faso,3.739,145.0,0.1489766131495876,0.1910598886859917,0.5440017258832704,0.27928851975083185,0.2432518576067252\\r\\n145,2016,Uganda,3.739,145.0,0.1643868164692305,0.17277727357221742,0.7146484342587829,0.3136742301053211,0.1219147791788681\\r\\n146,2016,Yemen,3.7239999999999998,147.0,0.29574691965649497,0.297682962833368,0.36975389568363226,0.09751582318064693,0.11095838562521167\\r\\n147,2016,Madagascar,3.695,148.0,0.1261158820135094,0.36395744262079976,0.21731193680612024,0.25035649063117604,0.1431104205263053\\r\\n148,2016,Tanzania,3.6660000000000004,149.0,0.23473971238812896,0.34855062163078304,0.5172837252526593,0.3683361268856478,0.09516125819239427\\r\\n149,2016,Liberia,3.622,150.0,0.02854055644184967,0.21148568116956248,0.4175143961897808,0.2756610712230756,0.09024084145102491\\r\\n150,2016,Guinea,3.6069999999999998,151.0,0.09478067049093152,0.16407334915202346,0.5038915348744586,0.3488479723813574,0.2310404589732863\\r\\n151,2016,Rwanda,3.515,152.0,0.15379088738784608,0.3066165134003258,0.8916676347101677,0.2692692567483051,1.0\\r\\n152,2016,Benin,3.484,153.0,0.19142821583336161,0.18811848709173018,0.6498282414245174,0.2270907862807395,0.12667583019582063\\r\\n153,2016,Afghanistan,3.36,154.0,0.1842322618603125,0.1478355002022897,0.2628818931611875,0.3657844044730193,0.13526165859877687\\r\\n154,2016,Togo,3.303,155.0,0.12707194822533746,0.22948399724448623,0.5657080270167112,0.19378080204137793,0.22440686069443613\\r\\n155,2016,Syria,3.069,156.0,0.3906746772569385,0.6469990049533638,0.10493038384307736,0.5800415280314212,0.33687922070160753\\r\\n156,2016,Burundi,2.905,157.0,0.006618919928040458,0.13037297846981508,0.06191606233093812,0.22846671503264704,0.18121874937747762\\r\\n0,2017,Norway,7.537000179290769,1.0,0.8623995425420968,0.838095755088425,0.9645146118575088,0.42498262650973356,0.6774569755242581\\r\\n1,2017,Denmark,7.52199983596802,2.0,0.7898501463530339,0.8337511653166695,0.9498767201418489,0.416851616520202,0.8618504678105516\\r\\n2,2017,Iceland,7.50400018692017,3.0,0.7889032435535945,0.8771724994916232,0.9516737008348941,0.562108539077426,0.3242709520783454\\r\\n3,2017,Switzerland,7.49399995803833,4.0,0.8345422814106532,0.9032117490036875,0.9406483954276854,0.33866537521308426,0.7884403284317828\\r\\n4,2017,Finland,7.468999862670901,5.0,0.7688498676530682,0.851328937430726,0.9373530814284688,0.28423134467926475,0.8223685366156315\\r\\n5,2017,Netherlands,7.3769998550415,6.0,0.8015169176840803,0.8529587821555024,0.8867254460857493,0.5560083737424875,0.6050486926038176\\r\\n6,2017,Canada,7.31599998474121,7.0,0.7881302406143248,0.8782377616088202,0.9267041662432545,0.5137935363242438,0.6152889343712663\\r\\n7,2017,New Zealand,7.31400012969971,8.0,0.7483610325700474,0.8593825589890792,0.9313076725502308,0.5916587200871049,0.8228146125395146\\r\\n8,2017,Sweden,7.28399991989136,9.0,0.7963455254402589,0.8743365153655088,0.9295384902487661,0.45323086680176766,0.8262543996318134\\r\\n9,2017,Australia,7.28399991989136,10.0,0.79094959854761,0.8881210829364624,0.911945536846832,0.5647163441893956,0.6453207173112181\\r\\n10,2017,Israel,7.212999820709231,11.0,0.7319532324473526,0.8823125944294975,0.6078368316303687,0.3864161604588478,0.17580061683551593\\r\\n11,2017,Costa Rica,7.0789999961853,12.0,0.5881986163251802,0.7987312573083405,0.8785593905751666,0.2469452571227905,0.2081203532557719\\r\\n12,2017,Austria,7.00600004196167,13.0,0.7924009786491163,0.8578662496102859,0.8593360615070573,0.369976783094367,0.47110914774363555\\r\\n13,2017,United States,6.993000030517581,14.0,0.8244129370703804,0.8143864428377907,0.7629110393425824,0.46190273222379746,0.285377719280937\\r\\n14,2017,Ireland,6.9770002365112305,15.0,0.8187030099851135,0.8519910164644433,0.8676440741373095,0.5045154808534104,0.6392423172583556\\r\\n15,2017,Germany,6.9510002136230495,16.0,0.7928479838534844,0.8405156744789013,0.8511669481734018,0.39388860471543063,0.5921553877115104\\r\\n16,2017,Belgium,6.89099979400635,17.0,0.7797846598991016,0.8607938576446426,0.815814343681358,0.26734614405145624,0.5369527145437043\\r\\n17,2017,Luxembourg,6.86299991607666,18.0,0.9302956984074982,0.8893952298837526,0.9042044260822044,0.3297655045791123,0.6836984745167488\\r\\n18,2017,United Kingdom,6.71400022506714,19.0,0.7678012437558973,0.8472801836411323,0.7667190483438399,0.5829247237847763,0.5675774726114073\\r\\n19,2017,Chile,6.65199995040894,20.0,0.6656168215814884,0.8622641340605768,0.5626083852229522,0.38228499687447254,0.16937750260542112\\r\\n20,2017,United Arab Emirates,6.6479997634887695,21.0,0.8677456086810711,0.7640770871887376,0.9224202487781441,0.4236898650357021,0.6959943979531767\\r\\n21,2017,Brazil,6.6350002288818395,22.0,0.5869253932762658,0.6472822411930172,0.6567525030276251,0.1838184648888336,0.23200749542333873\\r\\n22,2017,Czech Republic,6.60900020599365,23.0,0.7196704582733483,0.793365102004161,0.7399117620848374,0.09414314930297908,0.07063192418281468\\r\\n23,2017,Argentina,6.59899997711182,24.0,0.6290991410042936,0.7305351593294959,0.7454663903597284,0.11993132530892388,0.12035136748970865\\r\\n24,2017,Mexico,6.57800006866455,25.0,0.6117238616521156,0.7462587312770214,0.6183170105786919,0.1338620243931981,0.2791490828786395\\r\\n25,2017,Singapore,6.57200002670288,26.0,0.9034219777314915,1.0,0.8314689152384094,0.40560099559246054,1.0\\r\\n26,2017,Malta,6.52699995040894,27.0,0.7145828553167543,0.864875068146046,0.8919839751596587,0.681916602668346,0.32326971120997416\\r\\n27,2017,Uruguay,6.4539999961853,28.0,0.6465569840883001,0.7560453139227699,0.8774099270833289,0.19921509817738212,0.3776178807159197\\r\\n28,2017,Guatemala,6.4539999961853,29.0,0.4595792545574022,0.5664366765216271,0.8026622759956576,0.3301368139825212,0.15836535962875242\\r\\n29,2017,Panama,6.4520001411438,30.0,0.6553165445151589,0.7422087777257078,0.831758481817369,0.24204582684503156,0.1447991825119243\\r\\n30,2017,France,6.44199991226196,31.0,0.7620059148105149,0.8887345400478172,0.7076941675338969,0.14445722032918712,0.3655300266855913\\r\\n31,2017,Thailand,6.4239997863769505,32.0,0.5980261515238604,0.6797918056643483,0.8786667850279718,0.6787671501891357,0.059194732539279475\\r\\n32,2017,Taiwan Province of China,6.42199993133545,33.0,0.7634685184193214,0.8352541510258291,0.5386229600239021,0.29978580696240836,0.12924280305805766\\r\\n33,2017,Spain,6.40299987792969,34.0,0.7368313944373418,0.9358724203064613,0.6121782454353972,0.21737725758139304,0.1446473585883831\\r\\n34,2017,Qatar,6.375,35.0,1.0,0.7463848956937464,0.9158687238505369,0.38688869352123717,0.9456241613453737\\r\\n35,2017,Colombia,6.35699987411499,36.0,0.567050690451652,0.6244791910589228,0.7189887930248651,0.16771114216242763,0.09193088316724146\\r\\n36,2017,Saudi Arabia,6.343999862670901,37.0,0.8159526056684903,0.6193097335315697,0.6758691326027191,0.16602199935096176,0.5849809135371394\\r\\n37,2017,Trinidad and Tobago,6.1680002212524405,38.0,0.7243636259017044,0.5449766649157286,0.7829501585422627,0.3806351088283417,0.00995154931392291\\r\\n38,2017,Kuwait,6.10500001907349,39.0,0.8713217148189147,0.6637595160825026,0.7482932551301651,0.26346463789484087,0.45827905422026277\\r\\n39,2017,Slovakia,6.09800004959106,40.0,0.7049047733732717,0.7491762360547833,0.43656491812028025,0.1526491372998694,0.0431008782523732\\r\\n40,2017,Bahrain,6.08699989318848,41.0,0.7931125103099221,0.6860359339666028,0.8111135430038513,0.19628187988006882,0.549344086823229\\r\\n41,2017,Malaysia,6.08400011062622,42.0,0.6864113359810298,0.6496469083989923,0.602048094567719,0.4909277885047371,0.13309450083152274\\r\\n42,2017,Nicaragua,6.07100009918213,43.0,0.3866929918921755,0.6859966575565902,0.6724509960433723,0.35210274394870644,0.2746132216648279\\r\\n43,2017,Ecuador,6.00799989700317,44.0,0.5292815888109806,0.7204699162377962,0.6843380052589149,0.16903736287935314,0.2951530286320779\\r\\n44,2017,El Salvador,6.002999782562259,45.0,0.48002300210249277,0.6255286668376907,0.6489776172172287,0.0822472095507195,0.186104280568464\\r\\n45,2017,Poland,5.97300004959106,46.0,0.6867210789812255,0.7351311307543958,0.7856106499390926,0.1791272234559233,0.11941189621378868\\r\\n46,2017,Uzbekistan,5.97100019454956,47.0,0.41328315775167623,0.5219763171239464,1.0,0.49017253473906375,0.5264837001078547\\r\\n47,2017,Italy,5.96400022506714,48.0,0.7426041473622977,0.8979285666942906,0.3753654154676743,0.1964282258208899,0.051400671121235544\\r\\n48,2017,Russia,5.962999820709231,49.0,0.6813048981731111,0.5739683385861605,0.5577702141603881,0.050849899247958436,0.06213034335539399\\r\\n49,2017,Belize,5.955999851226809,50.0,0.4790440736055134,0.4710392966589506,0.8278448389281052,0.27762781482250704,0.20045484889078333\\r\\n50,2017,Japan,5.92000007629395,51.0,0.7544261772109364,0.9618439779993418,0.7627322956847218,0.13335754396333188,0.34652303871593676\\r\\n51,2017,Lithuania,5.90199995040894,52.0,0.6990549394642982,0.6604162853299839,0.3408238985459597,0.0,0.016258792909028503\\r\\n52,2017,Algeria,5.872000217437741,53.0,0.5785445939691806,0.648375855574033,0.3394310138051836,0.07159226753791936,0.30811498800453574\\r\\n53,2017,Latvia,5.849999904632571,54.0,0.6699260678568282,0.6706045987160766,0.48303257049368414,0.172615432039746,0.15101505352244368\\r\\n54,2017,South Korea,5.837999820709231,55.0,0.7461817370672031,0.9477943893788395,0.3776521574897086,0.23735622327715855,0.12805440664245218\\r\\n55,2017,Moldova,5.837999820709231,56.0,0.3821323777551596,0.6185860246326248,0.35092453678790864,0.23989847779062046,0.012400823812857361\\r\\n56,2017,Romania,5.824999809265139,57.0,0.6466241961262428,0.7199636167916975,0.6871449015180667,0.14899588833443425,0.0\\r\\n57,2017,Bolivia,5.82299995422363,58.0,0.4388850744429094,0.495870101964266,0.8452929627099086,0.260168299519304,0.12195564352174051\\r\\n58,2017,Turkmenistan,5.82200002670288,59.0,0.5995996356443952,0.45783310895536294,0.6269324734198193,0.2895969185459173,0.5541887797995643\\r\\n59,2017,Kazakhstan,5.8189997673034695,60.0,0.6828081386186744,0.6361470632279472,0.6567533369793727,0.23166727005757082,0.2498152169546935\\r\\n60,2017,North Cyprus,5.80999994277954,61.0,0.7165478076314193,0.8783326690754556,0.7092200212477303,0.31003477442827176,0.32824293288982814\\r\\n61,2017,Slovenia,5.75799989700317,62.0,0.7134606980959255,0.8319106676918953,0.8668130875516733,0.2808086567151706,0.08858298907603922\\r\\n62,2017,Peru,5.71500015258789,63.0,0.5478977107484927,0.661704703127215,0.676261367907916,0.14090298120515501,0.09275786347804502\\r\\n63,2017,Mauritius,5.62900018692017,64.0,0.6313176542797593,0.6700118532807405,0.7403799333296988,0.4236799658514142,0.08217443030852455\\r\\n64,2017,Cyprus,5.62099981307983,65.0,0.7214320973983762,0.8889981718995842,0.5287434116563203,0.31535974364082436,0.0801228147732206\\r\\n65,2017,Estonia,5.61100006103516,66.0,0.7024621769693832,0.730568247494843,0.7215445771467436,0.10716877496700129,0.3888960395535011\\r\\n66,2017,Belarus,5.5689997673034695,67.0,0.613549358663484,0.6697012412858093,0.43591633531406193,0.1751069127370653,0.3303312732260983\\r\\n67,2017,Libya,5.525000095367429,68.0,0.5839222665367413,0.545173425837909,0.7007157519729229,0.17140621968111214,0.19182103772022302\\r\\n68,2017,Turkey,5.5,69.0,0.6361218959285908,0.6695861273059838,0.44421841762077635,0.04412117620735329,0.20717451548369767\\r\\n69,2017,Paraguay,5.493000030517581,70.0,0.4923343188166022,0.6077647422208787,0.7128020756560951,0.2584651358631832,0.18846328608981094\\r\\n70,2017,\"Hong Kong S.A.R., China\",5.47200012207031,71.0,0.8273432400183096,0.9931880686771271,0.7399466953969227,0.4400247790081636,0.6295571432369838\\r\\n71,2017,Philippines,5.42999982833862,72.0,0.45184019475655457,0.4899149899459719,0.8864614540270433,0.22145964518499986,0.20643593713093547\\r\\n72,2017,Serbia,5.39499998092651,73.0,0.5663447060415833,0.6835480701755269,0.3011563582168681,0.2536037724486434,0.07939617562571333\\r\\n73,2017,Jordan,5.33599996566772,74.0,0.5239745791873371,0.6346093475742428,0.6271644509975552,0.1956803334486236,0.25094668749883864\\r\\n74,2017,Hungary,5.32399988174438,75.0,0.683595783719762,0.7227235107665836,0.25008466673398017,0.08242075125055807,0.07011881375235787\\r\\n75,2017,Jamaica,5.31099987030029,76.0,0.48856941264510806,0.6732058715624278,0.7140448954129907,0.27014233963969625,0.11062770289616972\\r\\n76,2017,Croatia,5.2930002212524405,77.0,0.649260559288272,0.7370520124144508,0.374310744491123,0.28727539784357636,0.08417815942492246\\r\\n77,2017,Kosovo,5.27899980545044,78.0,0.5025863799535981,0.567720737289451,0.3813307649781618,0.3741549228078201,0.11541948753551368\\r\\n78,2017,China,5.2729997634887695,79.0,0.5727556508124291,0.7795626642981051,0.7116826344271621,0.022517149169688815,0.04002082654229011\\r\\n79,2017,Pakistan,5.26900005340576,80.0,0.38105717865680716,0.42003540526436917,0.3423528100828675,0.3687371532421901,0.260828396714451\\r\\n80,2017,Indonesia,5.26200008392334,81.0,0.5264236581342324,0.5156973325864405,0.6658775567170702,0.7265760346474143,0.02376334479937469\\r\\n81,2017,Venezuela,5.25,82.0,0.5983304762791559,0.6479092745554224,0.21609119510226946,0.06625712916332484,0.13068193898375385\\r\\n82,2017,Montenegro,5.23699998855591,83.0,0.5943793501906353,0.7012189185409617,0.2798172009042878,0.22677133149208883,0.18217584464670467\\r\\n83,2017,Morocco,5.2350001335144,84.0,0.46288673830367744,0.6273213002843483,0.6112098884647018,0.026627634707973316,0.18128218622351353\\r\\n84,2017,Azerbaijan,5.234000205993651,85.0,0.6119500088738364,0.5670042901061845,0.5956600241826036,0.04240154390827903,0.3839790633562062\\r\\n85,2017,Dominican Republic,5.230000019073491,86.0,0.5717860429867372,0.6031277894614168,0.8357429179438562,0.2135535086654727,0.23820964525766886\\r\\n86,2017,Greece,5.2270002365112305,87.0,0.6854763662209583,0.8524320236147988,0.12551114383007558,0.2859231930379489,0.08458402760464948\\r\\n87,2017,Lebanon,5.22499990463257,88.0,0.5694126582111737,0.7728519549772398,0.4252140472170127,0.30714201679692404,0.07202543355274339\\r\\n88,2017,Portugal,5.19500017166138,89.0,0.6993757769659626,0.8372239071896614,0.7516009857442859,0.1025932819962011,0.024964241336085855\\r\\n89,2017,Bosnia and Herzegovina,5.18200016021729,90.0,0.5193195972849557,0.7411813396753864,0.2944523822767697,0.38494841740362745,0.25815870110532513\\r\\n90,2017,Honduras,5.1810002326965305,91.0,0.3830535761427729,0.6112806755158124,0.5178119721513464,0.2730056157003801,0.14993383455862516\\r\\n91,2017,Macedonia,5.175000190734861,92.0,0.5637801346244976,0.6773648771396095,0.4833404840110874,0.2942302407514803,0.12152093171249338\\r\\n92,2017,Somalia,5.151000022888179,93.0,0.0,0.11486514273242025,0.9127532654448455,0.339972319518423,0.6045018543235103\\r\\n93,2017,Vietnam,5.07399988174438,94.0,0.4144229565198949,0.6850146210155927,0.8644497609608356,0.2715310332087429,0.18099964663212637\\r\\n94,2017,Nigeria,5.07399988174438,95.0,0.41183042308894374,0.054401390645388965,0.5906802203149372,0.26667440340414483,0.04725532883751994\\r\\n95,2017,Tajikistan,5.04099988937378,96.0,0.2716651362022947,0.5547780867196,0.7097844675887646,0.2884768168443974,0.3087260420373967\\r\\n96,2017,Bhutan,5.01100015640259,97.0,0.4668376708834537,0.5194408101634914,0.7563773053855869,0.5603140509466126,0.3674389711480578\\r\\n97,2017,Kyrgyzstan,5.0040001869201705,98.0,0.3103565327801448,0.5804396638710859,0.6839418781788975,0.5053876169877588,0.07621170446885636\\r\\n98,2017,Nepal,4.961999893188481,99.0,0.2473737574965901,0.5281824634959398,0.6611865318072682,0.46373552119854894,0.14912955007762094\\r\\n99,2017,Mongolia,4.95499992370605,100.0,0.543574725352155,0.5850223116263514,0.5894231770476832,0.3965399302412357,0.06199859900432712\\r\\n100,2017,South Africa,4.8289999961853,101.0,0.5584345845088491,0.19229791415100447,0.7217238304417828,0.156052764834579,0.14811622420637183\\r\\n101,2017,Tunisia,4.80499982833862,102.0,0.532769132445854,0.643743512425393,0.42702469545258603,0.04774513708618201,0.1790208489090627\\r\\n102,2017,Palestinian Territories,4.77500009536743,103.0,0.37530306707442546,0.5933741055449546,0.372660956281495,0.1256277299145031,0.1845858469362235\\r\\n103,2017,Egypt,4.7350001335144,104.0,0.5232654341344075,0.5451927483161458,0.4152555514173444,0.1430912948840053,0.2391578805906363\\r\\n104,2017,Bulgaria,4.71400022506714,105.0,0.6162015250398092,0.7443927860746992,0.42632672417066064,0.1244253299945105,0.014488676132089222\\r\\n105,2017,Sierra Leone,4.70900011062622,106.0,0.187096766637864,0.0,0.4721344890586062,0.3416749072220048,0.1450410769662902\\r\\n106,2017,Cameroon,4.69500017166138,107.0,0.29308781224436486,0.13489102074421883,0.6457692658530061,0.2731379767935784,0.10201500808117234\\r\\n107,2017,Iran,4.69199991226196,108.0,0.6137200978807934,0.6714163322381023,0.3642840731361035,0.4554577513023095,0.09648022256120369\\r\\n108,2017,Albania,4.64400005340576,109.0,0.5267776178830001,0.7686976853015867,0.5697647568206917,0.23088037489920737,0.07713585889461538\\r\\n109,2017,Bangladesh,4.60799980163574,110.0,0.3051961060319601,0.5590219596521768,0.7203401191702286,0.19578287099933683,0.2594581420652051\\r\\n110,2017,Namibia,4.57399988174438,111.0,0.5095934606694316,0.35283113135634914,0.7855506980745858,0.08088928444629426,0.19298811528356866\\r\\n111,2017,Kenya,4.55299997329712,112.0,0.29101765567453314,0.322507343303914,0.6805534395678896,0.5250515006468743,0.13100850945693635\\r\\n112,2017,Mozambique,4.550000190734861,113.0,0.11452837434018656,0.10709473597865433,0.7241246848612538,0.3769289622217711,0.3806064727678369\\r\\n113,2017,Myanmar,4.54500007629395,114.0,0.1863877344650361,0.41524137843753733,0.7765161281497341,1.0,0.4010009357058488\\r\\n114,2017,Senegal,4.53499984741211,115.0,0.2470971689949561,0.4277850135172546,0.564204939512705,0.20932725891637693,0.2415041207202029\\r\\n115,2017,Zambia,4.513999938964839,116.0,0.33210114287344034,0.2672568637265454,0.6942956671068373,0.28918039686808455,0.16051849890806322\\r\\n116,2017,Iraq,4.49700021743774,117.0,0.5844132627294736,0.5250568947776819,0.4252755279930584,0.2288563876795489,0.2235777523241451\\r\\n117,2017,Gabon,4.46500015258789,118.0,0.6360871933600547,0.37186519319049155,0.4622330726229815,0.040609125606907846,0.1558073241538602\\r\\n118,2017,Ethiopia,4.46000003814697,119.0,0.17130393731147872,0.3685080704601546,0.6122738719024327,0.36536084745611785,0.35020841380235607\\r\\n119,2017,Sri Lanka,4.44000005722046,120.0,0.5341674911508255,0.6563703099359546,0.8491488776059892,0.5806169899463712,0.15060463321696824\\r\\n120,2017,Armenia,4.37599992752075,121.0,0.4750516011481601,0.669500123334222,0.28496947062638384,0.08856444599859138,0.04845739783010671\\r\\n121,2017,India,4.31500005722046,122.0,0.41641074286664237,0.4765861739654676,0.70732866501527,0.2673886025527958,0.19098757751511544\\r\\n122,2017,Mauritania,4.29199981689453,123.0,0.33862154909187847,0.29640463271136475,0.12608135833736314,0.2315532494530825,0.28824390612945155\\r\\n123,2017,Congo (Brazzaville),4.29099988937378,124.0,0.4254702095990888,0.30128652629789315,0.6529781300801787,0.1336949711586987,0.16357247309350692\\r\\n124,2017,Georgia,4.28599977493286,125.0,0.5021147023840558,0.6822368569056042,0.4576959118105761,0.052957606568923205,0.5376561070703954\\r\\n125,2017,Congo (Kinshasa),4.2800002098083505,126.0,0.03758363660932828,0.196881903745037,0.3435126748062229,0.2854066658305976,0.12144170690475983\\r\\n126,2017,Mali,4.19000005722046,127.0,0.24540435448075879,0.17353122553083578,0.45334879933527333,0.2091887243318865,0.21869536256269656\\r\\n127,2017,Ivory Coast,4.17999982833862,128.0,0.3140515500427023,0.04563635379914272,0.6726909424933619,0.23078921241116712,0.27325166627368597\\r\\n128,2017,Cambodia,4.1680002212524405,129.0,0.3133568858943009,0.44941861170052033,0.9613327152959408,0.4538634426763296,0.13854162958129487\\r\\n129,2017,Sudan,4.138999938964839,130.0,0.3446056780709088,0.302307144650013,0.0,0.20793647751937175,0.18581414330100543\\r\\n130,2017,Ghana,4.11999988555908,131.0,0.3487764688381423,0.3073042469343964,0.6343236024344522,0.29805067794029283,0.045548083235064436\\r\\n131,2017,Ukraine,4.09600019454956,132.0,0.47183493750689864,0.6042191937550525,0.16786389295917836,0.31391896236390243,0.040532211700888644\\r\\n132,2017,Uganda,4.08099985122681,133.0,0.19413622781727466,0.22466537000379644,0.6656637870858185,0.38120231408956484,0.11454564138915671\\r\\n133,2017,Burkina Faso,4.03200006484985,134.0,0.17725260581271646,0.22277078838356446,0.48094931269801694,0.29073194101793814,0.2520878292852317\\r\\n134,2017,Niger,4.02799987792969,135.0,0.07536413107745092,0.2785597557510883,0.5420308111783643,0.2639285136706072,0.2917574344189309\\r\\n135,2017,Malawi,3.97000002861023,136.0,0.1140610829688975,0.32791160682906256,0.7025523917046228,0.3345842475056603,0.1485557716367433\\r\\n136,2017,Chad,3.9360001087188703,137.0,0.22475231089581177,0.03768293207738352,0.22906417165021584,0.24875779776604365,0.10696206718777425\\r\\n137,2017,Zimbabwe,3.875,138.0,0.19111468549537886,0.20255683982889053,0.4996299245011758,0.21618138212377283,0.19783332665144843\\r\\n138,2017,Lesotho,3.80800008773804,139.0,0.26966722289781514,0.5781968924240982,0.5840090233115766,0.177957175870039,0.24940591443098523\\r\\n139,2017,Angola,3.79500007629395,140.0,0.4522346300847941,0.04693570758232052,0.6121856179779731,0.10600400994582289,0.14205177212599973\\r\\n140,2017,Afghanistan,3.7939999103546103,141.0,0.20498318321813316,0.1855884045918601,0.1417540104316038,0.3644189490703115,0.12343438780136977\\r\\n141,2017,Botswana,3.7660000324249303,142.0,0.5949015657944646,0.3561615751747405,0.7620650416254939,0.1077215364184212,0.20480805808390137\\r\\n142,2017,Benin,3.65700006484985,143.0,0.22100386909349737,0.21650542745612258,0.6388886542997422,0.23889515046667317,0.12293687771644939\\r\\n143,2017,Madagascar,3.64400005340576,144.0,0.15321793258494462,0.39161747027780497,0.270812514250386,0.2398421964283104,0.13664135197745936\\r\\n144,2017,Haiti,3.6029999256133998,145.0,0.18719921339339574,0.2878995850192927,0.023900404107969293,0.578612207144233,0.2076106123703524\\r\\n145,2017,Yemen,3.59299993515015,146.0,0.3079018098281438,0.32260540803823545,0.364503448776324,0.11349119498773759,0.1138883614103051\\r\\n146,2017,South Sudan,3.5910000801086404,147.0,0.20269513579976645,0.1673022836861506,0.20531053870629035,0.33277287676600525,0.2444025936420897\\r\\n147,2017,Liberia,3.5329999923706095,148.0,0.052160291684118947,0.23768076402112956,0.49418412692932173,0.30967746787100237,0.07514427958003736\\r\\n148,2017,Guinea,3.50699996948242,149.0,0.1200714485088046,0.19976572047659205,0.5186011684883066,0.3075820805348474,0.2316701683256112\\r\\n149,2017,Togo,3.4949998855590803,150.0,0.15302098905821615,0.25588912142373715,0.5680974556243674,0.22554550650236682,0.1984630751793761\\r\\n150,2017,Rwanda,3.47099995613098,151.0,0.18727260158549763,0.33992017975406247,0.8812211792302708,0.29301642077252255,0.9802405343043016\\r\\n151,2017,Syria,3.46199989318848,152.0,0.4082575420968719,0.5243713256723815,0.103448579707276,0.5839991992459833,0.3195322377733506\\r\\n152,2017,Tanzania,3.34899997711182,153.0,0.2643183508820176,0.380266998229237,0.5830086055292607,0.41561461445149145,0.1340390102252639\\r\\n153,2017,Burundi,2.90499997138977,154.0,0.03732403253163014,0.15472164542915584,0.06980909742701101,0.23465160414284672,0.1734216046405058\\r\\n154,2017,Central African Republic,2.69300007820129,155.0,0.5205688566359589,0.013992525940311046,0.3977381633098552,0.32698199794527794,0.11344840088667181\\r\\n0,2018,Finland,7.632000000000001,1.0,0.6182432432432432,0.8470588235294119,0.9392655367231636,0.3076923076923077,0.8596491228070174\\r\\n1,2018,Norway,7.593999999999999,2.0,0.6911196911196911,0.834313725490196,0.946327683615819,0.4545454545454546,0.743421052631579\\r\\n2,2018,Denmark,7.555,3.0,0.6404440154440154,0.8411764705882353,0.9420903954802258,0.451048951048951,0.8925438596491228\\r\\n3,2018,Iceland,7.495,4.0,0.6365830115830117,0.8862745098039215,0.9336158192090395,0.5716783216783217,0.30043859649122806\\r\\n4,2018,Switzerland,7.487,5.0,0.6737451737451737,0.8990196078431373,0.9096045197740112,0.40209790209790214,0.780701754385965\\r\\n5,2018,Netherlands,7.441,6.0,0.6452702702702703,0.8509803921568627,0.8785310734463276,0.5367132867132867,0.644736842105263\\r\\n6,2018,Canada,7.327999999999999,7.0,0.6303088803088803,0.8686274509803921,0.8997175141242937,0.5157342657342657,0.6359649122807018\\r\\n7,2018,New Zealand,7.324,8.0,0.6003861003861004,0.8490196078431371,0.9223163841807909,0.5926573426573426,0.8508771929824561\\r\\n8,2018,Sweden,7.314,9.0,0.6423745173745173,0.8852941176470587,0.9081920903954801,0.45279720279720276,0.8377192982456139\\r\\n9,2018,Australia,7.272,10.0,0.6351351351351352,0.8823529411764706,0.8912429378531073,0.5856643356643356,0.6600877192982456\\r\\n10,2018,United Kingdom,7.19,11.0,0.5888030888030887,0.8607843137254901,0.6327683615819207,0.41258741258741266,0.1776315789473684\\r\\n11,2018,Austria,7.138999999999999,12.0,0.6356177606177605,0.8637254901960784,0.8488700564971751,0.37762237762237766,0.48903508771929816\\r\\n12,2018,Costa Rica,7.072,13.0,0.47586872586872586,0.7911764705882354,0.8700564971751411,0.20454545454545459,0.21929824561403505\\r\\n13,2018,Ireland,6.977,14.0,0.6872586872586873,0.8490196078431371,0.8446327683615819,0.49125874125874125,0.6688596491228069\\r\\n14,2018,Germany,6.965,15.0,0.6351351351351352,0.834313725490196,0.8050847457627117,0.4318181818181819,0.611842105263158\\r\\n15,2018,Belgium,6.9270000000000005,16.0,0.6274131274131274,0.8666666666666667,0.8008474576271185,0.28321678321678323,0.5241228070175438\\r\\n16,2018,Luxembourg,6.91,17.0,0.749034749034749,0.8686274509803921,0.8700564971751411,0.29720279720279724,0.7017543859649122\\r\\n17,2018,United States,6.886,18.0,0.6631274131274132,0.7931372549019609,0.75,0.46328671328671334,0.2894736842105263\\r\\n18,2018,Israel,6.814,19.0,0.6163127413127413,0.8558823529411764,0.7302259887005648,0.5734265734265734,0.5942982456140351\\r\\n19,2018,United Arab Emirates,6.774,20.0,1.0,0.6470588235294118,0.3785310734463276,0.2797202797202798,0.24342105263157898\\r\\n20,2018,Czech Republic,6.711,21.0,0.5834942084942084,0.8274509803921569,0.7443502824858755,0.06643356643356643,0.07236842105263158\\r\\n21,2018,Malta,6.627000000000001,22.0,0.6013513513513513,0.8568627450980392,0.8884180790960451,0.6118881118881119,0.30921052631578944\\r\\n22,2018,France,6.489,23.0,0.6124517374517375,0.880392156862745,0.7118644067796609,0.1258741258741259,0.38377192982456143\\r\\n23,2018,Mexico,6.4879999999999995,24.0,0.48938223938223935,0.7362745098039214,0.6539548022598869,0.07517482517482518,0.20614035087719298\\r\\n24,2018,Chile,6.476,25.0,0.5342664092664092,0.7823529411764705,0.5861581920903954,0.29895104895104896,0.13157894736842105\\r\\n25,2018,Taiwan,6.441,26.0,0.6472007722007722,0.830392156862745,0.5677966101694915,0.21853146853146854,0.16885964912280702\\r\\n26,2018,Panama,6.43,27.0,0.5250965250965252,0.734313725490196,0.8206214689265535,0.1730769230769231,0.13596491228070176\\r\\n27,2018,Brazil,6.419,28.0,0.46428571428571425,0.6519607843137255,0.6737288135593219,0.14685314685314685,0.19078947368421054\\r\\n28,2018,Argentina,6.388,29.0,0.5062741312741312,0.719607843137255,0.7824858757062145,0.06293706293706294,0.11622807017543861\\r\\n29,2018,Guatemala,6.382000000000001,30.0,0.3653474903474903,0.5862745098039215,0.8305084745762711,0.2674825174825175,0.15350877192982454\\r\\n30,2018,Uruguay,6.379,31.0,0.5159266409266409,0.7460784313725489,0.8601694915254237,0.18181818181818185,0.33771929824561403\\r\\n31,2018,Qatar,6.374,32.0,0.7842664092664092,0.7235294117647059,0.9011299435028248,0.40209790209790214,0.37280701754385964\\r\\n32,2018,Saudi Arabia,6.371,33.0,0.6539575289575289,0.6107843137254901,0.6963276836158191,0.1258741258741259,0.2763157894736842\\r\\n33,2018,Singapore,6.343,34.0,0.7263513513513514,0.9784313725490196,0.8686440677966101,0.4108391608391609,1.0\\r\\n34,2018,Malaysia,6.322,35.0,0.5487451737451737,0.6460784313725491,0.48022598870056493,0.4982517482517482,0.12719298245614036\\r\\n35,2018,Spain,6.31,36.0,0.5921814671814671,0.9362745098039215,0.6115819209039547,0.2027972027972028,0.16008771929824564\\r\\n36,2018,Colombia,6.26,37.0,0.4517374517374517,0.6127450980392157,0.7274011299435028,0.12762237762237766,0.08333333333333333\\r\\n37,2018,Trinidad & Tobago,6.192,38.0,0.5786679536679535,0.5431372549019607,0.7895480225988699,0.25349650349650354,0.039473684210526314\\r\\n38,2018,Slovakia,6.172999999999999,39.0,0.5723938223938223,0.7509803921568626,0.47740112994350276,0.16083916083916086,0.028508771929824556\\r\\n39,2018,El Salvador,6.167000000000001,40.0,0.3774131274131274,0.6166666666666667,0.6285310734463276,0.06818181818181819,0.1776315789473684\\r\\n40,2018,Nicaragua,6.141,41.0,0.31081081081081074,0.676470588235294,0.7217514124293785,0.31818181818181823,0.27850877192982454\\r\\n41,2018,Poland,6.122999999999999,42.0,0.5559845559845559,0.7558823529411763,0.7485875706214689,0.1433566433566434,0.1381578947368421\\r\\n42,2018,Bahrain,6.105,43.0,0.6341698841698842,0.6745098039215686,0.8163841807909603,0.3793706293706294,0.2675438596491228\\r\\n43,2018,Uzbekistan,6.096,44.0,0.33542471042471045,0.5833333333333333,1.0,0.5279720279720279,0.5657894736842105\\r\\n44,2018,Kuwait,6.082999999999999,45.0,0.6998069498069498,0.6519607843137255,0.7598870056497173,0.2465034965034965,0.23026315789473684\\r\\n45,2018,Thailand,6.072,46.0,0.47876447876447875,0.6833333333333333,0.8771186440677965,0.5909090909090909,0.061403508771929814\\r\\n46,2018,Italy,6.0,47.0,0.5984555984555985,0.9176470588235294,0.37429378531073443,0.19405594405594406,0.05921052631578946\\r\\n47,2018,Ecuador,5.973,48.0,0.41747104247104244,0.7117647058823529,0.7627118644067796,0.15384615384615385,0.26096491228070173\\r\\n48,2018,Belize,5.956,49.0,0.3778957528957529,0.45490196078431366,0.8149717514124293,0.2744755244755245,0.1929824561403509\\r\\n49,2018,Lithuania,5.952000000000001,50.0,0.5661196911196911,0.692156862745098,0.4717514124293784,0.0,0.010964912280701754\\r\\n50,2018,Slovenia,5.9479999999999995,51.0,0.5767374517374517,0.8294117647058823,0.8714689265536723,0.2342657342657343,0.10964912280701752\\r\\n51,2018,Romania,5.945,52.0,0.527027027027027,0.7019607843137254,0.7231638418079095,0.10839160839160841,0.0\\r\\n52,2018,Latvia,5.933,53.0,0.5424710424710424,0.6480392156862744,0.4901129943502824,0.1153846153846154,0.1425438596491228\\r\\n53,2018,Japan,5.915,54.0,0.6129343629343629,0.9588235294117646,0.7584745762711862,0.09265734265734266,0.32675438596491224\\r\\n54,2018,Mauritius,5.891,55.0,0.5144787644787645,0.6607843137254902,0.8022598870056495,0.3828671328671329,0.1074561403508772\\r\\n55,2018,Jamaica,5.89,56.0,0.38368725868725867,0.6696078431372549,0.7895480225988699,0.1223776223776224,0.06578947368421052\\r\\n56,2018,South Korea,5.875,57.0,0.5994208494208494,0.926470588235294,0.32203389830508466,0.2604895104895105,0.10964912280701752\\r\\n57,2018,Northern Cyprus,5.835,58.0,0.5815637065637066,0.8813725490196078,0.6765536723163841,0.2674825174825175,0.3355263157894737\\r\\n58,2018,Russia,5.81,59.0,0.5439189189189189,0.5774509803921568,0.5409604519774011,0.06818181818181819,0.05263157894736842\\r\\n59,2018,Kazakhstan,5.79,60.0,0.540057915057915,0.6088235294117647,0.6186440677966101,0.21328671328671334,0.2631578947368421\\r\\n60,2018,Cyprus,5.7620000000000005,61.0,0.5815637065637066,0.8813725490196078,0.5748587570621468,0.3076923076923077,0.07456140350877193\\r\\n61,2018,Bolivia,5.752000000000001,62.0,0.3508687258687258,0.48823529411764705,0.8333333333333331,0.20104895104895104,0.11622807017543861\\r\\n62,2018,Estonia,5.739,63.0,0.5675675675675675,0.7127450980392157,0.7584745762711862,0.10489510489510488,0.37938596491228066\\r\\n63,2018,Paraguay,5.681,64.0,0.3914092664092664,0.5931372549019608,0.7415254237288135,0.2377622377622378,0.16008771929824564\\r\\n64,2018,Peru,5.662999999999999,65.0,0.4391891891891892,0.6509803921568628,0.7259887005649717,0.1153846153846154,0.07236842105263158\\r\\n65,2018,Kosovo,5.662000000000001,66.0,0.401061776061776,0.5568627450980391,0.6101694915254235,0.43356643356643354,0.04824561403508772\\r\\n66,2018,Moldova,5.64,67.0,0.3055019305019305,0.5980392156862745,0.3050847457627118,0.25349650349650354,0.24342105263157898\\r\\n67,2018,Turkmenistan,5.636,68.0,0.47876447876447875,0.4970588235294118,0.5663841807909604,0.30244755244755245,0.07894736842105264\\r\\n68,2018,Hungary,5.62,69.0,0.5535714285714286,0.7078431372549019,0.3432203389830508,0.061188811188811185,0.04605263157894737\\r\\n69,2018,Libya,5.566,70.0,0.4638030888030888,0.5323529411764705,0.6779661016949151,0.15734265734265734,0.32236842105263164\\r\\n70,2018,Philippines,5.524,71.0,0.3624517374517374,0.49313725490196075,0.8855932203389829,0.16433566433566435,0.22807017543859648\\r\\n71,2018,Honduras,5.504,72.0,0.2876447876447876,0.6,0.6257062146892653,0.29895104895104896,0.16008771929824564\\r\\n72,2018,Belarus,5.483,73.0,0.4898648648648649,0.676470588235294,0.4110169491525423,0.1311188811188811,0.3355263157894737\\r\\n73,2018,Turkey,5.483,74.0,0.5424710424710424,0.6627450980392157,0.43502824858757055,0.13986013986013984,0.23684210526315788\\r\\n74,2018,Pakistan,5.472,75.0,0.3030888030888031,0.4058823529411764,0.4491525423728812,0.33216783216783224,0.24561403508771928\\r\\n75,2018,Hong Kong,5.43,76.0,0.6665057915057915,1.0,0.7175141242937852,0.3846153846153847,0.6359649122807018\\r\\n76,2018,Portugal,5.41,77.0,0.5617760617760618,0.8568627450980392,0.771186440677966,0.0506993006993007,0.03508771929824561\\r\\n77,2018,Serbia,5.398,78.0,0.4589768339768339,0.6617647058823529,0.384180790960452,0.18881118881118886,0.09210526315789472\\r\\n78,2018,Greece,5.358,79.0,0.5453667953667954,0.8519607843137255,0.16242937853107345,0.270990227720997,0.09429824561403509\\r\\n79,2018,Lebanon,5.358,80.0,0.4541505791505791,0.7598039215686274,0.6878531073446327,0.3286713286713287,0.2960526315789474\\r\\n80,2018,Montenegro,5.347,81.0,0.47924710424710426,0.7049019607843138,0.3432203389830508,0.1486013986013986,0.17543859649122806\\r\\n81,2018,Croatia,5.321000000000001,82.0,0.5265444015444015,0.7127450980392157,0.5141242937853107,0.16433566433566435,0.08333333333333333\\r\\n82,2018,Dominican Republic,5.3020000000000005,83.0,0.4623552123552123,0.592156862745098,0.7937853107344631,0.16433566433566435,0.23026315789473684\\r\\n83,2018,Algeria,5.295,84.0,0.4609073359073359,0.6637254901960785,0.08615819209039546,0.0506993006993007,0.29385964912280704\\r\\n84,2018,Morocco,5.254,85.0,0.36438223938223935,0.6460784313725491,0.6271186440677966,0.0,0.16008771929824564\\r\\n85,2018,China,5.246,86.0,0.4657335907335908,0.7735294117647059,0.8206214689265535,0.005244755244755238,0.2236842105263158\\r\\n86,2018,Azerbaijan,5.2010000000000005,87.0,0.4826254826254826,0.5813725490196078,0.5847457627118643,0.008741258741258738,0.38377192982456143\\r\\n87,2018,Tajikistan,5.199,88.0,0.21718146718146716,0.5764705882352941,0.3898305084745762,0.2814685314685315,0.07236842105263158\\r\\n88,2018,Macedonia,5.185,89.0,0.45125482625482627,0.6676470588235294,0.5338983050847457,0.25699300699300703,0.1118421052631579\\r\\n89,2018,Jordan,5.1610000000000005,90.0,0.38513513513513514,0.6225490196078431,0.6384180790960451,0.18181818181818185,0.2916666666666667\\r\\n90,2018,Nigeria,5.155,91.0,0.32094594594594594,0.03725490196078431,0.6299435028248587,0.305944055944056,0.06798245614035088\\r\\n91,2018,Kyrgyzstan,5.131,92.0,0.2442084942084942,0.5725490196078431,0.7401129943502824,0.44580419580419584,0.07456140350877193\\r\\n92,2018,Bosnia and Herzegovina,5.129,93.0,0.430019305019305,0.7333333333333333,0.3728813559322034,0.33216783216783224,0.24342105263157898\\r\\n93,2018,Mongolia,5.125,94.0,0.4295366795366795,0.5539215686274509,0.5353107344632768,0.3968531468531469,0.06798245614035088\\r\\n94,2018,Vietnam,5.103,95.0,0.33349420849420847,0.6784313725490196,0.8502824858757061,0.263986013986014,0.17105263157894737\\r\\n95,2018,Indonesia,5.093,96.0,0.42229729729729726,0.5019607843137255,0.7372881355932202,0.8006993006993007,0.03728070175438596\\r\\n96,2018,Bhutan,5.082,97.0,0.3725868725868725,0.5068627450980392,0.7415254237288135,0.5909090909090909,0.37280701754385964\\r\\n97,2018,Somalia,4.982,98.0,0.4186528561528561,0.10294117647058824,0.9293785310734463,0.3706293706293707,0.6162280701754385\\r\\n98,2018,Cameroon,4.975,99.0,0.24662162162162163,0.16862745098039214,0.6186440677966101,0.2744755244755245,0.09210526315789472\\r\\n99,2018,Bulgaria,4.933,100.0,0.4971042471042471,0.6882352941176472,0.4844632768361581,0.06643356643356643,0.017543859649122806\\r\\n100,2018,Nepal,4.88,101.0,0.1935328185328185,0.5186274509803922,0.7203389830508474,0.4825174825174825,0.16885964912280702\\r\\n101,2018,Venezuela,4.806,102.0,0.46911196911196906,0.634313725490196,0.1652542372881356,0.05244755244755244,0.1118421052631579\\r\\n102,2018,Gabon,4.758,103.0,0.4884169884169884,0.38627450980392153,0.48022598870056493,0.010489510489510488,0.1118421052631579\\r\\n103,2018,Palestinian Territories,4.743,104.0,0.2982625482625483,0.580392156862745,0.3531073446327683,0.10489510489510488,0.1644736842105263\\r\\n104,2018,South Africa,4.724,105.0,0.44208494208494203,0.3137254901960784,0.7062146892655367,0.13461538461538464,0.12061403508771928\\r\\n105,2018,Iran,4.707,106.0,0.49951737451737455,0.6676470588235294,0.6257062146892653,0.4475524475524475,0.2807017543859649\\r\\n106,2018,Ivory Coast,4.671,107.0,0.24951737451737452,0.06862745098039216,0.637005649717514,0.2097902097902098,0.2236842105263158\\r\\n107,2018,Ghana,4.657,108.0,0.27413127413127414,0.3205882352941177,0.6822033898305084,0.3251748251748252,0.061403508771929814\\r\\n108,2018,Senegal,4.631,109.0,0.19546332046332043,0.41470588235294115,0.5508474576271186,0.19580419580419584,0.1776315789473684\\r\\n109,2018,Laos,4.623,110.0,0.33590733590733585,0.42254901960784313,0.8615819209039547,0.3566433566433567,0.37938596491228066\\r\\n110,2018,Tunisia,4.592,111.0,0.42277992277992277,0.6666666666666666,0.3601694915254237,0.024475524475524476,0.13596491228070176\\r\\n111,2018,Albania,4.586,112.0,0.4305019305019304,0.7647058823529412,0.5692090395480225,0.21503496503496505,0.06798245614035088\\r\\n112,2018,Sierra Leone,4.571000000000001,113.0,0.11196911196911197,0.5758295625942683,0.4788135593220338,0.3706293706293707,0.11403508771929824\\r\\n113,2018,Congo (Brazzaville),4.559,114.0,0.3175675675675676,0.32647058823529407,0.7033898305084745,0.11363636363636365,0.16666666666666666\\r\\n114,2018,Bangladesh,4.5,115.0,0.24517374517374518,0.5578431372549019,0.7966101694915253,0.22202797202797206,0.3135964912280702\\r\\n115,2018,Sri Lanka,4.471,116.0,0.4314671814671814,0.6490196078431373,0.8036723163841807,0.49125874125874125,0.1074561403508772\\r\\n116,2018,Iraq,4.456,117.0,0.47586872586872586,0.515686274509804,0.40677966101694907,0.21328671328671334,0.20614035087719298\\r\\n117,2018,Mali,4.447,118.0,0.16698841698841696,0.13921568627450978,0.4957627118644068,0.1975524475524476,0.12061403508771928\\r\\n118,2018,Namibia,4.441,119.0,0.41023166023166024,0.3480392156862745,0.7104519774011299,0.0437062937062937,0.1381578947368421\\r\\n119,2018,Cambodia,4.433,120.0,0.25337837837837834,0.43823529411764706,0.9604519774011298,0.40209790209790214,0.14035087719298245\\r\\n120,2018,Burkina Faso,4.4239999999999995,121.0,0.13996138996138996,0.2392156862745098,0.41807909604519766,0.2604895104895105,0.27850877192982454\\r\\n121,2018,Egypt,4.419,122.0,0.4155405405405405,0.5323529411764705,0.41807909604519766,0.1153846153846154,0.23245614035087717\\r\\n122,2018,Mozambique,4.417,123.0,0.08397683397683398,0.15980392156862747,0.7274011299435028,0.31468531468531474,0.3442982456140351\\r\\n123,2018,Kenya,4.41,124.0,0.22635135135135134,0.4352941176470588,0.6892655367231637,0.56993006993007,0.11842105263157894\\r\\n124,2018,Zambia,4.377,125.0,0.25965250965250963,0.2794117647058823,0.6878531073446327,0.34090909090909094,0.1776315789473684\\r\\n125,2018,Mauritania,4.356,126.0,0.25723938223938225,0.2764705882352941,0.1596045197740113,0.18881118881118886,0.2017543859649123\\r\\n126,2018,Ethiopia,4.35,127.0,0.13706563706563704,0.3735294117647059,0.615819209039548,0.3391608391608392,0.31798245614035087\\r\\n127,2018,Georgia,4.34,128.0,0.40009652509652505,0.6205882352941177,0.5070621468926553,0.020979020979020976,0.46929824561403505\\r\\n128,2018,Armenia,4.321000000000001,129.0,0.3822393822393822,0.6431372549019607,0.34463276836158185,0.08916083916083917,0.05921052631578946\\r\\n129,2018,Myanmar,4.308,130.0,0.3175675675675676,0.4107843137254902,0.7966101694915253,1.0,0.38815789473684215\\r\\n130,2018,Chad,4.301,131.0,0.16119691119691118,0.042156862745098035,0.24435028248587568,0.27097902097902105,0.1293859649122807\\r\\n131,2018,Congo (Kinshasa),4.245,132.0,0.02171814671814672,0.1901960784313725,0.41807909604519766,0.29895104895104896,0.1118421052631579\\r\\n132,2018,India,4.19,133.0,0.33638996138996136,0.4656862745098039,0.7387005649717514,0.25524475524475526,0.2017543859649123\\r\\n133,2018,Niger,4.166,134.0,0.05164092664092664,0.2068627450980392,0.5282485875706214,0.2604895104895105,0.2149122807017544\\r\\n134,2018,Uganda,4.1610000000000005,135.0,0.1438223938223938,0.22254901960784312,0.6129943502824858,0.4073426573426574,0.13157894736842105\\r\\n135,2018,Benin,4.141,136.0,0.1708494208494208,0.22549019607843135,0.5988700564971751,0.23951048951048956,0.14473684210526316\\r\\n136,2018,Sudan,4.138999999999999,137.0,0.2804054054054054,0.296078431372549,0.0,0.18881118881118886,0.1776315789473684\\r\\n137,2018,Ukraine,4.103,138.0,0.3711389961389961,0.5872549019607842,0.2076271186440678,0.2814685314685315,0.02192982456140351\\r\\n138,2018,Togo,3.9989999999999997,139.0,0.11341698841698843,0.23823529411764705,0.5903954802259886,0.2307692307692308,0.21929824561403505\\r\\n139,2018,Guinea,3.964,140.0,0.1544401544401544,0.1970588235294118,0.5338983050847457,0.277972027972028,0.20394736842105263\\r\\n140,2018,Lesotho,3.8080000000000003,141.0,0.2162162162162162,0.06764705882352942,0.5748587570621468,0.15734265734265734,0.2434210526315789\\r\\n141,2018,Angola,3.795,142.0,0.3407335907335907,0.2539215686274509,0.6193593365203534,0.09265734265734266,0.13157894736842105\\r\\n142,2018,Madagascar,3.7739999999999996,143.0,0.11486486486486487,0.3843137254901961,0.28954802259887,0.22552447552447555,0.10526315789473684\\r\\n143,2018,Zimbabwe,3.6919999999999997,144.0,0.16071428571428573,0.2333333333333333,0.5508474576271186,0.18531468531468534,0.2149122807017544\\r\\n144,2018,Afghanistan,3.6319999999999997,145.0,0.14864864864864863,0.24019607843137253,0.09745762711864407,0.2884615384615385,0.07675438596491228\\r\\n145,2018,Botswana,3.59,146.0,0.47924710424710426,0.3990196078431373,0.7641242937853107,0.027972027972027975,0.1995614035087719\\r\\n146,2018,Malawi,3.5869999999999997,147.0,0.0781853281853282,0.2901960784313725,0.7274011299435028,0.3216783216783217,0.1732456140350877\\r\\n147,2018,Haiti,3.582,148.0,0.14044401544401544,0.27352941176470585,0.012711864406779662,0.6398601398601399,0.22587719298245615\\r\\n148,2018,Liberia,3.495,149.0,0.025096525096525095,0.2519607843137255,0.5692090395480225,0.31468531468531474,0.06359649122807016\\r\\n149,2018,Syria,3.4619999999999997,150.0,0.32094594594594594,0.5186274509803922,0.1016949152542373,0.6118881118881119,0.3135964912280702\\r\\n150,2018,Rwanda,3.408,151.0,0.14864864864864863,0.3823529411764706,0.8757062146892655,0.3041958041958043,0.9714912280701754\\r\\n151,2018,Yemen,3.355,152.0,0.20173745173745172,0.32647058823529407,0.32203389830508466,0.09965034965034966,0.1381578947368421\\r\\n152,2018,Tanzania,3.303,153.0,0.208011583011583,0.3637254901960784,0.6567796610169491,0.4265734265734267,0.21052631578947364\\r\\n153,2018,South Sudan,3.2539999999999996,154.0,0.15106177606177607,0.1637254901960784,0.13559322033898302,0.34615384615384615,0.23026315789473684\\r\\n154,2018,Central African Republic,3.083,155.0,0.0,0.0,0.40819209039548016,0.3356643356643357,0.08114035087719297\\r\\n155,2018,Burundi,2.905,156.0,0.032335907335907334,0.13235294117647056,0.0692090395480226,0.21503496503496505,0.1644736842105263\\r\\n0,2019,Finland,7.769,1.0,0.7925211097708081,0.8503861003861004,0.9436392914653784,0.2365988909426987,0.8663697104677061\\r\\n1,2019,Denmark,7.6,2.0,0.8184559710494571,0.86003861003861,0.9371980676328504,0.4195933456561922,0.9042316258351893\\r\\n2,2019,Norway,7.553999999999999,3.0,0.8817852834740652,0.890926640926641,0.9549114331723026,0.4547134935304991,0.7505567928730513\\r\\n3,2019,Iceland,7.494,4.0,0.8166465621230397,0.888996138996139,0.9355877616747181,0.6081330868761552,0.2538975501113586\\r\\n4,2019,Netherlands,7.4879999999999995,5.0,0.8262967430639323,0.862934362934363,0.8808373590982287,0.5489833641404805,0.6547884187082406\\r\\n5,2019,Switzerland,7.48,6.0,0.8600723763570566,0.9140926640926641,0.9049919484702095,0.4399260628465804,0.755011135857461\\r\\n6,2019,Sweden,7.343,7.0,0.8208685162846802,0.8725868725868727,0.9082125603864734,0.44731977818853974,0.8218262806236081\\r\\n7,2019,New Zealand,7.307,8.0,0.770205066344994,0.888996138996139,0.9259259259259258,0.5637707948243992,0.8374164810690424\\r\\n8,2019,Canada,7.278,9.0,0.8075995174909528,0.9015444015444016,0.9243156199677938,0.4805914972273566,0.6770601336302896\\r\\n9,2019,Austria,7.246,10.0,0.8142340168878165,0.8793436293436293,0.8405797101449276,0.40480591497227353,0.4944320712694878\\r\\n10,2019,Australia,7.228,11.0,0.8118214716525933,0.8986486486486487,0.8808373590982287,0.5674676524953789,0.6369710467706013\\r\\n11,2019,Costa Rica,7.167000000000001,12.0,0.6079613992762364,0.8281853281853282,0.8824476650563606,0.21996303142329024,0.1982182628062361\\r\\n12,2019,Israel,7.138999999999999,13.0,0.7539203860072375,0.891891891891892,0.5813204508856683,0.43622920517560076,0.17371937639198218\\r\\n13,2019,Luxembourg,7.09,14.0,0.9547647768395656,0.8754826254826255,0.8309178743961353,0.31238447319778184,0.6948775055679288\\r\\n14,2019,United Kingdom,7.053999999999999,15.0,0.7882991556091677,0.86003861003861,0.7085346215780999,0.5970425138632162,0.6102449888641427\\r\\n15,2019,Ireland,7.021,16.0,0.8884197828709288,0.862934362934363,0.8148148148148149,0.5046210720887245,0.6815144766146994\\r\\n16,2019,Germany,6.985,17.0,0.8124246079613994,0.8513513513513513,0.7809983896940419,0.43622920517560076,0.581291759465479\\r\\n17,2019,Belgium,6.922999999999999,18.0,0.8021712907117007,0.8503861003861004,0.7455716586151369,0.24953789279112754,0.45879732739420936\\r\\n18,2019,United States,6.892,19.0,0.8486127864897466,0.7422779922779924,0.714975845410628,0.47134935304990755,0.2761692650334076\\r\\n19,2019,Czech Republic,6.852,20.0,0.7496984318455971,0.7866795366795367,0.7198067632850241,0.0388170055452865,0.0712694877505568\\r\\n20,2019,United Arab Emirates,6.825,21.0,0.890832328106152,0.6949806949806949,0.9468599033816425,0.43807763401109057,0.39643652561247217\\r\\n21,2019,Malta,6.726,22.0,0.7683956574185765,0.862934362934363,0.8921095008051528,0.6469500924214416,0.3273942093541203\\r\\n22,2019,Mexico,6.595,23.0,0.6296743063932448,0.7297297297297297,0.6811594202898551,0.09057301293900186,0.15367483296213807\\r\\n23,2019,France,6.5920000000000005,24.0,0.7828709288299155,0.9073359073359073,0.6859903381642511,0.15896487985212568,0.3986636971046771\\r\\n24,2019,Taiwan,6.446000000000001,25.0,0.8094089264173703,0.7808880308880309,0.5491143317230274,0.40110905730129387,0.20712694877505566\\r\\n25,2019,Chile,6.444,26.0,0.6833534378769601,0.7866795366795367,0.5587761674718197,0.29944547134935307,0.11581291759465479\\r\\n26,2019,Guatemala,6.436,27.0,0.46682750301568154,0.6187258687258688,0.8454106280193238,0.277264325323475,0.1648106904231626\\r\\n27,2019,Saudi Arabia,6.375,28.0,0.8305186972255729,0.666023166023166,0.6908212560386473,0.10166358595194085,0.2850779510022272\\r\\n28,2019,Qatar,6.374,29.0,1.0,0.7393822393822393,0.8776167471819647,0.36044362292051757,0.36302895322939865\\r\\n29,2019,Spain,6.354,30.0,0.7599517490952955,0.9237451737451738,0.56682769726248,0.2365988909426987,0.16703786191536749\\r\\n30,2019,Panama,6.321000000000001,31.0,0.6773220747889023,0.7770270270270271,0.8148148148148149,0.155268022181146,0.11135857461024501\\r\\n31,2019,Brazil,6.3,32.0,0.5898673100120627,0.6727799227799228,0.6119162640901772,0.1367837338262477,0.18262806236080179\\r\\n32,2019,Uruguay,6.292999999999999,33.0,0.6622436670687576,0.7586872586872586,0.8260869565217391,0.18853974121996303,0.32516703786191536\\r\\n33,2019,Singapore,6.2620000000000005,34.0,0.9324487334137513,1.0,0.8792270531400966,0.4547134935304991,1.0\\r\\n34,2019,El Salvador,6.252999999999999,35.0,0.4632086851628468,0.6602316602316602,0.6763285024154589,0.1256931608133087,0.15590200445434302\\r\\n35,2019,Italy,6.223,36.0,0.7647768395657418,0.9015444015444016,0.355877616747182,0.24584103512014788,0.0579064587973274\\r\\n36,2019,Bahrain,6.199,37.0,0.8057901085645355,0.7393822393822393,0.8470209339774557,0.42513863216266173,0.2360801781737194\\r\\n37,2019,Slovakia,6.1979999999999995,38.0,0.7358262967430639,0.749034749034749,0.5217391304347826,0.17744916820702403,0.022271714922048998\\r\\n38,2019,Trinidad & Tobago,6.192,39.0,0.7267792521109769,0.5868725868725868,0.7713365539452496,0.29574861367837335,0.0267260579064588\\r\\n39,2019,Poland,6.182,40.0,0.7117008443908323,0.7519305019305019,0.7616747181964573,0.17005545286506468,0.1024498886414254\\r\\n40,2019,Uzbekistan,6.1739999999999995,41.0,0.43365500603136303,0.6283783783783783,1.0,0.5489833641404805,0.5256124721603563\\r\\n41,2019,Lithuania,6.149,42.0,0.7310012062726176,0.6882239382239381,0.45249597423510474,0.033271719038816996,0.08463251670378621\\r\\n42,2019,Colombia,6.125,43.0,0.5784077201447526,0.7104247104247103,0.7407407407407407,0.1367837338262477,0.066815144766147\\r\\n43,2019,Slovenia,6.117999999999999,44.0,0.7430639324487334,0.8185328185328185,0.8921095008051528,0.21996303142329024,0.11804008908685971\\r\\n44,2019,Nicaragua,6.105,45.0,0.4028950542822678,0.7046332046332046,0.6843800322061191,0.3234750462107209,0.2739420935412027\\r\\n45,2019,Kosovo,6.1,46.0,0.5162846803377563,0.6303088803088803,0.7713365539452496,0.43807763401109057,0.0044543429844098\\r\\n46,2019,Argentina,6.086,47.0,0.6429433051869723,0.749034749034749,0.7423510466988729,0.07578558225508318,0.1024498886414254\\r\\n47,2019,Romania,6.07,48.0,0.6851628468033775,0.6949806949806949,0.7278582930756844,0.10720887245841035,0.0022271714922049\\r\\n48,2019,Cyprus,6.046,49.0,0.7460796139927622,0.9044401544401545,0.6376811594202899,0.3049907578558225,0.08240534521158129\\r\\n49,2019,Ecuador,6.028,50.0,0.53437876960193,0.7364864864864865,0.7858293075684379,0.1866913123844732,0.18485523385300667\\r\\n50,2019,Kuwait,6.021,51.0,0.8890229191797345,0.6785714285714285,0.7777777777777778,0.2162661737523105,0.20712694877505566\\r\\n51,2019,Thailand,6.007999999999999,52.0,0.617611580217129,0.6978764478764479,0.8808373590982287,0.6173752310536044,0.053452115812917596\\r\\n52,2019,Latvia,5.94,53.0,0.7002412545235223,0.6824324324324325,0.40901771336553944,0.09242144177449167,0.133630289532294\\r\\n53,2019,South Korea,5.895,54.0,0.7689987937273822,0.8986486486486487,0.2399355877616747,0.277264325323475,0.11581291759465479\\r\\n54,2019,Estonia,5.893,55.0,0.7303980699638118,0.7422779922779924,0.7809983896940419,0.14417744916820704,0.3496659242761693\\r\\n55,2019,Jamaica,5.89,56.0,0.48552472858866097,0.7007722007722007,0.7729468599033816,0.15157116451016633,0.053452115812917596\\r\\n56,2019,Mauritius,5.888,57.0,0.6598311218335344,0.6689189189189189,0.7858293075684379,0.3512014787430684,0.12472160356347439\\r\\n57,2019,Japan,5.886,58.0,0.7846803377563328,0.9488416988416989,0.7004830917874396,0.08133086876155268,0.30289532293986643\\r\\n58,2019,Honduras,5.86,59.0,0.3715319662243667,0.6978764478764479,0.8003220611916264,0.40850277264325324,0.1648106904231626\\r\\n59,2019,Kazakhstan,5.809,60.0,0.6917973462002412,0.6023166023166024,0.644122383252818,0.22365988909426984,0.2048997772828508\\r\\n60,2019,Bolivia,5.779,61.0,0.45235223160434246,0.5801158301158301,0.8067632850241546,0.20702402957486132,0.133630289532294\\r\\n61,2019,Hungary,5.757999999999999,62.0,0.7086851628468032,0.6978764478764479,0.3043478260869565,0.10351201478743068,0.0356347438752784\\r\\n62,2019,Paraguay,5.742999999999999,63.0,0.49999999999999994,0.6486486486486487,0.8115942028985508,0.29390018484288355,0.1692650334075724\\r\\n63,2019,Northern Cyprus,5.718,64.0,0.7460796139927622,0.9044401544401545,0.6553945249597424,0.3068391866913124,0.3518930957683742\\r\\n64,2019,Peru,5.697,65.0,0.5633293124246079,0.722972972972973,0.71658615136876,0.10720887245841035,0.05122494432071271\\r\\n65,2019,Portugal,5.693,66.0,0.720747889022919,0.862934362934363,0.8019323671497585,0.040665434380776334,0.046770601336302904\\r\\n66,2019,Pakistan,5.653,67.0,0.3926417370325693,0.4150579150579151,0.48792270531400966,0.36044362292051757,0.2093541202672606\\r\\n67,2019,Russia,5.648,68.0,0.6978287092882991,0.5994208494208494,0.5217391304347826,0.10536044362292049,0.0601336302895323\\r\\n68,2019,Philippines,5.631,69.0,0.47104945717732205,0.5328185328185329,0.8824476650563606,0.17005545286506468,0.22939866369710468\\r\\n69,2019,Serbia,5.603,70.0,0.5898673100120627,0.722972972972973,0.4380032206119162,0.20702402957486132,0.07795100222717151\\r\\n70,2019,Moldova,5.529,71.0,0.39746682750301565,0.6119691119691121,0.37842190016103056,0.2883548983364141,0.2374221917651762\\r\\n71,2019,Libya,5.525,72.0,0.6139927623642943,0.5482625482625482,0.6537842190016103,0.19963031423290203,0.3296213808463252\\r\\n72,2019,Montenegro,5.523,73.0,0.6182147165259347,0.7393822393822393,0.3011272141706924,0.2162661737523105,0.1692650334075724\\r\\n73,2019,Tajikistan,5.4670000000000005,74.0,0.28166465621230397,0.5916988416988417,0.6103059581320451,0.3789279112754159,0.31180400890868604\\r\\n74,2019,Croatia,5.432,75.0,0.680940892641737,0.7808880308880309,0.46054750402576494,0.17375231053604434,0.040089086859688206\\r\\n75,2019,Hong Kong,5.43,76.0,0.8516284680337757,0.9816602316602318,0.6924315619967794,0.43068391866913125,0.6302895322939867\\r\\n76,2019,Dominican Republic,5.425,77.0,0.5965018094089263,0.6505791505791506,0.784219001610306,0.16266173752310534,0.21603563474387527\\r\\n77,2019,Bosnia and Herzegovina,5.386,78.0,0.554282267792521,0.7142857142857143,0.3252818035426731,0.4399260628465804,0.0044543429844098\\r\\n78,2019,Turkey,5.372999999999999,79.0,0.6978287092882991,0.6785714285714285,0.29790660225442833,0.10720887245841035,0.2271714922048998\\r\\n79,2019,Malaysia,5.3389999999999995,80.0,0.720747889022919,0.6978764478764479,0.8019323671497585,0.4343807763401109,0.044543429844098\\r\\n80,2019,Belarus,5.3229999999999995,81.0,0.6278648974668274,0.6602316602316602,0.3623188405797101,0.12754158964879853,0.30734966592427615\\r\\n81,2019,Greece,5.287000000000001,82.0,0.6966224366706876,0.862934362934363,0.09178743961352658,0.2954642400113749,0.066815144766147\\r\\n82,2019,Mongolia,5.285,83.0,0.5560916767189384,0.5424710424710425,0.4943639291465378,0.38817005545286504,0.07572383073496661\\r\\n83,2019,North Macedonia,5.274,84.0,0.5772014475271411,0.7075289575289575,0.5394524959742351,0.29574861367837335,0.066815144766147\\r\\n84,2019,Nigeria,5.265,85.0,0.4041013268998793,0.13513513513513514,0.6698872785829307,0.3512014787430684,0.08240534521158129\\r\\n85,2019,Kyrgyzstan,5.261,86.0,0.3166465621230398,0.5965250965250966,0.8019323671497585,0.5083179297597041,0.0423162583518931\\r\\n86,2019,Turkmenistan,5.247000000000001,87.0,0.6188178528347407,0.5328185328185329,0.6183574879227053,0.40480591497227353,0.053452115812917596\\r\\n87,2019,Algeria,5.211,88.0,0.5886610373944511,0.6563706563706564,0.12238325281803543,0.088724584103512,0.244988864142539\\r\\n88,2019,Morocco,5.207999999999999,89.0,0.46743063932448725,0.6534749034749034,0.6570048309178743,0.020332717190388174,0.1603563474387528\\r\\n89,2019,Azerbaijan,5.207999999999999,90.0,0.6133896260554884,0.640926640926641,0.5491143317230274,0.018484288354898338,0.39643652561247217\\r\\n90,2019,Lebanon,5.197,91.0,0.5796139927623642,0.6853281853281853,0.3317230273752013,0.26062846580406657,0.05122494432071271\\r\\n91,2019,Indonesia,5.192,92.0,0.54583835946924,0.5357142857142857,0.7745571658615137,0.8743068391866912,0.053452115812917596\\r\\n92,2019,China,5.191,93.0,0.6049457177322075,0.7606177606177607,0.822866344605475,0.0609981515711645,0.2138084632516704\\r\\n93,2019,Vietnam,5.175,94.0,0.43124246079613987,0.7200772200772201,0.85829307568438,0.22550831792975967,0.15367483296213807\\r\\n94,2019,Bhutan,5.082,95.0,0.47466827503015674,0.48166023166023164,0.7198067632850241,0.6377079482439925,0.36302895322939865\\r\\n95,2019,Cameroon,5.044,96.0,0.31544028950542813,0.21814671814671818,0.5974235104669887,0.29944547134935307,0.0734966592427617\\r\\n96,2019,Bulgaria,5.011,97.0,0.6429433051869723,0.6853281853281853,0.48470209339774556,0.10351201478743068,0.0\\r\\n97,2019,Ghana,4.996,98.0,0.35283474065138715,0.36776061776061775,0.5974235104669887,0.4066543438077634,0.08017817371937641\\r\\n98,2019,Ivory Coast,4.944,99.0,0.32750301568154394,0.12258687258687259,0.5507246376811594,0.23844731977818853,0.1915367483296214\\r\\n99,2019,Nepal,4.913,100.0,0.25331724969843183,0.5521235521235521,0.6908212560386473,0.4805914972273566,0.1893095768374165\\r\\n100,2019,Jordan,4.906000000000001,101.0,0.48914354644149577,0.6853281853281853,0.6006441223832527,0.15711645101663582,0.2806236080178174\\r\\n101,2019,Benin,4.883,102.0,0.2213510253317249,0.2818532818532819,0.5458937198067633,0.277264325323475,0.17371937639198218\\r\\n102,2019,Congo (Brazzaville),4.812,103.0,0.3902291917973461,0.388996138996139,0.5829307568438004,0.14787430683918665,0.1982182628062361\\r\\n103,2019,Gabon,4.7989999999999995,104.0,0.6218335343787695,0.44980694980694985,0.45893719806763283,0.033271719038816996,0.11358574610244991\\r\\n104,2019,Laos,4.796,105.0,0.4451145958986731,0.43050193050193053,0.8647342995169083,0.44547134935304994,0.35634743875278396\\r\\n105,2019,South Africa,4.7219999999999995,106.0,0.5633293124246079,0.3513513513513513,0.6103059581320451,0.19408502772643255,0.11358574610244991\\r\\n106,2019,Albania,4.718999999999999,107.0,0.5554885404101326,0.7422779922779924,0.6006441223832527,0.2828096118299446,0.05122494432071271\\r\\n107,2019,Venezuela,4.707,108.0,0.5633293124246079,0.6756756756756758,0.23188405797101447,0.07208872458410351,0.0957683741648107\\r\\n108,2019,Cambodia,4.7,109.0,0.3305186972255729,0.5135135135135135,0.964573268921095,0.3826247689463955,0.1291759465478842\\r\\n109,2019,Palestinian Territories,4.696000000000001,110.0,0.3805790108564535,0.5472972972972974,0.3462157809983897,0.14417744916820704,0.1380846325167038\\r\\n110,2019,Senegal,4.681,111.0,0.255729794933655,0.44980694980694985,0.4541062801932367,0.2365988909426987,0.15144766146993321\\r\\n111,2019,Somalia,4.668,112.0,0.5302457393832546,0.15733590733590735,0.8840579710144927,0.4029574861367837,0.5924276169265035\\r\\n112,2019,Namibia,4.638999999999999,113.0,0.5144752714113389,0.35907335907335913,0.6296296296296297,0.08317929759704251,0.11581291759465479\\r\\n113,2019,Niger,4.628,114.0,0.06755126658624849,0.2519305019305019,0.49597423510466987,0.30129390018484287,0.2182628062360802\\r\\n114,2019,Burkina Faso,4.587,115.0,0.18395657418576597,0.26544401544401547,0.394524959742351,0.28096118299445466,0.2427616926503341\\r\\n115,2019,Armenia,4.559,116.0,0.49698431845597096,0.6853281853281853,0.4396135265700483,0.12939001848428835,0.133630289532294\\r\\n116,2019,Iran,4.548,117.0,0.6477683956574186,0.6563706563706564,0.4750402576489533,0.45286506469500926,0.2694877505567929\\r\\n117,2019,Guinea,4.534,118.0,0.21351025331724968,0.26061776061776065,0.5185185185185185,0.3364140480591497,0.18262806236080179\\r\\n118,2019,Georgia,4.519,119.0,0.5186972255729794,0.6245173745173745,0.5410628019323672,0.033271719038816996,0.35634743875278396\\r\\n119,2019,Gambia,4.516,120.0,0.17008443908323279,0.31177606177606176,0.5990338164251208,0.45101663585951934,0.36302895322939865\\r\\n120,2019,Kenya,4.5089999999999995,121.0,0.29312424607961396,0.45945945945945943,0.677938808373591,0.6414048059149723,0.10913140311804011\\r\\n121,2019,Mauritania,4.49,122.0,0.32810615199034976,0.37065637065637064,0.09017713365539452,0.1497227356746765,0.18708240534521162\\r\\n122,2019,Mozambique,4.466,123.0,0.10735826296743063,0.2750965250965251,0.7793880837359098,0.31792975970425136,0.2984409799554566\\r\\n123,2019,Tunisia,4.461,124.0,0.539806996381182,0.6853281853281853,0.25281803542673104,0.06284658040665435,0.11358574610244991\\r\\n124,2019,Bangladesh,4.456,125.0,0.3232810615199035,0.5965250965250966,0.8325281803542673,0.26062846580406657,0.3095768374164811\\r\\n125,2019,Iraq,4.437,126.0,0.6133896260554884,0.4527027027027027,0.37198067632850246,0.22735674676524958,0.1893095768374165\\r\\n126,2019,Congo (Kinshasa),4.418,127.0,0.04101326899879373,0.24324324324324328,0.4170692431561996,0.3456561922365989,0.10913140311804011\\r\\n127,2019,Mali,4.39,128.0,0.21652593486127863,0.19594594594594594,0.5104669887278583,0.2365988909426987,0.1069042316258352\\r\\n128,2019,Sierra Leone,4.374,129.0,0.14595898673100122,0.13223938223938225,0.48148148148148145,0.4195933456561922,0.09131403118040089\\r\\n129,2019,Sri Lanka,4.3660000000000005,130.0,0.5566948130277443,0.7007722007722007,0.7407407407407407,0.40480591497227353,0.0957683741648107\\r\\n130,2019,Myanmar,4.36,131.0,0.4125452352231604,0.43436293436293444,0.8293075684380032,1.0,0.3741648106904232\\r\\n131,2019,Chad,4.35,132.0,0.19541616405307596,0.08397683397683398,0.26409017713365535,0.3197781885397412,0.1648106904231626\\r\\n132,2019,Ukraine,4.332,133.0,0.47889022919179725,0.6119691119691121,0.2705314009661836,0.29944547134935307,0.0133630289532294\\r\\n133,2019,Ethiopia,4.2860000000000005,134.0,0.18697225572979492,0.41216216216216217,0.537842190016103,0.34011090573012936,0.2138084632516704\\r\\n134,2019,Swaziland,4.212,135.0,0.47346200241254516,0.5986907236907237,0.48792270531400966,0.09057301293900186,0.2917594654788419\\r\\n135,2019,Uganda,4.189,136.0,0.18455971049457176,0.3262548262548262,0.5571658615136876,0.4195933456561922,0.12472160356347439\\r\\n136,2019,Egypt,4.166,137.0,0.5349819059107357,0.5202702702702703,0.37198067632850246,0.0942698706099815,0.1403118040089087\\r\\n137,2019,Zambia,4.107,138.0,0.3329312424607961,0.30984555984555984,0.677938808373591,0.41035120147874304,0.18485523385300667\\r\\n138,2019,Togo,4.085,139.0,0.15018094089264175,0.29440154440154437,0.45571658615136873,0.28096118299445466,0.1804008908685969\\r\\n139,2019,India,4.015,140.0,0.43968636911942094,0.4662162162162162,0.7858293075684379,0.3234750462107209,0.1804008908685969\\r\\n140,2019,Liberia,3.975,141.0,0.028347406513872127,0.3262548262548262,0.5797101449275363,0.3844731977818854,0.0645879732739421\\r\\n141,2019,Comoros,3.9730000000000003,142.0,0.1495778045838359,0.3861003861003861,0.21256038647342992,0.4621072088724584,0.1648106904231626\\r\\n142,2019,Madagascar,3.9330000000000003,143.0,0.1495778045838359,0.43436293436293444,0.22222222222222224,0.266173752310536,0.08240534521158129\\r\\n143,2019,Lesotho,3.802,144.0,0.2792521109770808,0.06081081081081082,0.5619967793880837,0.15157116451016633,0.1982182628062361\\r\\n144,2019,Burundi,3.775,145.0,0.0120627261761158,0.26544401544401547,0.33816425120772947,0.2791127541589649,0.3919821826280624\\r\\n145,2019,Zimbabwe,3.6630000000000003,146.0,0.2050663449939686,0.3166023166023166,0.5652173913043478,0.23290203327171902,0.1893095768374165\\r\\n146,2019,Haiti,3.597,147.0,0.17913148371531962,0.33204633204633205,0.02576489533011272,0.7282809611829943,0.2360801781737194\\r\\n147,2019,Botswana,3.488,148.0,0.6121833534378769,0.4179536679536679,0.71658615136876,0.0,0.2138084632516704\\r\\n148,2019,Syria,3.4619999999999997,149.0,0.35765983112183347,0.3233590733590734,0.004830917874396137,0.565619223659889,0.3051224944320713\\r\\n149,2019,Malawi,3.41,150.0,0.09951749095295537,0.3764478764478765,0.6972624798711754,0.35674676524953786,0.1893095768374165\\r\\n150,2019,Yemen,3.38,151.0,0.15741857659831118,0.34555984555984554,0.214170692431562,0.15341959334565622,0.16258351893095768\\r\\n151,2019,Rwanda,3.3339999999999996,152.0,0.20084439083232808,0.49131274131274133,0.8776167471819647,0.35489833641404805,0.9064587973273943\\r\\n152,2019,Tanzania,3.2310000000000003,153.0,0.27141133896260555,0.3803088803088803,0.6553945249597424,0.46395563770794823,0.3184855233853007\\r\\n153,2019,Afghanistan,3.2030000000000003,154.0,0.19541616405307596,0.2471042471042471,0.6160555762005037,0.24584103512014788,0.046770601336302904\\r\\n154,2019,Central African Republic,3.083,155.0,0.0,0.0,0.3462157809983897,0.38817005545286504,0.0690423162583519\\r\\n155,2019,South Sudan,2.853,156.0,0.1688781664656212,0.1833976833976834,0.0,0.32717190388170053,0.19376391982182628\\r\\n0,2020,Finland,7.808700085,1.0,0.8363437903290737,0.8448403617177899,0.9553513210298761,0.2802151535278904,0.10373007103886248\\r\\n1,2020,Denmark,7.645599842,2.0,0.8635186811051853,0.8607139620349322,0.9592793472594566,0.4260925575717627,0.07108887818811273\\r\\n2,2020,Switzerland,7.559899807000001,3.0,0.9050535899578575,0.9145018479604898,0.9072283271160692,0.47218190586790054,0.23485591590771585\\r\\n3,2020,Iceland,7.504499912000001,4.0,0.863227850356228,0.8796193242110275,0.9548666930363151,0.635874879830472,0.7288990724190837\\r\\n4,2020,Norway,7.487999916000001,5.0,0.9268103903062062,0.8859722888903463,0.9667237319049371,0.5054021264594689,0.18580022385733563\\r\\n5,2020,Netherlands,7.448900223,6.0,0.8713263254691253,0.8574997003606751,0.8851185815310105,0.5902236658696961,0.30870990596150294\\r\\n6,2020,Sweden,7.353499889,7.0,0.8604514821452287,0.8669872638930534,0.9380145822819047,0.47880188326266937,0.1708595628785837\\r\\n7,2020,New Zealand,7.2996001239999995,8.0,0.8084448954684331,0.8860307079550545,0.9329547967462113,0.5716362713263833,0.13484442863584603\\r\\n8,2020,Austria,7.294199944,9.0,0.8572304037777962,0.8796985038744036,0.8703226591776466,0.44840927519630874,0.472475463905619\\r\\n9,2020,Luxembourg,7.2375001910000005,10.0,1.0,0.8669628823002049,0.8800852782481821,0.3438911678972212,0.3115764187764047\\r\\n10,2020,Canada,7.23210001,11.0,0.8470539818398624,0.8986545606018438,0.9289711245920341,0.49407182658115506,0.34034735571652563\\r\\n11,2020,Australia,7.222799778,12.0,0.85274732225764,0.8987474999798235,0.8970197229110951,0.570315529901701,0.36980452461287316\\r\\n12,2020,United Kingdom,7.164500237,13.0,0.8284511284698667,0.8575214263257573,0.7575236019015905,0.6553605249726897,0.39492776653969164\\r\\n13,2020,Israel,7.128600121,14.0,0.7916201183089403,0.8859556321272709,0.6068332365564718,0.4683315933904215,0.8126302938078004\\r\\n14,2020,Costa Rica,7.121399879,15.0,0.6384609765442019,0.8258249202428176,0.930398626592125,0.23036705916728983,0.8192630883247666\\r\\n15,2020,Ireland,7.093699932000001,16.0,0.941569146728381,0.8574955965250826,0.8478365865683748,0.5184623840060257,0.2995879086832921\\r\\n16,2020,Germany,7.075799942000001,17.0,0.8552124685905035,0.8543704121303284,0.8139309094204624,0.4423159494699598,0.4197595544537932\\r\\n17,2020,United States,6.939599991000001,18.0,0.8941291201519186,0.7308908645886883,0.7711396411734955,0.5232289769294111,0.7143744802288602\\r\\n18,2020,Czech Republic,6.9109001160000005,19.0,0.7889251149389108,0.7862130990202977,0.7295055841014677,0.08130012249443702,0.9065889895297142\\r\\n19,2020,Belgium,6.863500117999999,20.0,0.8432764374231513,0.8480304832199049,0.7209387170638889,0.257919635539979,0.6085168105183625\\r\\n20,2020,United Arab Emirates,6.790800095,21.0,0.9312869309329969,0.692392869908966,0.9418202936276753,0.4925398316188945,0.5869671367827008\\r\\n21,2020,Malta,6.772799968999999,22.0,0.8150795940791444,0.8543064407057919,0.9134085360046154,0.5987584956557245,0.6645222318151178\\r\\n22,2020,France,6.663799762999999,23.0,0.8252417825651875,0.9049932824087372,0.7414868966208725,0.19762194024898724,0.5736696429658253\\r\\n23,2020,Mexico,6.465000152999999,24.0,0.6666255042848522,0.7308758977705547,0.7989560996045902,0.14582744300587958,0.8440743422348312\\r\\n24,2020,Taiwan Province of China,6.45539999,25.0,0.8638583698871031,0.7720399310493227,0.6482383236236726,0.26429461640038643,0.7533277099120018\\r\\n25,2020,Uruguay,6.440100192999999,26.0,0.6969591530146314,0.7531360173974633,0.8571938221305674,0.23190680160146598,0.6372115995681807\\r\\n26,2020,Saudi Arabia,6.406499863,27.0,0.8683212539030458,0.6677875341721085,0.7911451800409309,0.1534548563824088,0.6936723921028971\\r\\n27,2020,Spain,6.4008998870000005,28.0,0.8007772822930821,0.9240024472617631,0.6144555802815261,0.29010441550523625,0.7944719736504833\\r\\n28,2020,Guatemala,6.398900032,29.0,0.4905495031684536,0.6204462765659673,0.8844266233262706,0.29941652738598257,0.815515246901848\\r\\n29,2020,Italy,6.38740015,30.0,0.8045911818139923,0.8986572159132004,0.46346359939917475,0.29881027000837984,0.9247028486094692\\r\\n30,2020,Singapore,6.377099991000001,31.0,0.9888747189186461,1.0,0.9164061582949024,0.3839340629622662,0.0\\r\\n31,2020,Brazil,6.375599861,32.0,0.6199614150340551,0.6733252856748223,0.6971201521613061,0.23108356161941232,0.8002135158604832\\r\\n32,2020,Slovenia,6.363399982000001,33.0,0.7865369083097853,0.8195960363140951,0.9328253694464014,0.25570022103253015,0.8564858513579716\\r\\n33,2020,El Salvador,6.34829998,34.0,0.4873768967942067,0.6615579259812678,0.7559012380287248,0.20872837823205714,0.7804976666120272\\r\\n34,2020,Kosovo,6.325200081,35.0,0.546947611968309,0.591229326616144,0.8038428705210308,0.5708652278326457,0.9839466786371381\\r\\n35,2020,Panama,6.304800033999999,36.0,0.7143130838084787,0.7721352846343623,0.836397814466246,0.17059487344548735,0.898285130086821\\r\\n36,2020,Slovakia,6.280600071,37.0,0.7775468951109624,0.7500919437153233,0.6109341754042011,0.2048560060615106,0.9788217535444148\\r\\n37,2020,Uzbekistan,6.257599831,38.0,0.4533505295349443,0.6298952159494815,1.0,0.6375960767619331,0.4743433583464475\\r\\n38,2020,Chile,6.228499889,39.0,0.7138735652214333,0.781551876490959,0.6021925407114371,0.27303484530476585,0.8821196436795566\\r\\n39,2020,Bahrain,6.227300167,40.0,0.8438292488012065,0.7372348973347043,0.8804644889646382,0.5044695977949342,0.7623664135100993\\r\\n40,2020,Lithuania,6.215499877999999,41.0,0.7767151770547417,0.6990782443220407,0.6064889586250656,0.09422559724306347,0.8474192863241906\\r\\n41,2020,Trinidad and Tobago,6.1918997760000005,42.0,0.7598488532216623,0.5790299785832339,0.7975692995028678,0.34986563405668225,0.9717189353480858\\r\\n42,2020,Poland,6.1862998010000005,43.0,0.7608819593943409,0.7628999858059495,0.8047416420160974,0.11121922713005285,0.6988885510458387\\r\\n43,2020,Colombia,6.163400172999999,44.0,0.6066364296985798,0.7119089780605731,0.7600066078735875,0.1621127775379621,0.9140067213872951\\r\\n44,2020,Cyprus,6.15899992,45.0,0.7892355663510385,0.9018384054820121,0.6626359714270287,0.4000119788102848,0.9039557932306953\\r\\n45,2020,Nicaragua,6.13710022,46.0,0.4034897903281172,0.7058210724334093,0.8079349473744926,0.3735807906736957,0.673486664488547\\r\\n46,2020,Romania,6.123700142000001,47.0,0.729107231243878,0.6963306118525588,0.7714917507151303,0.11965597566263612,0.9984440596694498\\r\\n47,2020,Kuwait,6.102099895,48.0,0.927217978926285,0.6824215375673245,0.8225671285649531,0.23297277365080882,0.7884041155157407\\r\\n48,2020,Mauritius,6.101299762999999,49.0,0.6986924110964017,0.67092623717717,0.8522477989453947,0.3279923283337603,0.842283966474691\\r\\n49,2020,Kazakhstan,6.0578999520000005,50.0,0.7305340778177489,0.6141502827435305,0.7175154113166275,0.2697614449865466,0.792814117718838\\r\\n50,2020,Estonia,6.0218000410000005,51.0,0.7759873287078766,0.7405558584179546,0.8318036950916667,0.21960989927089863,0.6215657952962292\\r\\n51,2020,Philippines,6.006000042,52.0,0.5044138354842533,0.5292511688827247,0.897074544182694,0.2268464036509867,0.7554482984197303\\r\\n52,2020,Hungary,6.000400066,53.0,0.7576789627749888,0.7090734754151187,0.557360953014922,0.12370925797626116,0.9483305993976651\\r\\n53,2020,Thailand,5.9987998010000005,54.0,0.6553296097583798,0.6977024968798567,0.8790939710053288,0.6611089738728099,0.9402848469483714\\r\\n54,2020,Argentina,5.974699974,55.0,0.6692793452058363,0.746847506984093,0.7512803269403023,0.12302348077905206,0.8866854061785361\\r\\n55,2020,Honduras,5.953199862999999,56.0,0.38964853992343895,0.6960626563847514,0.8195188082680555,0.4501965838881153,0.8371844482309798\\r\\n56,2020,Latvia,5.9499998089999995,57.0,0.7427690195425148,0.6836814122465068,0.4748490975345954,0.1323378803402696,0.8304615024491352\\r\\n57,2020,Ecuador,5.925199986,58.0,0.5553438435531479,0.7372361044382342,0.8008918264300317,0.20183169247855617,0.8372852085900004\\r\\n58,2020,Portugal,5.9109001160000005,59.0,0.7606032463411412,0.8606987537960927,0.8508876885564107,0.09307768885927853,0.9479830616518016\\r\\n59,2020,Jamaica,5.889800072000001,60.0,0.5069763104314141,0.6929374716735874,0.7978483503211822,0.2040464805555848,0.9434547597540419\\r\\n60,2020,South Korea,5.872399807000001,61.0,0.8103858909519883,0.8986902880186453,0.37410564761634524,0.2988763898934149,0.8225750474677344\\r\\n61,2020,Japan,5.870800018,62.0,0.8243273563947987,0.9429319496100008,0.7146791616890202,0.0626727231399615,0.6596915047377737\\r\\n62,2020,Peru,5.796800137000001,63.0,0.5977506696268828,0.7245859391493582,0.7402740395213379,0.16077501837047464,0.9492974946306312\\r\\n63,2020,Serbia,5.77820015,64.0,0.6430644679846989,0.7280655009800663,0.5703812816327793,0.263740369803908,0.8885008267149629\\r\\n64,2020,Bolivia,5.747499942999999,65.0,0.4756866866390404,0.5822089956821015,0.8286298650289057,0.24284261297721327,0.8631886591149808\\r\\n65,2020,Pakistan,5.69329977,66.0,0.4013854909435837,0.41301402989411606,0.5847960345027139,0.4013680754023105,0.7700660002148605\\r\\n66,2020,Paraguay,5.6921000479999995,67.0,0.5843722113284101,0.6467397331422148,0.8460048334450848,0.35853685068651153,0.8779407552823493\\r\\n67,2020,Dominican Republic,5.6891999239999995,68.0,0.6398172302793496,0.6520411527583307,0.8119110973794191,0.19690079395639531,0.7825320757563481\\r\\n68,2020,Bosnia and Herzegovina,5.674099922000001,69.0,0.5976506482137165,0.7153436394368808,0.44047136446146223,0.4633184730090109,0.9978008816720324\\r\\n69,2020,Moldova,5.607500076,70.0,0.4606805698862038,0.6269032853429226,0.5619330194049373,0.305449255694918,0.9730312031562357\\r\\n70,2020,Tajikistan,5.555699825,71.0,0.30902713673193444,0.5981598442969717,0.7517142551984203,0.320134664734583,0.5840292036090033\\r\\n71,2020,Montenegro,5.54610014,72.0,0.6573604318972825,0.7374041199604072,0.4373818253453448,0.2615070841298881,0.8153749334276618\\r\\n72,2020,Russia,5.546000004,73.0,0.7334008487183685,0.5980290047158365,0.5762536926798592,0.17381453822703682,0.9142861943045385\\r\\n73,2020,Kyrgyzstan,5.541500092000001,74.0,0.33395519816440494,0.5982047450677825,0.8865484537601565,0.5288934223419084,0.9428566204552239\\r\\n74,2020,Belarus,5.539899826,75.0,0.6630249211867378,0.6614336041263753,0.419397543822739,0.15782886198060544,0.6368695486166964\\r\\n75,2020,North Cyprus,5.53550005,76.0,0.7892355663510385,0.9018384054820121,0.6893208762830524,0.34951780216476114,0.6252493270327416\\r\\n76,2020,Greece,5.514999866,77.0,0.7340975375642753,0.8608011079487874,0.25028670046894513,0.0,0.9083874483515368\\r\\n77,2020,Hong Kong S.A.R. of China,5.510399818,78.0,0.8959246992525318,0.9989598007607502,0.6625936202226659,0.5059212639506333,0.37638975439878036\\r\\n78,2020,Croatia,5.504700184,79.0,0.7217033292207546,0.7914961719283958,0.5502281817437494,0.20006357430370098,0.9768831980076634\\r\\n79,2020,Libya,5.488800049,80.0,0.665015734558681,0.5410607740357333,0.6510505649574074,0.25053395837592196,0.6769124488822942\\r\\n80,2020,Mongolia,5.4562001229999995,81.0,0.5888506759016024,0.5412027180201158,0.5130799413481202,0.46310874923442646,0.9127223864606172\\r\\n81,2020,Malaysia,5.384300232,82.0,0.7603564612379811,0.6930057883544225,0.861051571327966,0.4824140912639494,0.8834067213979512\\r\\n82,2020,Vietnam,5.353499889,83.0,0.4673023807385344,0.7199189228394851,0.9387904182423727,0.2395321478248144,0.831480078417154\\r\\n83,2020,Indonesia,5.285600185,84.0,0.5802919092682519,0.5364997331891448,0.8195380778326484,0.9523225870976625,0.9282045629233161\\r\\n84,2020,Ivory Coast,5.233300208999999,85.0,0.3495170115089754,0.13617557928415097,0.5728249255514253,0.2981949327097593,0.8246391211456928\\r\\n85,2020,Benin,5.21600008,86.0,0.23833566081265192,0.28832735414243493,0.5853991653049072,0.3451486087041767,0.7638019616320423\\r\\n86,2020,Maldives,5.197599888,87.0,0.6103201077574081,0.8036809147996167,0.7907502023740814,0.39345883859458003,0.8651320511683405\\r\\n87,2020,Congo (Brazzaville),5.1943998339999995,88.0,0.4123293865775718,0.4026150547858272,0.5575233543328081,0.20570933989402493,0.7774208634112638\\r\\n88,2020,Azerbaijan,5.164800167,89.0,0.6444251456469228,0.6425777290816853,0.6746786989843487,0.07039706058199562,0.5361502285415154\\r\\n89,2020,Macedonia,5.1598000530000006,90.0,0.6086982199320947,0.7057339265195542,0.5917238475205958,0.3261829854836252,0.9538694644366043\\r\\n90,2020,Ghana,5.1479997630000005,91.0,0.37474552221225704,0.37981793735551167,0.6884616743012102,0.4585554247716525,0.8938964925964219\\r\\n91,2020,Nepal,5.137199879,92.0,0.28896810482441454,0.5878634647620835,0.6932479758585307,0.5281932725687098,0.7608552236731024\\r\\n92,2020,Turkey,5.131800175,93.0,0.7335112573041631,0.6866984487080321,0.36695752258569414,0.15072568723967036,0.773083617239926\\r\\n93,2020,China,5.123899937,94.0,0.6445947976230723,0.7622057149107632,0.8677785458998809,0.13867872937946082,0.7800752815314036\\r\\n94,2020,Turkmenistan,5.119100093999999,95.0,0.6565883424644207,0.5382671545604689,0.7431973652443918,0.5670788647873956,0.9371600454980347\\r\\n95,2020,Bulgaria,5.101500034,96.0,0.681050918991817,0.6835710918433336,0.6026798466661999,0.18222394253627078,1.0\\r\\n96,2020,Morocco,5.094799995,97.0,0.4936772922207383,0.6548493767624649,0.649175530517988,0.07025549831088809,0.8548554221325501\\r\\n97,2020,Cameroon,5.084899902,98.0,0.32795332846566777,0.23746368585257116,0.6335803811034074,0.34751726099311164,0.8979796000427939\\r\\n98,2020,Venezuela,5.053199768,99.0,0.50123680518293,0.674121911039113,0.3919354631612302,0.15299587293273706,0.880665258088321\\r\\n99,2020,Algeria,5.005099773,100.0,0.6142192167850099,0.6551320582605192,0.12108378580086838,0.2086910209090502,0.7576897865222603\\r\\n100,2020,Senegal,4.980800152,101.0,0.3280208430708245,0.455603298062883,0.508316723159402,0.28851030496926766,0.8464521016752333\\r\\n101,2020,Guinea,4.949299812,102.0,0.2537995685001893,0.29324228958356546,0.5364113040258771,0.43784630814990255,0.7895489301375809\\r\\n102,2020,Niger,4.909599781,103.0,0.07049653006847377,0.2626231586809133,0.6279103540783532,0.36534197931235585,0.7420020459942607\\r\\n103,2020,Laos,4.888599873,104.0,0.46509075059838667,0.42746722341896987,0.8828118870614245,0.47851967564971465,0.6356194253242733\\r\\n104,2020,Albania,4.882699966000001,105.0,0.590009194577975,0.7438205729064409,0.6663286413453399,0.30014679306237074,0.9524323287650187\\r\\n105,2020,Cambodia,4.8484001160000005,106.0,0.3544240298487715,0.5166962363103302,0.9735601415601756,0.4095058910679612,0.8633858494916622\\r\\n106,2020,Bangladesh,4.832799911,107.0,0.3619216064200465,0.6107680058635099,0.8714213390069137,0.3101805097003392,0.6685138184171714\\r\\n107,2020,Gabon,4.829299927,108.0,0.6429750257555845,0.4592796022649113,0.5329232846287106,0.09128175871108421,0.8953329065444473\\r\\n108,2020,South Africa,4.814099789,109.0,0.5870726004978704,0.3577333166598428,0.6271461618032907,0.22183890439414336,0.8883976844260053\\r\\n109,2020,Iraq,4.7848000530000006,110.0,0.6390537964875235,0.4652347369452919,0.4090583799328117,0.26851241903672773,0.8627716143043227\\r\\n110,2020,Lebanon,4.771500111,111.0,0.5786727144435,0.6931458012895665,0.2675964417720323,0.27820342117658414,0.9596405270777191\\r\\n111,2020,Burkina Faso,4.768700123,112.0,0.19683239471658087,0.2749428452852719,0.4650395908037941,0.3271079639901359,0.7629088311484963\\r\\n112,2020,Gambia,4.750599861,113.0,0.16723794358034236,0.3104618242587726,0.5819079527545199,0.747594583200235,0.7034789974593249\\r\\n113,2020,Mali,4.729300021999999,114.0,0.22936690218933847,0.20652011115023233,0.5445703135961203,0.2977587877626914,0.8834383355539573\\r\\n114,2020,Nigeria,4.724100113,115.0,0.42032399298957657,0.147507329960579,0.6275754533332336,0.3884218896590983,0.9107402344614408\\r\\n115,2020,Armenia,4.676799774,116.0,0.5259809807839751,0.6818839363703575,0.5453511994756786,0.18817682255600393,0.8037779523110937\\r\\n116,2020,Georgia,4.672599792,117.0,0.5513185535727708,0.6105193621537244,0.7002955278001256,0.08355315116430444,0.6734800963197732\\r\\n117,2020,Iran,4.672399998,118.0,0.6698369651388942,0.6583270075439348,0.4344560273921305,0.48608680615038685,0.7324425776755102\\r\\n118,2020,Jordan,4.6333999630000005,119.0,0.5109594760903912,0.6834373552137257,0.6128274472953421,0.1605696006814043,0.7151361746801967\\r\\n119,2020,Mozambique,4.623600006,120.0,0.11631687977469726,0.28495304319648324,0.8088841074151919,0.3868318426286242,0.6941562738433671\\r\\n120,2020,Kenya,4.583000183,121.0,0.3100285063609192,0.4713535422079569,0.7488861466420194,0.6912821294290663,0.8739575411579694\\r\\n121,2020,Namibia,4.571100235,122.0,0.5466877483055004,0.3575901655719302,0.64130680226055,0.13417450589824673,0.8981166669719057\\r\\n122,2020,Ukraine,4.56069994,123.0,0.5078718880181824,0.6140496185357781,0.4607491494633578,0.3133503225468712,0.9818982685401326\\r\\n123,2020,Liberia,4.557899952,124.0,0.1132984412284478,0.34477005371164254,0.5855480679003512,0.39831940167844787,0.9040819604387279\\r\\n124,2020,Palestinian Territories,4.552800179,125.0,0.38252642898538863,0.5394787488953663,0.43085754425643374,0.16113380930806256,0.8651186266257472\\r\\n125,2020,Uganda,4.43200016,126.0,0.20325522041895264,0.33248983607041416,0.5794024823358765,0.46472621709246653,0.8803012648031014\\r\\n126,2020,Chad,4.422699928,127.0,0.19671515802705497,0.09557280421667043,0.32974405507697274,0.36995436794753944,0.8391569998536743\\r\\n127,2020,Tunisia,4.392199993,128.0,0.5692433758792117,0.6865415379055158,0.3402143975738094,0.09806913837205486,0.9176618867238212\\r\\n128,2020,Mauritania,4.374599934,129.0,0.35120275926822214,0.37368561379894916,0.2678817768956845,0.2262136806771868,0.7706933705288022\\r\\n129,2020,Sri Lanka,4.327000141,130.0,0.5843697107426575,0.6961036944242657,0.7625199099024591,0.44341885519777796,0.9072616891691919\\r\\n130,2020,Congo (Kinshasa),4.31099987,131.0,0.04066404688767163,0.2436355992408217,0.5259463191802762,0.44632985837687494,0.8472010194398566\\r\\n131,2020,Swaziland,4.3081002239999995,132.0,0.538525798088289,0.18947366151561443,0.43263901083519535,0.11804704337140752,0.7247256696053103\\r\\n132,2020,Myanmar,4.308000088,133.0,0.4412711971357057,0.4354340779241613,0.8618266863653736,1.0,0.6482677505959947\\r\\n133,2020,Comoros,4.288599968,134.0,0.2704673892287966,0.38440661881627497,0.2611221360378393,0.4537241999421079,0.8123487998223999\\r\\n134,2020,Togo,4.187200069,135.0,0.1744780606654638,0.3012189208363257,0.4378364667430092,0.352350667882162,0.7846312995513783\\r\\n135,2020,Ethiopia,4.186200142,136.0,0.20506964971672773,0.4252418633554672,0.595102430105606,0.3996009112981541,0.779734889575351\\r\\n136,2020,Madagascar,4.165599823,137.0,0.15914427722414015,0.43998135905614627,0.2783438745913776,0.33553080305403976,0.8569879215009087\\r\\n137,2020,Egypt,4.151400089,138.0,0.5695597901335061,0.5246122760284383,0.5390173475335768,0.12074340269600257,0.8209516925863352\\r\\n138,2020,Sierra Leone,3.926399946,139.0,0.15654592921826774,0.17925066786356753,0.5510515225576075,0.4521600103167773,0.9100818990583189\\r\\n139,2020,Burundi,3.775300026,140.0,0.0,0.25945609111596873,0.397246269957482,0.3288825343292425,0.6020220189914339\\r\\n140,2020,Zambia,3.759399891,141.0,0.3493473595328259,0.31955421341997886,0.7086954605215798,0.4398294949844614,0.8373755039574017\\r\\n141,2020,Haiti,3.720799923,142.0,0.18529240909597344,0.32902270629863106,0.2442012938273052,0.8141425848282975,0.6962731810765613\\r\\n142,2020,Lesotho,3.6528000830000003,143.0,0.29605376545932455,0.08870939611314738,0.5904875993203124,0.18010734017298263,0.9053124506706186\\r\\n143,2020,India,3.573299885,144.0,0.4754262459334961,0.475095266042348,0.8382621301455293,0.4160525663520452,0.8019589958136014\\r\\n144,2020,Malawi,3.538000107,145.0,0.11488089732953785,0.3921231399831486,0.703029968223596,0.37413110840239383,0.7531071337544651\\r\\n145,2020,Yemen,3.5274000169999997,146.0,0.2555527344554955,0.3647345652285655,0.35155331750994223,0.16617536378190545,0.8361621921993726\\r\\n146,2020,Botswana,3.4788999560000002,147.0,0.6491602040413191,0.43425519372185495,0.7343303227868695,0.05862878189809308,0.8090893133728881\\r\\n147,2020,Tanzania,3.4762001039999997,148.0,0.2975012887591985,0.3890598750951347,0.7346962405119243,0.476543294983742,0.6176006981285278\\r\\n148,2020,Central African Republic,3.475899935,149.0,0.026727872045350713,0.0,0.4223669290953965,0.4449053716293923,0.9469866447767751\\r\\n149,2020,Rwanda,3.312299967,150.0,0.2233669560336178,0.5030551178093131,0.8713598202390623,0.4136527013268179,0.08931569548161866\\r\\n150,2020,Zimbabwe,3.2992000580000003,151.0,0.2769380136742133,0.32961232970262105,0.5443831813324688,0.26561168082266745,0.8482102117906507\\r\\n151,2020,South Sudan,2.8166000839999996,152.0,0.1881222494631999,0.18351768170455793,0.09463733013706357,0.3684267278189308,0.7915141204221531\\r\\n152,2020,Afghanistan,2.566900015,153.0,0.19568589773025363,0.23382685061367312,0.0,0.2373314386742779,0.9977009144823605\\r\\n'"
      ]
     },
     "execution_count": 15,
     "metadata": {},
     "output_type": "execute_result"
    }
   ],
   "source": [
    "df.to_csv()"
   ]
  },
  {
   "cell_type": "code",
   "execution_count": 16,
   "metadata": {},
   "outputs": [
    {
     "data": {
      "text/html": [
       "<div>\n",
       "<style scoped>\n",
       "    .dataframe tbody tr th:only-of-type {\n",
       "        vertical-align: middle;\n",
       "    }\n",
       "\n",
       "    .dataframe tbody tr th {\n",
       "        vertical-align: top;\n",
       "    }\n",
       "\n",
       "    .dataframe thead th {\n",
       "        text-align: right;\n",
       "    }\n",
       "</style>\n",
       "<table border=\"1\" class=\"dataframe\">\n",
       "  <thead>\n",
       "    <tr style=\"text-align: right;\">\n",
       "      <th></th>\n",
       "      <th>Year</th>\n",
       "      <th>Country</th>\n",
       "      <th>Happiness_Score</th>\n",
       "      <th>Happiness_Rank</th>\n",
       "      <th>GDP_per_capita</th>\n",
       "      <th>Healthy_life_expectancy</th>\n",
       "      <th>Freedom</th>\n",
       "      <th>Generosity</th>\n",
       "      <th>Perceptions_of_corruption</th>\n",
       "    </tr>\n",
       "  </thead>\n",
       "  <tbody>\n",
       "    <tr>\n",
       "      <th>0</th>\n",
       "      <td>2015</td>\n",
       "      <td>Switzerland</td>\n",
       "      <td>7.5870</td>\n",
       "      <td>1.0</td>\n",
       "      <td>0.824544</td>\n",
       "      <td>0.914250</td>\n",
       "      <td>0.992982</td>\n",
       "      <td>0.371323</td>\n",
       "      <td>0.759606</td>\n",
       "    </tr>\n",
       "    <tr>\n",
       "      <th>1</th>\n",
       "      <td>2016</td>\n",
       "      <td>Switzerland</td>\n",
       "      <td>7.5090</td>\n",
       "      <td>2.0</td>\n",
       "      <td>0.832015</td>\n",
       "      <td>0.901873</td>\n",
       "      <td>0.961981</td>\n",
       "      <td>0.325945</td>\n",
       "      <td>0.814379</td>\n",
       "    </tr>\n",
       "    <tr>\n",
       "      <th>3</th>\n",
       "      <td>2017</td>\n",
       "      <td>Switzerland</td>\n",
       "      <td>7.4940</td>\n",
       "      <td>4.0</td>\n",
       "      <td>0.834542</td>\n",
       "      <td>0.903212</td>\n",
       "      <td>0.940648</td>\n",
       "      <td>0.338665</td>\n",
       "      <td>0.788440</td>\n",
       "    </tr>\n",
       "    <tr>\n",
       "      <th>4</th>\n",
       "      <td>2018</td>\n",
       "      <td>Switzerland</td>\n",
       "      <td>7.4870</td>\n",
       "      <td>5.0</td>\n",
       "      <td>0.673745</td>\n",
       "      <td>0.899020</td>\n",
       "      <td>0.909605</td>\n",
       "      <td>0.402098</td>\n",
       "      <td>0.780702</td>\n",
       "    </tr>\n",
       "    <tr>\n",
       "      <th>5</th>\n",
       "      <td>2019</td>\n",
       "      <td>Switzerland</td>\n",
       "      <td>7.4800</td>\n",
       "      <td>6.0</td>\n",
       "      <td>0.860072</td>\n",
       "      <td>0.914093</td>\n",
       "      <td>0.904992</td>\n",
       "      <td>0.439926</td>\n",
       "      <td>0.755011</td>\n",
       "    </tr>\n",
       "    <tr>\n",
       "      <th>2</th>\n",
       "      <td>2020</td>\n",
       "      <td>Switzerland</td>\n",
       "      <td>7.5599</td>\n",
       "      <td>3.0</td>\n",
       "      <td>0.905054</td>\n",
       "      <td>0.914502</td>\n",
       "      <td>0.907228</td>\n",
       "      <td>0.472182</td>\n",
       "      <td>0.234856</td>\n",
       "    </tr>\n",
       "  </tbody>\n",
       "</table>\n",
       "</div>"
      ],
      "text/plain": [
       "   Year      Country  Happiness_Score  Happiness_Rank  GDP_per_capita  \\\n",
       "0  2015  Switzerland           7.5870             1.0        0.824544   \n",
       "1  2016  Switzerland           7.5090             2.0        0.832015   \n",
       "3  2017  Switzerland           7.4940             4.0        0.834542   \n",
       "4  2018  Switzerland           7.4870             5.0        0.673745   \n",
       "5  2019  Switzerland           7.4800             6.0        0.860072   \n",
       "2  2020  Switzerland           7.5599             3.0        0.905054   \n",
       "\n",
       "   Healthy_life_expectancy   Freedom  Generosity  Perceptions_of_corruption  \n",
       "0                 0.914250  0.992982    0.371323                   0.759606  \n",
       "1                 0.901873  0.961981    0.325945                   0.814379  \n",
       "3                 0.903212  0.940648    0.338665                   0.788440  \n",
       "4                 0.899020  0.909605    0.402098                   0.780702  \n",
       "5                 0.914093  0.904992    0.439926                   0.755011  \n",
       "2                 0.914502  0.907228    0.472182                   0.234856  "
      ]
     },
     "execution_count": 16,
     "metadata": {},
     "output_type": "execute_result"
    }
   ],
   "source": [
    "df.loc[df['Country']==\"Switzerland\"]"
   ]
  },
  {
   "cell_type": "markdown",
   "metadata": {},
   "source": [
    "## What affects a country's happiness score?\n",
    "\n",
    "We evaluate the signifance of each feature for the given dataframe to determine what factors affect a country's happiness score. Additionally, we examine if any features are more correlated than others."
   ]
  },
  {
   "cell_type": "code",
   "execution_count": 17,
   "metadata": {},
   "outputs": [
    {
     "name": "stdout",
     "output_type": "stream",
     "text": [
      "                            OLS Regression Results                            \n",
      "==============================================================================\n",
      "Dep. Variable:        Happiness_Score   R-squared:                       0.732\n",
      "Model:                            OLS   Adj. R-squared:                  0.730\n",
      "Method:                 Least Squares   F-statistic:                     506.5\n",
      "Date:                Thu, 17 Dec 2020   Prob (F-statistic):          2.15e-262\n",
      "Time:                        07:23:17   Log-Likelihood:                -821.36\n",
      "No. Observations:                 935   AIC:                             1655.\n",
      "Df Residuals:                     929   BIC:                             1684.\n",
      "Df Model:                           5                                         \n",
      "Covariance Type:            nonrobust                                         \n",
      "=============================================================================================\n",
      "                                coef    std err          t      P>|t|      [0.025      0.975]\n",
      "---------------------------------------------------------------------------------------------\n",
      "Intercept                     2.5266      0.067     37.677      0.000       2.395       2.658\n",
      "GDP_per_capita                1.9729      0.146     13.493      0.000       1.686       2.260\n",
      "Healthy_life_expectancy       1.6134      0.138     11.698      0.000       1.343       1.884\n",
      "Freedom                       1.3565      0.098     13.840      0.000       1.164       1.549\n",
      "Generosity                    0.3108      0.122      2.541      0.011       0.071       0.551\n",
      "Perceptions_of_corruption    -0.0759      0.073     -1.039      0.299      -0.219       0.067\n",
      "==============================================================================\n",
      "Omnibus:                       29.084   Durbin-Watson:                   1.471\n",
      "Prob(Omnibus):                  0.000   Jarque-Bera (JB):               30.984\n",
      "Skew:                          -0.438   Prob(JB):                     1.87e-07\n",
      "Kurtosis:                       3.170   Cond. No.                         15.1\n",
      "==============================================================================\n",
      "\n",
      "Notes:\n",
      "[1] Standard Errors assume that the covariance matrix of the errors is correctly specified.\n"
     ]
    }
   ],
   "source": [
    "mod = smf.ols(formula='Happiness_Score ~ GDP_per_capita + Healthy_life_expectancy + Freedom + Generosity + Perceptions_of_corruption', data=df)\n",
    "np.random.seed(2)\n",
    "res = mod.fit()\n",
    "print(res.summary())\n"
   ]
  },
  {
   "cell_type": "markdown",
   "metadata": {},
   "source": [
    "We observe at the 95% significance level that `Perceptions_of_corruption` is not deemed significant."
   ]
  },
  {
   "cell_type": "code",
   "execution_count": 18,
   "metadata": {},
   "outputs": [
    {
     "data": {
      "text/html": [
       "<div>\n",
       "<style scoped>\n",
       "    .dataframe tbody tr th:only-of-type {\n",
       "        vertical-align: middle;\n",
       "    }\n",
       "\n",
       "    .dataframe tbody tr th {\n",
       "        vertical-align: top;\n",
       "    }\n",
       "\n",
       "    .dataframe thead th {\n",
       "        text-align: right;\n",
       "    }\n",
       "</style>\n",
       "<table border=\"1\" class=\"dataframe\">\n",
       "  <thead>\n",
       "    <tr style=\"text-align: right;\">\n",
       "      <th></th>\n",
       "      <th>GDP_per_capita</th>\n",
       "      <th>Healthy_life_expectancy</th>\n",
       "      <th>Freedom</th>\n",
       "      <th>Generosity</th>\n",
       "      <th>Perceptions_of_corruption</th>\n",
       "    </tr>\n",
       "  </thead>\n",
       "  <tbody>\n",
       "    <tr>\n",
       "      <th>0</th>\n",
       "      <td>0.824544</td>\n",
       "      <td>0.914250</td>\n",
       "      <td>0.992982</td>\n",
       "      <td>0.371323</td>\n",
       "      <td>0.759606</td>\n",
       "    </tr>\n",
       "    <tr>\n",
       "      <th>1</th>\n",
       "      <td>0.768315</td>\n",
       "      <td>0.920807</td>\n",
       "      <td>0.930897</td>\n",
       "      <td>0.547066</td>\n",
       "      <td>0.253220</td>\n",
       "    </tr>\n",
       "    <tr>\n",
       "      <th>2</th>\n",
       "      <td>0.782141</td>\n",
       "      <td>0.845922</td>\n",
       "      <td>0.965668</td>\n",
       "      <td>0.427515</td>\n",
       "      <td>0.875664</td>\n",
       "    </tr>\n",
       "    <tr>\n",
       "      <th>3</th>\n",
       "      <td>0.861849</td>\n",
       "      <td>0.856735</td>\n",
       "      <td>1.000000</td>\n",
       "      <td>0.434569</td>\n",
       "      <td>0.659996</td>\n",
       "    </tr>\n",
       "    <tr>\n",
       "      <th>4</th>\n",
       "      <td>0.782625</td>\n",
       "      <td>0.877625</td>\n",
       "      <td>0.937983</td>\n",
       "      <td>0.574538</td>\n",
       "      <td>0.595481</td>\n",
       "    </tr>\n",
       "  </tbody>\n",
       "</table>\n",
       "</div>"
      ],
      "text/plain": [
       "   GDP_per_capita  Healthy_life_expectancy   Freedom  Generosity  \\\n",
       "0        0.824544                 0.914250  0.992982    0.371323   \n",
       "1        0.768315                 0.920807  0.930897    0.547066   \n",
       "2        0.782141                 0.845922  0.965668    0.427515   \n",
       "3        0.861849                 0.856735  1.000000    0.434569   \n",
       "4        0.782625                 0.877625  0.937983    0.574538   \n",
       "\n",
       "   Perceptions_of_corruption  \n",
       "0                   0.759606  \n",
       "1                   0.253220  \n",
       "2                   0.875664  \n",
       "3                   0.659996  \n",
       "4                   0.595481  "
      ]
     },
     "execution_count": 18,
     "metadata": {},
     "output_type": "execute_result"
    }
   ],
   "source": [
    "# create dataframe of features\n",
    "features = df.iloc[:, 4:]\n",
    "features.head()"
   ]
  },
  {
   "cell_type": "code",
   "execution_count": 19,
   "metadata": {},
   "outputs": [
    {
     "name": "stderr",
     "output_type": "stream",
     "text": [
      "C:\\Users\\dalon\\anaconda3\\lib\\site-packages\\ipykernel_launcher.py:13: UserWarning: FixedFormatter should only be used together with FixedLocator\n",
      "  del sys.path[0]\n",
      "C:\\Users\\dalon\\anaconda3\\lib\\site-packages\\ipykernel_launcher.py:14: UserWarning: FixedFormatter should only be used together with FixedLocator\n",
      "  \n"
     ]
    },
    {
     "data": {
      "text/plain": [
       "Text(0, 0.5, 'Features')"
      ]
     },
     "execution_count": 19,
     "metadata": {},
     "output_type": "execute_result"
    },
    {
     "data": {
      "image/png": "[encoded data removed]",
      "text/plain": [
       "<Figure size 432x288 with 2 Axes>"
      ]
     },
     "metadata": {
      "needs_background": "light"
     },
     "output_type": "display_data"
    }
   ],
   "source": [
    "# Create correlation matrix\n",
    "corr_matrix = features.corr().abs()\n",
    "\n",
    "# Select upper triangle of correlation matrix\n",
    "upper = corr_matrix.where(np.triu(np.ones(corr_matrix.shape), k=1).astype(np.bool))\n",
    "\n",
    "fig, ax = plt.subplots(1,1)\n",
    "\n",
    "plt.imshow(upper, cmap='viridis', vmax=1, vmin=0)\n",
    "plt.colorbar()\n",
    "plt.title('Correlation Heatmap')\n",
    "feat = ['_','GDP', 'Health', 'Freedom', 'Generosity', 'Corruption']\n",
    "ax.set_xticklabels(feat, rotation=90)\n",
    "ax.set_yticklabels(feat)\n",
    "plt.xlabel('Features')\n",
    "plt.ylabel('Features')"
   ]
  },
  {
   "cell_type": "markdown",
   "metadata": {},
   "source": [
    "We notice that from the correlation heatmap that there exists a strong correlation between `GDP_per_capita` and `Healthy_life_expectancy`. This observation is expected as wealthier countries tend to have a better environment and infrastructure that supports healthy living. Some examples of this include better hospital facilities, access to better nutrition, and programs that promote an active lifestyle."
   ]
  },
  {
   "cell_type": "markdown",
   "metadata": {},
   "source": [
    "## Are countries in specific geographic regions happier?\n",
    "\n",
    "We now shift gears and try to analyze the impacts geographic location has on a country's happiness score. Specifically, we evaluate the `y2020` dataset to determine if neighbouring countries or countries belonging to the same continent are similar in their happiness score. We apply an unsupervised K-means clustering approach to label countries into corresponding continents. As such, we use a cluster size of 7 to resemble the number of continents around the world.\n",
    "\n",
    "While one approach may be to consider all features in the dataset and then applying a dimensionality reduction method such as t-SNE or PCA, we decide to apply K-means on just the `Happiness_Score`. The analysis is thus performed in one dimension, in which the data points are plotted linearly."
   ]
  },
  {
   "cell_type": "code",
   "execution_count": 20,
   "metadata": {},
   "outputs": [],
   "source": [
    "# function taken from tutorial 8\n",
    "\n",
    "def plot_sse(features_X, start=2, end=11):\n",
    "    sse = []\n",
    "    for k in range(start, end):\n",
    "        # Assign the labels to the clusters\n",
    "        kmeans = KMeans(n_clusters=k, random_state=10).fit(features_X)\n",
    "        sse.append({\"k\": k, \"sse\": kmeans.inertia_})\n",
    "\n",
    "    sse = pd.DataFrame(sse)\n",
    "    # Plot the data\n",
    "    plt.plot(sse.k, sse.sse)\n",
    "    plt.xlabel(\"K\")\n",
    "    plt.ylabel(\"Sum of Squared Errors\")"
   ]
  },
  {
   "cell_type": "code",
   "execution_count": 21,
   "metadata": {},
   "outputs": [
    {
     "data": {
      "image/png": "[encoded data removed]",
      "text/plain": [
       "<Figure size 432x288 with 1 Axes>"
      ]
     },
     "metadata": {
      "needs_background": "light"
     },
     "output_type": "display_data"
    }
   ],
   "source": [
    "from sklearn.preprocessing import StandardScaler\n",
    "from sklearn.cluster import KMeans\n",
    "from sklearn.manifold import TSNE\n",
    "\n",
    "y2020_cluster = y2020.copy()\n",
    "y2020_cluster = y2020_cluster[['Happiness_Score']]\n",
    "\n",
    "y2020_scaled = StandardScaler().fit(y2020_cluster).transform(y2020_cluster)\n",
    "plot_sse(y2020_scaled)"
   ]
  },
  {
   "cell_type": "code",
   "execution_count": 22,
   "metadata": {},
   "outputs": [
    {
     "data": {
      "text/plain": [
       "Text(0.5, 1.0, 'K-means Clustering for Happiness Score')"
      ]
     },
     "execution_count": 22,
     "metadata": {},
     "output_type": "execute_result"
    },
    {
     "data": {
      "image/png": "[encoded data removed]",
      "text/plain": [
       "<Figure size 432x288 with 1 Axes>"
      ]
     },
     "metadata": {
      "needs_background": "light"
     },
     "output_type": "display_data"
    }
   ],
   "source": [
    "#y2020_reduced_tsne = TSNE(n_components=1, random_state=0).fit_transform(y2020_scaled)\n",
    "labels = KMeans(n_clusters=7, random_state=0).fit_predict(y2020_scaled)\n",
    "\n",
    "sns.scatterplot(x=y2020_scaled[:,0], y=y2020_scaled[:,0], hue=labels, data=y2020_scaled, legend='full')\n",
    "\n",
    "plt.title('K-means Clustering for Happiness Score')\n"
   ]
  },
  {
   "cell_type": "code",
   "execution_count": 23,
   "metadata": {},
   "outputs": [],
   "source": [
    "import pycountry_convert as pc\n",
    "\n",
    "# function to return continent from country name\n",
    "def country_to_continent(country_name):\n",
    "    country_alpha2 = pc.country_name_to_country_alpha2(country_name)\n",
    "    country_continent_code = pc.country_alpha2_to_continent_code(country_alpha2)\n",
    "    country_continent_name = pc.convert_continent_code_to_continent_name(country_continent_code)\n",
    "    return country_continent_name"
   ]
  },
  {
   "cell_type": "code",
   "execution_count": 24,
   "metadata": {},
   "outputs": [],
   "source": [
    "cluster_map = pd.DataFrame()\n",
    "cluster_map['cluster'] = labels\n",
    "cluster_map['country'] = y2020['Country']\n",
    "cluster_map['continent'] = \"\"\n",
    "\n",
    "country = cluster_map['country']"
   ]
  },
  {
   "cell_type": "code",
   "execution_count": 25,
   "metadata": {},
   "outputs": [
    {
     "name": "stderr",
     "output_type": "stream",
     "text": [
      "C:\\Users\\dalon\\anaconda3\\lib\\site-packages\\ipykernel_launcher.py:6: SettingWithCopyWarning: \n",
      "A value is trying to be set on a copy of a slice from a DataFrame\n",
      "\n",
      "See the caveats in the documentation: https://pandas.pydata.org/pandas-docs/stable/user_guide/indexing.html#returning-a-view-versus-a-copy\n",
      "  \n",
      "C:\\Users\\dalon\\anaconda3\\lib\\site-packages\\ipykernel_launcher.py:8: SettingWithCopyWarning: \n",
      "A value is trying to be set on a copy of a slice from a DataFrame\n",
      "\n",
      "See the caveats in the documentation: https://pandas.pydata.org/pandas-docs/stable/user_guide/indexing.html#returning-a-view-versus-a-copy\n",
      "  \n"
     ]
    }
   ],
   "source": [
    "# add continents label as ground truth\n",
    "\n",
    "for i in range(len(cluster_map)):\n",
    "    try:\n",
    "        continent = country_to_continent(country[i])\n",
    "        cluster_map['continent'][i] = continent\n",
    "    except KeyError:\n",
    "        cluster_map['continent'][i] = 'N/A'"
   ]
  },
  {
   "cell_type": "code",
   "execution_count": 26,
   "metadata": {},
   "outputs": [],
   "source": [
    "# create groups based on cluster\n",
    "for i in range(7):\n",
    "    globals()['cluster%s' % i] = cluster_map[cluster_map.cluster == i]"
   ]
  },
  {
   "cell_type": "code",
   "execution_count": 27,
   "metadata": {},
   "outputs": [
    {
     "data": {
      "image/png": "[encoded data removed]",
      "text/plain": [
       "<Figure size 576x720 with 7 Axes>"
      ]
     },
     "metadata": {},
     "output_type": "display_data"
    }
   ],
   "source": [
    "fig, ax = plt.subplots(4, 2, figsize=(8,10))\n",
    "\n",
    "count = 0\n",
    "for i in range(4):\n",
    "    for j in range(2):\n",
    "        if count == 7:\n",
    "            break\n",
    "        globals()['cluster%s' % (count)].continent.value_counts().plot(kind='pie', ax=ax[i][j], title=f\"Cluster {count}\", label='')\n",
    "        count += 1\n",
    "\n",
    "fig.delaxes(ax[3,1])\n"
   ]
  },
  {
   "cell_type": "markdown",
   "metadata": {},
   "source": [
    "We propose an unsupervised approach to learn geographic continents solely based on happiness scores from our dataset. From the above plots, we see that this approach performs fairly poorly in grouping countries based on this criteria. While we do see some countries that are more dominant in certain clusters (e.g. Europe within clusters 1, 5 and 6), there does not seem to be enough supporting evidence for such approach to work. As a result, we conclude that countries belonging to a specific continent do not necessarily share similar happiness scores."
   ]
  },
  {
   "cell_type": "markdown",
   "metadata": {},
   "source": [
    "## Trends in happiness\n",
    "\n",
    "We now evaluate the trends in happiness levels over the years from 2015 to 2020. We calculate the mean happiness scores for all countries belonging in each year to see if there exists an evident trend over time. We also look at specific countries that are selected at random from one of the seven clusters defined previously. Recall that each cluster is supposed to represent a grouping of countries with similar happiness scores. As a result, the analysis will be able to display trends in happiness of countries spanning the whole range (from very unhappy to very happy)."
   ]
  },
  {
   "cell_type": "code",
   "execution_count": 28,
   "metadata": {},
   "outputs": [],
   "source": [
    "# bootstrap function taken from tutorial 2\n",
    "\n",
    "def bootstrap_CI(data, nbr_draws):\n",
    "    means = np.zeros(nbr_draws)\n",
    "    data = np.array(data)\n",
    "\n",
    "    for n in range(nbr_draws):\n",
    "        indices = np.random.randint(0, len(data), len(data))\n",
    "        data_tmp = data[indices] \n",
    "        means[n] = np.nanmean(data_tmp)\n",
    "\n",
    "    return [np.nanpercentile(means, 2.5),np.nanpercentile(means, 97.5)]"
   ]
  },
  {
   "cell_type": "code",
   "execution_count": 29,
   "metadata": {},
   "outputs": [],
   "source": [
    "# calculate average happiness score with 95% CI\n",
    "stats_by_year = df.groupby(df['Year']).apply(lambda x: pd.Series({\n",
    "        'average_happiness': x['Happiness_Score'].mean(),\n",
    "        'lower_err_happiness': bootstrap_CI(x['Happiness_Score'], 1000)[0],\n",
    "        'upper_err_happiness': bootstrap_CI(x['Happiness_Score'], 1000)[1]\n",
    "    }))"
   ]
  },
  {
   "cell_type": "code",
   "execution_count": 30,
   "metadata": {},
   "outputs": [
    {
     "name": "stdout",
     "output_type": "stream",
     "text": [
      "['Lebanon', 'Brazil', 'Zimbabwe', 'Estonia', 'Nigeria', 'Austria', 'Croatia']\n"
     ]
    }
   ],
   "source": [
    "# sample random country from each cluster\n",
    "import random\n",
    "\n",
    "random.seed(0)\n",
    "rand_country = []\n",
    "\n",
    "for i in range(7):\n",
    "    num_countries = len(cluster_map[cluster_map.cluster == i])\n",
    "    sample = random.randint(0, num_countries-1)\n",
    "    rand_country.append(cluster_map[cluster_map.cluster == i]['country'].iloc[sample])\n",
    "    \n",
    "print(rand_country)"
   ]
  },
  {
   "cell_type": "code",
   "execution_count": 31,
   "metadata": {},
   "outputs": [
    {
     "data": {
      "text/plain": [
       "<matplotlib.legend.Legend at 0x1b85f5d7b88>"
      ]
     },
     "execution_count": 31,
     "metadata": {},
     "output_type": "execute_result"
    },
    {
     "data": {
      "image/png": "[encoded data removed]",
      "text/plain": [
       "<Figure size 432x288 with 1 Axes>"
      ]
     },
     "metadata": {
      "needs_background": "light"
     },
     "output_type": "display_data"
    }
   ],
   "source": [
    "plt.errorbar(stats_by_year.index, stats_by_year.average_happiness,\n",
    "             yerr = [-stats_by_year.lower_err_happiness + stats_by_year.average_happiness, \n",
    "                    -stats_by_year.average_happiness + stats_by_year.upper_err_happiness],\n",
    "             capsize= 3, label='All Countries')\n",
    "             \n",
    "for i in range(7):\n",
    "    x = df.loc[df['Country'] == rand_country[i]]['Year']\n",
    "    y = df.loc[df['Country'] == rand_country[i]]['Happiness_Score']\n",
    "    plt.plot(x, y, label=rand_country[i])\n",
    "\n",
    "plt.xlabel('Year')\n",
    "plt.ylabel('Average Happiness Score')\n",
    "plt.title('Trends in Happiness')\n",
    "plt.legend(bbox_to_anchor=(1.4, 1))"
   ]
  },
  {
   "cell_type": "markdown",
   "metadata": {},
   "source": [
    "The above plot reveals that the average happiness score for all countries experienced a very minimal increase over the years. There does not seem to be enough supporting evidence to explain this *tiny* increase, especially over such a short time period and after considering the error range.\n",
    "\n",
    "However, there are notable trends that exist between individual countries. While only some countries were sampled from the whole, it is expected that such trends would exist on an individual case by case basis. As such the displayed plots are by no means representative of the countries not displayed from the same cluster.\n",
    "\n",
    "Countries such as Brazil and Zimbabwe have been experiencing a sharp decline in happiness scores over the past five years. This may be as a result of numerous factors such as increased corruption, lack of government intervention or worsened social services. We notice that Brazil's happiness score was more or less constant from 2015 to 2016. The decline it experienced afterwards may be attributed by hosting the 2016 Summer Olympics as it incurred significant debt and had to make drastic cuts in other areas of spending such as healthcare. This is contrast to the trend Estonia has experienced over the years.\n",
    "\n"
   ]
  },
  {
   "cell_type": "markdown",
   "metadata": {},
   "source": [
    "### MAP"
   ]
  },
  {
   "cell_type": "code",
   "execution_count": 152,
   "metadata": {},
   "outputs": [
    {
     "data": {
      "application/vnd.plotly.v1+json": {
       "config": {
        "linkText": "Export to plot.ly",
        "plotlyServerURL": "https://plot.ly",
        "showLink": false
       },
       "data": [
        {
         "autocolorscale": true,
         "locationmode": "country names",
         "locations": [
          "Finland",
          "Denmark",
          "Switzerland",
          "Iceland",
          "Norway",
          "Netherlands",
          "Sweden",
          "New Zealand",
          "Austria",
          "Luxembourg",
          "Canada",
          "Australia",
          "United Kingdom",
          "Israel",
          "Costa Rica",
          "Ireland",
          "Germany",
          "United States",
          "Czech Republic",
          "Belgium",
          "United Arab Emirates",
          "Malta",
          "France",
          "Mexico",
          "Taiwan Province of China",
          "Uruguay",
          "Saudi Arabia",
          "Spain",
          "Guatemala",
          "Italy",
          "Singapore",
          "Brazil",
          "Slovenia",
          "El Salvador",
          "Kosovo",
          "Panama",
          "Slovakia",
          "Uzbekistan",
          "Chile",
          "Bahrain",
          "Lithuania",
          "Trinidad and Tobago",
          "Poland",
          "Colombia",
          "Cyprus",
          "Nicaragua",
          "Romania",
          "Kuwait",
          "Mauritius",
          "Kazakhstan",
          "Estonia",
          "Philippines",
          "Hungary",
          "Thailand",
          "Argentina",
          "Honduras",
          "Latvia",
          "Ecuador",
          "Portugal",
          "Jamaica",
          "South Korea",
          "Japan",
          "Peru",
          "Serbia",
          "Bolivia",
          "Pakistan",
          "Paraguay",
          "Dominican Republic",
          "Bosnia and Herzegovina",
          "Moldova",
          "Tajikistan",
          "Montenegro",
          "Russia",
          "Kyrgyzstan",
          "Belarus",
          "North Cyprus",
          "Greece",
          "Hong Kong S.A.R. of China",
          "Croatia",
          "Libya",
          "Mongolia",
          "Malaysia",
          "Vietnam",
          "Indonesia",
          "Ivory Coast",
          "Benin",
          "Maldives",
          "Congo (Brazzaville)",
          "Azerbaijan",
          "Macedonia",
          "Ghana",
          "Nepal",
          "Turkey",
          "China",
          "Turkmenistan",
          "Bulgaria",
          "Morocco",
          "Cameroon",
          "Venezuela",
          "Algeria",
          "Senegal",
          "Guinea",
          "Niger",
          "Laos",
          "Albania",
          "Cambodia",
          "Bangladesh",
          "Gabon",
          "South Africa",
          "Iraq",
          "Lebanon",
          "Burkina Faso",
          "Gambia",
          "Mali",
          "Nigeria",
          "Armenia",
          "Georgia",
          "Iran",
          "Jordan",
          "Mozambique",
          "Kenya",
          "Namibia",
          "Ukraine",
          "Liberia",
          "Palestinian Territories",
          "Uganda",
          "Chad",
          "Tunisia",
          "Mauritania",
          "Sri Lanka",
          "Congo (Kinshasa)",
          "Swaziland",
          "Myanmar",
          "Comoros",
          "Togo",
          "Ethiopia",
          "Madagascar",
          "Egypt",
          "Sierra Leone",
          "Burundi",
          "Zambia",
          "Haiti",
          "Lesotho",
          "India",
          "Malawi",
          "Yemen",
          "Botswana",
          "Tanzania",
          "Central African Republic",
          "Rwanda",
          "Zimbabwe",
          "South Sudan",
          "Afghanistan"
         ],
         "marker": {
          "line": {
           "color": "darkgray",
           "width": 0.5
          }
         },
         "reversescale": true,
         "text": [
          "Finland",
          "Denmark",
          "Switzerland",
          "Iceland",
          "Norway",
          "Netherlands",
          "Sweden",
          "New Zealand",
          "Austria",
          "Luxembourg",
          "Canada",
          "Australia",
          "United Kingdom",
          "Israel",
          "Costa Rica",
          "Ireland",
          "Germany",
          "United States",
          "Czech Republic",
          "Belgium",
          "United Arab Emirates",
          "Malta",
          "France",
          "Mexico",
          "Taiwan Province of China",
          "Uruguay",
          "Saudi Arabia",
          "Spain",
          "Guatemala",
          "Italy",
          "Singapore",
          "Brazil",
          "Slovenia",
          "El Salvador",
          "Kosovo",
          "Panama",
          "Slovakia",
          "Uzbekistan",
          "Chile",
          "Bahrain",
          "Lithuania",
          "Trinidad and Tobago",
          "Poland",
          "Colombia",
          "Cyprus",
          "Nicaragua",
          "Romania",
          "Kuwait",
          "Mauritius",
          "Kazakhstan",
          "Estonia",
          "Philippines",
          "Hungary",
          "Thailand",
          "Argentina",
          "Honduras",
          "Latvia",
          "Ecuador",
          "Portugal",
          "Jamaica",
          "South Korea",
          "Japan",
          "Peru",
          "Serbia",
          "Bolivia",
          "Pakistan",
          "Paraguay",
          "Dominican Republic",
          "Bosnia and Herzegovina",
          "Moldova",
          "Tajikistan",
          "Montenegro",
          "Russia",
          "Kyrgyzstan",
          "Belarus",
          "North Cyprus",
          "Greece",
          "Hong Kong S.A.R. of China",
          "Croatia",
          "Libya",
          "Mongolia",
          "Malaysia",
          "Vietnam",
          "Indonesia",
          "Ivory Coast",
          "Benin",
          "Maldives",
          "Congo (Brazzaville)",
          "Azerbaijan",
          "Macedonia",
          "Ghana",
          "Nepal",
          "Turkey",
          "China",
          "Turkmenistan",
          "Bulgaria",
          "Morocco",
          "Cameroon",
          "Venezuela",
          "Algeria",
          "Senegal",
          "Guinea",
          "Niger",
          "Laos",
          "Albania",
          "Cambodia",
          "Bangladesh",
          "Gabon",
          "South Africa",
          "Iraq",
          "Lebanon",
          "Burkina Faso",
          "Gambia",
          "Mali",
          "Nigeria",
          "Armenia",
          "Georgia",
          "Iran",
          "Jordan",
          "Mozambique",
          "Kenya",
          "Namibia",
          "Ukraine",
          "Liberia",
          "Palestinian Territories",
          "Uganda",
          "Chad",
          "Tunisia",
          "Mauritania",
          "Sri Lanka",
          "Congo (Kinshasa)",
          "Swaziland",
          "Myanmar",
          "Comoros",
          "Togo",
          "Ethiopia",
          "Madagascar",
          "Egypt",
          "Sierra Leone",
          "Burundi",
          "Zambia",
          "Haiti",
          "Lesotho",
          "India",
          "Malawi",
          "Yemen",
          "Botswana",
          "Tanzania",
          "Central African Republic",
          "Rwanda",
          "Zimbabwe",
          "South Sudan",
          "Afghanistan"
         ],
         "type": "choropleth",
         "z": [
          1,
          2,
          3,
          4,
          5,
          6,
          7,
          8,
          9,
          10,
          11,
          12,
          13,
          14,
          15,
          16,
          17,
          18,
          19,
          20,
          21,
          22,
          23,
          24,
          25,
          26,
          27,
          28,
          29,
          30,
          31,
          32,
          33,
          34,
          35,
          36,
          37,
          38,
          39,
          40,
          41,
          42,
          43,
          44,
          45,
          46,
          47,
          48,
          49,
          50,
          51,
          52,
          53,
          54,
          55,
          56,
          57,
          58,
          59,
          60,
          61,
          62,
          63,
          64,
          65,
          66,
          67,
          68,
          69,
          70,
          71,
          72,
          73,
          74,
          75,
          76,
          77,
          78,
          79,
          80,
          81,
          82,
          83,
          84,
          85,
          86,
          87,
          88,
          89,
          90,
          91,
          92,
          93,
          94,
          95,
          96,
          97,
          98,
          99,
          100,
          101,
          102,
          103,
          104,
          105,
          106,
          107,
          108,
          109,
          110,
          111,
          112,
          113,
          114,
          115,
          116,
          117,
          118,
          119,
          120,
          121,
          122,
          123,
          124,
          125,
          126,
          127,
          128,
          129,
          130,
          131,
          132,
          133,
          134,
          135,
          136,
          137,
          138,
          139,
          140,
          141,
          142,
          143,
          144,
          145,
          146,
          147,
          148,
          149,
          150,
          151,
          152,
          153
         ]
        }
       ],
       "layout": {
        "geo": {
         "projection": {
          "type": "equirectangular"
         },
         "showframe": false
        },
        "template": {
         "data": {
          "bar": [
           {
            "error_x": {
             "color": "#2a3f5f"
            },
            "error_y": {
             "color": "#2a3f5f"
            },
            "marker": {
             "line": {
              "color": "#E5ECF6",
              "width": 0.5
             }
            },
            "type": "bar"
           }
          ],
          "barpolar": [
           {
            "marker": {
             "line": {
              "color": "#E5ECF6",
              "width": 0.5
             }
            },
            "type": "barpolar"
           }
          ],
          "carpet": [
           {
            "aaxis": {
             "endlinecolor": "#2a3f5f",
             "gridcolor": "white",
             "linecolor": "white",
             "minorgridcolor": "white",
             "startlinecolor": "#2a3f5f"
            },
            "baxis": {
             "endlinecolor": "#2a3f5f",
             "gridcolor": "white",
             "linecolor": "white",
             "minorgridcolor": "white",
             "startlinecolor": "#2a3f5f"
            },
            "type": "carpet"
           }
          ],
          "choropleth": [
           {
            "colorbar": {
             "outlinewidth": 0,
             "ticks": ""
            },
            "type": "choropleth"
           }
          ],
          "contour": [
           {
            "colorbar": {
             "outlinewidth": 0,
             "ticks": ""
            },
            "colorscale": [
             [
              0,
              "#0d0887"
             ],
             [
              0.1111111111111111,
              "#46039f"
             ],
             [
              0.2222222222222222,
              "#7201a8"
             ],
             [
              0.3333333333333333,
              "#9c179e"
             ],
             [
              0.4444444444444444,
              "#bd3786"
             ],
             [
              0.5555555555555556,
              "#d8576b"
             ],
             [
              0.6666666666666666,
              "#ed7953"
             ],
             [
              0.7777777777777778,
              "#fb9f3a"
             ],
             [
              0.8888888888888888,
              "#fdca26"
             ],
             [
              1,
              "#f0f921"
             ]
            ],
            "type": "contour"
           }
          ],
          "contourcarpet": [
           {
            "colorbar": {
             "outlinewidth": 0,
             "ticks": ""
            },
            "type": "contourcarpet"
           }
          ],
          "heatmap": [
           {
            "colorbar": {
             "outlinewidth": 0,
             "ticks": ""
            },
            "colorscale": [
             [
              0,
              "#0d0887"
             ],
             [
              0.1111111111111111,
              "#46039f"
             ],
             [
              0.2222222222222222,
              "#7201a8"
             ],
             [
              0.3333333333333333,
              "#9c179e"
             ],
             [
              0.4444444444444444,
              "#bd3786"
             ],
             [
              0.5555555555555556,
              "#d8576b"
             ],
             [
              0.6666666666666666,
              "#ed7953"
             ],
             [
              0.7777777777777778,
              "#fb9f3a"
             ],
             [
              0.8888888888888888,
              "#fdca26"
             ],
             [
              1,
              "#f0f921"
             ]
            ],
            "type": "heatmap"
           }
          ],
          "heatmapgl": [
           {
            "colorbar": {
             "outlinewidth": 0,
             "ticks": ""
            },
            "colorscale": [
             [
              0,
              "#0d0887"
             ],
             [
              0.1111111111111111,
              "#46039f"
             ],
             [
              0.2222222222222222,
              "#7201a8"
             ],
             [
              0.3333333333333333,
              "#9c179e"
             ],
             [
              0.4444444444444444,
              "#bd3786"
             ],
             [
              0.5555555555555556,
              "#d8576b"
             ],
             [
              0.6666666666666666,
              "#ed7953"
             ],
             [
              0.7777777777777778,
              "#fb9f3a"
             ],
             [
              0.8888888888888888,
              "#fdca26"
             ],
             [
              1,
              "#f0f921"
             ]
            ],
            "type": "heatmapgl"
           }
          ],
          "histogram": [
           {
            "marker": {
             "colorbar": {
              "outlinewidth": 0,
              "ticks": ""
             }
            },
            "type": "histogram"
           }
          ],
          "histogram2d": [
           {
            "colorbar": {
             "outlinewidth": 0,
             "ticks": ""
            },
            "colorscale": [
             [
              0,
              "#0d0887"
             ],
             [
              0.1111111111111111,
              "#46039f"
             ],
             [
              0.2222222222222222,
              "#7201a8"
             ],
             [
              0.3333333333333333,
              "#9c179e"
             ],
             [
              0.4444444444444444,
              "#bd3786"
             ],
             [
              0.5555555555555556,
              "#d8576b"
             ],
             [
              0.6666666666666666,
              "#ed7953"
             ],
             [
              0.7777777777777778,
              "#fb9f3a"
             ],
             [
              0.8888888888888888,
              "#fdca26"
             ],
             [
              1,
              "#f0f921"
             ]
            ],
            "type": "histogram2d"
           }
          ],
          "histogram2dcontour": [
           {
            "colorbar": {
             "outlinewidth": 0,
             "ticks": ""
            },
            "colorscale": [
             [
              0,
              "#0d0887"
             ],
             [
              0.1111111111111111,
              "#46039f"
             ],
             [
              0.2222222222222222,
              "#7201a8"
             ],
             [
              0.3333333333333333,
              "#9c179e"
             ],
             [
              0.4444444444444444,
              "#bd3786"
             ],
             [
              0.5555555555555556,
              "#d8576b"
             ],
             [
              0.6666666666666666,
              "#ed7953"
             ],
             [
              0.7777777777777778,
              "#fb9f3a"
             ],
             [
              0.8888888888888888,
              "#fdca26"
             ],
             [
              1,
              "#f0f921"
             ]
            ],
            "type": "histogram2dcontour"
           }
          ],
          "mesh3d": [
           {
            "colorbar": {
             "outlinewidth": 0,
             "ticks": ""
            },
            "type": "mesh3d"
           }
          ],
          "parcoords": [
           {
            "line": {
             "colorbar": {
              "outlinewidth": 0,
              "ticks": ""
             }
            },
            "type": "parcoords"
           }
          ],
          "pie": [
           {
            "automargin": true,
            "type": "pie"
           }
          ],
          "scatter": [
           {
            "marker": {
             "colorbar": {
              "outlinewidth": 0,
              "ticks": ""
             }
            },
            "type": "scatter"
           }
          ],
          "scatter3d": [
           {
            "line": {
             "colorbar": {
              "outlinewidth": 0,
              "ticks": ""
             }
            },
            "marker": {
             "colorbar": {
              "outlinewidth": 0,
              "ticks": ""
             }
            },
            "type": "scatter3d"
           }
          ],
          "scattercarpet": [
           {
            "marker": {
             "colorbar": {
              "outlinewidth": 0,
              "ticks": ""
             }
            },
            "type": "scattercarpet"
           }
          ],
          "scattergeo": [
           {
            "marker": {
             "colorbar": {
              "outlinewidth": 0,
              "ticks": ""
             }
            },
            "type": "scattergeo"
           }
          ],
          "scattergl": [
           {
            "marker": {
             "colorbar": {
              "outlinewidth": 0,
              "ticks": ""
             }
            },
            "type": "scattergl"
           }
          ],
          "scattermapbox": [
           {
            "marker": {
             "colorbar": {
              "outlinewidth": 0,
              "ticks": ""
             }
            },
            "type": "scattermapbox"
           }
          ],
          "scatterpolar": [
           {
            "marker": {
             "colorbar": {
              "outlinewidth": 0,
              "ticks": ""
             }
            },
            "type": "scatterpolar"
           }
          ],
          "scatterpolargl": [
           {
            "marker": {
             "colorbar": {
              "outlinewidth": 0,
              "ticks": ""
             }
            },
            "type": "scatterpolargl"
           }
          ],
          "scatterternary": [
           {
            "marker": {
             "colorbar": {
              "outlinewidth": 0,
              "ticks": ""
             }
            },
            "type": "scatterternary"
           }
          ],
          "surface": [
           {
            "colorbar": {
             "outlinewidth": 0,
             "ticks": ""
            },
            "colorscale": [
             [
              0,
              "#0d0887"
             ],
             [
              0.1111111111111111,
              "#46039f"
             ],
             [
              0.2222222222222222,
              "#7201a8"
             ],
             [
              0.3333333333333333,
              "#9c179e"
             ],
             [
              0.4444444444444444,
              "#bd3786"
             ],
             [
              0.5555555555555556,
              "#d8576b"
             ],
             [
              0.6666666666666666,
              "#ed7953"
             ],
             [
              0.7777777777777778,
              "#fb9f3a"
             ],
             [
              0.8888888888888888,
              "#fdca26"
             ],
             [
              1,
              "#f0f921"
             ]
            ],
            "type": "surface"
           }
          ],
          "table": [
           {
            "cells": {
             "fill": {
              "color": "#EBF0F8"
             },
             "line": {
              "color": "white"
             }
            },
            "header": {
             "fill": {
              "color": "#C8D4E3"
             },
             "line": {
              "color": "white"
             }
            },
            "type": "table"
           }
          ]
         },
         "layout": {
          "annotationdefaults": {
           "arrowcolor": "#2a3f5f",
           "arrowhead": 0,
           "arrowwidth": 1
          },
          "autotypenumbers": "strict",
          "coloraxis": {
           "colorbar": {
            "outlinewidth": 0,
            "ticks": ""
           }
          },
          "colorscale": {
           "diverging": [
            [
             0,
             "#8e0152"
            ],
            [
             0.1,
             "#c51b7d"
            ],
            [
             0.2,
             "#de77ae"
            ],
            [
             0.3,
             "#f1b6da"
            ],
            [
             0.4,
             "#fde0ef"
            ],
            [
             0.5,
             "#f7f7f7"
            ],
            [
             0.6,
             "#e6f5d0"
            ],
            [
             0.7,
             "#b8e186"
            ],
            [
             0.8,
             "#7fbc41"
            ],
            [
             0.9,
             "#4d9221"
            ],
            [
             1,
             "#276419"
            ]
           ],
           "sequential": [
            [
             0,
             "#0d0887"
            ],
            [
             0.1111111111111111,
             "#46039f"
            ],
            [
             0.2222222222222222,
             "#7201a8"
            ],
            [
             0.3333333333333333,
             "#9c179e"
            ],
            [
             0.4444444444444444,
             "#bd3786"
            ],
            [
             0.5555555555555556,
             "#d8576b"
            ],
            [
             0.6666666666666666,
             "#ed7953"
            ],
            [
             0.7777777777777778,
             "#fb9f3a"
            ],
            [
             0.8888888888888888,
             "#fdca26"
            ],
            [
             1,
             "#f0f921"
            ]
           ],
           "sequentialminus": [
            [
             0,
             "#0d0887"
            ],
            [
             0.1111111111111111,
             "#46039f"
            ],
            [
             0.2222222222222222,
             "#7201a8"
            ],
            [
             0.3333333333333333,
             "#9c179e"
            ],
            [
             0.4444444444444444,
             "#bd3786"
            ],
            [
             0.5555555555555556,
             "#d8576b"
            ],
            [
             0.6666666666666666,
             "#ed7953"
            ],
            [
             0.7777777777777778,
             "#fb9f3a"
            ],
            [
             0.8888888888888888,
             "#fdca26"
            ],
            [
             1,
             "#f0f921"
            ]
           ]
          },
          "colorway": [
           "#636efa",
           "#EF553B",
           "#00cc96",
           "#ab63fa",
           "#FFA15A",
           "#19d3f3",
           "#FF6692",
           "#B6E880",
           "#FF97FF",
           "#FECB52"
          ],
          "font": {
           "color": "#2a3f5f"
          },
          "geo": {
           "bgcolor": "white",
           "lakecolor": "white",
           "landcolor": "#E5ECF6",
           "showlakes": true,
           "showland": true,
           "subunitcolor": "white"
          },
          "hoverlabel": {
           "align": "left"
          },
          "hovermode": "closest",
          "mapbox": {
           "style": "light"
          },
          "paper_bgcolor": "white",
          "plot_bgcolor": "#E5ECF6",
          "polar": {
           "angularaxis": {
            "gridcolor": "white",
            "linecolor": "white",
            "ticks": ""
           },
           "bgcolor": "#E5ECF6",
           "radialaxis": {
            "gridcolor": "white",
            "linecolor": "white",
            "ticks": ""
           }
          },
          "scene": {
           "xaxis": {
            "backgroundcolor": "#E5ECF6",
            "gridcolor": "white",
            "gridwidth": 2,
            "linecolor": "white",
            "showbackground": true,
            "ticks": "",
            "zerolinecolor": "white"
           },
           "yaxis": {
            "backgroundcolor": "#E5ECF6",
            "gridcolor": "white",
            "gridwidth": 2,
            "linecolor": "white",
            "showbackground": true,
            "ticks": "",
            "zerolinecolor": "white"
           },
           "zaxis": {
            "backgroundcolor": "#E5ECF6",
            "gridcolor": "white",
            "gridwidth": 2,
            "linecolor": "white",
            "showbackground": true,
            "ticks": "",
            "zerolinecolor": "white"
           }
          },
          "shapedefaults": {
           "line": {
            "color": "#2a3f5f"
           }
          },
          "ternary": {
           "aaxis": {
            "gridcolor": "white",
            "linecolor": "white",
            "ticks": ""
           },
           "baxis": {
            "gridcolor": "white",
            "linecolor": "white",
            "ticks": ""
           },
           "bgcolor": "#E5ECF6",
           "caxis": {
            "gridcolor": "white",
            "linecolor": "white",
            "ticks": ""
           }
          },
          "title": {
           "x": 0.05
          },
          "xaxis": {
           "automargin": true,
           "gridcolor": "white",
           "linecolor": "white",
           "ticks": "",
           "title": {
            "standoff": 15
           },
           "zerolinecolor": "white",
           "zerolinewidth": 2
          },
          "yaxis": {
           "automargin": true,
           "gridcolor": "white",
           "linecolor": "white",
           "ticks": "",
           "title": {
            "standoff": 15
           },
           "zerolinecolor": "white",
           "zerolinewidth": 2
          }
         }
        },
        "title": {
         "text": "Happiness Rank Across the World"
        }
       }
      },
      "text/html": [
       "<div>                            <div id=\"08bd2f91-f783-4924-81f4-774c1316ee78\" class=\"plotly-graph-div\" style=\"height:525px; width:100%;\"></div>            <script type=\"text/javascript\">                require([\"plotly\"], function(Plotly) {                    window.PLOTLYENV=window.PLOTLYENV || {};                                    if (document.getElementById(\"08bd2f91-f783-4924-81f4-774c1316ee78\")) {                    Plotly.newPlot(                        \"08bd2f91-f783-4924-81f4-774c1316ee78\",                        [{\"autocolorscale\": true, \"locationmode\": \"country names\", \"locations\": [\"Finland\", \"Denmark\", \"Switzerland\", \"Iceland\", \"Norway\", \"Netherlands\", \"Sweden\", \"New Zealand\", \"Austria\", \"Luxembourg\", \"Canada\", \"Australia\", \"United Kingdom\", \"Israel\", \"Costa Rica\", \"Ireland\", \"Germany\", \"United States\", \"Czech Republic\", \"Belgium\", \"United Arab Emirates\", \"Malta\", \"France\", \"Mexico\", \"Taiwan Province of China\", \"Uruguay\", \"Saudi Arabia\", \"Spain\", \"Guatemala\", \"Italy\", \"Singapore\", \"Brazil\", \"Slovenia\", \"El Salvador\", \"Kosovo\", \"Panama\", \"Slovakia\", \"Uzbekistan\", \"Chile\", \"Bahrain\", \"Lithuania\", \"Trinidad and Tobago\", \"Poland\", \"Colombia\", \"Cyprus\", \"Nicaragua\", \"Romania\", \"Kuwait\", \"Mauritius\", \"Kazakhstan\", \"Estonia\", \"Philippines\", \"Hungary\", \"Thailand\", \"Argentina\", \"Honduras\", \"Latvia\", \"Ecuador\", \"Portugal\", \"Jamaica\", \"South Korea\", \"Japan\", \"Peru\", \"Serbia\", \"Bolivia\", \"Pakistan\", \"Paraguay\", \"Dominican Republic\", \"Bosnia and Herzegovina\", \"Moldova\", \"Tajikistan\", \"Montenegro\", \"Russia\", \"Kyrgyzstan\", \"Belarus\", \"North Cyprus\", \"Greece\", \"Hong Kong S.A.R. of China\", \"Croatia\", \"Libya\", \"Mongolia\", \"Malaysia\", \"Vietnam\", \"Indonesia\", \"Ivory Coast\", \"Benin\", \"Maldives\", \"Congo (Brazzaville)\", \"Azerbaijan\", \"Macedonia\", \"Ghana\", \"Nepal\", \"Turkey\", \"China\", \"Turkmenistan\", \"Bulgaria\", \"Morocco\", \"Cameroon\", \"Venezuela\", \"Algeria\", \"Senegal\", \"Guinea\", \"Niger\", \"Laos\", \"Albania\", \"Cambodia\", \"Bangladesh\", \"Gabon\", \"South Africa\", \"Iraq\", \"Lebanon\", \"Burkina Faso\", \"Gambia\", \"Mali\", \"Nigeria\", \"Armenia\", \"Georgia\", \"Iran\", \"Jordan\", \"Mozambique\", \"Kenya\", \"Namibia\", \"Ukraine\", \"Liberia\", \"Palestinian Territories\", \"Uganda\", \"Chad\", \"Tunisia\", \"Mauritania\", \"Sri Lanka\", \"Congo (Kinshasa)\", \"Swaziland\", \"Myanmar\", \"Comoros\", \"Togo\", \"Ethiopia\", \"Madagascar\", \"Egypt\", \"Sierra Leone\", \"Burundi\", \"Zambia\", \"Haiti\", \"Lesotho\", \"India\", \"Malawi\", \"Yemen\", \"Botswana\", \"Tanzania\", \"Central African Republic\", \"Rwanda\", \"Zimbabwe\", \"South Sudan\", \"Afghanistan\"], \"marker\": {\"line\": {\"color\": \"darkgray\", \"width\": 0.5}}, \"reversescale\": true, \"text\": [\"Finland\", \"Denmark\", \"Switzerland\", \"Iceland\", \"Norway\", \"Netherlands\", \"Sweden\", \"New Zealand\", \"Austria\", \"Luxembourg\", \"Canada\", \"Australia\", \"United Kingdom\", \"Israel\", \"Costa Rica\", \"Ireland\", \"Germany\", \"United States\", \"Czech Republic\", \"Belgium\", \"United Arab Emirates\", \"Malta\", \"France\", \"Mexico\", \"Taiwan Province of China\", \"Uruguay\", \"Saudi Arabia\", \"Spain\", \"Guatemala\", \"Italy\", \"Singapore\", \"Brazil\", \"Slovenia\", \"El Salvador\", \"Kosovo\", \"Panama\", \"Slovakia\", \"Uzbekistan\", \"Chile\", \"Bahrain\", \"Lithuania\", \"Trinidad and Tobago\", \"Poland\", \"Colombia\", \"Cyprus\", \"Nicaragua\", \"Romania\", \"Kuwait\", \"Mauritius\", \"Kazakhstan\", \"Estonia\", \"Philippines\", \"Hungary\", \"Thailand\", \"Argentina\", \"Honduras\", \"Latvia\", \"Ecuador\", \"Portugal\", \"Jamaica\", \"South Korea\", \"Japan\", \"Peru\", \"Serbia\", \"Bolivia\", \"Pakistan\", \"Paraguay\", \"Dominican Republic\", \"Bosnia and Herzegovina\", \"Moldova\", \"Tajikistan\", \"Montenegro\", \"Russia\", \"Kyrgyzstan\", \"Belarus\", \"North Cyprus\", \"Greece\", \"Hong Kong S.A.R. of China\", \"Croatia\", \"Libya\", \"Mongolia\", \"Malaysia\", \"Vietnam\", \"Indonesia\", \"Ivory Coast\", \"Benin\", \"Maldives\", \"Congo (Brazzaville)\", \"Azerbaijan\", \"Macedonia\", \"Ghana\", \"Nepal\", \"Turkey\", \"China\", \"Turkmenistan\", \"Bulgaria\", \"Morocco\", \"Cameroon\", \"Venezuela\", \"Algeria\", \"Senegal\", \"Guinea\", \"Niger\", \"Laos\", \"Albania\", \"Cambodia\", \"Bangladesh\", \"Gabon\", \"South Africa\", \"Iraq\", \"Lebanon\", \"Burkina Faso\", \"Gambia\", \"Mali\", \"Nigeria\", \"Armenia\", \"Georgia\", \"Iran\", \"Jordan\", \"Mozambique\", \"Kenya\", \"Namibia\", \"Ukraine\", \"Liberia\", \"Palestinian Territories\", \"Uganda\", \"Chad\", \"Tunisia\", \"Mauritania\", \"Sri Lanka\", \"Congo (Kinshasa)\", \"Swaziland\", \"Myanmar\", \"Comoros\", \"Togo\", \"Ethiopia\", \"Madagascar\", \"Egypt\", \"Sierra Leone\", \"Burundi\", \"Zambia\", \"Haiti\", \"Lesotho\", \"India\", \"Malawi\", \"Yemen\", \"Botswana\", \"Tanzania\", \"Central African Republic\", \"Rwanda\", \"Zimbabwe\", \"South Sudan\", \"Afghanistan\"], \"type\": \"choropleth\", \"z\": [1.0, 2.0, 3.0, 4.0, 5.0, 6.0, 7.0, 8.0, 9.0, 10.0, 11.0, 12.0, 13.0, 14.0, 15.0, 16.0, 17.0, 18.0, 19.0, 20.0, 21.0, 22.0, 23.0, 24.0, 25.0, 26.0, 27.0, 28.0, 29.0, 30.0, 31.0, 32.0, 33.0, 34.0, 35.0, 36.0, 37.0, 38.0, 39.0, 40.0, 41.0, 42.0, 43.0, 44.0, 45.0, 46.0, 47.0, 48.0, 49.0, 50.0, 51.0, 52.0, 53.0, 54.0, 55.0, 56.0, 57.0, 58.0, 59.0, 60.0, 61.0, 62.0, 63.0, 64.0, 65.0, 66.0, 67.0, 68.0, 69.0, 70.0, 71.0, 72.0, 73.0, 74.0, 75.0, 76.0, 77.0, 78.0, 79.0, 80.0, 81.0, 82.0, 83.0, 84.0, 85.0, 86.0, 87.0, 88.0, 89.0, 90.0, 91.0, 92.0, 93.0, 94.0, 95.0, 96.0, 97.0, 98.0, 99.0, 100.0, 101.0, 102.0, 103.0, 104.0, 105.0, 106.0, 107.0, 108.0, 109.0, 110.0, 111.0, 112.0, 113.0, 114.0, 115.0, 116.0, 117.0, 118.0, 119.0, 120.0, 121.0, 122.0, 123.0, 124.0, 125.0, 126.0, 127.0, 128.0, 129.0, 130.0, 131.0, 132.0, 133.0, 134.0, 135.0, 136.0, 137.0, 138.0, 139.0, 140.0, 141.0, 142.0, 143.0, 144.0, 145.0, 146.0, 147.0, 148.0, 149.0, 150.0, 151.0, 152.0, 153.0]}],                        {\"geo\": {\"projection\": {\"type\": \"equirectangular\"}, \"showframe\": false}, \"template\": {\"data\": {\"bar\": [{\"error_x\": {\"color\": \"#2a3f5f\"}, \"error_y\": {\"color\": \"#2a3f5f\"}, \"marker\": {\"line\": {\"color\": \"#E5ECF6\", \"width\": 0.5}}, \"type\": \"bar\"}], \"barpolar\": [{\"marker\": {\"line\": {\"color\": \"#E5ECF6\", \"width\": 0.5}}, \"type\": \"barpolar\"}], \"carpet\": [{\"aaxis\": {\"endlinecolor\": \"#2a3f5f\", \"gridcolor\": \"white\", \"linecolor\": \"white\", \"minorgridcolor\": \"white\", \"startlinecolor\": \"#2a3f5f\"}, \"baxis\": {\"endlinecolor\": \"#2a3f5f\", \"gridcolor\": \"white\", \"linecolor\": \"white\", \"minorgridcolor\": \"white\", \"startlinecolor\": \"#2a3f5f\"}, \"type\": \"carpet\"}], \"choropleth\": [{\"colorbar\": {\"outlinewidth\": 0, \"ticks\": \"\"}, \"type\": \"choropleth\"}], \"contour\": [{\"colorbar\": {\"outlinewidth\": 0, \"ticks\": \"\"}, \"colorscale\": [[0.0, \"#0d0887\"], [0.1111111111111111, \"#46039f\"], [0.2222222222222222, \"#7201a8\"], [0.3333333333333333, \"#9c179e\"], [0.4444444444444444, \"#bd3786\"], [0.5555555555555556, \"#d8576b\"], [0.6666666666666666, \"#ed7953\"], [0.7777777777777778, \"#fb9f3a\"], [0.8888888888888888, \"#fdca26\"], [1.0, \"#f0f921\"]], \"type\": \"contour\"}], \"contourcarpet\": [{\"colorbar\": {\"outlinewidth\": 0, \"ticks\": \"\"}, \"type\": \"contourcarpet\"}], \"heatmap\": [{\"colorbar\": {\"outlinewidth\": 0, \"ticks\": \"\"}, \"colorscale\": [[0.0, \"#0d0887\"], [0.1111111111111111, \"#46039f\"], [0.2222222222222222, \"#7201a8\"], [0.3333333333333333, \"#9c179e\"], [0.4444444444444444, \"#bd3786\"], [0.5555555555555556, \"#d8576b\"], [0.6666666666666666, \"#ed7953\"], [0.7777777777777778, \"#fb9f3a\"], [0.8888888888888888, \"#fdca26\"], [1.0, \"#f0f921\"]], \"type\": \"heatmap\"}], \"heatmapgl\": [{\"colorbar\": {\"outlinewidth\": 0, \"ticks\": \"\"}, \"colorscale\": [[0.0, \"#0d0887\"], [0.1111111111111111, \"#46039f\"], [0.2222222222222222, \"#7201a8\"], [0.3333333333333333, \"#9c179e\"], [0.4444444444444444, \"#bd3786\"], [0.5555555555555556, \"#d8576b\"], [0.6666666666666666, \"#ed7953\"], [0.7777777777777778, \"#fb9f3a\"], [0.8888888888888888, \"#fdca26\"], [1.0, \"#f0f921\"]], \"type\": \"heatmapgl\"}], \"histogram\": [{\"marker\": {\"colorbar\": {\"outlinewidth\": 0, \"ticks\": \"\"}}, \"type\": \"histogram\"}], \"histogram2d\": [{\"colorbar\": {\"outlinewidth\": 0, \"ticks\": \"\"}, \"colorscale\": [[0.0, \"#0d0887\"], [0.1111111111111111, \"#46039f\"], [0.2222222222222222, \"#7201a8\"], [0.3333333333333333, \"#9c179e\"], [0.4444444444444444, \"#bd3786\"], [0.5555555555555556, \"#d8576b\"], [0.6666666666666666, \"#ed7953\"], [0.7777777777777778, \"#fb9f3a\"], [0.8888888888888888, \"#fdca26\"], [1.0, \"#f0f921\"]], \"type\": \"histogram2d\"}], \"histogram2dcontour\": [{\"colorbar\": {\"outlinewidth\": 0, \"ticks\": \"\"}, \"colorscale\": [[0.0, \"#0d0887\"], [0.1111111111111111, \"#46039f\"], [0.2222222222222222, \"#7201a8\"], [0.3333333333333333, \"#9c179e\"], [0.4444444444444444, \"#bd3786\"], [0.5555555555555556, \"#d8576b\"], [0.6666666666666666, \"#ed7953\"], [0.7777777777777778, \"#fb9f3a\"], [0.8888888888888888, \"#fdca26\"], [1.0, \"#f0f921\"]], \"type\": \"histogram2dcontour\"}], \"mesh3d\": [{\"colorbar\": {\"outlinewidth\": 0, \"ticks\": \"\"}, \"type\": \"mesh3d\"}], \"parcoords\": [{\"line\": {\"colorbar\": {\"outlinewidth\": 0, \"ticks\": \"\"}}, \"type\": \"parcoords\"}], \"pie\": [{\"automargin\": true, \"type\": \"pie\"}], \"scatter\": [{\"marker\": {\"colorbar\": {\"outlinewidth\": 0, \"ticks\": \"\"}}, \"type\": \"scatter\"}], \"scatter3d\": [{\"line\": {\"colorbar\": {\"outlinewidth\": 0, \"ticks\": \"\"}}, \"marker\": {\"colorbar\": {\"outlinewidth\": 0, \"ticks\": \"\"}}, \"type\": \"scatter3d\"}], \"scattercarpet\": [{\"marker\": {\"colorbar\": {\"outlinewidth\": 0, \"ticks\": \"\"}}, \"type\": \"scattercarpet\"}], \"scattergeo\": [{\"marker\": {\"colorbar\": {\"outlinewidth\": 0, \"ticks\": \"\"}}, \"type\": \"scattergeo\"}], \"scattergl\": [{\"marker\": {\"colorbar\": {\"outlinewidth\": 0, \"ticks\": \"\"}}, \"type\": \"scattergl\"}], \"scattermapbox\": [{\"marker\": {\"colorbar\": {\"outlinewidth\": 0, \"ticks\": \"\"}}, \"type\": \"scattermapbox\"}], \"scatterpolar\": [{\"marker\": {\"colorbar\": {\"outlinewidth\": 0, \"ticks\": \"\"}}, \"type\": \"scatterpolar\"}], \"scatterpolargl\": [{\"marker\": {\"colorbar\": {\"outlinewidth\": 0, \"ticks\": \"\"}}, \"type\": \"scatterpolargl\"}], \"scatterternary\": [{\"marker\": {\"colorbar\": {\"outlinewidth\": 0, \"ticks\": \"\"}}, \"type\": \"scatterternary\"}], \"surface\": [{\"colorbar\": {\"outlinewidth\": 0, \"ticks\": \"\"}, \"colorscale\": [[0.0, \"#0d0887\"], [0.1111111111111111, \"#46039f\"], [0.2222222222222222, \"#7201a8\"], [0.3333333333333333, \"#9c179e\"], [0.4444444444444444, \"#bd3786\"], [0.5555555555555556, \"#d8576b\"], [0.6666666666666666, \"#ed7953\"], [0.7777777777777778, \"#fb9f3a\"], [0.8888888888888888, \"#fdca26\"], [1.0, \"#f0f921\"]], \"type\": \"surface\"}], \"table\": [{\"cells\": {\"fill\": {\"color\": \"#EBF0F8\"}, \"line\": {\"color\": \"white\"}}, \"header\": {\"fill\": {\"color\": \"#C8D4E3\"}, \"line\": {\"color\": \"white\"}}, \"type\": \"table\"}]}, \"layout\": {\"annotationdefaults\": {\"arrowcolor\": \"#2a3f5f\", \"arrowhead\": 0, \"arrowwidth\": 1}, \"autotypenumbers\": \"strict\", \"coloraxis\": {\"colorbar\": {\"outlinewidth\": 0, \"ticks\": \"\"}}, \"colorscale\": {\"diverging\": [[0, \"#8e0152\"], [0.1, \"#c51b7d\"], [0.2, \"#de77ae\"], [0.3, \"#f1b6da\"], [0.4, \"#fde0ef\"], [0.5, \"#f7f7f7\"], [0.6, \"#e6f5d0\"], [0.7, \"#b8e186\"], [0.8, \"#7fbc41\"], [0.9, \"#4d9221\"], [1, \"#276419\"]], \"sequential\": [[0.0, \"#0d0887\"], [0.1111111111111111, \"#46039f\"], [0.2222222222222222, \"#7201a8\"], [0.3333333333333333, \"#9c179e\"], [0.4444444444444444, \"#bd3786\"], [0.5555555555555556, \"#d8576b\"], [0.6666666666666666, \"#ed7953\"], [0.7777777777777778, \"#fb9f3a\"], [0.8888888888888888, \"#fdca26\"], [1.0, \"#f0f921\"]], \"sequentialminus\": [[0.0, \"#0d0887\"], [0.1111111111111111, \"#46039f\"], [0.2222222222222222, \"#7201a8\"], [0.3333333333333333, \"#9c179e\"], [0.4444444444444444, \"#bd3786\"], [0.5555555555555556, \"#d8576b\"], [0.6666666666666666, \"#ed7953\"], [0.7777777777777778, \"#fb9f3a\"], [0.8888888888888888, \"#fdca26\"], [1.0, \"#f0f921\"]]}, \"colorway\": [\"#636efa\", \"#EF553B\", \"#00cc96\", \"#ab63fa\", \"#FFA15A\", \"#19d3f3\", \"#FF6692\", \"#B6E880\", \"#FF97FF\", \"#FECB52\"], \"font\": {\"color\": \"#2a3f5f\"}, \"geo\": {\"bgcolor\": \"white\", \"lakecolor\": \"white\", \"landcolor\": \"#E5ECF6\", \"showlakes\": true, \"showland\": true, \"subunitcolor\": \"white\"}, \"hoverlabel\": {\"align\": \"left\"}, \"hovermode\": \"closest\", \"mapbox\": {\"style\": \"light\"}, \"paper_bgcolor\": \"white\", \"plot_bgcolor\": \"#E5ECF6\", \"polar\": {\"angularaxis\": {\"gridcolor\": \"white\", \"linecolor\": \"white\", \"ticks\": \"\"}, \"bgcolor\": \"#E5ECF6\", \"radialaxis\": {\"gridcolor\": \"white\", \"linecolor\": \"white\", \"ticks\": \"\"}}, \"scene\": {\"xaxis\": {\"backgroundcolor\": \"#E5ECF6\", \"gridcolor\": \"white\", \"gridwidth\": 2, \"linecolor\": \"white\", \"showbackground\": true, \"ticks\": \"\", \"zerolinecolor\": \"white\"}, \"yaxis\": {\"backgroundcolor\": \"#E5ECF6\", \"gridcolor\": \"white\", \"gridwidth\": 2, \"linecolor\": \"white\", \"showbackground\": true, \"ticks\": \"\", \"zerolinecolor\": \"white\"}, \"zaxis\": {\"backgroundcolor\": \"#E5ECF6\", \"gridcolor\": \"white\", \"gridwidth\": 2, \"linecolor\": \"white\", \"showbackground\": true, \"ticks\": \"\", \"zerolinecolor\": \"white\"}}, \"shapedefaults\": {\"line\": {\"color\": \"#2a3f5f\"}}, \"ternary\": {\"aaxis\": {\"gridcolor\": \"white\", \"linecolor\": \"white\", \"ticks\": \"\"}, \"baxis\": {\"gridcolor\": \"white\", \"linecolor\": \"white\", \"ticks\": \"\"}, \"bgcolor\": \"#E5ECF6\", \"caxis\": {\"gridcolor\": \"white\", \"linecolor\": \"white\", \"ticks\": \"\"}}, \"title\": {\"x\": 0.05}, \"xaxis\": {\"automargin\": true, \"gridcolor\": \"white\", \"linecolor\": \"white\", \"ticks\": \"\", \"title\": {\"standoff\": 15}, \"zerolinecolor\": \"white\", \"zerolinewidth\": 2}, \"yaxis\": {\"automargin\": true, \"gridcolor\": \"white\", \"linecolor\": \"white\", \"ticks\": \"\", \"title\": {\"standoff\": 15}, \"zerolinecolor\": \"white\", \"zerolinewidth\": 2}}}, \"title\": {\"text\": \"Happiness Rank Across the World\"}},                        {\"responsive\": true}                    ).then(function(){\n",
       "                            \n",
       "var gd = document.getElementById('08bd2f91-f783-4924-81f4-774c1316ee78');\n",
       "var x = new MutationObserver(function (mutations, observer) {{\n",
       "        var display = window.getComputedStyle(gd).display;\n",
       "        if (!display || display === 'none') {{\n",
       "            console.log([gd, 'removed!']);\n",
       "            Plotly.purge(gd);\n",
       "            observer.disconnect();\n",
       "        }}\n",
       "}});\n",
       "\n",
       "// Listen for the removal of the full notebook cells\n",
       "var notebookContainer = gd.closest('#notebook-container');\n",
       "if (notebookContainer) {{\n",
       "    x.observe(notebookContainer, {childList: true});\n",
       "}}\n",
       "\n",
       "// Listen for the clearing of the current output cell\n",
       "var outputEl = gd.closest('.output');\n",
       "if (outputEl) {{\n",
       "    x.observe(outputEl, {childList: true});\n",
       "}}\n",
       "\n",
       "                        })                };                });            </script>        </div>"
      ]
     },
     "metadata": {},
     "output_type": "display_data"
    }
   ],
   "source": [
    "'''World Map\n",
    "Happiness Rank Accross the World'''\n",
    "happiness_rank = dict(type = 'choropleth', \n",
    "           locations = y2020['Country'],\n",
    "           locationmode = 'country names',\n",
    "           z = y2020['Happiness_Rank'], \n",
    "           text = y2020['Country'],\n",
    "           autocolorscale=True,\n",
    "           reversescale=True,\n",
    "           marker_line_color='darkgray',\n",
    "           marker_line_width=0.5)\n",
    "layout = dict(title = 'Happiness Rank Across the World', \n",
    "             geo = dict(showframe = False, \n",
    "                       projection = {'type': 'equirectangular'}))\n",
    "world_map_1 = go.Figure(data = [happiness_rank], layout=layout)\n",
    "iplot(world_map_1)"
   ]
  },
  {
   "cell_type": "markdown",
   "metadata": {},
   "source": [
    "### MATCHING "
   ]
  },
  {
   "cell_type": "markdown",
   "metadata": {},
   "source": [
    "First we calculate the median of GPD per capita and then we create a dummy variable, indicating with 1 the countries that have a GPD greater than the median, and with 0 the countries with a GPD lower than the median"
   ]
  },
  {
   "cell_type": "code",
   "execution_count": 32,
   "metadata": {},
   "outputs": [
    {
     "data": {
      "text/html": [
       "<div>\n",
       "<style scoped>\n",
       "    .dataframe tbody tr th:only-of-type {\n",
       "        vertical-align: middle;\n",
       "    }\n",
       "\n",
       "    .dataframe tbody tr th {\n",
       "        vertical-align: top;\n",
       "    }\n",
       "\n",
       "    .dataframe thead th {\n",
       "        text-align: right;\n",
       "    }\n",
       "</style>\n",
       "<table border=\"1\" class=\"dataframe\">\n",
       "  <thead>\n",
       "    <tr style=\"text-align: right;\">\n",
       "      <th></th>\n",
       "      <th>Year</th>\n",
       "      <th>Country</th>\n",
       "      <th>Happiness_Score</th>\n",
       "      <th>Happiness_Rank</th>\n",
       "      <th>GDP_per_capita</th>\n",
       "      <th>Healthy_life_expectancy</th>\n",
       "      <th>Freedom</th>\n",
       "      <th>Generosity</th>\n",
       "      <th>Perceptions_of_corruption</th>\n",
       "      <th>treatment</th>\n",
       "    </tr>\n",
       "  </thead>\n",
       "  <tbody>\n",
       "    <tr>\n",
       "      <th>0</th>\n",
       "      <td>2020</td>\n",
       "      <td>Finland</td>\n",
       "      <td>7.8087</td>\n",
       "      <td>1.0</td>\n",
       "      <td>0.836344</td>\n",
       "      <td>0.844840</td>\n",
       "      <td>0.955351</td>\n",
       "      <td>0.280215</td>\n",
       "      <td>0.103730</td>\n",
       "      <td>1</td>\n",
       "    </tr>\n",
       "    <tr>\n",
       "      <th>1</th>\n",
       "      <td>2020</td>\n",
       "      <td>Denmark</td>\n",
       "      <td>7.6456</td>\n",
       "      <td>2.0</td>\n",
       "      <td>0.863519</td>\n",
       "      <td>0.860714</td>\n",
       "      <td>0.959279</td>\n",
       "      <td>0.426093</td>\n",
       "      <td>0.071089</td>\n",
       "      <td>1</td>\n",
       "    </tr>\n",
       "    <tr>\n",
       "      <th>2</th>\n",
       "      <td>2020</td>\n",
       "      <td>Switzerland</td>\n",
       "      <td>7.5599</td>\n",
       "      <td>3.0</td>\n",
       "      <td>0.905054</td>\n",
       "      <td>0.914502</td>\n",
       "      <td>0.907228</td>\n",
       "      <td>0.472182</td>\n",
       "      <td>0.234856</td>\n",
       "      <td>1</td>\n",
       "    </tr>\n",
       "    <tr>\n",
       "      <th>3</th>\n",
       "      <td>2020</td>\n",
       "      <td>Iceland</td>\n",
       "      <td>7.5045</td>\n",
       "      <td>4.0</td>\n",
       "      <td>0.863228</td>\n",
       "      <td>0.879619</td>\n",
       "      <td>0.954867</td>\n",
       "      <td>0.635875</td>\n",
       "      <td>0.728899</td>\n",
       "      <td>1</td>\n",
       "    </tr>\n",
       "    <tr>\n",
       "      <th>4</th>\n",
       "      <td>2020</td>\n",
       "      <td>Norway</td>\n",
       "      <td>7.4880</td>\n",
       "      <td>5.0</td>\n",
       "      <td>0.926810</td>\n",
       "      <td>0.885972</td>\n",
       "      <td>0.966724</td>\n",
       "      <td>0.505402</td>\n",
       "      <td>0.185800</td>\n",
       "      <td>1</td>\n",
       "    </tr>\n",
       "    <tr>\n",
       "      <th>...</th>\n",
       "      <td>...</td>\n",
       "      <td>...</td>\n",
       "      <td>...</td>\n",
       "      <td>...</td>\n",
       "      <td>...</td>\n",
       "      <td>...</td>\n",
       "      <td>...</td>\n",
       "      <td>...</td>\n",
       "      <td>...</td>\n",
       "      <td>...</td>\n",
       "    </tr>\n",
       "    <tr>\n",
       "      <th>148</th>\n",
       "      <td>2020</td>\n",
       "      <td>Central African Republic</td>\n",
       "      <td>3.4759</td>\n",
       "      <td>149.0</td>\n",
       "      <td>0.026728</td>\n",
       "      <td>0.000000</td>\n",
       "      <td>0.422367</td>\n",
       "      <td>0.444905</td>\n",
       "      <td>0.946987</td>\n",
       "      <td>0</td>\n",
       "    </tr>\n",
       "    <tr>\n",
       "      <th>149</th>\n",
       "      <td>2020</td>\n",
       "      <td>Rwanda</td>\n",
       "      <td>3.3123</td>\n",
       "      <td>150.0</td>\n",
       "      <td>0.223367</td>\n",
       "      <td>0.503055</td>\n",
       "      <td>0.871360</td>\n",
       "      <td>0.413653</td>\n",
       "      <td>0.089316</td>\n",
       "      <td>0</td>\n",
       "    </tr>\n",
       "    <tr>\n",
       "      <th>150</th>\n",
       "      <td>2020</td>\n",
       "      <td>Zimbabwe</td>\n",
       "      <td>3.2992</td>\n",
       "      <td>151.0</td>\n",
       "      <td>0.276938</td>\n",
       "      <td>0.329612</td>\n",
       "      <td>0.544383</td>\n",
       "      <td>0.265612</td>\n",
       "      <td>0.848210</td>\n",
       "      <td>0</td>\n",
       "    </tr>\n",
       "    <tr>\n",
       "      <th>151</th>\n",
       "      <td>2020</td>\n",
       "      <td>South Sudan</td>\n",
       "      <td>2.8166</td>\n",
       "      <td>152.0</td>\n",
       "      <td>0.188122</td>\n",
       "      <td>0.183518</td>\n",
       "      <td>0.094637</td>\n",
       "      <td>0.368427</td>\n",
       "      <td>0.791514</td>\n",
       "      <td>0</td>\n",
       "    </tr>\n",
       "    <tr>\n",
       "      <th>152</th>\n",
       "      <td>2020</td>\n",
       "      <td>Afghanistan</td>\n",
       "      <td>2.5669</td>\n",
       "      <td>153.0</td>\n",
       "      <td>0.195686</td>\n",
       "      <td>0.233827</td>\n",
       "      <td>0.000000</td>\n",
       "      <td>0.237331</td>\n",
       "      <td>0.997701</td>\n",
       "      <td>0</td>\n",
       "    </tr>\n",
       "  </tbody>\n",
       "</table>\n",
       "<p>153 rows × 10 columns</p>\n",
       "</div>"
      ],
      "text/plain": [
       "     Year                   Country  Happiness_Score  Happiness_Rank  \\\n",
       "0    2020                   Finland           7.8087             1.0   \n",
       "1    2020                   Denmark           7.6456             2.0   \n",
       "2    2020               Switzerland           7.5599             3.0   \n",
       "3    2020                   Iceland           7.5045             4.0   \n",
       "4    2020                    Norway           7.4880             5.0   \n",
       "..    ...                       ...              ...             ...   \n",
       "148  2020  Central African Republic           3.4759           149.0   \n",
       "149  2020                    Rwanda           3.3123           150.0   \n",
       "150  2020                  Zimbabwe           3.2992           151.0   \n",
       "151  2020               South Sudan           2.8166           152.0   \n",
       "152  2020               Afghanistan           2.5669           153.0   \n",
       "\n",
       "     GDP_per_capita  Healthy_life_expectancy   Freedom  Generosity  \\\n",
       "0          0.836344                 0.844840  0.955351    0.280215   \n",
       "1          0.863519                 0.860714  0.959279    0.426093   \n",
       "2          0.905054                 0.914502  0.907228    0.472182   \n",
       "3          0.863228                 0.879619  0.954867    0.635875   \n",
       "4          0.926810                 0.885972  0.966724    0.505402   \n",
       "..              ...                      ...       ...         ...   \n",
       "148        0.026728                 0.000000  0.422367    0.444905   \n",
       "149        0.223367                 0.503055  0.871360    0.413653   \n",
       "150        0.276938                 0.329612  0.544383    0.265612   \n",
       "151        0.188122                 0.183518  0.094637    0.368427   \n",
       "152        0.195686                 0.233827  0.000000    0.237331   \n",
       "\n",
       "     Perceptions_of_corruption  treatment  \n",
       "0                     0.103730          1  \n",
       "1                     0.071089          1  \n",
       "2                     0.234856          1  \n",
       "3                     0.728899          1  \n",
       "4                     0.185800          1  \n",
       "..                         ...        ...  \n",
       "148                   0.946987          0  \n",
       "149                   0.089316          0  \n",
       "150                   0.848210          0  \n",
       "151                   0.791514          0  \n",
       "152                   0.997701          0  \n",
       "\n",
       "[153 rows x 10 columns]"
      ]
     },
     "execution_count": 32,
     "metadata": {},
     "output_type": "execute_result"
    }
   ],
   "source": [
    "y2020_matching = y2020.copy()\n",
    "median = y2020_matching['GDP_per_capita'].median()\n",
    "median\n",
    "y2020_matching['treatment']= np.where(y2020_matching['GDP_per_capita']>median, 1,0)\n",
    "y2020_matching"
   ]
  },
  {
   "cell_type": "markdown",
   "metadata": {},
   "source": [
    "For each characteristic of the dataset we will compare the control group with the treatment group"
   ]
  },
  {
   "cell_type": "code",
   "execution_count": 33,
   "metadata": {},
   "outputs": [
    {
     "data": {
      "image/png": "[encoded data removed]",
      "text/plain": [
       "<Figure size 360x360 with 1 Axes>"
      ]
     },
     "metadata": {
      "needs_background": "light"
     },
     "output_type": "display_data"
    }
   ],
   "source": [
    "#Happiness Score\n",
    "y2020_matching.boxplot(by='treatment', column='Happiness_Score', figsize = [5, 5], grid=True)\n",
    "plt.show()"
   ]
  },
  {
   "cell_type": "markdown",
   "metadata": {},
   "source": [
    "We see that richer countries have a higher happiness score, with the 25th percentile of rich countries being higher than the 75th percentile of poor countries"
   ]
  },
  {
   "cell_type": "code",
   "execution_count": 34,
   "metadata": {},
   "outputs": [
    {
     "data": {
      "image/png": "[encoded data removed]",
      "text/plain": [
       "<Figure size 360x360 with 1 Axes>"
      ]
     },
     "metadata": {
      "needs_background": "light"
     },
     "output_type": "display_data"
    }
   ],
   "source": [
    "# Healthy life expectancy\n",
    "y2020_matching.boxplot(by='treatment', column='Healthy_life_expectancy', figsize = [5, 5], grid=True)\n",
    "plt.show()"
   ]
  },
  {
   "cell_type": "markdown",
   "metadata": {},
   "source": [
    "We see a similar behaviour to the Happiness score in life expectancy"
   ]
  },
  {
   "cell_type": "code",
   "execution_count": 35,
   "metadata": {},
   "outputs": [
    {
     "data": {
      "image/png": "[encoded data removed]",
      "text/plain": [
       "<Figure size 360x360 with 1 Axes>"
      ]
     },
     "metadata": {
      "needs_background": "light"
     },
     "output_type": "display_data"
    }
   ],
   "source": [
    "#Freedom\n",
    "y2020_matching.boxplot(by='treatment', column='Freedom', figsize = [5, 5], grid=True)\n",
    "plt.show()"
   ]
  },
  {
   "cell_type": "markdown",
   "metadata": {},
   "source": [
    "With respect to freedom, values are more equal but rich countries have a greater degree of freedom"
   ]
  },
  {
   "cell_type": "code",
   "execution_count": 36,
   "metadata": {},
   "outputs": [
    {
     "data": {
      "image/png": "[encoded data removed]",
      "text/plain": [
       "<Figure size 360x360 with 1 Axes>"
      ]
     },
     "metadata": {
      "needs_background": "light"
     },
     "output_type": "display_data"
    }
   ],
   "source": [
    "#Generosity\n",
    "y2020_matching.boxplot(by='treatment', column='Generosity', figsize = [5, 5], grid=True)\n",
    "plt.show()"
   ]
  },
  {
   "cell_type": "code",
   "execution_count": null,
   "metadata": {},
   "outputs": [],
   "source": []
  },
  {
   "cell_type": "code",
   "execution_count": 37,
   "metadata": {},
   "outputs": [
    {
     "data": {
      "image/png": "[encoded data removed]",
      "text/plain": [
       "<Figure size 360x360 with 1 Axes>"
      ]
     },
     "metadata": {
      "needs_background": "light"
     },
     "output_type": "display_data"
    }
   ],
   "source": [
    "#Perceptions of corruption\n",
    "y2020_matching.boxplot(by='treatment', column='Perceptions_of_corruption', figsize = [5, 5], grid=True)\n",
    "plt.show()"
   ]
  },
  {
   "cell_type": "markdown",
   "metadata": {},
   "source": [
    "### Propensity score model"
   ]
  },
  {
   "cell_type": "code",
   "execution_count": 38,
   "metadata": {},
   "outputs": [
    {
     "name": "stdout",
     "output_type": "stream",
     "text": [
      "Optimization terminated successfully.\n",
      "         Current function value: 0.349780\n",
      "         Iterations 8\n",
      "                           Logit Regression Results                           \n",
      "==============================================================================\n",
      "Dep. Variable:              treatment   No. Observations:                  153\n",
      "Model:                          Logit   Df Residuals:                      148\n",
      "Method:                           MLE   Df Model:                            4\n",
      "Date:                Thu, 17 Dec 2020   Pseudo R-squ.:                  0.4954\n",
      "Time:                        07:23:29   Log-Likelihood:                -53.516\n",
      "converged:                       True   LL-Null:                       -106.05\n",
      "Covariance Type:            nonrobust   LLR p-value:                 8.209e-22\n",
      "=============================================================================================\n",
      "                                coef    std err          z      P>|z|      [0.025      0.975]\n",
      "---------------------------------------------------------------------------------------------\n",
      "Intercept                    -6.8382      1.952     -3.503      0.000     -10.665      -3.012\n",
      "Healthy_life_expectancy      12.9627      2.319      5.589      0.000       8.417      17.508\n",
      "Freedom                      -0.0803      0.297     -0.271      0.787      -0.662       0.501\n",
      "Generosity                   -0.3715      0.290     -1.280      0.201      -0.940       0.197\n",
      "Perceptions_of_corruption    -1.9052      1.557     -1.223      0.221      -4.958       1.147\n",
      "=============================================================================================\n"
     ]
    }
   ],
   "source": [
    "# let's standardize the continuous features\n",
    "y2020_matching['Healthy life expectancy'] = (y2020_matching['Healthy_life_expectancy'] - y2020_matching['Healthy_life_expectancy'].mean())/y2020_matching['Healthy_life_expectancy'].std()\n",
    "y2020_matching['Freedom'] = (y2020_matching['Freedom'] - y2020_matching['Freedom'].mean())/y2020_matching['Freedom'].std()\n",
    "y2020_matching['Generosity'] = (y2020_matching['Generosity'] - y2020_matching['Generosity'].mean())/y2020_matching['Generosity'].std()\n",
    "y2020_matching['Perceptions of corruption'] = (y2020_matching['Perceptions_of_corruption'] - y2020_matching['Perceptions_of_corruption'].mean())/y2020_matching['Perceptions_of_corruption'].std()\n",
    "\n",
    "mod = smf.logit(formula='treatment ~ Healthy_life_expectancy + Freedom + Generosity + Perceptions_of_corruption ', data=y2020_matching)\n",
    "\n",
    "res = mod.fit()\n",
    "\n",
    "# # Extract the estimated propensity scores\n",
    "y2020_matching['Propensity_score'] = res.predict()\n",
    "\n",
    "print(res.summary())"
   ]
  },
  {
   "cell_type": "code",
   "execution_count": 39,
   "metadata": {},
   "outputs": [],
   "source": [
    "def get_similarity(propensity_score1, propensity_score2):\n",
    "    '''Calculate similarity for instances with given propensity scores'''\n",
    "    return 1-np.abs(propensity_score1-propensity_score2)"
   ]
  },
  {
   "cell_type": "code",
   "execution_count": 40,
   "metadata": {},
   "outputs": [],
   "source": [
    "# Separate the treatment and control groups\n",
    "treatment_df = y2020_matching[y2020_matching['treatment'] == 1]\n",
    "control_df = y2020_matching[y2020_matching['treatment'] == 0]\n",
    "\n",
    "# Create an empty undirected graph\n",
    "G = nx.Graph()\n",
    "\n",
    "# Loop through all the pairs of instances\n",
    "for control_id, control_row in control_df.iterrows():\n",
    "    for treatment_id, treatment_row in treatment_df.iterrows():\n",
    "\n",
    "        # Calculate the similarity \n",
    "        similarity = get_similarity(control_row['Propensity_score'],\n",
    "                                    treatment_row['Propensity_score'])\n",
    "        if(similarity>0.95):\n",
    "        # Add an edge between the two instances weighted by the similarity between them\n",
    "            G.add_weighted_edges_from([(control_id, treatment_id, similarity)])\n",
    "        \n",
    "\n",
    "# Generate and return the maximum weight matching on the generated graph\n",
    "matching = nx.max_weight_matching(G)"
   ]
  },
  {
   "cell_type": "code",
   "execution_count": 41,
   "metadata": {},
   "outputs": [
    {
     "data": {
      "text/plain": [
       "{(17, 45),\n",
       " (28, 53),\n",
       " (41, 51),\n",
       " (48, 55),\n",
       " (49, 66),\n",
       " (52, 118),\n",
       " (56, 127),\n",
       " (57, 23),\n",
       " (59, 31),\n",
       " (67, 116),\n",
       " (68, 95),\n",
       " (72, 69),\n",
       " (74, 82),\n",
       " (80, 107),\n",
       " (81, 129),\n",
       " (89, 33),\n",
       " (92, 62),\n",
       " (96, 20),\n",
       " (98, 46),\n",
       " (104, 63),\n",
       " (105, 94),\n",
       " (109, 143),\n",
       " (110, 47),\n",
       " (115, 39),\n",
       " (124, 79),\n",
       " (146, 100)}"
      ]
     },
     "execution_count": 41,
     "metadata": {},
     "output_type": "execute_result"
    }
   ],
   "source": [
    "matching"
   ]
  },
  {
   "cell_type": "code",
   "execution_count": 42,
   "metadata": {},
   "outputs": [
    {
     "name": "stdout",
     "output_type": "stream",
     "text": [
      "we have matched 26 pairs\n",
      "length treatment 76\n",
      "length control 77\n"
     ]
    }
   ],
   "source": [
    "print(f\"we have matched {len(matching)} pairs\")\n",
    "print(f\"length treatment {len(treatment_df)}\")\n",
    "print(f\"length control {len(control_df)}\")"
   ]
  },
  {
   "cell_type": "code",
   "execution_count": 43,
   "metadata": {},
   "outputs": [
    {
     "data": {
      "text/html": [
       "<div>\n",
       "<style scoped>\n",
       "    .dataframe tbody tr th:only-of-type {\n",
       "        vertical-align: middle;\n",
       "    }\n",
       "\n",
       "    .dataframe tbody tr th {\n",
       "        vertical-align: top;\n",
       "    }\n",
       "\n",
       "    .dataframe thead th {\n",
       "        text-align: right;\n",
       "    }\n",
       "</style>\n",
       "<table border=\"1\" class=\"dataframe\">\n",
       "  <thead>\n",
       "    <tr style=\"text-align: right;\">\n",
       "      <th></th>\n",
       "      <th>Year</th>\n",
       "      <th>Country</th>\n",
       "      <th>Happiness_Score</th>\n",
       "      <th>Happiness_Rank</th>\n",
       "      <th>GDP_per_capita</th>\n",
       "      <th>Healthy_life_expectancy</th>\n",
       "      <th>Freedom</th>\n",
       "      <th>Generosity</th>\n",
       "      <th>Perceptions_of_corruption</th>\n",
       "      <th>treatment</th>\n",
       "      <th>Healthy life expectancy</th>\n",
       "      <th>Perceptions of corruption</th>\n",
       "      <th>Propensity_score</th>\n",
       "    </tr>\n",
       "  </thead>\n",
       "  <tbody>\n",
       "    <tr>\n",
       "      <th>52</th>\n",
       "      <td>2020</td>\n",
       "      <td>Hungary</td>\n",
       "      <td>6.0004</td>\n",
       "      <td>53.0</td>\n",
       "      <td>0.757679</td>\n",
       "      <td>0.709073</td>\n",
       "      <td>-0.546716</td>\n",
       "      <td>-1.184086</td>\n",
       "      <td>0.948331</td>\n",
       "      <td>1</td>\n",
       "      <td>0.448358</td>\n",
       "      <td>0.912223</td>\n",
       "      <td>0.736978</td>\n",
       "    </tr>\n",
       "    <tr>\n",
       "      <th>118</th>\n",
       "      <td>2020</td>\n",
       "      <td>Jordan</td>\n",
       "      <td>4.6334</td>\n",
       "      <td>119.0</td>\n",
       "      <td>0.510959</td>\n",
       "      <td>0.683437</td>\n",
       "      <td>-0.274331</td>\n",
       "      <td>-0.974890</td>\n",
       "      <td>0.715136</td>\n",
       "      <td>0</td>\n",
       "      <td>0.333561</td>\n",
       "      <td>-0.187106</td>\n",
       "      <td>0.739370</td>\n",
       "    </tr>\n",
       "    <tr>\n",
       "      <th>67</th>\n",
       "      <td>2020</td>\n",
       "      <td>Dominican Republic</td>\n",
       "      <td>5.6892</td>\n",
       "      <td>68.0</td>\n",
       "      <td>0.639817</td>\n",
       "      <td>0.652041</td>\n",
       "      <td>0.703330</td>\n",
       "      <td>-0.768697</td>\n",
       "      <td>0.782532</td>\n",
       "      <td>1</td>\n",
       "      <td>0.192971</td>\n",
       "      <td>0.130612</td>\n",
       "      <td>0.587159</td>\n",
       "    </tr>\n",
       "    <tr>\n",
       "      <th>116</th>\n",
       "      <td>2020</td>\n",
       "      <td>Georgia</td>\n",
       "      <td>4.6726</td>\n",
       "      <td>117.0</td>\n",
       "      <td>0.551319</td>\n",
       "      <td>0.610519</td>\n",
       "      <td>0.155208</td>\n",
       "      <td>-1.411987</td>\n",
       "      <td>0.673480</td>\n",
       "      <td>0</td>\n",
       "      <td>0.007039</td>\n",
       "      <td>-0.383482</td>\n",
       "      <td>0.575604</td>\n",
       "    </tr>\n",
       "    <tr>\n",
       "      <th>81</th>\n",
       "      <td>2020</td>\n",
       "      <td>Malaysia</td>\n",
       "      <td>5.3843</td>\n",
       "      <td>82.0</td>\n",
       "      <td>0.760356</td>\n",
       "      <td>0.693006</td>\n",
       "      <td>0.944649</td>\n",
       "      <td>0.851697</td>\n",
       "      <td>0.883407</td>\n",
       "      <td>1</td>\n",
       "      <td>0.376408</td>\n",
       "      <td>0.606158</td>\n",
       "      <td>0.517416</td>\n",
       "    </tr>\n",
       "    <tr>\n",
       "      <th>129</th>\n",
       "      <td>2020</td>\n",
       "      <td>Sri Lanka</td>\n",
       "      <td>4.3270</td>\n",
       "      <td>130.0</td>\n",
       "      <td>0.584370</td>\n",
       "      <td>0.696104</td>\n",
       "      <td>0.460780</td>\n",
       "      <td>0.630385</td>\n",
       "      <td>0.907262</td>\n",
       "      <td>0</td>\n",
       "      <td>0.390280</td>\n",
       "      <td>0.718615</td>\n",
       "      <td>0.546234</td>\n",
       "    </tr>\n",
       "  </tbody>\n",
       "</table>\n",
       "</div>"
      ],
      "text/plain": [
       "     Year             Country  Happiness_Score  Happiness_Rank  \\\n",
       "52   2020             Hungary           6.0004            53.0   \n",
       "118  2020              Jordan           4.6334           119.0   \n",
       "67   2020  Dominican Republic           5.6892            68.0   \n",
       "116  2020             Georgia           4.6726           117.0   \n",
       "81   2020            Malaysia           5.3843            82.0   \n",
       "129  2020           Sri Lanka           4.3270           130.0   \n",
       "\n",
       "     GDP_per_capita  Healthy_life_expectancy   Freedom  Generosity  \\\n",
       "52         0.757679                 0.709073 -0.546716   -1.184086   \n",
       "118        0.510959                 0.683437 -0.274331   -0.974890   \n",
       "67         0.639817                 0.652041  0.703330   -0.768697   \n",
       "116        0.551319                 0.610519  0.155208   -1.411987   \n",
       "81         0.760356                 0.693006  0.944649    0.851697   \n",
       "129        0.584370                 0.696104  0.460780    0.630385   \n",
       "\n",
       "     Perceptions_of_corruption  treatment  Healthy life expectancy  \\\n",
       "52                    0.948331          1                 0.448358   \n",
       "118                   0.715136          0                 0.333561   \n",
       "67                    0.782532          1                 0.192971   \n",
       "116                   0.673480          0                 0.007039   \n",
       "81                    0.883407          1                 0.376408   \n",
       "129                   0.907262          0                 0.390280   \n",
       "\n",
       "     Perceptions of corruption  Propensity_score  \n",
       "52                    0.912223          0.736978  \n",
       "118                  -0.187106          0.739370  \n",
       "67                    0.130612          0.587159  \n",
       "116                  -0.383482          0.575604  \n",
       "81                    0.606158          0.517416  \n",
       "129                   0.718615          0.546234  "
      ]
     },
     "execution_count": 43,
     "metadata": {},
     "output_type": "execute_result"
    }
   ],
   "source": [
    "matchingdf = y2020_matching.iloc[[subj_id for t in matching for subj_id in t]]\n",
    "matchingdf.head(6)"
   ]
  },
  {
   "cell_type": "code",
   "execution_count": 44,
   "metadata": {},
   "outputs": [
    {
     "data": {
      "image/png": "[encoded data removed]",
      "text/plain": [
       "<Figure size 360x360 with 1 Axes>"
      ]
     },
     "metadata": {
      "needs_background": "light"
     },
     "output_type": "display_data"
    }
   ],
   "source": [
    "#Happiness Score\n",
    "matchingdf.boxplot(by='treatment', column='Happiness_Score', figsize = [5, 5], grid=True)\n",
    "plt.show()"
   ]
  },
  {
   "cell_type": "code",
   "execution_count": 45,
   "metadata": {},
   "outputs": [
    {
     "data": {
      "image/png": "[encoded data removed]",
      "text/plain": [
       "<Figure size 360x360 with 1 Axes>"
      ]
     },
     "metadata": {
      "needs_background": "light"
     },
     "output_type": "display_data"
    }
   ],
   "source": [
    "# Healthy life expectancy\n",
    "matchingdf.boxplot(by='treatment', column='Healthy_life_expectancy', figsize = [5, 5], grid=True)\n",
    "plt.show()"
   ]
  },
  {
   "cell_type": "code",
   "execution_count": 46,
   "metadata": {},
   "outputs": [
    {
     "data": {
      "image/png": "[encoded data removed]",
      "text/plain": [
       "<Figure size 360x360 with 1 Axes>"
      ]
     },
     "metadata": {
      "needs_background": "light"
     },
     "output_type": "display_data"
    }
   ],
   "source": [
    "#Freedom\n",
    "matchingdf.boxplot(by='treatment', column='Freedom', figsize = [5, 5], grid=True)\n",
    "plt.show()"
   ]
  },
  {
   "cell_type": "code",
   "execution_count": 47,
   "metadata": {},
   "outputs": [
    {
     "data": {
      "image/png": "[encoded data removed]",
      "text/plain": [
       "<Figure size 360x360 with 1 Axes>"
      ]
     },
     "metadata": {
      "needs_background": "light"
     },
     "output_type": "display_data"
    }
   ],
   "source": [
    "#Generosity\n",
    "y2020_matching.boxplot(by='treatment', column='Generosity', figsize = [5, 5], grid=True)\n",
    "plt.show()"
   ]
  },
  {
   "cell_type": "raw",
   "metadata": {},
   "source": [
    "#Perceptions of corruption\n",
    "matchingdf.boxplot(by='treatment', column='Perceptions_of_corruption', figsize = [5, 5], grid=True)\n",
    "plt.show()"
   ]
  },
  {
   "cell_type": "code",
   "execution_count": 48,
   "metadata": {},
   "outputs": [
    {
     "data": {
      "image/png": "[encoded data removed]",
      "text/plain": [
       "<Figure size 720x1080 with 10 Axes>"
      ]
     },
     "metadata": {
      "needs_background": "light"
     },
     "output_type": "display_data"
    }
   ],
   "source": [
    "# Comparison of matched vs not matched datasets\n",
    "features = ['Happiness_Score','Healthy_life_expectancy', 'Freedom', 'Generosity', 'Perceptions_of_corruption']\n",
    "\n",
    "fig, axs = plt.subplots(len(features), 2, sharex = True, figsize = (10, 15))\n",
    "fig.suptitle(\"Comparative matched vs. non-matched (mean and std)\", fontsize =20)\n",
    "\n",
    "for i, feature in enumerate(features):\n",
    "    y2020_matching.boxplot(by='treatment', column=feature, figsize = (15, 15), grid=True, ax = axs[i//1][0])\n",
    "    axs[i//1][0].set_title(feature)\n",
    "for i, feature in enumerate(features):\n",
    "    matchingdf.boxplot(by='treatment', column=feature, figsize = (15, 15), grid=True, ax = axs[i//1][1])\n",
    "    axs[i//1][1].set_title(feature+\" (matched)\")"
   ]
  },
  {
   "cell_type": "markdown",
   "metadata": {},
   "source": [
    "We can see a notable difference between the model with non-matched and the one with matched samples in the majority of values.\n",
    "\n",
    "All the variables involved in the calculation of the Propensity score are much more equal.\n",
    "Although the values have been equalized, we can say that the richest countries are also the happiest\n",
    "\n",
    "Another way to visualize would allow us to have a better inside knowledge on our new data."
   ]
  },
  {
   "cell_type": "code",
   "execution_count": 49,
   "metadata": {},
   "outputs": [
    {
     "data": {
      "image/png": "[encoded data removed]",
      "text/plain": [
       "<Figure size 720x1080 with 10 Axes>"
      ]
     },
     "metadata": {
      "needs_background": "light"
     },
     "output_type": "display_data"
    }
   ],
   "source": [
    "# Comparison of matched vs not matched datasets (bis)\n",
    "\n",
    "warnings.filterwarnings('ignore')\n",
    "fig, axs = plt.subplots(5, 2, sharex = True, figsize = (10,15))\n",
    "fig.suptitle(\"Comparative matched vs. non-matched (mean and std)\", fontsize =25)\n",
    "\n",
    "for i,feature in enumerate(features):\n",
    "    sns.swarmplot(x=\"treatment\", y=feature, data=y2020_matching, ax = axs[i//1][0])\n",
    "    axs[i//1][0].set_title(feature)\n",
    "for i,feature in enumerate(features):\n",
    "    sns.swarmplot(x=\"treatment\", y=feature, data=matchingdf, ax = axs[i//1][1])\n",
    "    axs[i//1][1].set_title(feature+\" (matched)\")"
   ]
  },
  {
   "cell_type": "code",
   "execution_count": 50,
   "metadata": {},
   "outputs": [
    {
     "data": {
      "image/png": "[encoded data removed]",
      "text/plain": [
       "<Figure size 720x1080 with 10 Axes>"
      ]
     },
     "metadata": {
      "needs_background": "light"
     },
     "output_type": "display_data"
    }
   ],
   "source": [
    "fig, axs = plt.subplots(5, 2, sharex = True, figsize = (10,15))\n",
    "fig.suptitle(\"Comparative matched vs. non-matched (mean and std)\", fontsize =25)\n",
    "\n",
    "for i,feature in enumerate(features):\n",
    "    sns.barplot(x=\"treatment\", y=feature, data = y2020_matching, ax = axs[i//1][0])\n",
    "    axs[i//1][0].set_title(feature)\n",
    "for i,feature in enumerate(features):\n",
    "    sns.barplot(x=\"treatment\", y=feature, data = matchingdf, ax = axs[i//1][1])\n",
    "    axs[i//1][1].set_title(feature+\" (matched)\")"
   ]
  },
  {
   "cell_type": "markdown",
   "metadata": {},
   "source": [
    "# How has the coronavirus impacted happiness?"
   ]
  },
  {
   "cell_type": "markdown",
   "metadata": {},
   "source": [
    "With the current situation, marked by the presence of the coronavirus, we wanted to try to study the impact of the pandemic on the happiness of the countries. It is true that we do not have a large amount of data, but we consider that it is enough to draw some conclusions. For this we are going to use two datasheets published by John Hopkins University that consist of the number of confirmed cases and the number of deaths between January 22, 2020 and April 30, 2020."
   ]
  },
  {
   "cell_type": "markdown",
   "metadata": {},
   "source": [
    "## Preprocessing \n",
    "In the first place, we read the data, and we eliminate some columns that do not provide us with information to our study"
   ]
  },
  {
   "cell_type": "code",
   "execution_count": 122,
   "metadata": {},
   "outputs": [
    {
     "data": {
      "text/html": [
       "<div>\n",
       "<style scoped>\n",
       "    .dataframe tbody tr th:only-of-type {\n",
       "        vertical-align: middle;\n",
       "    }\n",
       "\n",
       "    .dataframe tbody tr th {\n",
       "        vertical-align: top;\n",
       "    }\n",
       "\n",
       "    .dataframe thead th {\n",
       "        text-align: right;\n",
       "    }\n",
       "</style>\n",
       "<table border=\"1\" class=\"dataframe\">\n",
       "  <thead>\n",
       "    <tr style=\"text-align: right;\">\n",
       "      <th></th>\n",
       "      <th>Country/Region</th>\n",
       "      <th>1/22/20</th>\n",
       "      <th>1/23/20</th>\n",
       "      <th>1/24/20</th>\n",
       "      <th>1/25/20</th>\n",
       "      <th>1/26/20</th>\n",
       "      <th>1/27/20</th>\n",
       "      <th>1/28/20</th>\n",
       "      <th>1/29/20</th>\n",
       "      <th>1/30/20</th>\n",
       "      <th>...</th>\n",
       "      <th>4/21/20</th>\n",
       "      <th>4/22/20</th>\n",
       "      <th>4/23/20</th>\n",
       "      <th>4/24/20</th>\n",
       "      <th>4/25/20</th>\n",
       "      <th>4/26/20</th>\n",
       "      <th>4/27/20</th>\n",
       "      <th>4/28/20</th>\n",
       "      <th>4/29/20</th>\n",
       "      <th>4/30/20</th>\n",
       "    </tr>\n",
       "  </thead>\n",
       "  <tbody>\n",
       "    <tr>\n",
       "      <th>0</th>\n",
       "      <td>Afghanistan</td>\n",
       "      <td>0</td>\n",
       "      <td>0</td>\n",
       "      <td>0</td>\n",
       "      <td>0</td>\n",
       "      <td>0</td>\n",
       "      <td>0</td>\n",
       "      <td>0</td>\n",
       "      <td>0</td>\n",
       "      <td>0</td>\n",
       "      <td>...</td>\n",
       "      <td>1092</td>\n",
       "      <td>1176</td>\n",
       "      <td>1279</td>\n",
       "      <td>1351</td>\n",
       "      <td>1463</td>\n",
       "      <td>1531</td>\n",
       "      <td>1703</td>\n",
       "      <td>1828</td>\n",
       "      <td>1939</td>\n",
       "      <td>2171</td>\n",
       "    </tr>\n",
       "    <tr>\n",
       "      <th>1</th>\n",
       "      <td>Albania</td>\n",
       "      <td>0</td>\n",
       "      <td>0</td>\n",
       "      <td>0</td>\n",
       "      <td>0</td>\n",
       "      <td>0</td>\n",
       "      <td>0</td>\n",
       "      <td>0</td>\n",
       "      <td>0</td>\n",
       "      <td>0</td>\n",
       "      <td>...</td>\n",
       "      <td>609</td>\n",
       "      <td>634</td>\n",
       "      <td>663</td>\n",
       "      <td>678</td>\n",
       "      <td>712</td>\n",
       "      <td>726</td>\n",
       "      <td>736</td>\n",
       "      <td>750</td>\n",
       "      <td>766</td>\n",
       "      <td>773</td>\n",
       "    </tr>\n",
       "    <tr>\n",
       "      <th>2</th>\n",
       "      <td>Algeria</td>\n",
       "      <td>0</td>\n",
       "      <td>0</td>\n",
       "      <td>0</td>\n",
       "      <td>0</td>\n",
       "      <td>0</td>\n",
       "      <td>0</td>\n",
       "      <td>0</td>\n",
       "      <td>0</td>\n",
       "      <td>0</td>\n",
       "      <td>...</td>\n",
       "      <td>2811</td>\n",
       "      <td>2910</td>\n",
       "      <td>3007</td>\n",
       "      <td>3127</td>\n",
       "      <td>3256</td>\n",
       "      <td>3382</td>\n",
       "      <td>3517</td>\n",
       "      <td>3649</td>\n",
       "      <td>3848</td>\n",
       "      <td>4006</td>\n",
       "    </tr>\n",
       "    <tr>\n",
       "      <th>3</th>\n",
       "      <td>Andorra</td>\n",
       "      <td>0</td>\n",
       "      <td>0</td>\n",
       "      <td>0</td>\n",
       "      <td>0</td>\n",
       "      <td>0</td>\n",
       "      <td>0</td>\n",
       "      <td>0</td>\n",
       "      <td>0</td>\n",
       "      <td>0</td>\n",
       "      <td>...</td>\n",
       "      <td>717</td>\n",
       "      <td>723</td>\n",
       "      <td>723</td>\n",
       "      <td>731</td>\n",
       "      <td>738</td>\n",
       "      <td>738</td>\n",
       "      <td>743</td>\n",
       "      <td>743</td>\n",
       "      <td>743</td>\n",
       "      <td>745</td>\n",
       "    </tr>\n",
       "    <tr>\n",
       "      <th>4</th>\n",
       "      <td>Angola</td>\n",
       "      <td>0</td>\n",
       "      <td>0</td>\n",
       "      <td>0</td>\n",
       "      <td>0</td>\n",
       "      <td>0</td>\n",
       "      <td>0</td>\n",
       "      <td>0</td>\n",
       "      <td>0</td>\n",
       "      <td>0</td>\n",
       "      <td>...</td>\n",
       "      <td>24</td>\n",
       "      <td>25</td>\n",
       "      <td>25</td>\n",
       "      <td>25</td>\n",
       "      <td>25</td>\n",
       "      <td>26</td>\n",
       "      <td>27</td>\n",
       "      <td>27</td>\n",
       "      <td>27</td>\n",
       "      <td>27</td>\n",
       "    </tr>\n",
       "  </tbody>\n",
       "</table>\n",
       "<p>5 rows × 101 columns</p>\n",
       "</div>"
      ],
      "text/plain": [
       "  Country/Region  1/22/20  1/23/20  1/24/20  1/25/20  1/26/20  1/27/20  \\\n",
       "0    Afghanistan        0        0        0        0        0        0   \n",
       "1        Albania        0        0        0        0        0        0   \n",
       "2        Algeria        0        0        0        0        0        0   \n",
       "3        Andorra        0        0        0        0        0        0   \n",
       "4         Angola        0        0        0        0        0        0   \n",
       "\n",
       "   1/28/20  1/29/20  1/30/20  ...  4/21/20  4/22/20  4/23/20  4/24/20  \\\n",
       "0        0        0        0  ...     1092     1176     1279     1351   \n",
       "1        0        0        0  ...      609      634      663      678   \n",
       "2        0        0        0  ...     2811     2910     3007     3127   \n",
       "3        0        0        0  ...      717      723      723      731   \n",
       "4        0        0        0  ...       24       25       25       25   \n",
       "\n",
       "   4/25/20  4/26/20  4/27/20  4/28/20  4/29/20  4/30/20  \n",
       "0     1463     1531     1703     1828     1939     2171  \n",
       "1      712      726      736      750      766      773  \n",
       "2     3256     3382     3517     3649     3848     4006  \n",
       "3      738      738      743      743      743      745  \n",
       "4       25       26       27       27       27       27  \n",
       "\n",
       "[5 rows x 101 columns]"
      ]
     },
     "execution_count": 122,
     "metadata": {},
     "output_type": "execute_result"
    }
   ],
   "source": [
    "corona_infections = pd.read_csv(\"Data/covid19_Confirmed_dataset.csv\")\n",
    "corona_infections.drop(['Province/State','Lat', 'Long'], axis=1, inplace=True)\n",
    "corona_infections.head()"
   ]
  },
  {
   "cell_type": "markdown",
   "metadata": {},
   "source": [
    "We group by country or region name, since in large countries like China, the information provided is divided by areas within a country, not by the entire country."
   ]
  },
  {
   "cell_type": "code",
   "execution_count": 123,
   "metadata": {},
   "outputs": [],
   "source": [
    "\n",
    "corona_infections = corona_infections.groupby('Country/Region').sum()\n"
   ]
  },
  {
   "cell_type": "markdown",
   "metadata": {},
   "source": [
    "To be able to do the study, we must find a good measure in which we can compare the countries between them. We considered that the best was the maximum infection rate"
   ]
  },
  {
   "cell_type": "code",
   "execution_count": 124,
   "metadata": {},
   "outputs": [],
   "source": [
    "max_infection_rate = []\n",
    "countries = corona_infections.index\n",
    "\n",
    "for country in countries :\n",
    "    max_infection_rate.append(corona_infections.loc[country].diff().max())\n",
    "\n",
    "corona_infections['max infection rate'] = max_infection_rate"
   ]
  },
  {
   "cell_type": "code",
   "execution_count": 125,
   "metadata": {},
   "outputs": [
    {
     "data": {
      "text/html": [
       "<div>\n",
       "<style scoped>\n",
       "    .dataframe tbody tr th:only-of-type {\n",
       "        vertical-align: middle;\n",
       "    }\n",
       "\n",
       "    .dataframe tbody tr th {\n",
       "        vertical-align: top;\n",
       "    }\n",
       "\n",
       "    .dataframe thead th {\n",
       "        text-align: right;\n",
       "    }\n",
       "</style>\n",
       "<table border=\"1\" class=\"dataframe\">\n",
       "  <thead>\n",
       "    <tr style=\"text-align: right;\">\n",
       "      <th></th>\n",
       "      <th>max infection rate</th>\n",
       "    </tr>\n",
       "    <tr>\n",
       "      <th>Country/Region</th>\n",
       "      <th></th>\n",
       "    </tr>\n",
       "  </thead>\n",
       "  <tbody>\n",
       "    <tr>\n",
       "      <th>Afghanistan</th>\n",
       "      <td>232.0</td>\n",
       "    </tr>\n",
       "    <tr>\n",
       "      <th>Albania</th>\n",
       "      <td>34.0</td>\n",
       "    </tr>\n",
       "    <tr>\n",
       "      <th>Algeria</th>\n",
       "      <td>199.0</td>\n",
       "    </tr>\n",
       "    <tr>\n",
       "      <th>Andorra</th>\n",
       "      <td>43.0</td>\n",
       "    </tr>\n",
       "    <tr>\n",
       "      <th>Angola</th>\n",
       "      <td>5.0</td>\n",
       "    </tr>\n",
       "    <tr>\n",
       "      <th>...</th>\n",
       "      <td>...</td>\n",
       "    </tr>\n",
       "    <tr>\n",
       "      <th>West Bank and Gaza</th>\n",
       "      <td>66.0</td>\n",
       "    </tr>\n",
       "    <tr>\n",
       "      <th>Western Sahara</th>\n",
       "      <td>4.0</td>\n",
       "    </tr>\n",
       "    <tr>\n",
       "      <th>Yemen</th>\n",
       "      <td>5.0</td>\n",
       "    </tr>\n",
       "    <tr>\n",
       "      <th>Zambia</th>\n",
       "      <td>9.0</td>\n",
       "    </tr>\n",
       "    <tr>\n",
       "      <th>Zimbabwe</th>\n",
       "      <td>8.0</td>\n",
       "    </tr>\n",
       "  </tbody>\n",
       "</table>\n",
       "<p>187 rows × 1 columns</p>\n",
       "</div>"
      ],
      "text/plain": [
       "                    max infection rate\n",
       "Country/Region                        \n",
       "Afghanistan                      232.0\n",
       "Albania                           34.0\n",
       "Algeria                          199.0\n",
       "Andorra                           43.0\n",
       "Angola                             5.0\n",
       "...                                ...\n",
       "West Bank and Gaza                66.0\n",
       "Western Sahara                     4.0\n",
       "Yemen                              5.0\n",
       "Zambia                             9.0\n",
       "Zimbabwe                           8.0\n",
       "\n",
       "[187 rows x 1 columns]"
      ]
     },
     "execution_count": 125,
     "metadata": {},
     "output_type": "execute_result"
    }
   ],
   "source": [
    "corona_infections = pd.DataFrame(corona_infections.loc[:,'max infection rate'])\n",
    "corona_infections"
   ]
  },
  {
   "cell_type": "code",
   "execution_count": 120,
   "metadata": {
    "scrolled": true
   },
   "outputs": [],
   "source": [
    "y2020corona = y2020.copy()"
   ]
  },
  {
   "cell_type": "code",
   "execution_count": 121,
   "metadata": {},
   "outputs": [
    {
     "data": {
      "text/html": [
       "<div>\n",
       "<style scoped>\n",
       "    .dataframe tbody tr th:only-of-type {\n",
       "        vertical-align: middle;\n",
       "    }\n",
       "\n",
       "    .dataframe tbody tr th {\n",
       "        vertical-align: top;\n",
       "    }\n",
       "\n",
       "    .dataframe thead th {\n",
       "        text-align: right;\n",
       "    }\n",
       "</style>\n",
       "<table border=\"1\" class=\"dataframe\">\n",
       "  <thead>\n",
       "    <tr style=\"text-align: right;\">\n",
       "      <th></th>\n",
       "      <th>Year</th>\n",
       "      <th>Happiness_Score</th>\n",
       "      <th>Happiness_Rank</th>\n",
       "      <th>GDP_per_capita</th>\n",
       "      <th>Healthy_life_expectancy</th>\n",
       "      <th>Freedom</th>\n",
       "      <th>Generosity</th>\n",
       "      <th>Perceptions_of_corruption</th>\n",
       "    </tr>\n",
       "    <tr>\n",
       "      <th>Country/Region</th>\n",
       "      <th></th>\n",
       "      <th></th>\n",
       "      <th></th>\n",
       "      <th></th>\n",
       "      <th></th>\n",
       "      <th></th>\n",
       "      <th></th>\n",
       "      <th></th>\n",
       "    </tr>\n",
       "  </thead>\n",
       "  <tbody>\n",
       "    <tr>\n",
       "      <th>Finland</th>\n",
       "      <td>2020</td>\n",
       "      <td>7.8087</td>\n",
       "      <td>1.0</td>\n",
       "      <td>0.836344</td>\n",
       "      <td>0.844840</td>\n",
       "      <td>0.955351</td>\n",
       "      <td>0.280215</td>\n",
       "      <td>0.103730</td>\n",
       "    </tr>\n",
       "    <tr>\n",
       "      <th>Denmark</th>\n",
       "      <td>2020</td>\n",
       "      <td>7.6456</td>\n",
       "      <td>2.0</td>\n",
       "      <td>0.863519</td>\n",
       "      <td>0.860714</td>\n",
       "      <td>0.959279</td>\n",
       "      <td>0.426093</td>\n",
       "      <td>0.071089</td>\n",
       "    </tr>\n",
       "    <tr>\n",
       "      <th>Switzerland</th>\n",
       "      <td>2020</td>\n",
       "      <td>7.5599</td>\n",
       "      <td>3.0</td>\n",
       "      <td>0.905054</td>\n",
       "      <td>0.914502</td>\n",
       "      <td>0.907228</td>\n",
       "      <td>0.472182</td>\n",
       "      <td>0.234856</td>\n",
       "    </tr>\n",
       "    <tr>\n",
       "      <th>Iceland</th>\n",
       "      <td>2020</td>\n",
       "      <td>7.5045</td>\n",
       "      <td>4.0</td>\n",
       "      <td>0.863228</td>\n",
       "      <td>0.879619</td>\n",
       "      <td>0.954867</td>\n",
       "      <td>0.635875</td>\n",
       "      <td>0.728899</td>\n",
       "    </tr>\n",
       "    <tr>\n",
       "      <th>Norway</th>\n",
       "      <td>2020</td>\n",
       "      <td>7.4880</td>\n",
       "      <td>5.0</td>\n",
       "      <td>0.926810</td>\n",
       "      <td>0.885972</td>\n",
       "      <td>0.966724</td>\n",
       "      <td>0.505402</td>\n",
       "      <td>0.185800</td>\n",
       "    </tr>\n",
       "  </tbody>\n",
       "</table>\n",
       "</div>"
      ],
      "text/plain": [
       "                Year  Happiness_Score  Happiness_Rank  GDP_per_capita  \\\n",
       "Country/Region                                                          \n",
       "Finland         2020           7.8087             1.0        0.836344   \n",
       "Denmark         2020           7.6456             2.0        0.863519   \n",
       "Switzerland     2020           7.5599             3.0        0.905054   \n",
       "Iceland         2020           7.5045             4.0        0.863228   \n",
       "Norway          2020           7.4880             5.0        0.926810   \n",
       "\n",
       "                Healthy_life_expectancy   Freedom  Generosity  \\\n",
       "Country/Region                                                  \n",
       "Finland                        0.844840  0.955351    0.280215   \n",
       "Denmark                        0.860714  0.959279    0.426093   \n",
       "Switzerland                    0.914502  0.907228    0.472182   \n",
       "Iceland                        0.879619  0.954867    0.635875   \n",
       "Norway                         0.885972  0.966724    0.505402   \n",
       "\n",
       "                Perceptions_of_corruption  \n",
       "Country/Region                             \n",
       "Finland                          0.103730  \n",
       "Denmark                          0.071089  \n",
       "Switzerland                      0.234856  \n",
       "Iceland                          0.728899  \n",
       "Norway                           0.185800  "
      ]
     },
     "execution_count": 121,
     "metadata": {},
     "output_type": "execute_result"
    }
   ],
   "source": [
    "y2020corona.columns\n",
    "y2020corona.rename(columns ={'Country':'Country/Region'}, inplace = True)\n",
    "y2020corona.set_index(\"Country/Region\", inplace =True)\n",
    "y2020corona.head()"
   ]
  },
  {
   "cell_type": "code",
   "execution_count": 127,
   "metadata": {},
   "outputs": [
    {
     "data": {
      "text/html": [
       "<div>\n",
       "<style scoped>\n",
       "    .dataframe tbody tr th:only-of-type {\n",
       "        vertical-align: middle;\n",
       "    }\n",
       "\n",
       "    .dataframe tbody tr th {\n",
       "        vertical-align: top;\n",
       "    }\n",
       "\n",
       "    .dataframe thead th {\n",
       "        text-align: right;\n",
       "    }\n",
       "</style>\n",
       "<table border=\"1\" class=\"dataframe\">\n",
       "  <thead>\n",
       "    <tr style=\"text-align: right;\">\n",
       "      <th></th>\n",
       "      <th>max infection rate</th>\n",
       "      <th>Year</th>\n",
       "      <th>Happiness_Score</th>\n",
       "      <th>Happiness_Rank</th>\n",
       "      <th>GDP_per_capita</th>\n",
       "      <th>Healthy_life_expectancy</th>\n",
       "      <th>Freedom</th>\n",
       "      <th>Generosity</th>\n",
       "      <th>Perceptions_of_corruption</th>\n",
       "    </tr>\n",
       "    <tr>\n",
       "      <th>Country/Region</th>\n",
       "      <th></th>\n",
       "      <th></th>\n",
       "      <th></th>\n",
       "      <th></th>\n",
       "      <th></th>\n",
       "      <th></th>\n",
       "      <th></th>\n",
       "      <th></th>\n",
       "      <th></th>\n",
       "    </tr>\n",
       "  </thead>\n",
       "  <tbody>\n",
       "    <tr>\n",
       "      <th>Afghanistan</th>\n",
       "      <td>232.0</td>\n",
       "      <td>2020</td>\n",
       "      <td>2.5669</td>\n",
       "      <td>153.0</td>\n",
       "      <td>0.195686</td>\n",
       "      <td>0.233827</td>\n",
       "      <td>0.000000</td>\n",
       "      <td>0.237331</td>\n",
       "      <td>0.997701</td>\n",
       "    </tr>\n",
       "    <tr>\n",
       "      <th>Albania</th>\n",
       "      <td>34.0</td>\n",
       "      <td>2020</td>\n",
       "      <td>4.8827</td>\n",
       "      <td>105.0</td>\n",
       "      <td>0.590009</td>\n",
       "      <td>0.743821</td>\n",
       "      <td>0.666329</td>\n",
       "      <td>0.300147</td>\n",
       "      <td>0.952432</td>\n",
       "    </tr>\n",
       "    <tr>\n",
       "      <th>Algeria</th>\n",
       "      <td>199.0</td>\n",
       "      <td>2020</td>\n",
       "      <td>5.0051</td>\n",
       "      <td>100.0</td>\n",
       "      <td>0.614219</td>\n",
       "      <td>0.655132</td>\n",
       "      <td>0.121084</td>\n",
       "      <td>0.208691</td>\n",
       "      <td>0.757690</td>\n",
       "    </tr>\n",
       "    <tr>\n",
       "      <th>Argentina</th>\n",
       "      <td>291.0</td>\n",
       "      <td>2020</td>\n",
       "      <td>5.9747</td>\n",
       "      <td>55.0</td>\n",
       "      <td>0.669279</td>\n",
       "      <td>0.746848</td>\n",
       "      <td>0.751280</td>\n",
       "      <td>0.123023</td>\n",
       "      <td>0.886685</td>\n",
       "    </tr>\n",
       "    <tr>\n",
       "      <th>Armenia</th>\n",
       "      <td>134.0</td>\n",
       "      <td>2020</td>\n",
       "      <td>4.6768</td>\n",
       "      <td>116.0</td>\n",
       "      <td>0.525981</td>\n",
       "      <td>0.681884</td>\n",
       "      <td>0.545351</td>\n",
       "      <td>0.188177</td>\n",
       "      <td>0.803778</td>\n",
       "    </tr>\n",
       "  </tbody>\n",
       "</table>\n",
       "</div>"
      ],
      "text/plain": [
       "                max infection rate  Year  Happiness_Score  Happiness_Rank  \\\n",
       "Country/Region                                                              \n",
       "Afghanistan                  232.0  2020           2.5669           153.0   \n",
       "Albania                       34.0  2020           4.8827           105.0   \n",
       "Algeria                      199.0  2020           5.0051           100.0   \n",
       "Argentina                    291.0  2020           5.9747            55.0   \n",
       "Armenia                      134.0  2020           4.6768           116.0   \n",
       "\n",
       "                GDP_per_capita  Healthy_life_expectancy   Freedom  Generosity  \\\n",
       "Country/Region                                                                  \n",
       "Afghanistan           0.195686                 0.233827  0.000000    0.237331   \n",
       "Albania               0.590009                 0.743821  0.666329    0.300147   \n",
       "Algeria               0.614219                 0.655132  0.121084    0.208691   \n",
       "Argentina             0.669279                 0.746848  0.751280    0.123023   \n",
       "Armenia               0.525981                 0.681884  0.545351    0.188177   \n",
       "\n",
       "                Perceptions_of_corruption  \n",
       "Country/Region                             \n",
       "Afghanistan                      0.997701  \n",
       "Albania                          0.952432  \n",
       "Algeria                          0.757690  \n",
       "Argentina                        0.886685  \n",
       "Armenia                          0.803778  "
      ]
     },
     "execution_count": 127,
     "metadata": {},
     "output_type": "execute_result"
    }
   ],
   "source": [
    "\n",
    "data_infec_happy = corona_infections.join(y2020corona, how = 'inner')\n",
    "data_infec_happy.head()"
   ]
  },
  {
   "cell_type": "code",
   "execution_count": 128,
   "metadata": {
    "scrolled": true
   },
   "outputs": [
    {
     "data": {
      "text/plain": [
       "<AxesSubplot:xlabel='GDP_per_capita', ylabel='max infection rate'>"
      ]
     },
     "execution_count": 128,
     "metadata": {},
     "output_type": "execute_result"
    },
    {
     "data": {
      "image/png": "[encoded data removed]",
      "text/plain": [
       "<Figure size 432x288 with 1 Axes>"
      ]
     },
     "metadata": {
      "needs_background": "light"
     },
     "output_type": "display_data"
    }
   ],
   "source": [
    "\n",
    "x = data_infec_happy['GDP_per_capita']\n",
    "y = data_infec_happy['max infection rate']\n",
    "sns.scatterplot(x,np.log(y)) # Seaborn (applying log for increasing scale on x axis)"
   ]
  },
  {
   "cell_type": "code",
   "execution_count": null,
   "metadata": {},
   "outputs": [],
   "source": [
    "# GDP vs MIR"
   ]
  },
  {
   "cell_type": "code",
   "execution_count": 129,
   "metadata": {
    "scrolled": true
   },
   "outputs": [
    {
     "data": {
      "text/plain": [
       "<AxesSubplot:xlabel='GDP_per_capita', ylabel='max infection rate'>"
      ]
     },
     "execution_count": 129,
     "metadata": {},
     "output_type": "execute_result"
    },
    {
     "data": {
      "image/png": "[encoded data removed]",
      "text/plain": [
       "<Figure size 432x288 with 1 Axes>"
      ]
     },
     "metadata": {
      "needs_background": "light"
     },
     "output_type": "display_data"
    }
   ],
   "source": [
    "sns.regplot(x, np.log(y))"
   ]
  },
  {
   "cell_type": "code",
   "execution_count": null,
   "metadata": {},
   "outputs": [],
   "source": [
    "# HEALTHY LIFE vs MIR"
   ]
  },
  {
   "cell_type": "code",
   "execution_count": 131,
   "metadata": {},
   "outputs": [
    {
     "data": {
      "text/plain": [
       "<AxesSubplot:xlabel='Healthy_life_expectancy', ylabel='max infection rate'>"
      ]
     },
     "execution_count": 131,
     "metadata": {},
     "output_type": "execute_result"
    },
    {
     "data": {
      "image/png": "[encoded data removed]",
      "text/plain": [
       "<Figure size 432x288 with 1 Axes>"
      ]
     },
     "metadata": {
      "needs_background": "light"
     },
     "output_type": "display_data"
    }
   ],
   "source": [
    "\n",
    "x = data_infec_happy['Healthy_life_expectancy']\n",
    "y = data_infec_happy['max infection rate']\n",
    "sns.scatterplot(x,np.log(y))    "
   ]
  },
  {
   "cell_type": "code",
   "execution_count": 132,
   "metadata": {
    "scrolled": true
   },
   "outputs": [
    {
     "data": {
      "text/plain": [
       "<AxesSubplot:xlabel='Healthy_life_expectancy', ylabel='max infection rate'>"
      ]
     },
     "execution_count": 132,
     "metadata": {},
     "output_type": "execute_result"
    },
    {
     "data": {
      "image/png": "[encoded data removed]",
      "text/plain": [
       "<Figure size 432x288 with 1 Axes>"
      ]
     },
     "metadata": {
      "needs_background": "light"
     },
     "output_type": "display_data"
    }
   ],
   "source": [
    "sns.regplot(x,np.log(y))"
   ]
  },
  {
   "cell_type": "code",
   "execution_count": 93,
   "metadata": {},
   "outputs": [],
   "source": [
    "#LAS MUERTES"
   ]
  },
  {
   "cell_type": "markdown",
   "metadata": {},
   "source": [
    "Since this analysis could be biased because the developed countries may have more confirmed cases because they conduct COVID-19 test more than the developing countries, so another analysis should be done to see test the significance of the result..\n",
    "In the same way that we have done with infections, we do with deaths, since the dataset format is the same in both cases"
   ]
  },
  {
   "cell_type": "code",
   "execution_count": 134,
   "metadata": {},
   "outputs": [],
   "source": [
    "corona_deaths = pd.read_csv('Data\\covid19_deaths_dataset.csv')\n",
    "corona_deaths.drop(['Lat','Long'], axis=1, inplace=True)\n",
    "\n",
    "corona_deaths = corona_deaths.groupby('Country/Region').sum()"
   ]
  },
  {
   "cell_type": "code",
   "execution_count": 135,
   "metadata": {},
   "outputs": [],
   "source": [
    "max_death_rate = []\n",
    "countries = corona_deaths.index\n",
    "for country in countries:\n",
    "    max_death_rate.append(corona_deaths.loc[country].diff().max())\n"
   ]
  },
  {
   "cell_type": "code",
   "execution_count": 136,
   "metadata": {},
   "outputs": [
    {
     "data": {
      "text/html": [
       "<div>\n",
       "<style scoped>\n",
       "    .dataframe tbody tr th:only-of-type {\n",
       "        vertical-align: middle;\n",
       "    }\n",
       "\n",
       "    .dataframe tbody tr th {\n",
       "        vertical-align: top;\n",
       "    }\n",
       "\n",
       "    .dataframe thead th {\n",
       "        text-align: right;\n",
       "    }\n",
       "</style>\n",
       "<table border=\"1\" class=\"dataframe\">\n",
       "  <thead>\n",
       "    <tr style=\"text-align: right;\">\n",
       "      <th></th>\n",
       "      <th>max death rate</th>\n",
       "    </tr>\n",
       "    <tr>\n",
       "      <th>Country/Region</th>\n",
       "      <th></th>\n",
       "    </tr>\n",
       "  </thead>\n",
       "  <tbody>\n",
       "    <tr>\n",
       "      <th>Afghanistan</th>\n",
       "      <td>7.0</td>\n",
       "    </tr>\n",
       "    <tr>\n",
       "      <th>Albania</th>\n",
       "      <td>4.0</td>\n",
       "    </tr>\n",
       "    <tr>\n",
       "      <th>Algeria</th>\n",
       "      <td>30.0</td>\n",
       "    </tr>\n",
       "    <tr>\n",
       "      <th>Andorra</th>\n",
       "      <td>4.0</td>\n",
       "    </tr>\n",
       "    <tr>\n",
       "      <th>Angola</th>\n",
       "      <td>2.0</td>\n",
       "    </tr>\n",
       "    <tr>\n",
       "      <th>...</th>\n",
       "      <td>...</td>\n",
       "    </tr>\n",
       "    <tr>\n",
       "      <th>West Bank and Gaza</th>\n",
       "      <td>1.0</td>\n",
       "    </tr>\n",
       "    <tr>\n",
       "      <th>Western Sahara</th>\n",
       "      <td>0.0</td>\n",
       "    </tr>\n",
       "    <tr>\n",
       "      <th>Yemen</th>\n",
       "      <td>2.0</td>\n",
       "    </tr>\n",
       "    <tr>\n",
       "      <th>Zambia</th>\n",
       "      <td>1.0</td>\n",
       "    </tr>\n",
       "    <tr>\n",
       "      <th>Zimbabwe</th>\n",
       "      <td>1.0</td>\n",
       "    </tr>\n",
       "  </tbody>\n",
       "</table>\n",
       "<p>187 rows × 1 columns</p>\n",
       "</div>"
      ],
      "text/plain": [
       "                    max death rate\n",
       "Country/Region                    \n",
       "Afghanistan                    7.0\n",
       "Albania                        4.0\n",
       "Algeria                       30.0\n",
       "Andorra                        4.0\n",
       "Angola                         2.0\n",
       "...                            ...\n",
       "West Bank and Gaza             1.0\n",
       "Western Sahara                 0.0\n",
       "Yemen                          2.0\n",
       "Zambia                         1.0\n",
       "Zimbabwe                       1.0\n",
       "\n",
       "[187 rows x 1 columns]"
      ]
     },
     "execution_count": 136,
     "metadata": {},
     "output_type": "execute_result"
    }
   ],
   "source": [
    "corona_deaths['max death rate'] = max_death_rate\n",
    "corona_deaths = pd.DataFrame(covid19_deaths.loc[:, 'max death rate'])\n",
    "corona_deaths"
   ]
  },
  {
   "cell_type": "markdown",
   "metadata": {},
   "source": [
    "In this case, we join the data frame that contains the data of happiness and maximum infection rate with the maximum mortality rate."
   ]
  },
  {
   "cell_type": "code",
   "execution_count": 137,
   "metadata": {
    "scrolled": true
   },
   "outputs": [
    {
     "data": {
      "text/html": [
       "<div>\n",
       "<style scoped>\n",
       "    .dataframe tbody tr th:only-of-type {\n",
       "        vertical-align: middle;\n",
       "    }\n",
       "\n",
       "    .dataframe tbody tr th {\n",
       "        vertical-align: top;\n",
       "    }\n",
       "\n",
       "    .dataframe thead th {\n",
       "        text-align: right;\n",
       "    }\n",
       "</style>\n",
       "<table border=\"1\" class=\"dataframe\">\n",
       "  <thead>\n",
       "    <tr style=\"text-align: right;\">\n",
       "      <th></th>\n",
       "      <th>max death rate</th>\n",
       "      <th>max infection rate</th>\n",
       "      <th>Year</th>\n",
       "      <th>Happiness_Score</th>\n",
       "      <th>Happiness_Rank</th>\n",
       "      <th>GDP_per_capita</th>\n",
       "      <th>Healthy_life_expectancy</th>\n",
       "      <th>Freedom</th>\n",
       "      <th>Generosity</th>\n",
       "      <th>Perceptions_of_corruption</th>\n",
       "    </tr>\n",
       "    <tr>\n",
       "      <th>Country/Region</th>\n",
       "      <th></th>\n",
       "      <th></th>\n",
       "      <th></th>\n",
       "      <th></th>\n",
       "      <th></th>\n",
       "      <th></th>\n",
       "      <th></th>\n",
       "      <th></th>\n",
       "      <th></th>\n",
       "      <th></th>\n",
       "    </tr>\n",
       "  </thead>\n",
       "  <tbody>\n",
       "    <tr>\n",
       "      <th>Afghanistan</th>\n",
       "      <td>7.0</td>\n",
       "      <td>232.0</td>\n",
       "      <td>2020</td>\n",
       "      <td>2.5669</td>\n",
       "      <td>153.0</td>\n",
       "      <td>0.195686</td>\n",
       "      <td>0.233827</td>\n",
       "      <td>0.000000</td>\n",
       "      <td>0.237331</td>\n",
       "      <td>0.997701</td>\n",
       "    </tr>\n",
       "    <tr>\n",
       "      <th>Albania</th>\n",
       "      <td>4.0</td>\n",
       "      <td>34.0</td>\n",
       "      <td>2020</td>\n",
       "      <td>4.8827</td>\n",
       "      <td>105.0</td>\n",
       "      <td>0.590009</td>\n",
       "      <td>0.743821</td>\n",
       "      <td>0.666329</td>\n",
       "      <td>0.300147</td>\n",
       "      <td>0.952432</td>\n",
       "    </tr>\n",
       "    <tr>\n",
       "      <th>Algeria</th>\n",
       "      <td>30.0</td>\n",
       "      <td>199.0</td>\n",
       "      <td>2020</td>\n",
       "      <td>5.0051</td>\n",
       "      <td>100.0</td>\n",
       "      <td>0.614219</td>\n",
       "      <td>0.655132</td>\n",
       "      <td>0.121084</td>\n",
       "      <td>0.208691</td>\n",
       "      <td>0.757690</td>\n",
       "    </tr>\n",
       "    <tr>\n",
       "      <th>Argentina</th>\n",
       "      <td>13.0</td>\n",
       "      <td>291.0</td>\n",
       "      <td>2020</td>\n",
       "      <td>5.9747</td>\n",
       "      <td>55.0</td>\n",
       "      <td>0.669279</td>\n",
       "      <td>0.746848</td>\n",
       "      <td>0.751280</td>\n",
       "      <td>0.123023</td>\n",
       "      <td>0.886685</td>\n",
       "    </tr>\n",
       "    <tr>\n",
       "      <th>Armenia</th>\n",
       "      <td>3.0</td>\n",
       "      <td>134.0</td>\n",
       "      <td>2020</td>\n",
       "      <td>4.6768</td>\n",
       "      <td>116.0</td>\n",
       "      <td>0.525981</td>\n",
       "      <td>0.681884</td>\n",
       "      <td>0.545351</td>\n",
       "      <td>0.188177</td>\n",
       "      <td>0.803778</td>\n",
       "    </tr>\n",
       "    <tr>\n",
       "      <th>...</th>\n",
       "      <td>...</td>\n",
       "      <td>...</td>\n",
       "      <td>...</td>\n",
       "      <td>...</td>\n",
       "      <td>...</td>\n",
       "      <td>...</td>\n",
       "      <td>...</td>\n",
       "      <td>...</td>\n",
       "      <td>...</td>\n",
       "      <td>...</td>\n",
       "    </tr>\n",
       "    <tr>\n",
       "      <th>Venezuela</th>\n",
       "      <td>6.0</td>\n",
       "      <td>29.0</td>\n",
       "      <td>2020</td>\n",
       "      <td>5.0532</td>\n",
       "      <td>99.0</td>\n",
       "      <td>0.501237</td>\n",
       "      <td>0.674122</td>\n",
       "      <td>0.391935</td>\n",
       "      <td>0.152996</td>\n",
       "      <td>0.880665</td>\n",
       "    </tr>\n",
       "    <tr>\n",
       "      <th>Vietnam</th>\n",
       "      <td>0.0</td>\n",
       "      <td>19.0</td>\n",
       "      <td>2020</td>\n",
       "      <td>5.3535</td>\n",
       "      <td>83.0</td>\n",
       "      <td>0.467302</td>\n",
       "      <td>0.719919</td>\n",
       "      <td>0.938790</td>\n",
       "      <td>0.239532</td>\n",
       "      <td>0.831480</td>\n",
       "    </tr>\n",
       "    <tr>\n",
       "      <th>Yemen</th>\n",
       "      <td>2.0</td>\n",
       "      <td>5.0</td>\n",
       "      <td>2020</td>\n",
       "      <td>3.5274</td>\n",
       "      <td>146.0</td>\n",
       "      <td>0.255553</td>\n",
       "      <td>0.364735</td>\n",
       "      <td>0.351553</td>\n",
       "      <td>0.166175</td>\n",
       "      <td>0.836162</td>\n",
       "    </tr>\n",
       "    <tr>\n",
       "      <th>Zambia</th>\n",
       "      <td>1.0</td>\n",
       "      <td>9.0</td>\n",
       "      <td>2020</td>\n",
       "      <td>3.7594</td>\n",
       "      <td>141.0</td>\n",
       "      <td>0.349347</td>\n",
       "      <td>0.319554</td>\n",
       "      <td>0.708695</td>\n",
       "      <td>0.439829</td>\n",
       "      <td>0.837376</td>\n",
       "    </tr>\n",
       "    <tr>\n",
       "      <th>Zimbabwe</th>\n",
       "      <td>1.0</td>\n",
       "      <td>8.0</td>\n",
       "      <td>2020</td>\n",
       "      <td>3.2992</td>\n",
       "      <td>151.0</td>\n",
       "      <td>0.276938</td>\n",
       "      <td>0.329612</td>\n",
       "      <td>0.544383</td>\n",
       "      <td>0.265612</td>\n",
       "      <td>0.848210</td>\n",
       "    </tr>\n",
       "  </tbody>\n",
       "</table>\n",
       "<p>140 rows × 10 columns</p>\n",
       "</div>"
      ],
      "text/plain": [
       "                max death rate  max infection rate  Year  Happiness_Score  \\\n",
       "Country/Region                                                              \n",
       "Afghanistan                7.0               232.0  2020           2.5669   \n",
       "Albania                    4.0                34.0  2020           4.8827   \n",
       "Algeria                   30.0               199.0  2020           5.0051   \n",
       "Argentina                 13.0               291.0  2020           5.9747   \n",
       "Armenia                    3.0               134.0  2020           4.6768   \n",
       "...                        ...                 ...   ...              ...   \n",
       "Venezuela                  6.0                29.0  2020           5.0532   \n",
       "Vietnam                    0.0                19.0  2020           5.3535   \n",
       "Yemen                      2.0                 5.0  2020           3.5274   \n",
       "Zambia                     1.0                 9.0  2020           3.7594   \n",
       "Zimbabwe                   1.0                 8.0  2020           3.2992   \n",
       "\n",
       "                Happiness_Rank  GDP_per_capita  Healthy_life_expectancy  \\\n",
       "Country/Region                                                            \n",
       "Afghanistan              153.0        0.195686                 0.233827   \n",
       "Albania                  105.0        0.590009                 0.743821   \n",
       "Algeria                  100.0        0.614219                 0.655132   \n",
       "Argentina                 55.0        0.669279                 0.746848   \n",
       "Armenia                  116.0        0.525981                 0.681884   \n",
       "...                        ...             ...                      ...   \n",
       "Venezuela                 99.0        0.501237                 0.674122   \n",
       "Vietnam                   83.0        0.467302                 0.719919   \n",
       "Yemen                    146.0        0.255553                 0.364735   \n",
       "Zambia                   141.0        0.349347                 0.319554   \n",
       "Zimbabwe                 151.0        0.276938                 0.329612   \n",
       "\n",
       "                 Freedom  Generosity  Perceptions_of_corruption  \n",
       "Country/Region                                                   \n",
       "Afghanistan     0.000000    0.237331                   0.997701  \n",
       "Albania         0.666329    0.300147                   0.952432  \n",
       "Algeria         0.121084    0.208691                   0.757690  \n",
       "Argentina       0.751280    0.123023                   0.886685  \n",
       "Armenia         0.545351    0.188177                   0.803778  \n",
       "...                  ...         ...                        ...  \n",
       "Venezuela       0.391935    0.152996                   0.880665  \n",
       "Vietnam         0.938790    0.239532                   0.831480  \n",
       "Yemen           0.351553    0.166175                   0.836162  \n",
       "Zambia          0.708695    0.439829                   0.837376  \n",
       "Zimbabwe        0.544383    0.265612                   0.848210  \n",
       "\n",
       "[140 rows x 10 columns]"
      ]
     },
     "execution_count": 137,
     "metadata": {},
     "output_type": "execute_result"
    }
   ],
   "source": [
    "data_infec_death_happy = corona_deaths.join(data, how = 'inner')\n",
    "data_infec_death_happy"
   ]
  },
  {
   "cell_type": "code",
   "execution_count": 138,
   "metadata": {},
   "outputs": [
    {
     "data": {
      "text/plain": [
       "<AxesSubplot:xlabel='GDP_per_capita', ylabel='max death rate'>"
      ]
     },
     "execution_count": 138,
     "metadata": {},
     "output_type": "execute_result"
    },
    {
     "data": {
      "image/png": "[encoded data removed]",
      "text/plain": [
       "<Figure size 432x288 with 1 Axes>"
      ]
     },
     "metadata": {
      "needs_background": "light"
     },
     "output_type": "display_data"
    }
   ],
   "source": [
    "# GDP per capita vs MDR\n",
    "x = data_infec_death_happy['GDP_per_capita']\n",
    "y = data_infec_death_happy['max death rate']\n",
    "sns.scatterplot(x,np.log(y)) # Seaborn (applying log for increasing scale on x axis)"
   ]
  },
  {
   "cell_type": "code",
   "execution_count": 139,
   "metadata": {},
   "outputs": [
    {
     "data": {
      "text/plain": [
       "<AxesSubplot:xlabel='GDP_per_capita', ylabel='max death rate'>"
      ]
     },
     "execution_count": 139,
     "metadata": {},
     "output_type": "execute_result"
    },
    {
     "data": {
      "image/png": "[encoded data removed]",
      "text/plain": [
       "<Figure size 432x288 with 1 Axes>"
      ]
     },
     "metadata": {
      "needs_background": "light"
     },
     "output_type": "display_data"
    }
   ],
   "source": [
    "sns.regplot(x,y)"
   ]
  },
  {
   "cell_type": "code",
   "execution_count": 105,
   "metadata": {},
   "outputs": [
    {
     "name": "stdout",
     "output_type": "stream",
     "text": [
      "The Pearson Correlation Coefficient is 0.2654806486504554 with a P-value of P = 0.001523693134287642\n"
     ]
    }
   ],
   "source": [
    "pearson_coef, p_value = stats.pearsonr(x, datafull['max death rate'])\n",
    "print('The Pearson Correlation Coefficient is', pearson_coef, 'with a P-value of P =', p_value)"
   ]
  },
  {
   "cell_type": "markdown",
   "metadata": {},
   "source": [
    "We used the death rate in this analysis to confirm the result of the previous analysis which state that the developed \n",
    "countries are more prone to COVID-19 than developing countries. This result may be baised because maybe the developed countires\n",
    "have more confirmed cases becuase they conduct COVID-19 test more than the developing counrites. So to be more sure, we used \n",
    "here the death caused by COVID-19 rate as the dependent variable and the GDP per capita as the independent variable. \n",
    "The result of this analysis shows that significant positive correlation between the death rate and GDP per capita, and \n",
    "as a result we can confirm that the developes countries are at higher risk of getting COVID-19 infection than developing \n",
    "countries"
   ]
  }
 ],
 "metadata": {
  "kernelspec": {
   "display_name": "Python 3",
   "language": "python",
   "name": "python3"
  },
  "language_info": {
   "codemirror_mode": {
    "name": "ipython",
    "version": 3
   },
   "file_extension": ".py",
   "mimetype": "text/x-python",
   "name": "python",
   "nbconvert_exporter": "python",
   "pygments_lexer": "ipython3",
   "version": "3.7.9"
  }
 },
 "nbformat": 4,
 "nbformat_minor": 4
}
