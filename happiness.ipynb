{
 "cells": [
  {
   "cell_type": "markdown",
   "metadata": {},
   "source": [
    "# Where to take my talents to - a world happiness analysis\n"
   ]
  },
  {
   "cell_type": "code",
   "execution_count": 1,
   "metadata": {},
   "outputs": [],
   "source": [
    "import pandas as pd\n",
    "import numpy as np\n",
    "import matplotlib.pyplot as plt\n",
    "import statsmodels.formula.api as smf\n",
    "import networkx as nx"
   ]
  },
  {
   "cell_type": "code",
   "execution_count": 2,
   "metadata": {},
   "outputs": [],
   "source": [
    "y2015 = pd.read_csv(\"Data/2015.csv\")\n",
    "y2016 = pd.read_csv(\"Data/2016.csv\")\n",
    "y2017 = pd.read_csv(\"Data/2017.csv\")\n",
    "y2018 = pd.read_csv(\"Data/2018.csv\")\n",
    "y2019 = pd.read_csv(\"Data/2019.csv\")\n",
    "y2020 = pd.read_csv(\"Data/2020.csv\")"
   ]
  },
  {
   "cell_type": "markdown",
   "metadata": {},
   "source": [
    "## Preprocessing \n",
    "\n",
    "For each year's dataframe, we will preprocess the data by determinig if there are any invalid entries. Specifically, any values of NaN or 0 (when not appropriate), will be treated by taking the mean of the remaining values in the column. We then concatenate all the dataframes to form a final version which includes all the years."
   ]
  },
  {
   "cell_type": "code",
   "execution_count": 3,
   "metadata": {},
   "outputs": [],
   "source": [
    "# COLUMNS IMPORTANTS \n",
    "cols=['Year','Country','Happiness_Score','Happiness_Rank', 'GDP_per_capita', 'Healthy_life_expectancy','Freedom', 'Generosity','Perceptions_of_corruption']"
   ]
  },
  {
   "cell_type": "code",
   "execution_count": 4,
   "metadata": {},
   "outputs": [
    {
     "output_type": "stream",
     "name": "stdout",
     "text": [
      "Year                         0\nCountry                      0\nHappiness_Score              0\nHappiness_Rank               0\nGDP_per_capita               1\nHealthy_life_expectancy      1\nFreedom                      1\nGenerosity                   1\nPerceptions_of_corruption    1\ndtype: int64\nNumber of null: 0\n"
     ]
    },
    {
     "output_type": "execute_result",
     "data": {
      "text/plain": [
       "   Year      Country  Happiness_Score  Happiness_Rank  GDP_per_capita  \\\n",
       "0  2015  Switzerland            7.587               1         1.39651   \n",
       "1  2015      Iceland            7.561               2         1.30232   \n",
       "2  2015      Denmark            7.527               3         1.32548   \n",
       "3  2015       Norway            7.522               4         1.45900   \n",
       "4  2015       Canada            7.427               5         1.32629   \n",
       "\n",
       "   Healthy_life_expectancy  Freedom  Generosity  Perceptions_of_corruption  \n",
       "0                  0.94143  0.66557     0.29678                    0.41978  \n",
       "1                  0.94784  0.62877     0.43630                    0.14145  \n",
       "2                  0.87464  0.64938     0.34139                    0.48357  \n",
       "3                  0.88521  0.66973     0.34699                    0.36503  \n",
       "4                  0.90563  0.63297     0.45811                    0.32957  "
      ],
      "text/html": "<div>\n<style scoped>\n    .dataframe tbody tr th:only-of-type {\n        vertical-align: middle;\n    }\n\n    .dataframe tbody tr th {\n        vertical-align: top;\n    }\n\n    .dataframe thead th {\n        text-align: right;\n    }\n</style>\n<table border=\"1\" class=\"dataframe\">\n  <thead>\n    <tr style=\"text-align: right;\">\n      <th></th>\n      <th>Year</th>\n      <th>Country</th>\n      <th>Happiness_Score</th>\n      <th>Happiness_Rank</th>\n      <th>GDP_per_capita</th>\n      <th>Healthy_life_expectancy</th>\n      <th>Freedom</th>\n      <th>Generosity</th>\n      <th>Perceptions_of_corruption</th>\n    </tr>\n  </thead>\n  <tbody>\n    <tr>\n      <th>0</th>\n      <td>2015</td>\n      <td>Switzerland</td>\n      <td>7.587</td>\n      <td>1</td>\n      <td>1.39651</td>\n      <td>0.94143</td>\n      <td>0.66557</td>\n      <td>0.29678</td>\n      <td>0.41978</td>\n    </tr>\n    <tr>\n      <th>1</th>\n      <td>2015</td>\n      <td>Iceland</td>\n      <td>7.561</td>\n      <td>2</td>\n      <td>1.30232</td>\n      <td>0.94784</td>\n      <td>0.62877</td>\n      <td>0.43630</td>\n      <td>0.14145</td>\n    </tr>\n    <tr>\n      <th>2</th>\n      <td>2015</td>\n      <td>Denmark</td>\n      <td>7.527</td>\n      <td>3</td>\n      <td>1.32548</td>\n      <td>0.87464</td>\n      <td>0.64938</td>\n      <td>0.34139</td>\n      <td>0.48357</td>\n    </tr>\n    <tr>\n      <th>3</th>\n      <td>2015</td>\n      <td>Norway</td>\n      <td>7.522</td>\n      <td>4</td>\n      <td>1.45900</td>\n      <td>0.88521</td>\n      <td>0.66973</td>\n      <td>0.34699</td>\n      <td>0.36503</td>\n    </tr>\n    <tr>\n      <th>4</th>\n      <td>2015</td>\n      <td>Canada</td>\n      <td>7.427</td>\n      <td>5</td>\n      <td>1.32629</td>\n      <td>0.90563</td>\n      <td>0.63297</td>\n      <td>0.45811</td>\n      <td>0.32957</td>\n    </tr>\n  </tbody>\n</table>\n</div>"
     },
     "metadata": {},
     "execution_count": 4
    }
   ],
   "source": [
    "y2015.rename(columns={'Economy (GDP per Capita)':'GDP_per_capita', \\\n",
    "                      'Happiness Score':'Happiness_Score',\\\n",
    "                      'Happiness Rank':'Happiness_Rank',\\\n",
    "                       'Health (Life Expectancy)':'Healthy_life_expectancy',\\\n",
    "                     'Trust (Government Corruption)':'Perceptions_of_corruption'}, inplace=True)\n",
    "y2015['Year']=2015\n",
    "y2015=y2015.loc[:,cols]\n",
    "\n",
    "# we check for any zeros/null in the dataframe to determine if it makes sense to replace its value with the mean of the column\n",
    "print((y2015== 0).sum())\n",
    "print('Number of null:', y2015.isnull().sum().sum())\n",
    "\n",
    "y2015.head()"
   ]
  },
  {
   "cell_type": "code",
   "execution_count": 5,
   "metadata": {},
   "outputs": [
    {
     "output_type": "stream",
     "name": "stdout",
     "text": [
      "Year                         0\nCountry                      0\nHappiness_Score              0\nHappiness_Rank               0\nGDP_per_capita               1\nHealthy_life_expectancy      1\nFreedom                      1\nGenerosity                   1\nPerceptions_of_corruption    1\ndtype: int64\nNumber of null: 0\n"
     ]
    },
    {
     "output_type": "execute_result",
     "data": {
      "text/plain": [
       "   Year      Country  Happiness_Score  Happiness_Rank  GDP_per_capita  \\\n",
       "0  2016      Denmark            7.526               1         1.44178   \n",
       "1  2016  Switzerland            7.509               2         1.52733   \n",
       "2  2016      Iceland            7.501               3         1.42666   \n",
       "3  2016       Norway            7.498               4         1.57744   \n",
       "4  2016      Finland            7.413               5         1.40598   \n",
       "\n",
       "   Healthy_life_expectancy  Freedom  Generosity  Perceptions_of_corruption  \n",
       "0                  0.79504  0.57941     0.36171                    0.44453  \n",
       "1                  0.86303  0.58557     0.28083                    0.41203  \n",
       "2                  0.86733  0.56624     0.47678                    0.14975  \n",
       "3                  0.79579  0.59609     0.37895                    0.35776  \n",
       "4                  0.81091  0.57104     0.25492                    0.41004  "
      ],
      "text/html": "<div>\n<style scoped>\n    .dataframe tbody tr th:only-of-type {\n        vertical-align: middle;\n    }\n\n    .dataframe tbody tr th {\n        vertical-align: top;\n    }\n\n    .dataframe thead th {\n        text-align: right;\n    }\n</style>\n<table border=\"1\" class=\"dataframe\">\n  <thead>\n    <tr style=\"text-align: right;\">\n      <th></th>\n      <th>Year</th>\n      <th>Country</th>\n      <th>Happiness_Score</th>\n      <th>Happiness_Rank</th>\n      <th>GDP_per_capita</th>\n      <th>Healthy_life_expectancy</th>\n      <th>Freedom</th>\n      <th>Generosity</th>\n      <th>Perceptions_of_corruption</th>\n    </tr>\n  </thead>\n  <tbody>\n    <tr>\n      <th>0</th>\n      <td>2016</td>\n      <td>Denmark</td>\n      <td>7.526</td>\n      <td>1</td>\n      <td>1.44178</td>\n      <td>0.79504</td>\n      <td>0.57941</td>\n      <td>0.36171</td>\n      <td>0.44453</td>\n    </tr>\n    <tr>\n      <th>1</th>\n      <td>2016</td>\n      <td>Switzerland</td>\n      <td>7.509</td>\n      <td>2</td>\n      <td>1.52733</td>\n      <td>0.86303</td>\n      <td>0.58557</td>\n      <td>0.28083</td>\n      <td>0.41203</td>\n    </tr>\n    <tr>\n      <th>2</th>\n      <td>2016</td>\n      <td>Iceland</td>\n      <td>7.501</td>\n      <td>3</td>\n      <td>1.42666</td>\n      <td>0.86733</td>\n      <td>0.56624</td>\n      <td>0.47678</td>\n      <td>0.14975</td>\n    </tr>\n    <tr>\n      <th>3</th>\n      <td>2016</td>\n      <td>Norway</td>\n      <td>7.498</td>\n      <td>4</td>\n      <td>1.57744</td>\n      <td>0.79579</td>\n      <td>0.59609</td>\n      <td>0.37895</td>\n      <td>0.35776</td>\n    </tr>\n    <tr>\n      <th>4</th>\n      <td>2016</td>\n      <td>Finland</td>\n      <td>7.413</td>\n      <td>5</td>\n      <td>1.40598</td>\n      <td>0.81091</td>\n      <td>0.57104</td>\n      <td>0.25492</td>\n      <td>0.41004</td>\n    </tr>\n  </tbody>\n</table>\n</div>"
     },
     "metadata": {},
     "execution_count": 5
    }
   ],
   "source": [
    "y2016.rename(columns={'Economy (GDP per Capita)':'GDP_per_capita', \\\n",
    "                     'Happiness Score':'Happiness_Score',\\\n",
    "                      'Happiness Rank':'Happiness_Rank',\\\n",
    "                       'Health (Life Expectancy)':'Healthy_life_expectancy',\\\n",
    "                     'Trust (Government Corruption)':'Perceptions_of_corruption'}, inplace=True)\n",
    "y2016['Year']=2016\n",
    "y2016=y2016.loc[:,cols]\n",
    "\n",
    "# we check for any zeros/null in the dataframe to determine if it makes sense to replace its value with the mean of the column\n",
    "print((y2016== 0).sum())\n",
    "print('Number of null:', y2016.isnull().sum().sum())\n",
    "\n",
    "y2016.head()"
   ]
  },
  {
   "cell_type": "code",
   "execution_count": 6,
   "metadata": {},
   "outputs": [
    {
     "output_type": "stream",
     "name": "stdout",
     "text": [
      "Year                         0\n",
      "Country                      0\n",
      "Happiness_Score              0\n",
      "Happiness_Rank               0\n",
      "GDP_per_capita               1\n",
      "Healthy_life_expectancy      1\n",
      "Freedom                      1\n",
      "Generosity                   1\n",
      "Perceptions_of_corruption    1\n",
      "dtype: int64\n",
      "Number of null: 0\n"
     ]
    },
    {
     "output_type": "execute_result",
     "data": {
      "text/plain": [
       "   Year      Country  Happiness_Score  Happiness_Rank  GDP_per_capita  \\\n",
       "0  2017       Norway            7.537               1        1.616463   \n",
       "1  2017      Denmark            7.522               2        1.482383   \n",
       "2  2017      Iceland            7.504               3        1.480633   \n",
       "3  2017  Switzerland            7.494               4        1.564980   \n",
       "4  2017      Finland            7.469               5        1.443572   \n",
       "\n",
       "   Healthy_life_expectancy   Freedom  Generosity  Perceptions_of_corruption  \n",
       "0                 0.796667  0.635423    0.362012                   0.315964  \n",
       "1                 0.792566  0.626007    0.355280                   0.400770  \n",
       "2                 0.833552  0.627163    0.475540                   0.153527  \n",
       "3                 0.858131  0.620071    0.290549                   0.367007  \n",
       "4                 0.809158  0.617951    0.245483                   0.382612  "
      ],
      "text/html": "<div>\n<style scoped>\n    .dataframe tbody tr th:only-of-type {\n        vertical-align: middle;\n    }\n\n    .dataframe tbody tr th {\n        vertical-align: top;\n    }\n\n    .dataframe thead th {\n        text-align: right;\n    }\n</style>\n<table border=\"1\" class=\"dataframe\">\n  <thead>\n    <tr style=\"text-align: right;\">\n      <th></th>\n      <th>Year</th>\n      <th>Country</th>\n      <th>Happiness_Score</th>\n      <th>Happiness_Rank</th>\n      <th>GDP_per_capita</th>\n      <th>Healthy_life_expectancy</th>\n      <th>Freedom</th>\n      <th>Generosity</th>\n      <th>Perceptions_of_corruption</th>\n    </tr>\n  </thead>\n  <tbody>\n    <tr>\n      <th>0</th>\n      <td>2017</td>\n      <td>Norway</td>\n      <td>7.537</td>\n      <td>1</td>\n      <td>1.616463</td>\n      <td>0.796667</td>\n      <td>0.635423</td>\n      <td>0.362012</td>\n      <td>0.315964</td>\n    </tr>\n    <tr>\n      <th>1</th>\n      <td>2017</td>\n      <td>Denmark</td>\n      <td>7.522</td>\n      <td>2</td>\n      <td>1.482383</td>\n      <td>0.792566</td>\n      <td>0.626007</td>\n      <td>0.355280</td>\n      <td>0.400770</td>\n    </tr>\n    <tr>\n      <th>2</th>\n      <td>2017</td>\n      <td>Iceland</td>\n      <td>7.504</td>\n      <td>3</td>\n      <td>1.480633</td>\n      <td>0.833552</td>\n      <td>0.627163</td>\n      <td>0.475540</td>\n      <td>0.153527</td>\n    </tr>\n    <tr>\n      <th>3</th>\n      <td>2017</td>\n      <td>Switzerland</td>\n      <td>7.494</td>\n      <td>4</td>\n      <td>1.564980</td>\n      <td>0.858131</td>\n      <td>0.620071</td>\n      <td>0.290549</td>\n      <td>0.367007</td>\n    </tr>\n    <tr>\n      <th>4</th>\n      <td>2017</td>\n      <td>Finland</td>\n      <td>7.469</td>\n      <td>5</td>\n      <td>1.443572</td>\n      <td>0.809158</td>\n      <td>0.617951</td>\n      <td>0.245483</td>\n      <td>0.382612</td>\n    </tr>\n  </tbody>\n</table>\n</div>"
     },
     "metadata": {},
     "execution_count": 6
    }
   ],
   "source": [
    "y2017.rename(columns={'Economy..GDP.per.Capita.':'GDP_per_capita', \\\n",
    "                       'Health..Life.Expectancy.':'Healthy_life_expectancy',\\\n",
    "                     'Trust..Government.Corruption.':'Perceptions_of_corruption',\\\n",
    "                     'Happiness.Rank': 'Happiness_Rank',\\\n",
    "                     'Happiness.Score': 'Happiness_Score'}, inplace=True)\n",
    "y2017['Year']=2017\n",
    "y2017=y2017.loc[:,cols]\n",
    "\n",
    "# we check for any zeros/null in the dataframe to determine if it makes sense to replace its value with the mean of the column\n",
    "print((y2017== 0).sum())\n",
    "print('Number of null:', y2017.isnull().sum().sum())\n",
    "\n",
    "y2017.head()"
   ]
  },
  {
   "cell_type": "code",
   "execution_count": 7,
   "metadata": {},
   "outputs": [
    {
     "output_type": "stream",
     "name": "stdout",
     "text": [
      "Year                         0\n",
      "Country                      0\n",
      "Happiness_Score              0\n",
      "Happiness_Rank               0\n",
      "GDP_per_capita               1\n",
      "Healthy_life_expectancy      1\n",
      "Freedom                      1\n",
      "Generosity                   1\n",
      "Perceptions_of_corruption    2\n",
      "dtype: int64\n",
      "Number of null: 1\n",
      "['Perceptions_of_corruption']\n"
     ]
    },
    {
     "output_type": "execute_result",
     "data": {
      "text/plain": [
       "   Year      Country  Happiness_Score  Happiness_Rank  GDP_per_capita  \\\n",
       "0  2018      Finland            7.632               1           1.305   \n",
       "1  2018       Norway            7.594               2           1.456   \n",
       "2  2018      Denmark            7.555               3           1.351   \n",
       "3  2018      Iceland            7.495               4           1.343   \n",
       "4  2018  Switzerland            7.487               5           1.420   \n",
       "\n",
       "   Healthy_life_expectancy  Freedom  Generosity  Perceptions_of_corruption  \n",
       "0                    0.874    0.681       0.202                      0.393  \n",
       "1                    0.861    0.686       0.286                      0.340  \n",
       "2                    0.868    0.683       0.284                      0.408  \n",
       "3                    0.914    0.677       0.353                      0.138  \n",
       "4                    0.927    0.660       0.256                      0.357  "
      ],
      "text/html": "<div>\n<style scoped>\n    .dataframe tbody tr th:only-of-type {\n        vertical-align: middle;\n    }\n\n    .dataframe tbody tr th {\n        vertical-align: top;\n    }\n\n    .dataframe thead th {\n        text-align: right;\n    }\n</style>\n<table border=\"1\" class=\"dataframe\">\n  <thead>\n    <tr style=\"text-align: right;\">\n      <th></th>\n      <th>Year</th>\n      <th>Country</th>\n      <th>Happiness_Score</th>\n      <th>Happiness_Rank</th>\n      <th>GDP_per_capita</th>\n      <th>Healthy_life_expectancy</th>\n      <th>Freedom</th>\n      <th>Generosity</th>\n      <th>Perceptions_of_corruption</th>\n    </tr>\n  </thead>\n  <tbody>\n    <tr>\n      <th>0</th>\n      <td>2018</td>\n      <td>Finland</td>\n      <td>7.632</td>\n      <td>1</td>\n      <td>1.305</td>\n      <td>0.874</td>\n      <td>0.681</td>\n      <td>0.202</td>\n      <td>0.393</td>\n    </tr>\n    <tr>\n      <th>1</th>\n      <td>2018</td>\n      <td>Norway</td>\n      <td>7.594</td>\n      <td>2</td>\n      <td>1.456</td>\n      <td>0.861</td>\n      <td>0.686</td>\n      <td>0.286</td>\n      <td>0.340</td>\n    </tr>\n    <tr>\n      <th>2</th>\n      <td>2018</td>\n      <td>Denmark</td>\n      <td>7.555</td>\n      <td>3</td>\n      <td>1.351</td>\n      <td>0.868</td>\n      <td>0.683</td>\n      <td>0.284</td>\n      <td>0.408</td>\n    </tr>\n    <tr>\n      <th>3</th>\n      <td>2018</td>\n      <td>Iceland</td>\n      <td>7.495</td>\n      <td>4</td>\n      <td>1.343</td>\n      <td>0.914</td>\n      <td>0.677</td>\n      <td>0.353</td>\n      <td>0.138</td>\n    </tr>\n    <tr>\n      <th>4</th>\n      <td>2018</td>\n      <td>Switzerland</td>\n      <td>7.487</td>\n      <td>5</td>\n      <td>1.420</td>\n      <td>0.927</td>\n      <td>0.660</td>\n      <td>0.256</td>\n      <td>0.357</td>\n    </tr>\n  </tbody>\n</table>\n</div>"
     },
     "metadata": {},
     "execution_count": 7
    }
   ],
   "source": [
    "y2018.rename(columns={'Freedom to make life choices':'Freedom',\\\n",
    "                      'Overall rank': 'Happiness_Rank',\\\n",
    "                      'Country or region':'Country',\\\n",
    "                      'GDP per capita':'GDP_per_capita',\\\n",
    "                      'Perceptions of corruption':'Perceptions_of_corruption',\\\n",
    "                      'Healthy life expectancy':'Healthy_life_expectancy',\\\n",
    "                      'Score': 'Happiness_Score'}, inplace=True)\n",
    "y2018['Year']=2018\n",
    "y2018=y2018.loc[:,cols]\n",
    "\n",
    "# we check for any zeros/null in the dataframe to determine if it makes sense to replace its value with the mean of the column\n",
    "print((y2018== 0).sum())\n",
    "print('Number of null:', y2018.isnull().sum().sum())\n",
    "print(y2018.columns[y2018.isna().any()].tolist())\n",
    "\n",
    "y2018.head()"
   ]
  },
  {
   "cell_type": "code",
   "execution_count": 8,
   "metadata": {},
   "outputs": [
    {
     "output_type": "stream",
     "name": "stdout",
     "text": [
      "Year                         0\n",
      "Country                      0\n",
      "Happiness_Score              0\n",
      "Happiness_Rank               0\n",
      "GDP_per_capita               1\n",
      "Healthy_life_expectancy      1\n",
      "Freedom                      1\n",
      "Generosity                   1\n",
      "Perceptions_of_corruption    1\n",
      "dtype: int64\n",
      "Number of null: 0\n"
     ]
    },
    {
     "output_type": "execute_result",
     "data": {
      "text/plain": [
       "   Year      Country  Happiness_Score  Happiness_Rank  GDP_per_capita  \\\n",
       "0  2019      Finland            7.769               1           1.340   \n",
       "1  2019      Denmark            7.600               2           1.383   \n",
       "2  2019       Norway            7.554               3           1.488   \n",
       "3  2019      Iceland            7.494               4           1.380   \n",
       "4  2019  Netherlands            7.488               5           1.396   \n",
       "\n",
       "   Healthy_life_expectancy  Freedom  Generosity  Perceptions_of_corruption  \n",
       "0                    0.986    0.596       0.153                      0.393  \n",
       "1                    0.996    0.592       0.252                      0.410  \n",
       "2                    1.028    0.603       0.271                      0.341  \n",
       "3                    1.026    0.591       0.354                      0.118  \n",
       "4                    0.999    0.557       0.322                      0.298  "
      ],
      "text/html": "<div>\n<style scoped>\n    .dataframe tbody tr th:only-of-type {\n        vertical-align: middle;\n    }\n\n    .dataframe tbody tr th {\n        vertical-align: top;\n    }\n\n    .dataframe thead th {\n        text-align: right;\n    }\n</style>\n<table border=\"1\" class=\"dataframe\">\n  <thead>\n    <tr style=\"text-align: right;\">\n      <th></th>\n      <th>Year</th>\n      <th>Country</th>\n      <th>Happiness_Score</th>\n      <th>Happiness_Rank</th>\n      <th>GDP_per_capita</th>\n      <th>Healthy_life_expectancy</th>\n      <th>Freedom</th>\n      <th>Generosity</th>\n      <th>Perceptions_of_corruption</th>\n    </tr>\n  </thead>\n  <tbody>\n    <tr>\n      <th>0</th>\n      <td>2019</td>\n      <td>Finland</td>\n      <td>7.769</td>\n      <td>1</td>\n      <td>1.340</td>\n      <td>0.986</td>\n      <td>0.596</td>\n      <td>0.153</td>\n      <td>0.393</td>\n    </tr>\n    <tr>\n      <th>1</th>\n      <td>2019</td>\n      <td>Denmark</td>\n      <td>7.600</td>\n      <td>2</td>\n      <td>1.383</td>\n      <td>0.996</td>\n      <td>0.592</td>\n      <td>0.252</td>\n      <td>0.410</td>\n    </tr>\n    <tr>\n      <th>2</th>\n      <td>2019</td>\n      <td>Norway</td>\n      <td>7.554</td>\n      <td>3</td>\n      <td>1.488</td>\n      <td>1.028</td>\n      <td>0.603</td>\n      <td>0.271</td>\n      <td>0.341</td>\n    </tr>\n    <tr>\n      <th>3</th>\n      <td>2019</td>\n      <td>Iceland</td>\n      <td>7.494</td>\n      <td>4</td>\n      <td>1.380</td>\n      <td>1.026</td>\n      <td>0.591</td>\n      <td>0.354</td>\n      <td>0.118</td>\n    </tr>\n    <tr>\n      <th>4</th>\n      <td>2019</td>\n      <td>Netherlands</td>\n      <td>7.488</td>\n      <td>5</td>\n      <td>1.396</td>\n      <td>0.999</td>\n      <td>0.557</td>\n      <td>0.322</td>\n      <td>0.298</td>\n    </tr>\n  </tbody>\n</table>\n</div>"
     },
     "metadata": {},
     "execution_count": 8
    }
   ],
   "source": [
    "y2019.rename(columns={'Freedom to make life choices':'Freedom',\\\n",
    "                      'Overall rank': 'Happiness_Rank',\\\n",
    "                      'Country or region':'Country',\\\n",
    "                      'GDP per capita':'GDP_per_capita',\\\n",
    "                      'Perceptions of corruption':'Perceptions_of_corruption',\\\n",
    "                      'Healthy life expectancy':'Healthy_life_expectancy',\\\n",
    "                      'Score': 'Happiness_Score'}, inplace=True)\n",
    "y2019['Year']=2019\n",
    "y2019=y2019.loc[:,cols]\n",
    "\n",
    "# we check for any zeros/null in the dataframe to determine if it makes sense to replace its value with the mean of the column\n",
    "print((y2019== 0).sum())\n",
    "print('Number of null:', y2019.isnull().sum().sum())\n",
    "\n",
    "y2019.head()"
   ]
  },
  {
   "cell_type": "code",
   "execution_count": 9,
   "metadata": {},
   "outputs": [
    {
     "output_type": "stream",
     "name": "stdout",
     "text": [
      "Year                         0\n",
      "Country                      0\n",
      "Happiness_Score              0\n",
      "Happiness_Rank               0\n",
      "GDP_per_capita               0\n",
      "Healthy_life_expectancy      0\n",
      "Freedom                      0\n",
      "Generosity                   0\n",
      "Perceptions_of_corruption    0\n",
      "dtype: int64\n",
      "Number of null: 0\n"
     ]
    },
    {
     "output_type": "execute_result",
     "data": {
      "text/plain": [
       "   Year      Country  Happiness_Score  Happiness_Rank  GDP_per_capita  \\\n",
       "0  2020      Finland           7.8087             1.0       10.639267   \n",
       "1  2020      Denmark           7.6456             2.0       10.774001   \n",
       "2  2020  Switzerland           7.5599             3.0       10.979933   \n",
       "3  2020      Iceland           7.5045             4.0       10.772559   \n",
       "4  2020       Norway           7.4880             5.0       11.087804   \n",
       "\n",
       "   Healthy_life_expectancy   Freedom  Generosity  Perceptions_of_corruption  \n",
       "0                71.900825  0.949172   -0.059482                   0.195445  \n",
       "1                72.402504  0.951444    0.066202                   0.168489  \n",
       "2                74.102448  0.921337    0.105911                   0.303728  \n",
       "3                73.000000  0.948892    0.246944                   0.711710  \n",
       "4                73.200783  0.955750    0.134533                   0.263218  "
      ],
      "text/html": "<div>\n<style scoped>\n    .dataframe tbody tr th:only-of-type {\n        vertical-align: middle;\n    }\n\n    .dataframe tbody tr th {\n        vertical-align: top;\n    }\n\n    .dataframe thead th {\n        text-align: right;\n    }\n</style>\n<table border=\"1\" class=\"dataframe\">\n  <thead>\n    <tr style=\"text-align: right;\">\n      <th></th>\n      <th>Year</th>\n      <th>Country</th>\n      <th>Happiness_Score</th>\n      <th>Happiness_Rank</th>\n      <th>GDP_per_capita</th>\n      <th>Healthy_life_expectancy</th>\n      <th>Freedom</th>\n      <th>Generosity</th>\n      <th>Perceptions_of_corruption</th>\n    </tr>\n  </thead>\n  <tbody>\n    <tr>\n      <th>0</th>\n      <td>2020</td>\n      <td>Finland</td>\n      <td>7.8087</td>\n      <td>1.0</td>\n      <td>10.639267</td>\n      <td>71.900825</td>\n      <td>0.949172</td>\n      <td>-0.059482</td>\n      <td>0.195445</td>\n    </tr>\n    <tr>\n      <th>1</th>\n      <td>2020</td>\n      <td>Denmark</td>\n      <td>7.6456</td>\n      <td>2.0</td>\n      <td>10.774001</td>\n      <td>72.402504</td>\n      <td>0.951444</td>\n      <td>0.066202</td>\n      <td>0.168489</td>\n    </tr>\n    <tr>\n      <th>2</th>\n      <td>2020</td>\n      <td>Switzerland</td>\n      <td>7.5599</td>\n      <td>3.0</td>\n      <td>10.979933</td>\n      <td>74.102448</td>\n      <td>0.921337</td>\n      <td>0.105911</td>\n      <td>0.303728</td>\n    </tr>\n    <tr>\n      <th>3</th>\n      <td>2020</td>\n      <td>Iceland</td>\n      <td>7.5045</td>\n      <td>4.0</td>\n      <td>10.772559</td>\n      <td>73.000000</td>\n      <td>0.948892</td>\n      <td>0.246944</td>\n      <td>0.711710</td>\n    </tr>\n    <tr>\n      <th>4</th>\n      <td>2020</td>\n      <td>Norway</td>\n      <td>7.4880</td>\n      <td>5.0</td>\n      <td>11.087804</td>\n      <td>73.200783</td>\n      <td>0.955750</td>\n      <td>0.134533</td>\n      <td>0.263218</td>\n    </tr>\n  </tbody>\n</table>\n</div>"
     },
     "metadata": {},
     "execution_count": 9
    }
   ],
   "source": [
    "y2020.rename(columns={'Freedom to make life choices':'Freedom',\\\n",
    "                      'Logged GDP per capita':'GDP_per_capita', \\\n",
    "                      'Country name': 'Country',\\\n",
    "                      'Perceptions of corruption':'Perceptions_of_corruption',\\\n",
    "                      'Healthy life expectancy':'Healthy_life_expectancy',\\\n",
    "                      'Ladder score': 'Happiness_Score'}, inplace=True)\n",
    "y2020['Happiness_Rank'] = y2020['Happiness_Score'].rank(ascending=False)\n",
    "y2020['Year']=2020\n",
    "y2020=y2020.loc[:,cols]\n",
    "\n",
    "# we check for any zeros/null in the dataframe to determine if it makes sense to replace its value with the mean of the column\n",
    "print((y2020== 0).sum())\n",
    "print('Number of null:', y2020.isnull().sum().sum())\n",
    "\n",
    "y2020.head()"
   ]
  },
  {
   "source": [
    "We observe that the values with zero/null can in fact be replaced by the mean of the remaining entries for the corresponding column. The only columns where this wouldn't make sense is for `Country` and `Happiness_Rank`. We note that `y2020` has no invalid entries.\n",
    "\n",
    "We now mask all zero/null entries with the corresponding column mean.\n",
    "\n",
    "We also observe a discrepancy in units used between the `y2020` dataframe vs. the rest. Specifically, the `GDP_per_capita` and `Healthy_life_expectancy` are notably different magnitudes in y2020. Additionally, the range of values in certain columns of `y2020` are much greater than the other years. For example, for Finland the corresponding values are:\n",
    "\n",
    "* `GDP_per_capita`: 10.64 (2020) vs. 1.34 (2019)\n",
    "* `Healthy_life_expectancy`: 71.90 (2020) vs. 0.99 (2019)\n",
    "\n",
    "We decide to address this issue by normalizing the data for all columns that *do not* belong to `Country`, `Happiness_Score` and `Happiness_Rank`.\n",
    "\n",
    "We also note that normalizing the data for each year's dataframe will re-introduce zero values. However, the interpretation is different from having invalid entries."
   ],
   "cell_type": "markdown",
   "metadata": {}
  },
  {
   "cell_type": "code",
   "execution_count": 10,
   "metadata": {},
   "outputs": [],
   "source": [
    "# replace invalid values with mean\n",
    "\n",
    "y2015=y2015.mask(y2015==0).fillna(y2015.mean())\n",
    "y2016=y2016.mask(y2016==0).fillna(y2016.mean())\n",
    "y2017=y2017.mask(y2017==0).fillna(y2017.mean())\n",
    "y2018=y2018.mask(y2018==0).fillna(y2018.mean())\n",
    "y2019=y2019.mask(y2019==0).fillna(y2019.mean())"
   ]
  },
  {
   "cell_type": "code",
   "execution_count": 11,
   "metadata": {},
   "outputs": [],
   "source": [
    "# only normalize certain data\n",
    "\n",
    "cols_to_norm = ['GDP_per_capita','Healthy_life_expectancy','Freedom','Generosity','Perceptions_of_corruption']\n",
    "\n",
    "y2015[cols_to_norm] = y2015[cols_to_norm].apply(lambda x: (x-x.min())/(x.max()-x.min()))\n",
    "y2016[cols_to_norm] = y2016[cols_to_norm].apply(lambda x: (x-x.min())/(x.max()-x.min()))\n",
    "y2017[cols_to_norm] = y2017[cols_to_norm].apply(lambda x: (x-x.min())/(x.max()-x.min()))\n",
    "y2018[cols_to_norm] = y2018[cols_to_norm].apply(lambda x: (x-x.min())/(x.max()-x.min()))\n",
    "y2019[cols_to_norm] = y2019[cols_to_norm].apply(lambda x: (x-x.min())/(x.max()-x.min()))\n",
    "y2020[cols_to_norm] = y2020[cols_to_norm].apply(lambda x: (x-x.min())/(x.max()-x.min()))"
   ]
  },
  {
   "cell_type": "code",
   "execution_count": 12,
   "metadata": {},
   "outputs": [
    {
     "output_type": "execute_result",
     "data": {
      "text/plain": [
       "   Year      Country  Happiness_Score  Happiness_Rank  GDP_per_capita  \\\n",
       "0  2015  Switzerland            7.587             1.0        0.824544   \n",
       "1  2015      Iceland            7.561             2.0        0.768315   \n",
       "2  2015      Denmark            7.527             3.0        0.782141   \n",
       "3  2015       Norway            7.522             4.0        0.861849   \n",
       "4  2015       Canada            7.427             5.0        0.782625   \n",
       "\n",
       "   Healthy_life_expectancy   Freedom  Generosity  Perceptions_of_corruption  \n",
       "0                 0.914250  0.992982    0.371323                   0.759606  \n",
       "1                 0.920807  0.930897    0.547066                   0.253220  \n",
       "2                 0.845922  0.965668    0.427515                   0.875664  \n",
       "3                 0.856735  1.000000    0.434569                   0.659996  \n",
       "4                 0.877625  0.937983    0.574538                   0.595481  "
      ],
      "text/html": "<div>\n<style scoped>\n    .dataframe tbody tr th:only-of-type {\n        vertical-align: middle;\n    }\n\n    .dataframe tbody tr th {\n        vertical-align: top;\n    }\n\n    .dataframe thead th {\n        text-align: right;\n    }\n</style>\n<table border=\"1\" class=\"dataframe\">\n  <thead>\n    <tr style=\"text-align: right;\">\n      <th></th>\n      <th>Year</th>\n      <th>Country</th>\n      <th>Happiness_Score</th>\n      <th>Happiness_Rank</th>\n      <th>GDP_per_capita</th>\n      <th>Healthy_life_expectancy</th>\n      <th>Freedom</th>\n      <th>Generosity</th>\n      <th>Perceptions_of_corruption</th>\n    </tr>\n  </thead>\n  <tbody>\n    <tr>\n      <th>0</th>\n      <td>2015</td>\n      <td>Switzerland</td>\n      <td>7.587</td>\n      <td>1.0</td>\n      <td>0.824544</td>\n      <td>0.914250</td>\n      <td>0.992982</td>\n      <td>0.371323</td>\n      <td>0.759606</td>\n    </tr>\n    <tr>\n      <th>1</th>\n      <td>2015</td>\n      <td>Iceland</td>\n      <td>7.561</td>\n      <td>2.0</td>\n      <td>0.768315</td>\n      <td>0.920807</td>\n      <td>0.930897</td>\n      <td>0.547066</td>\n      <td>0.253220</td>\n    </tr>\n    <tr>\n      <th>2</th>\n      <td>2015</td>\n      <td>Denmark</td>\n      <td>7.527</td>\n      <td>3.0</td>\n      <td>0.782141</td>\n      <td>0.845922</td>\n      <td>0.965668</td>\n      <td>0.427515</td>\n      <td>0.875664</td>\n    </tr>\n    <tr>\n      <th>3</th>\n      <td>2015</td>\n      <td>Norway</td>\n      <td>7.522</td>\n      <td>4.0</td>\n      <td>0.861849</td>\n      <td>0.856735</td>\n      <td>1.000000</td>\n      <td>0.434569</td>\n      <td>0.659996</td>\n    </tr>\n    <tr>\n      <th>4</th>\n      <td>2015</td>\n      <td>Canada</td>\n      <td>7.427</td>\n      <td>5.0</td>\n      <td>0.782625</td>\n      <td>0.877625</td>\n      <td>0.937983</td>\n      <td>0.574538</td>\n      <td>0.595481</td>\n    </tr>\n  </tbody>\n</table>\n</div>"
     },
     "metadata": {},
     "execution_count": 12
    }
   ],
   "source": [
    "df = pd.concat([y2015, y2016, y2017, y2018, y2019, y2020], axis=0)\n",
    "df.head()"
   ]
  },
  {
   "cell_type": "code",
   "execution_count": 13,
   "metadata": {},
   "outputs": [
    {
     "output_type": "execute_result",
     "data": {
      "text/plain": [
       "   Year      Country  Happiness_Score  Happiness_Rank  GDP_per_capita  \\\n",
       "0  2015  Switzerland           7.5870             1.0        0.824544   \n",
       "1  2016  Switzerland           7.5090             2.0        0.832015   \n",
       "3  2017  Switzerland           7.4940             4.0        0.834542   \n",
       "4  2018  Switzerland           7.4870             5.0        0.673745   \n",
       "5  2019  Switzerland           7.4800             6.0        0.860072   \n",
       "2  2020  Switzerland           7.5599             3.0        0.905054   \n",
       "\n",
       "   Healthy_life_expectancy   Freedom  Generosity  Perceptions_of_corruption  \n",
       "0                 0.914250  0.992982    0.371323                   0.759606  \n",
       "1                 0.901873  0.961981    0.325945                   0.814379  \n",
       "3                 0.903212  0.940648    0.338665                   0.788440  \n",
       "4                 0.899020  0.909605    0.402098                   0.780702  \n",
       "5                 0.914093  0.904992    0.439926                   0.755011  \n",
       "2                 0.914502  0.907228    0.472182                   0.234856  "
      ],
      "text/html": "<div>\n<style scoped>\n    .dataframe tbody tr th:only-of-type {\n        vertical-align: middle;\n    }\n\n    .dataframe tbody tr th {\n        vertical-align: top;\n    }\n\n    .dataframe thead th {\n        text-align: right;\n    }\n</style>\n<table border=\"1\" class=\"dataframe\">\n  <thead>\n    <tr style=\"text-align: right;\">\n      <th></th>\n      <th>Year</th>\n      <th>Country</th>\n      <th>Happiness_Score</th>\n      <th>Happiness_Rank</th>\n      <th>GDP_per_capita</th>\n      <th>Healthy_life_expectancy</th>\n      <th>Freedom</th>\n      <th>Generosity</th>\n      <th>Perceptions_of_corruption</th>\n    </tr>\n  </thead>\n  <tbody>\n    <tr>\n      <th>0</th>\n      <td>2015</td>\n      <td>Switzerland</td>\n      <td>7.5870</td>\n      <td>1.0</td>\n      <td>0.824544</td>\n      <td>0.914250</td>\n      <td>0.992982</td>\n      <td>0.371323</td>\n      <td>0.759606</td>\n    </tr>\n    <tr>\n      <th>1</th>\n      <td>2016</td>\n      <td>Switzerland</td>\n      <td>7.5090</td>\n      <td>2.0</td>\n      <td>0.832015</td>\n      <td>0.901873</td>\n      <td>0.961981</td>\n      <td>0.325945</td>\n      <td>0.814379</td>\n    </tr>\n    <tr>\n      <th>3</th>\n      <td>2017</td>\n      <td>Switzerland</td>\n      <td>7.4940</td>\n      <td>4.0</td>\n      <td>0.834542</td>\n      <td>0.903212</td>\n      <td>0.940648</td>\n      <td>0.338665</td>\n      <td>0.788440</td>\n    </tr>\n    <tr>\n      <th>4</th>\n      <td>2018</td>\n      <td>Switzerland</td>\n      <td>7.4870</td>\n      <td>5.0</td>\n      <td>0.673745</td>\n      <td>0.899020</td>\n      <td>0.909605</td>\n      <td>0.402098</td>\n      <td>0.780702</td>\n    </tr>\n    <tr>\n      <th>5</th>\n      <td>2019</td>\n      <td>Switzerland</td>\n      <td>7.4800</td>\n      <td>6.0</td>\n      <td>0.860072</td>\n      <td>0.914093</td>\n      <td>0.904992</td>\n      <td>0.439926</td>\n      <td>0.755011</td>\n    </tr>\n    <tr>\n      <th>2</th>\n      <td>2020</td>\n      <td>Switzerland</td>\n      <td>7.5599</td>\n      <td>3.0</td>\n      <td>0.905054</td>\n      <td>0.914502</td>\n      <td>0.907228</td>\n      <td>0.472182</td>\n      <td>0.234856</td>\n    </tr>\n  </tbody>\n</table>\n</div>"
     },
     "metadata": {},
     "execution_count": 13
    }
   ],
   "source": [
    "df.loc[df['Country']==\"Switzerland\"]"
   ]
  },
  {
   "source": [
    "## What affects a country's happiness score?\n",
    "\n",
    "We evaluate the signifance of each feature for the given dataframe to determine what factors affect a country's happiness score. Additionally, we examine if any features are more correlated than others."
   ],
   "cell_type": "markdown",
   "metadata": {}
  },
  {
   "cell_type": "code",
   "execution_count": 15,
   "metadata": {},
   "outputs": [
    {
     "output_type": "stream",
     "name": "stdout",
     "text": [
      "                            OLS Regression Results                            \n==============================================================================\nDep. Variable:        Happiness_Score   R-squared:                       0.732\nModel:                            OLS   Adj. R-squared:                  0.730\nMethod:                 Least Squares   F-statistic:                     506.5\nDate:                Mon, 07 Dec 2020   Prob (F-statistic):          2.15e-262\nTime:                        04:18:54   Log-Likelihood:                -821.36\nNo. Observations:                 935   AIC:                             1655.\nDf Residuals:                     929   BIC:                             1684.\nDf Model:                           5                                         \nCovariance Type:            nonrobust                                         \n=============================================================================================\n                                coef    std err          t      P>|t|      [0.025      0.975]\n---------------------------------------------------------------------------------------------\nIntercept                     2.5266      0.067     37.677      0.000       2.395       2.658\nGDP_per_capita                1.9729      0.146     13.493      0.000       1.686       2.260\nHealthy_life_expectancy       1.6134      0.138     11.698      0.000       1.343       1.884\nFreedom                       1.3565      0.098     13.840      0.000       1.164       1.549\nGenerosity                    0.3108      0.122      2.541      0.011       0.071       0.551\nPerceptions_of_corruption    -0.0759      0.073     -1.039      0.299      -0.219       0.067\n==============================================================================\nOmnibus:                       29.084   Durbin-Watson:                   1.471\nProb(Omnibus):                  0.000   Jarque-Bera (JB):               30.984\nSkew:                          -0.438   Prob(JB):                     1.87e-07\nKurtosis:                       3.170   Cond. No.                         15.1\n==============================================================================\n\nNotes:\n[1] Standard Errors assume that the covariance matrix of the errors is correctly specified.\n"
     ]
    }
   ],
   "source": [
    "mod = smf.ols(formula='Happiness_Score ~ GDP_per_capita + Healthy_life_expectancy + Freedom + Generosity + Perceptions_of_corruption', data=df)\n",
    "np.random.seed(2)\n",
    "res = mod.fit()\n",
    "print(res.summary())\n"
   ]
  },
  {
   "source": [
    "We observe at the 95% significance level that `Perceptions_of_corruption` is not deemed significant."
   ],
   "cell_type": "markdown",
   "metadata": {}
  },
  {
   "cell_type": "code",
   "execution_count": 37,
   "metadata": {},
   "outputs": [
    {
     "output_type": "execute_result",
     "data": {
      "text/plain": [
       "   GDP_per_capita  Healthy_life_expectancy   Freedom  Generosity  \\\n",
       "0        0.824544                 0.914250  0.992982    0.371323   \n",
       "1        0.768315                 0.920807  0.930897    0.547066   \n",
       "2        0.782141                 0.845922  0.965668    0.427515   \n",
       "3        0.861849                 0.856735  1.000000    0.434569   \n",
       "4        0.782625                 0.877625  0.937983    0.574538   \n",
       "\n",
       "   Perceptions_of_corruption  \n",
       "0                   0.759606  \n",
       "1                   0.253220  \n",
       "2                   0.875664  \n",
       "3                   0.659996  \n",
       "4                   0.595481  "
      ],
      "text/html": "<div>\n<style scoped>\n    .dataframe tbody tr th:only-of-type {\n        vertical-align: middle;\n    }\n\n    .dataframe tbody tr th {\n        vertical-align: top;\n    }\n\n    .dataframe thead th {\n        text-align: right;\n    }\n</style>\n<table border=\"1\" class=\"dataframe\">\n  <thead>\n    <tr style=\"text-align: right;\">\n      <th></th>\n      <th>GDP_per_capita</th>\n      <th>Healthy_life_expectancy</th>\n      <th>Freedom</th>\n      <th>Generosity</th>\n      <th>Perceptions_of_corruption</th>\n    </tr>\n  </thead>\n  <tbody>\n    <tr>\n      <th>0</th>\n      <td>0.824544</td>\n      <td>0.914250</td>\n      <td>0.992982</td>\n      <td>0.371323</td>\n      <td>0.759606</td>\n    </tr>\n    <tr>\n      <th>1</th>\n      <td>0.768315</td>\n      <td>0.920807</td>\n      <td>0.930897</td>\n      <td>0.547066</td>\n      <td>0.253220</td>\n    </tr>\n    <tr>\n      <th>2</th>\n      <td>0.782141</td>\n      <td>0.845922</td>\n      <td>0.965668</td>\n      <td>0.427515</td>\n      <td>0.875664</td>\n    </tr>\n    <tr>\n      <th>3</th>\n      <td>0.861849</td>\n      <td>0.856735</td>\n      <td>1.000000</td>\n      <td>0.434569</td>\n      <td>0.659996</td>\n    </tr>\n    <tr>\n      <th>4</th>\n      <td>0.782625</td>\n      <td>0.877625</td>\n      <td>0.937983</td>\n      <td>0.574538</td>\n      <td>0.595481</td>\n    </tr>\n  </tbody>\n</table>\n</div>"
     },
     "metadata": {},
     "execution_count": 37
    }
   ],
   "source": [
    "# create dataframe of features\n",
    "features = df.iloc[:, 4:]\n",
    "features.head()"
   ]
  },
  {
   "cell_type": "code",
   "execution_count": 53,
   "metadata": {},
   "outputs": [
    {
     "output_type": "execute_result",
     "data": {
      "text/plain": [
       "Text(0, 0.5, 'Features')"
      ]
     },
     "metadata": {},
     "execution_count": 53
    },
    {
     "output_type": "display_data",
     "data": {
      "text/plain": "<Figure size 432x288 with 2 Axes>",
      "image/svg+xml": "<?xml version=\"1.0\" encoding=\"utf-8\" standalone=\"no\"?>\r\n<!DOCTYPE svg PUBLIC \"-//W3C//DTD SVG 1.1//EN\"\r\n  \"http://www.w3.org/Graphics/SVG/1.1/DTD/svg11.dtd\">\r\n<!-- Created with matplotlib (https://matplotlib.org/) -->\r\n<svg height=\"321.859688pt\" version=\"1.1\" viewBox=\"0 0 357.256687 321.859688\" width=\"357.256687pt\" xmlns=\"http://www.w3.org/2000/svg\" xmlns:xlink=\"http://www.w3.org/1999/xlink\">\r\n <metadata>\r\n  <rdf:RDF xmlns:cc=\"http://creativecommons.org/ns#\" xmlns:dc=\"http://purl.org/dc/elements/1.1/\" xmlns:rdf=\"http://www.w3.org/1999/02/22-rdf-syntax-ns#\">\r\n   <cc:Work>\r\n    <dc:type rdf:resource=\"http://purl.org/dc/dcmitype/StillImage\"/>\r\n    <dc:date>2020-12-07T04:34:23.369040</dc:date>\r\n    <dc:format>image/svg+xml</dc:format>\r\n    <dc:creator>\r\n     <cc:Agent>\r\n      <dc:title>Matplotlib v3.3.1, https://matplotlib.org/</dc:title>\r\n     </cc:Agent>\r\n    </dc:creator>\r\n   </cc:Work>\r\n  </rdf:RDF>\r\n </metadata>\r\n <defs>\r\n  <style type=\"text/css\">*{stroke-linecap:butt;stroke-linejoin:round;}</style>\r\n </defs>\r\n <g id=\"figure_1\">\r\n  <g id=\"patch_1\">\r\n   <path d=\"M 0 321.859688 \r\nL 357.256687 321.859688 \r\nL 357.256687 0 \r\nL 0 0 \r\nz\r\n\" style=\"fill:none;\"/>\r\n  </g>\r\n  <g id=\"axes_1\">\r\n   <g id=\"patch_2\">\r\n    <path d=\"M 82.101562 239.758125 \r\nL 299.541562 239.758125 \r\nL 299.541562 22.318125 \r\nL 82.101562 22.318125 \r\nz\r\n\" style=\"fill:#ffffff;\"/>\r\n   </g>\r\n   <g clip-path=\"url(#pc30b71ef93)\">\r\n    <image height=\"218\" id=\"imagee17b122afb\" transform=\"scale(1 -1)translate(0 -218)\" width=\"218\" x=\"82.101562\" xlink:href=\"data:image/png;base64,\r\niVBORw0KGgoAAAANSUhEUgAAANoAAADaCAYAAADAHVzbAAACjElEQVR4nO3VsTGEURhG4V2zY8RGLpUIhRoQ6EALSpCbMXrYAjRj9IJg/VrYKziX9TwVvMF35lutAAAAAAAAAAAAAAAAAAAAAAAAAAAAAAAAAAAAAAAAAAAAAAAAAA7fevYA+Inrm8dl9oYRR7MHwH8gNAgIDQJCg4DQICA0CAgNAkKDgNAgIDQICA0CQoOA0CAgNAgIDQJCg4DQICA0CAgNAkKDgNAgIDQICA0CQoOA0CAgNAgIDQJCg4DQICA0CAgNAkKDgNAgIDQICA0CQoOA0CAgNAgIDQJCg4DQICA0CKxnD+D3uLp7WmZv2Nfu+G+dro8GAaFBQGgQEBoEhAYBoUFAaBAQGgSEBgGhQUBoEBAaBIQGAaFBQGgQEBoEhAYBoUFAaBAQGgSEBgGhQUBoEBAaBIQGAaFBQGgQEBoEhAYBoUFAaBAQGgSEBgGhQUBoEBAaBIQGAaFBQGgQEBoEhAYBoUFAaBDYzB5wyC7vn5fZG0acbt9mT9jb7uJ89oQhPhoEhAYBoUFAaBAQGgSEBgGhQUBoEBAaBIQGAaFBQGgQEBoEhAYBoUFAaBAQGgSEBgGhQUBoEBAaBIQGAaFBQGgQEBoEhAYBoUFAaBAQGgSEBgGhQUBoEBAaBIQGAaFBQGgQEBoEhAYBoUFAaBAQGgSEBoHN7AEjHl5vl9kbRrxsZy8Y8/X+MXvC3j7PTmZPGOKjQUBoEBAaBIQGAaFBQGgQEBoEhAYBoUFAaBAQGgSEBgGhQUBoEBAaBIQGAaFBQGgQEBoEhAYBoUFAaBAQGgSEBgGhQUBoEBAaBIQGAaFBQGgQEBoEhAYBoUFAaBAQGgSEBgGhQUBoEBAaBIQGAaFBQGgQEBoEvgFPfBNvI6NsEQAAAABJRU5ErkJggg==\" y=\"-21.758125\"/>\r\n   </g>\r\n   <g id=\"matplotlib.axis_1\">\r\n    <g id=\"xtick_1\">\r\n     <g id=\"line2d_1\">\r\n      <defs>\r\n       <path d=\"M 0 0 \r\nL 0 3.5 \r\n\" id=\"m5b93d1164e\" style=\"stroke:#000000;stroke-width:0.8;\"/>\r\n      </defs>\r\n      <g>\r\n       <use style=\"stroke:#000000;stroke-width:0.8;\" x=\"103.845562\" xlink:href=\"#m5b93d1164e\" y=\"239.758125\"/>\r\n      </g>\r\n     </g>\r\n     <g id=\"text_1\">\r\n      <!-- GDP -->\r\n      <g transform=\"translate(106.604938 268.23625)rotate(-90)scale(0.1 -0.1)\">\r\n       <defs>\r\n        <path d=\"M 59.515625 10.40625 \r\nL 59.515625 29.984375 \r\nL 43.40625 29.984375 \r\nL 43.40625 38.09375 \r\nL 69.28125 38.09375 \r\nL 69.28125 6.78125 \r\nQ 63.578125 2.734375 56.6875 0.65625 \r\nQ 49.8125 -1.421875 42 -1.421875 \r\nQ 24.90625 -1.421875 15.25 8.5625 \r\nQ 5.609375 18.5625 5.609375 36.375 \r\nQ 5.609375 54.25 15.25 64.234375 \r\nQ 24.90625 74.21875 42 74.21875 \r\nQ 49.125 74.21875 55.546875 72.453125 \r\nQ 61.96875 70.703125 67.390625 67.28125 \r\nL 67.390625 56.78125 \r\nQ 61.921875 61.421875 55.765625 63.765625 \r\nQ 49.609375 66.109375 42.828125 66.109375 \r\nQ 29.4375 66.109375 22.71875 58.640625 \r\nQ 16.015625 51.171875 16.015625 36.375 \r\nQ 16.015625 21.625 22.71875 14.15625 \r\nQ 29.4375 6.6875 42.828125 6.6875 \r\nQ 48.046875 6.6875 52.140625 7.59375 \r\nQ 56.25 8.5 59.515625 10.40625 \r\nz\r\n\" id=\"DejaVuSans-71\"/>\r\n        <path d=\"M 19.671875 64.796875 \r\nL 19.671875 8.109375 \r\nL 31.59375 8.109375 \r\nQ 46.6875 8.109375 53.6875 14.9375 \r\nQ 60.6875 21.78125 60.6875 36.53125 \r\nQ 60.6875 51.171875 53.6875 57.984375 \r\nQ 46.6875 64.796875 31.59375 64.796875 \r\nz\r\nM 9.8125 72.90625 \r\nL 30.078125 72.90625 \r\nQ 51.265625 72.90625 61.171875 64.09375 \r\nQ 71.09375 55.28125 71.09375 36.53125 \r\nQ 71.09375 17.671875 61.125 8.828125 \r\nQ 51.171875 0 30.078125 0 \r\nL 9.8125 0 \r\nz\r\n\" id=\"DejaVuSans-68\"/>\r\n        <path d=\"M 19.671875 64.796875 \r\nL 19.671875 37.40625 \r\nL 32.078125 37.40625 \r\nQ 38.96875 37.40625 42.71875 40.96875 \r\nQ 46.484375 44.53125 46.484375 51.125 \r\nQ 46.484375 57.671875 42.71875 61.234375 \r\nQ 38.96875 64.796875 32.078125 64.796875 \r\nz\r\nM 9.8125 72.90625 \r\nL 32.078125 72.90625 \r\nQ 44.34375 72.90625 50.609375 67.359375 \r\nQ 56.890625 61.8125 56.890625 51.125 \r\nQ 56.890625 40.328125 50.609375 34.8125 \r\nQ 44.34375 29.296875 32.078125 29.296875 \r\nL 19.671875 29.296875 \r\nL 19.671875 0 \r\nL 9.8125 0 \r\nz\r\n\" id=\"DejaVuSans-80\"/>\r\n       </defs>\r\n       <use xlink:href=\"#DejaVuSans-71\"/>\r\n       <use x=\"77.490234\" xlink:href=\"#DejaVuSans-68\"/>\r\n       <use x=\"154.492188\" xlink:href=\"#DejaVuSans-80\"/>\r\n      </g>\r\n     </g>\r\n    </g>\r\n    <g id=\"xtick_2\">\r\n     <g id=\"line2d_2\">\r\n      <g>\r\n       <use style=\"stroke:#000000;stroke-width:0.8;\" x=\"147.333562\" xlink:href=\"#m5b93d1164e\" y=\"239.758125\"/>\r\n      </g>\r\n     </g>\r\n     <g id=\"text_2\">\r\n      <!-- Health -->\r\n      <g transform=\"translate(150.092938 279.595625)rotate(-90)scale(0.1 -0.1)\">\r\n       <defs>\r\n        <path d=\"M 9.8125 72.90625 \r\nL 19.671875 72.90625 \r\nL 19.671875 43.015625 \r\nL 55.515625 43.015625 \r\nL 55.515625 72.90625 \r\nL 65.375 72.90625 \r\nL 65.375 0 \r\nL 55.515625 0 \r\nL 55.515625 34.71875 \r\nL 19.671875 34.71875 \r\nL 19.671875 0 \r\nL 9.8125 0 \r\nz\r\n\" id=\"DejaVuSans-72\"/>\r\n        <path d=\"M 56.203125 29.59375 \r\nL 56.203125 25.203125 \r\nL 14.890625 25.203125 \r\nQ 15.484375 15.921875 20.484375 11.0625 \r\nQ 25.484375 6.203125 34.421875 6.203125 \r\nQ 39.59375 6.203125 44.453125 7.46875 \r\nQ 49.3125 8.734375 54.109375 11.28125 \r\nL 54.109375 2.78125 \r\nQ 49.265625 0.734375 44.1875 -0.34375 \r\nQ 39.109375 -1.421875 33.890625 -1.421875 \r\nQ 20.796875 -1.421875 13.15625 6.1875 \r\nQ 5.515625 13.8125 5.515625 26.8125 \r\nQ 5.515625 40.234375 12.765625 48.109375 \r\nQ 20.015625 56 32.328125 56 \r\nQ 43.359375 56 49.78125 48.890625 \r\nQ 56.203125 41.796875 56.203125 29.59375 \r\nz\r\nM 47.21875 32.234375 \r\nQ 47.125 39.59375 43.09375 43.984375 \r\nQ 39.0625 48.390625 32.421875 48.390625 \r\nQ 24.90625 48.390625 20.390625 44.140625 \r\nQ 15.875 39.890625 15.1875 32.171875 \r\nz\r\n\" id=\"DejaVuSans-101\"/>\r\n        <path d=\"M 34.28125 27.484375 \r\nQ 23.390625 27.484375 19.1875 25 \r\nQ 14.984375 22.515625 14.984375 16.5 \r\nQ 14.984375 11.71875 18.140625 8.90625 \r\nQ 21.296875 6.109375 26.703125 6.109375 \r\nQ 34.1875 6.109375 38.703125 11.40625 \r\nQ 43.21875 16.703125 43.21875 25.484375 \r\nL 43.21875 27.484375 \r\nz\r\nM 52.203125 31.203125 \r\nL 52.203125 0 \r\nL 43.21875 0 \r\nL 43.21875 8.296875 \r\nQ 40.140625 3.328125 35.546875 0.953125 \r\nQ 30.953125 -1.421875 24.3125 -1.421875 \r\nQ 15.921875 -1.421875 10.953125 3.296875 \r\nQ 6 8.015625 6 15.921875 \r\nQ 6 25.140625 12.171875 29.828125 \r\nQ 18.359375 34.515625 30.609375 34.515625 \r\nL 43.21875 34.515625 \r\nL 43.21875 35.40625 \r\nQ 43.21875 41.609375 39.140625 45 \r\nQ 35.0625 48.390625 27.6875 48.390625 \r\nQ 23 48.390625 18.546875 47.265625 \r\nQ 14.109375 46.140625 10.015625 43.890625 \r\nL 10.015625 52.203125 \r\nQ 14.9375 54.109375 19.578125 55.046875 \r\nQ 24.21875 56 28.609375 56 \r\nQ 40.484375 56 46.34375 49.84375 \r\nQ 52.203125 43.703125 52.203125 31.203125 \r\nz\r\n\" id=\"DejaVuSans-97\"/>\r\n        <path d=\"M 9.421875 75.984375 \r\nL 18.40625 75.984375 \r\nL 18.40625 0 \r\nL 9.421875 0 \r\nz\r\n\" id=\"DejaVuSans-108\"/>\r\n        <path d=\"M 18.3125 70.21875 \r\nL 18.3125 54.6875 \r\nL 36.8125 54.6875 \r\nL 36.8125 47.703125 \r\nL 18.3125 47.703125 \r\nL 18.3125 18.015625 \r\nQ 18.3125 11.328125 20.140625 9.421875 \r\nQ 21.96875 7.515625 27.59375 7.515625 \r\nL 36.8125 7.515625 \r\nL 36.8125 0 \r\nL 27.59375 0 \r\nQ 17.1875 0 13.234375 3.875 \r\nQ 9.28125 7.765625 9.28125 18.015625 \r\nL 9.28125 47.703125 \r\nL 2.6875 47.703125 \r\nL 2.6875 54.6875 \r\nL 9.28125 54.6875 \r\nL 9.28125 70.21875 \r\nz\r\n\" id=\"DejaVuSans-116\"/>\r\n        <path d=\"M 54.890625 33.015625 \r\nL 54.890625 0 \r\nL 45.90625 0 \r\nL 45.90625 32.71875 \r\nQ 45.90625 40.484375 42.875 44.328125 \r\nQ 39.84375 48.1875 33.796875 48.1875 \r\nQ 26.515625 48.1875 22.3125 43.546875 \r\nQ 18.109375 38.921875 18.109375 30.90625 \r\nL 18.109375 0 \r\nL 9.078125 0 \r\nL 9.078125 75.984375 \r\nL 18.109375 75.984375 \r\nL 18.109375 46.1875 \r\nQ 21.34375 51.125 25.703125 53.5625 \r\nQ 30.078125 56 35.796875 56 \r\nQ 45.21875 56 50.046875 50.171875 \r\nQ 54.890625 44.34375 54.890625 33.015625 \r\nz\r\n\" id=\"DejaVuSans-104\"/>\r\n       </defs>\r\n       <use xlink:href=\"#DejaVuSans-72\"/>\r\n       <use x=\"75.195312\" xlink:href=\"#DejaVuSans-101\"/>\r\n       <use x=\"136.71875\" xlink:href=\"#DejaVuSans-97\"/>\r\n       <use x=\"197.998047\" xlink:href=\"#DejaVuSans-108\"/>\r\n       <use x=\"225.78125\" xlink:href=\"#DejaVuSans-116\"/>\r\n       <use x=\"264.990234\" xlink:href=\"#DejaVuSans-104\"/>\r\n      </g>\r\n     </g>\r\n    </g>\r\n    <g id=\"xtick_3\">\r\n     <g id=\"line2d_3\">\r\n      <g>\r\n       <use style=\"stroke:#000000;stroke-width:0.8;\" x=\"190.821562\" xlink:href=\"#m5b93d1164e\" y=\"239.758125\"/>\r\n      </g>\r\n     </g>\r\n     <g id=\"text_3\">\r\n      <!-- Freedom -->\r\n      <g transform=\"translate(193.580938 290.184687)rotate(-90)scale(0.1 -0.1)\">\r\n       <defs>\r\n        <path d=\"M 9.8125 72.90625 \r\nL 51.703125 72.90625 \r\nL 51.703125 64.59375 \r\nL 19.671875 64.59375 \r\nL 19.671875 43.109375 \r\nL 48.578125 43.109375 \r\nL 48.578125 34.8125 \r\nL 19.671875 34.8125 \r\nL 19.671875 0 \r\nL 9.8125 0 \r\nz\r\n\" id=\"DejaVuSans-70\"/>\r\n        <path d=\"M 41.109375 46.296875 \r\nQ 39.59375 47.171875 37.8125 47.578125 \r\nQ 36.03125 48 33.890625 48 \r\nQ 26.265625 48 22.1875 43.046875 \r\nQ 18.109375 38.09375 18.109375 28.8125 \r\nL 18.109375 0 \r\nL 9.078125 0 \r\nL 9.078125 54.6875 \r\nL 18.109375 54.6875 \r\nL 18.109375 46.1875 \r\nQ 20.953125 51.171875 25.484375 53.578125 \r\nQ 30.03125 56 36.53125 56 \r\nQ 37.453125 56 38.578125 55.875 \r\nQ 39.703125 55.765625 41.0625 55.515625 \r\nz\r\n\" id=\"DejaVuSans-114\"/>\r\n        <path d=\"M 45.40625 46.390625 \r\nL 45.40625 75.984375 \r\nL 54.390625 75.984375 \r\nL 54.390625 0 \r\nL 45.40625 0 \r\nL 45.40625 8.203125 \r\nQ 42.578125 3.328125 38.25 0.953125 \r\nQ 33.9375 -1.421875 27.875 -1.421875 \r\nQ 17.96875 -1.421875 11.734375 6.484375 \r\nQ 5.515625 14.40625 5.515625 27.296875 \r\nQ 5.515625 40.1875 11.734375 48.09375 \r\nQ 17.96875 56 27.875 56 \r\nQ 33.9375 56 38.25 53.625 \r\nQ 42.578125 51.265625 45.40625 46.390625 \r\nz\r\nM 14.796875 27.296875 \r\nQ 14.796875 17.390625 18.875 11.75 \r\nQ 22.953125 6.109375 30.078125 6.109375 \r\nQ 37.203125 6.109375 41.296875 11.75 \r\nQ 45.40625 17.390625 45.40625 27.296875 \r\nQ 45.40625 37.203125 41.296875 42.84375 \r\nQ 37.203125 48.484375 30.078125 48.484375 \r\nQ 22.953125 48.484375 18.875 42.84375 \r\nQ 14.796875 37.203125 14.796875 27.296875 \r\nz\r\n\" id=\"DejaVuSans-100\"/>\r\n        <path d=\"M 30.609375 48.390625 \r\nQ 23.390625 48.390625 19.1875 42.75 \r\nQ 14.984375 37.109375 14.984375 27.296875 \r\nQ 14.984375 17.484375 19.15625 11.84375 \r\nQ 23.34375 6.203125 30.609375 6.203125 \r\nQ 37.796875 6.203125 41.984375 11.859375 \r\nQ 46.1875 17.53125 46.1875 27.296875 \r\nQ 46.1875 37.015625 41.984375 42.703125 \r\nQ 37.796875 48.390625 30.609375 48.390625 \r\nz\r\nM 30.609375 56 \r\nQ 42.328125 56 49.015625 48.375 \r\nQ 55.71875 40.765625 55.71875 27.296875 \r\nQ 55.71875 13.875 49.015625 6.21875 \r\nQ 42.328125 -1.421875 30.609375 -1.421875 \r\nQ 18.84375 -1.421875 12.171875 6.21875 \r\nQ 5.515625 13.875 5.515625 27.296875 \r\nQ 5.515625 40.765625 12.171875 48.375 \r\nQ 18.84375 56 30.609375 56 \r\nz\r\n\" id=\"DejaVuSans-111\"/>\r\n        <path d=\"M 52 44.1875 \r\nQ 55.375 50.25 60.0625 53.125 \r\nQ 64.75 56 71.09375 56 \r\nQ 79.640625 56 84.28125 50.015625 \r\nQ 88.921875 44.046875 88.921875 33.015625 \r\nL 88.921875 0 \r\nL 79.890625 0 \r\nL 79.890625 32.71875 \r\nQ 79.890625 40.578125 77.09375 44.375 \r\nQ 74.3125 48.1875 68.609375 48.1875 \r\nQ 61.625 48.1875 57.5625 43.546875 \r\nQ 53.515625 38.921875 53.515625 30.90625 \r\nL 53.515625 0 \r\nL 44.484375 0 \r\nL 44.484375 32.71875 \r\nQ 44.484375 40.625 41.703125 44.40625 \r\nQ 38.921875 48.1875 33.109375 48.1875 \r\nQ 26.21875 48.1875 22.15625 43.53125 \r\nQ 18.109375 38.875 18.109375 30.90625 \r\nL 18.109375 0 \r\nL 9.078125 0 \r\nL 9.078125 54.6875 \r\nL 18.109375 54.6875 \r\nL 18.109375 46.1875 \r\nQ 21.1875 51.21875 25.484375 53.609375 \r\nQ 29.78125 56 35.6875 56 \r\nQ 41.65625 56 45.828125 52.96875 \r\nQ 50 49.953125 52 44.1875 \r\nz\r\n\" id=\"DejaVuSans-109\"/>\r\n       </defs>\r\n       <use xlink:href=\"#DejaVuSans-70\"/>\r\n       <use x=\"50.269531\" xlink:href=\"#DejaVuSans-114\"/>\r\n       <use x=\"89.132812\" xlink:href=\"#DejaVuSans-101\"/>\r\n       <use x=\"150.65625\" xlink:href=\"#DejaVuSans-101\"/>\r\n       <use x=\"212.179688\" xlink:href=\"#DejaVuSans-100\"/>\r\n       <use x=\"275.65625\" xlink:href=\"#DejaVuSans-111\"/>\r\n       <use x=\"336.837891\" xlink:href=\"#DejaVuSans-109\"/>\r\n      </g>\r\n     </g>\r\n    </g>\r\n    <g id=\"xtick_4\">\r\n     <g id=\"line2d_4\">\r\n      <g>\r\n       <use style=\"stroke:#000000;stroke-width:0.8;\" x=\"234.309562\" xlink:href=\"#m5b93d1164e\" y=\"239.758125\"/>\r\n      </g>\r\n     </g>\r\n     <g id=\"text_4\">\r\n      <!-- Generosity -->\r\n      <g transform=\"translate(237.068938 300.981562)rotate(-90)scale(0.1 -0.1)\">\r\n       <defs>\r\n        <path d=\"M 54.890625 33.015625 \r\nL 54.890625 0 \r\nL 45.90625 0 \r\nL 45.90625 32.71875 \r\nQ 45.90625 40.484375 42.875 44.328125 \r\nQ 39.84375 48.1875 33.796875 48.1875 \r\nQ 26.515625 48.1875 22.3125 43.546875 \r\nQ 18.109375 38.921875 18.109375 30.90625 \r\nL 18.109375 0 \r\nL 9.078125 0 \r\nL 9.078125 54.6875 \r\nL 18.109375 54.6875 \r\nL 18.109375 46.1875 \r\nQ 21.34375 51.125 25.703125 53.5625 \r\nQ 30.078125 56 35.796875 56 \r\nQ 45.21875 56 50.046875 50.171875 \r\nQ 54.890625 44.34375 54.890625 33.015625 \r\nz\r\n\" id=\"DejaVuSans-110\"/>\r\n        <path d=\"M 44.28125 53.078125 \r\nL 44.28125 44.578125 \r\nQ 40.484375 46.53125 36.375 47.5 \r\nQ 32.28125 48.484375 27.875 48.484375 \r\nQ 21.1875 48.484375 17.84375 46.4375 \r\nQ 14.5 44.390625 14.5 40.28125 \r\nQ 14.5 37.15625 16.890625 35.375 \r\nQ 19.28125 33.59375 26.515625 31.984375 \r\nL 29.59375 31.296875 \r\nQ 39.15625 29.25 43.1875 25.515625 \r\nQ 47.21875 21.78125 47.21875 15.09375 \r\nQ 47.21875 7.46875 41.1875 3.015625 \r\nQ 35.15625 -1.421875 24.609375 -1.421875 \r\nQ 20.21875 -1.421875 15.453125 -0.5625 \r\nQ 10.6875 0.296875 5.421875 2 \r\nL 5.421875 11.28125 \r\nQ 10.40625 8.6875 15.234375 7.390625 \r\nQ 20.0625 6.109375 24.8125 6.109375 \r\nQ 31.15625 6.109375 34.5625 8.28125 \r\nQ 37.984375 10.453125 37.984375 14.40625 \r\nQ 37.984375 18.0625 35.515625 20.015625 \r\nQ 33.0625 21.96875 24.703125 23.78125 \r\nL 21.578125 24.515625 \r\nQ 13.234375 26.265625 9.515625 29.90625 \r\nQ 5.8125 33.546875 5.8125 39.890625 \r\nQ 5.8125 47.609375 11.28125 51.796875 \r\nQ 16.75 56 26.8125 56 \r\nQ 31.78125 56 36.171875 55.265625 \r\nQ 40.578125 54.546875 44.28125 53.078125 \r\nz\r\n\" id=\"DejaVuSans-115\"/>\r\n        <path d=\"M 9.421875 54.6875 \r\nL 18.40625 54.6875 \r\nL 18.40625 0 \r\nL 9.421875 0 \r\nz\r\nM 9.421875 75.984375 \r\nL 18.40625 75.984375 \r\nL 18.40625 64.59375 \r\nL 9.421875 64.59375 \r\nz\r\n\" id=\"DejaVuSans-105\"/>\r\n        <path d=\"M 32.171875 -5.078125 \r\nQ 28.375 -14.84375 24.75 -17.8125 \r\nQ 21.140625 -20.796875 15.09375 -20.796875 \r\nL 7.90625 -20.796875 \r\nL 7.90625 -13.28125 \r\nL 13.1875 -13.28125 \r\nQ 16.890625 -13.28125 18.9375 -11.515625 \r\nQ 21 -9.765625 23.484375 -3.21875 \r\nL 25.09375 0.875 \r\nL 2.984375 54.6875 \r\nL 12.5 54.6875 \r\nL 29.59375 11.921875 \r\nL 46.6875 54.6875 \r\nL 56.203125 54.6875 \r\nz\r\n\" id=\"DejaVuSans-121\"/>\r\n       </defs>\r\n       <use xlink:href=\"#DejaVuSans-71\"/>\r\n       <use x=\"77.490234\" xlink:href=\"#DejaVuSans-101\"/>\r\n       <use x=\"139.013672\" xlink:href=\"#DejaVuSans-110\"/>\r\n       <use x=\"202.392578\" xlink:href=\"#DejaVuSans-101\"/>\r\n       <use x=\"263.916016\" xlink:href=\"#DejaVuSans-114\"/>\r\n       <use x=\"302.779297\" xlink:href=\"#DejaVuSans-111\"/>\r\n       <use x=\"363.960938\" xlink:href=\"#DejaVuSans-115\"/>\r\n       <use x=\"416.060547\" xlink:href=\"#DejaVuSans-105\"/>\r\n       <use x=\"443.84375\" xlink:href=\"#DejaVuSans-116\"/>\r\n       <use x=\"483.052734\" xlink:href=\"#DejaVuSans-121\"/>\r\n      </g>\r\n     </g>\r\n    </g>\r\n    <g id=\"xtick_5\">\r\n     <g id=\"line2d_5\">\r\n      <g>\r\n       <use style=\"stroke:#000000;stroke-width:0.8;\" x=\"277.797563\" xlink:href=\"#m5b93d1164e\" y=\"239.758125\"/>\r\n      </g>\r\n     </g>\r\n     <g id=\"text_5\">\r\n      <!-- Corruption -->\r\n      <g transform=\"translate(280.556938 299.747187)rotate(-90)scale(0.1 -0.1)\">\r\n       <defs>\r\n        <path d=\"M 64.40625 67.28125 \r\nL 64.40625 56.890625 \r\nQ 59.421875 61.53125 53.78125 63.8125 \r\nQ 48.140625 66.109375 41.796875 66.109375 \r\nQ 29.296875 66.109375 22.65625 58.46875 \r\nQ 16.015625 50.828125 16.015625 36.375 \r\nQ 16.015625 21.96875 22.65625 14.328125 \r\nQ 29.296875 6.6875 41.796875 6.6875 \r\nQ 48.140625 6.6875 53.78125 8.984375 \r\nQ 59.421875 11.28125 64.40625 15.921875 \r\nL 64.40625 5.609375 \r\nQ 59.234375 2.09375 53.4375 0.328125 \r\nQ 47.65625 -1.421875 41.21875 -1.421875 \r\nQ 24.65625 -1.421875 15.125 8.703125 \r\nQ 5.609375 18.84375 5.609375 36.375 \r\nQ 5.609375 53.953125 15.125 64.078125 \r\nQ 24.65625 74.21875 41.21875 74.21875 \r\nQ 47.75 74.21875 53.53125 72.484375 \r\nQ 59.328125 70.75 64.40625 67.28125 \r\nz\r\n\" id=\"DejaVuSans-67\"/>\r\n        <path d=\"M 8.5 21.578125 \r\nL 8.5 54.6875 \r\nL 17.484375 54.6875 \r\nL 17.484375 21.921875 \r\nQ 17.484375 14.15625 20.5 10.265625 \r\nQ 23.53125 6.390625 29.59375 6.390625 \r\nQ 36.859375 6.390625 41.078125 11.03125 \r\nQ 45.3125 15.671875 45.3125 23.6875 \r\nL 45.3125 54.6875 \r\nL 54.296875 54.6875 \r\nL 54.296875 0 \r\nL 45.3125 0 \r\nL 45.3125 8.40625 \r\nQ 42.046875 3.421875 37.71875 1 \r\nQ 33.40625 -1.421875 27.6875 -1.421875 \r\nQ 18.265625 -1.421875 13.375 4.4375 \r\nQ 8.5 10.296875 8.5 21.578125 \r\nz\r\nM 31.109375 56 \r\nz\r\n\" id=\"DejaVuSans-117\"/>\r\n        <path d=\"M 18.109375 8.203125 \r\nL 18.109375 -20.796875 \r\nL 9.078125 -20.796875 \r\nL 9.078125 54.6875 \r\nL 18.109375 54.6875 \r\nL 18.109375 46.390625 \r\nQ 20.953125 51.265625 25.265625 53.625 \r\nQ 29.59375 56 35.59375 56 \r\nQ 45.5625 56 51.78125 48.09375 \r\nQ 58.015625 40.1875 58.015625 27.296875 \r\nQ 58.015625 14.40625 51.78125 6.484375 \r\nQ 45.5625 -1.421875 35.59375 -1.421875 \r\nQ 29.59375 -1.421875 25.265625 0.953125 \r\nQ 20.953125 3.328125 18.109375 8.203125 \r\nz\r\nM 48.6875 27.296875 \r\nQ 48.6875 37.203125 44.609375 42.84375 \r\nQ 40.53125 48.484375 33.40625 48.484375 \r\nQ 26.265625 48.484375 22.1875 42.84375 \r\nQ 18.109375 37.203125 18.109375 27.296875 \r\nQ 18.109375 17.390625 22.1875 11.75 \r\nQ 26.265625 6.109375 33.40625 6.109375 \r\nQ 40.53125 6.109375 44.609375 11.75 \r\nQ 48.6875 17.390625 48.6875 27.296875 \r\nz\r\n\" id=\"DejaVuSans-112\"/>\r\n       </defs>\r\n       <use xlink:href=\"#DejaVuSans-67\"/>\r\n       <use x=\"69.824219\" xlink:href=\"#DejaVuSans-111\"/>\r\n       <use x=\"131.005859\" xlink:href=\"#DejaVuSans-114\"/>\r\n       <use x=\"170.369141\" xlink:href=\"#DejaVuSans-114\"/>\r\n       <use x=\"211.482422\" xlink:href=\"#DejaVuSans-117\"/>\r\n       <use x=\"274.861328\" xlink:href=\"#DejaVuSans-112\"/>\r\n       <use x=\"338.337891\" xlink:href=\"#DejaVuSans-116\"/>\r\n       <use x=\"377.546875\" xlink:href=\"#DejaVuSans-105\"/>\r\n       <use x=\"405.330078\" xlink:href=\"#DejaVuSans-111\"/>\r\n       <use x=\"466.511719\" xlink:href=\"#DejaVuSans-110\"/>\r\n      </g>\r\n     </g>\r\n    </g>\r\n    <g id=\"text_6\">\r\n     <!-- Features -->\r\n     <g transform=\"translate(169.327031 312.58)scale(0.1 -0.1)\">\r\n      <use xlink:href=\"#DejaVuSans-70\"/>\r\n      <use x=\"52.019531\" xlink:href=\"#DejaVuSans-101\"/>\r\n      <use x=\"113.542969\" xlink:href=\"#DejaVuSans-97\"/>\r\n      <use x=\"174.822266\" xlink:href=\"#DejaVuSans-116\"/>\r\n      <use x=\"214.03125\" xlink:href=\"#DejaVuSans-117\"/>\r\n      <use x=\"277.410156\" xlink:href=\"#DejaVuSans-114\"/>\r\n      <use x=\"316.273438\" xlink:href=\"#DejaVuSans-101\"/>\r\n      <use x=\"377.796875\" xlink:href=\"#DejaVuSans-115\"/>\r\n     </g>\r\n    </g>\r\n   </g>\r\n   <g id=\"matplotlib.axis_2\">\r\n    <g id=\"ytick_1\">\r\n     <g id=\"line2d_6\">\r\n      <defs>\r\n       <path d=\"M 0 0 \r\nL -3.5 0 \r\n\" id=\"m25ffc04c1e\" style=\"stroke:#000000;stroke-width:0.8;\"/>\r\n      </defs>\r\n      <g>\r\n       <use style=\"stroke:#000000;stroke-width:0.8;\" x=\"82.101562\" xlink:href=\"#m25ffc04c1e\" y=\"44.062125\"/>\r\n      </g>\r\n     </g>\r\n     <g id=\"text_7\">\r\n      <!-- GDP -->\r\n      <g transform=\"translate(53.623437 47.861344)scale(0.1 -0.1)\">\r\n       <use xlink:href=\"#DejaVuSans-71\"/>\r\n       <use x=\"77.490234\" xlink:href=\"#DejaVuSans-68\"/>\r\n       <use x=\"154.492188\" xlink:href=\"#DejaVuSans-80\"/>\r\n      </g>\r\n     </g>\r\n    </g>\r\n    <g id=\"ytick_2\">\r\n     <g id=\"line2d_7\">\r\n      <g>\r\n       <use style=\"stroke:#000000;stroke-width:0.8;\" x=\"82.101562\" xlink:href=\"#m25ffc04c1e\" y=\"87.550125\"/>\r\n      </g>\r\n     </g>\r\n     <g id=\"text_8\">\r\n      <!-- Health -->\r\n      <g transform=\"translate(42.264063 91.349344)scale(0.1 -0.1)\">\r\n       <use xlink:href=\"#DejaVuSans-72\"/>\r\n       <use x=\"75.195312\" xlink:href=\"#DejaVuSans-101\"/>\r\n       <use x=\"136.71875\" xlink:href=\"#DejaVuSans-97\"/>\r\n       <use x=\"197.998047\" xlink:href=\"#DejaVuSans-108\"/>\r\n       <use x=\"225.78125\" xlink:href=\"#DejaVuSans-116\"/>\r\n       <use x=\"264.990234\" xlink:href=\"#DejaVuSans-104\"/>\r\n      </g>\r\n     </g>\r\n    </g>\r\n    <g id=\"ytick_3\">\r\n     <g id=\"line2d_8\">\r\n      <g>\r\n       <use style=\"stroke:#000000;stroke-width:0.8;\" x=\"82.101562\" xlink:href=\"#m25ffc04c1e\" y=\"131.038125\"/>\r\n      </g>\r\n     </g>\r\n     <g id=\"text_9\">\r\n      <!-- Freedom -->\r\n      <g transform=\"translate(31.675 134.837344)scale(0.1 -0.1)\">\r\n       <use xlink:href=\"#DejaVuSans-70\"/>\r\n       <use x=\"50.269531\" xlink:href=\"#DejaVuSans-114\"/>\r\n       <use x=\"89.132812\" xlink:href=\"#DejaVuSans-101\"/>\r\n       <use x=\"150.65625\" xlink:href=\"#DejaVuSans-101\"/>\r\n       <use x=\"212.179688\" xlink:href=\"#DejaVuSans-100\"/>\r\n       <use x=\"275.65625\" xlink:href=\"#DejaVuSans-111\"/>\r\n       <use x=\"336.837891\" xlink:href=\"#DejaVuSans-109\"/>\r\n      </g>\r\n     </g>\r\n    </g>\r\n    <g id=\"ytick_4\">\r\n     <g id=\"line2d_9\">\r\n      <g>\r\n       <use style=\"stroke:#000000;stroke-width:0.8;\" x=\"82.101562\" xlink:href=\"#m25ffc04c1e\" y=\"174.526125\"/>\r\n      </g>\r\n     </g>\r\n     <g id=\"text_10\">\r\n      <!-- Generosity -->\r\n      <g transform=\"translate(20.878125 178.325344)scale(0.1 -0.1)\">\r\n       <use xlink:href=\"#DejaVuSans-71\"/>\r\n       <use x=\"77.490234\" xlink:href=\"#DejaVuSans-101\"/>\r\n       <use x=\"139.013672\" xlink:href=\"#DejaVuSans-110\"/>\r\n       <use x=\"202.392578\" xlink:href=\"#DejaVuSans-101\"/>\r\n       <use x=\"263.916016\" xlink:href=\"#DejaVuSans-114\"/>\r\n       <use x=\"302.779297\" xlink:href=\"#DejaVuSans-111\"/>\r\n       <use x=\"363.960938\" xlink:href=\"#DejaVuSans-115\"/>\r\n       <use x=\"416.060547\" xlink:href=\"#DejaVuSans-105\"/>\r\n       <use x=\"443.84375\" xlink:href=\"#DejaVuSans-116\"/>\r\n       <use x=\"483.052734\" xlink:href=\"#DejaVuSans-121\"/>\r\n      </g>\r\n     </g>\r\n    </g>\r\n    <g id=\"ytick_5\">\r\n     <g id=\"line2d_10\">\r\n      <g>\r\n       <use style=\"stroke:#000000;stroke-width:0.8;\" x=\"82.101562\" xlink:href=\"#m25ffc04c1e\" y=\"218.014125\"/>\r\n      </g>\r\n     </g>\r\n     <g id=\"text_11\">\r\n      <!-- Corruption -->\r\n      <g transform=\"translate(22.1125 221.813344)scale(0.1 -0.1)\">\r\n       <use xlink:href=\"#DejaVuSans-67\"/>\r\n       <use x=\"69.824219\" xlink:href=\"#DejaVuSans-111\"/>\r\n       <use x=\"131.005859\" xlink:href=\"#DejaVuSans-114\"/>\r\n       <use x=\"170.369141\" xlink:href=\"#DejaVuSans-114\"/>\r\n       <use x=\"211.482422\" xlink:href=\"#DejaVuSans-117\"/>\r\n       <use x=\"274.861328\" xlink:href=\"#DejaVuSans-112\"/>\r\n       <use x=\"338.337891\" xlink:href=\"#DejaVuSans-116\"/>\r\n       <use x=\"377.546875\" xlink:href=\"#DejaVuSans-105\"/>\r\n       <use x=\"405.330078\" xlink:href=\"#DejaVuSans-111\"/>\r\n       <use x=\"466.511719\" xlink:href=\"#DejaVuSans-110\"/>\r\n      </g>\r\n     </g>\r\n    </g>\r\n    <g id=\"text_12\">\r\n     <!-- Features -->\r\n     <g transform=\"translate(14.798437 152.532656)rotate(-90)scale(0.1 -0.1)\">\r\n      <use xlink:href=\"#DejaVuSans-70\"/>\r\n      <use x=\"52.019531\" xlink:href=\"#DejaVuSans-101\"/>\r\n      <use x=\"113.542969\" xlink:href=\"#DejaVuSans-97\"/>\r\n      <use x=\"174.822266\" xlink:href=\"#DejaVuSans-116\"/>\r\n      <use x=\"214.03125\" xlink:href=\"#DejaVuSans-117\"/>\r\n      <use x=\"277.410156\" xlink:href=\"#DejaVuSans-114\"/>\r\n      <use x=\"316.273438\" xlink:href=\"#DejaVuSans-101\"/>\r\n      <use x=\"377.796875\" xlink:href=\"#DejaVuSans-115\"/>\r\n     </g>\r\n    </g>\r\n   </g>\r\n   <g id=\"patch_3\">\r\n    <path d=\"M 82.101562 239.758125 \r\nL 82.101562 22.318125 \r\n\" style=\"fill:none;stroke:#000000;stroke-linecap:square;stroke-linejoin:miter;stroke-width:0.8;\"/>\r\n   </g>\r\n   <g id=\"patch_4\">\r\n    <path d=\"M 299.541562 239.758125 \r\nL 299.541562 22.318125 \r\n\" style=\"fill:none;stroke:#000000;stroke-linecap:square;stroke-linejoin:miter;stroke-width:0.8;\"/>\r\n   </g>\r\n   <g id=\"patch_5\">\r\n    <path d=\"M 82.101562 239.758125 \r\nL 299.541562 239.758125 \r\n\" style=\"fill:none;stroke:#000000;stroke-linecap:square;stroke-linejoin:miter;stroke-width:0.8;\"/>\r\n   </g>\r\n   <g id=\"patch_6\">\r\n    <path d=\"M 82.101562 22.318125 \r\nL 299.541562 22.318125 \r\n\" style=\"fill:none;stroke:#000000;stroke-linecap:square;stroke-linejoin:miter;stroke-width:0.8;\"/>\r\n   </g>\r\n   <g id=\"text_13\">\r\n    <!-- Correlation Heatmap -->\r\n    <g transform=\"translate(128.26875 16.318125)scale(0.12 -0.12)\">\r\n     <defs>\r\n      <path id=\"DejaVuSans-32\"/>\r\n     </defs>\r\n     <use xlink:href=\"#DejaVuSans-67\"/>\r\n     <use x=\"69.824219\" xlink:href=\"#DejaVuSans-111\"/>\r\n     <use x=\"131.005859\" xlink:href=\"#DejaVuSans-114\"/>\r\n     <use x=\"170.369141\" xlink:href=\"#DejaVuSans-114\"/>\r\n     <use x=\"209.232422\" xlink:href=\"#DejaVuSans-101\"/>\r\n     <use x=\"270.755859\" xlink:href=\"#DejaVuSans-108\"/>\r\n     <use x=\"298.539062\" xlink:href=\"#DejaVuSans-97\"/>\r\n     <use x=\"359.818359\" xlink:href=\"#DejaVuSans-116\"/>\r\n     <use x=\"399.027344\" xlink:href=\"#DejaVuSans-105\"/>\r\n     <use x=\"426.810547\" xlink:href=\"#DejaVuSans-111\"/>\r\n     <use x=\"487.992188\" xlink:href=\"#DejaVuSans-110\"/>\r\n     <use x=\"551.371094\" xlink:href=\"#DejaVuSans-32\"/>\r\n     <use x=\"583.158203\" xlink:href=\"#DejaVuSans-72\"/>\r\n     <use x=\"658.353516\" xlink:href=\"#DejaVuSans-101\"/>\r\n     <use x=\"719.876953\" xlink:href=\"#DejaVuSans-97\"/>\r\n     <use x=\"781.15625\" xlink:href=\"#DejaVuSans-116\"/>\r\n     <use x=\"820.365234\" xlink:href=\"#DejaVuSans-109\"/>\r\n     <use x=\"917.777344\" xlink:href=\"#DejaVuSans-97\"/>\r\n     <use x=\"979.056641\" xlink:href=\"#DejaVuSans-112\"/>\r\n    </g>\r\n   </g>\r\n  </g>\r\n  <g id=\"axes_2\">\r\n   <g id=\"patch_7\">\r\n    <path clip-path=\"url(#p08bfec811e)\" d=\"M 316.281563 239.758125 \r\nL 316.281563 238.90875 \r\nL 316.281563 23.1675 \r\nL 316.281563 22.318125 \r\nL 327.153563 22.318125 \r\nL 327.153563 23.1675 \r\nL 327.153563 238.90875 \r\nL 327.153563 239.758125 \r\nz\r\n\" style=\"fill:#ffffff;stroke:#ffffff;stroke-linejoin:miter;stroke-width:0.01;\"/>\r\n   </g>\r\n   <image height=\"218\" id=\"image5f9ba8f46d\" transform=\"scale(1 -1)translate(0 -218)\" width=\"11\" x=\"316\" xlink:href=\"data:image/png;base64,\r\niVBORw0KGgoAAAANSUhEUgAAAAsAAADaCAYAAABwzrisAAABVklEQVR4nO2aQQ7CMAwEYzvhZbyB/z8EKGdumcNIDoLzarWedVrUNu75uMbmb0bGrnbMEbkv9pwHcY4qEoNkTpKZOfcYsAkNJC4vhrWiJ9K42G5sa82t65LZ41ya876WDqhxvtgZBDG8RULOIjpWNxGTUlCME2lAZ2s3IDri3GTALg1azua1DojhbYLE+PW6RRr7WjVzDxpNMp+4/E3Q/Qf8cs79830mOna6JRogRJ+6vQYR5yY0wL9Lc0CPc2iZTWcizrfl3AMdMB4zNRqpbR0SFzvdQJzDum546IrUjWJAGsSZiGePAZmzRyM0Gp6zxnnlS4th0SgSY5IBi5XiDWg5r0A0UAwgRg16ziueJIbVIOOsDYiWH64oahCh02igAUkpqG52UkjmG7kUiMuv3dpubEW3tbgU4sxigHcTi7wDSuKMYjBnknkO8LlOkW9OEjykQo+zPjhzf2qkeFW7AAAAAElFTkSuQmCC\" y=\"-21\"/>\r\n   <g id=\"matplotlib.axis_3\"/>\r\n   <g id=\"matplotlib.axis_4\">\r\n    <g id=\"ytick_6\">\r\n     <g id=\"line2d_11\">\r\n      <defs>\r\n       <path d=\"M 0 0 \r\nL 3.5 0 \r\n\" id=\"m537f1837cb\" style=\"stroke:#000000;stroke-width:0.8;\"/>\r\n      </defs>\r\n      <g>\r\n       <use style=\"stroke:#000000;stroke-width:0.8;\" x=\"327.153563\" xlink:href=\"#m537f1837cb\" y=\"239.758125\"/>\r\n      </g>\r\n     </g>\r\n     <g id=\"text_14\">\r\n      <!-- 0.0 -->\r\n      <g transform=\"translate(334.153563 243.557344)scale(0.1 -0.1)\">\r\n       <defs>\r\n        <path d=\"M 31.78125 66.40625 \r\nQ 24.171875 66.40625 20.328125 58.90625 \r\nQ 16.5 51.421875 16.5 36.375 \r\nQ 16.5 21.390625 20.328125 13.890625 \r\nQ 24.171875 6.390625 31.78125 6.390625 \r\nQ 39.453125 6.390625 43.28125 13.890625 \r\nQ 47.125 21.390625 47.125 36.375 \r\nQ 47.125 51.421875 43.28125 58.90625 \r\nQ 39.453125 66.40625 31.78125 66.40625 \r\nz\r\nM 31.78125 74.21875 \r\nQ 44.046875 74.21875 50.515625 64.515625 \r\nQ 56.984375 54.828125 56.984375 36.375 \r\nQ 56.984375 17.96875 50.515625 8.265625 \r\nQ 44.046875 -1.421875 31.78125 -1.421875 \r\nQ 19.53125 -1.421875 13.0625 8.265625 \r\nQ 6.59375 17.96875 6.59375 36.375 \r\nQ 6.59375 54.828125 13.0625 64.515625 \r\nQ 19.53125 74.21875 31.78125 74.21875 \r\nz\r\n\" id=\"DejaVuSans-48\"/>\r\n        <path d=\"M 10.6875 12.40625 \r\nL 21 12.40625 \r\nL 21 0 \r\nL 10.6875 0 \r\nz\r\n\" id=\"DejaVuSans-46\"/>\r\n       </defs>\r\n       <use xlink:href=\"#DejaVuSans-48\"/>\r\n       <use x=\"63.623047\" xlink:href=\"#DejaVuSans-46\"/>\r\n       <use x=\"95.410156\" xlink:href=\"#DejaVuSans-48\"/>\r\n      </g>\r\n     </g>\r\n    </g>\r\n    <g id=\"ytick_7\">\r\n     <g id=\"line2d_12\">\r\n      <g>\r\n       <use style=\"stroke:#000000;stroke-width:0.8;\" x=\"327.153563\" xlink:href=\"#m537f1837cb\" y=\"196.270125\"/>\r\n      </g>\r\n     </g>\r\n     <g id=\"text_15\">\r\n      <!-- 0.2 -->\r\n      <g transform=\"translate(334.153563 200.069344)scale(0.1 -0.1)\">\r\n       <defs>\r\n        <path d=\"M 19.1875 8.296875 \r\nL 53.609375 8.296875 \r\nL 53.609375 0 \r\nL 7.328125 0 \r\nL 7.328125 8.296875 \r\nQ 12.9375 14.109375 22.625 23.890625 \r\nQ 32.328125 33.6875 34.8125 36.53125 \r\nQ 39.546875 41.84375 41.421875 45.53125 \r\nQ 43.3125 49.21875 43.3125 52.78125 \r\nQ 43.3125 58.59375 39.234375 62.25 \r\nQ 35.15625 65.921875 28.609375 65.921875 \r\nQ 23.96875 65.921875 18.8125 64.3125 \r\nQ 13.671875 62.703125 7.8125 59.421875 \r\nL 7.8125 69.390625 \r\nQ 13.765625 71.78125 18.9375 73 \r\nQ 24.125 74.21875 28.421875 74.21875 \r\nQ 39.75 74.21875 46.484375 68.546875 \r\nQ 53.21875 62.890625 53.21875 53.421875 \r\nQ 53.21875 48.921875 51.53125 44.890625 \r\nQ 49.859375 40.875 45.40625 35.40625 \r\nQ 44.1875 33.984375 37.640625 27.21875 \r\nQ 31.109375 20.453125 19.1875 8.296875 \r\nz\r\n\" id=\"DejaVuSans-50\"/>\r\n       </defs>\r\n       <use xlink:href=\"#DejaVuSans-48\"/>\r\n       <use x=\"63.623047\" xlink:href=\"#DejaVuSans-46\"/>\r\n       <use x=\"95.410156\" xlink:href=\"#DejaVuSans-50\"/>\r\n      </g>\r\n     </g>\r\n    </g>\r\n    <g id=\"ytick_8\">\r\n     <g id=\"line2d_13\">\r\n      <g>\r\n       <use style=\"stroke:#000000;stroke-width:0.8;\" x=\"327.153563\" xlink:href=\"#m537f1837cb\" y=\"152.782125\"/>\r\n      </g>\r\n     </g>\r\n     <g id=\"text_16\">\r\n      <!-- 0.4 -->\r\n      <g transform=\"translate(334.153563 156.581344)scale(0.1 -0.1)\">\r\n       <defs>\r\n        <path d=\"M 37.796875 64.3125 \r\nL 12.890625 25.390625 \r\nL 37.796875 25.390625 \r\nz\r\nM 35.203125 72.90625 \r\nL 47.609375 72.90625 \r\nL 47.609375 25.390625 \r\nL 58.015625 25.390625 \r\nL 58.015625 17.1875 \r\nL 47.609375 17.1875 \r\nL 47.609375 0 \r\nL 37.796875 0 \r\nL 37.796875 17.1875 \r\nL 4.890625 17.1875 \r\nL 4.890625 26.703125 \r\nz\r\n\" id=\"DejaVuSans-52\"/>\r\n       </defs>\r\n       <use xlink:href=\"#DejaVuSans-48\"/>\r\n       <use x=\"63.623047\" xlink:href=\"#DejaVuSans-46\"/>\r\n       <use x=\"95.410156\" xlink:href=\"#DejaVuSans-52\"/>\r\n      </g>\r\n     </g>\r\n    </g>\r\n    <g id=\"ytick_9\">\r\n     <g id=\"line2d_14\">\r\n      <g>\r\n       <use style=\"stroke:#000000;stroke-width:0.8;\" x=\"327.153563\" xlink:href=\"#m537f1837cb\" y=\"109.294125\"/>\r\n      </g>\r\n     </g>\r\n     <g id=\"text_17\">\r\n      <!-- 0.6 -->\r\n      <g transform=\"translate(334.153563 113.093344)scale(0.1 -0.1)\">\r\n       <defs>\r\n        <path d=\"M 33.015625 40.375 \r\nQ 26.375 40.375 22.484375 35.828125 \r\nQ 18.609375 31.296875 18.609375 23.390625 \r\nQ 18.609375 15.53125 22.484375 10.953125 \r\nQ 26.375 6.390625 33.015625 6.390625 \r\nQ 39.65625 6.390625 43.53125 10.953125 \r\nQ 47.40625 15.53125 47.40625 23.390625 \r\nQ 47.40625 31.296875 43.53125 35.828125 \r\nQ 39.65625 40.375 33.015625 40.375 \r\nz\r\nM 52.59375 71.296875 \r\nL 52.59375 62.3125 \r\nQ 48.875 64.0625 45.09375 64.984375 \r\nQ 41.3125 65.921875 37.59375 65.921875 \r\nQ 27.828125 65.921875 22.671875 59.328125 \r\nQ 17.53125 52.734375 16.796875 39.40625 \r\nQ 19.671875 43.65625 24.015625 45.921875 \r\nQ 28.375 48.1875 33.59375 48.1875 \r\nQ 44.578125 48.1875 50.953125 41.515625 \r\nQ 57.328125 34.859375 57.328125 23.390625 \r\nQ 57.328125 12.15625 50.6875 5.359375 \r\nQ 44.046875 -1.421875 33.015625 -1.421875 \r\nQ 20.359375 -1.421875 13.671875 8.265625 \r\nQ 6.984375 17.96875 6.984375 36.375 \r\nQ 6.984375 53.65625 15.1875 63.9375 \r\nQ 23.390625 74.21875 37.203125 74.21875 \r\nQ 40.921875 74.21875 44.703125 73.484375 \r\nQ 48.484375 72.75 52.59375 71.296875 \r\nz\r\n\" id=\"DejaVuSans-54\"/>\r\n       </defs>\r\n       <use xlink:href=\"#DejaVuSans-48\"/>\r\n       <use x=\"63.623047\" xlink:href=\"#DejaVuSans-46\"/>\r\n       <use x=\"95.410156\" xlink:href=\"#DejaVuSans-54\"/>\r\n      </g>\r\n     </g>\r\n    </g>\r\n    <g id=\"ytick_10\">\r\n     <g id=\"line2d_15\">\r\n      <g>\r\n       <use style=\"stroke:#000000;stroke-width:0.8;\" x=\"327.153563\" xlink:href=\"#m537f1837cb\" y=\"65.806125\"/>\r\n      </g>\r\n     </g>\r\n     <g id=\"text_18\">\r\n      <!-- 0.8 -->\r\n      <g transform=\"translate(334.153563 69.605344)scale(0.1 -0.1)\">\r\n       <defs>\r\n        <path d=\"M 31.78125 34.625 \r\nQ 24.75 34.625 20.71875 30.859375 \r\nQ 16.703125 27.09375 16.703125 20.515625 \r\nQ 16.703125 13.921875 20.71875 10.15625 \r\nQ 24.75 6.390625 31.78125 6.390625 \r\nQ 38.8125 6.390625 42.859375 10.171875 \r\nQ 46.921875 13.96875 46.921875 20.515625 \r\nQ 46.921875 27.09375 42.890625 30.859375 \r\nQ 38.875 34.625 31.78125 34.625 \r\nz\r\nM 21.921875 38.8125 \r\nQ 15.578125 40.375 12.03125 44.71875 \r\nQ 8.5 49.078125 8.5 55.328125 \r\nQ 8.5 64.0625 14.71875 69.140625 \r\nQ 20.953125 74.21875 31.78125 74.21875 \r\nQ 42.671875 74.21875 48.875 69.140625 \r\nQ 55.078125 64.0625 55.078125 55.328125 \r\nQ 55.078125 49.078125 51.53125 44.71875 \r\nQ 48 40.375 41.703125 38.8125 \r\nQ 48.828125 37.15625 52.796875 32.3125 \r\nQ 56.78125 27.484375 56.78125 20.515625 \r\nQ 56.78125 9.90625 50.3125 4.234375 \r\nQ 43.84375 -1.421875 31.78125 -1.421875 \r\nQ 19.734375 -1.421875 13.25 4.234375 \r\nQ 6.78125 9.90625 6.78125 20.515625 \r\nQ 6.78125 27.484375 10.78125 32.3125 \r\nQ 14.796875 37.15625 21.921875 38.8125 \r\nz\r\nM 18.3125 54.390625 \r\nQ 18.3125 48.734375 21.84375 45.5625 \r\nQ 25.390625 42.390625 31.78125 42.390625 \r\nQ 38.140625 42.390625 41.71875 45.5625 \r\nQ 45.3125 48.734375 45.3125 54.390625 \r\nQ 45.3125 60.0625 41.71875 63.234375 \r\nQ 38.140625 66.40625 31.78125 66.40625 \r\nQ 25.390625 66.40625 21.84375 63.234375 \r\nQ 18.3125 60.0625 18.3125 54.390625 \r\nz\r\n\" id=\"DejaVuSans-56\"/>\r\n       </defs>\r\n       <use xlink:href=\"#DejaVuSans-48\"/>\r\n       <use x=\"63.623047\" xlink:href=\"#DejaVuSans-46\"/>\r\n       <use x=\"95.410156\" xlink:href=\"#DejaVuSans-56\"/>\r\n      </g>\r\n     </g>\r\n    </g>\r\n    <g id=\"ytick_11\">\r\n     <g id=\"line2d_16\">\r\n      <g>\r\n       <use style=\"stroke:#000000;stroke-width:0.8;\" x=\"327.153563\" xlink:href=\"#m537f1837cb\" y=\"22.318125\"/>\r\n      </g>\r\n     </g>\r\n     <g id=\"text_19\">\r\n      <!-- 1.0 -->\r\n      <g transform=\"translate(334.153563 26.117344)scale(0.1 -0.1)\">\r\n       <defs>\r\n        <path d=\"M 12.40625 8.296875 \r\nL 28.515625 8.296875 \r\nL 28.515625 63.921875 \r\nL 10.984375 60.40625 \r\nL 10.984375 69.390625 \r\nL 28.421875 72.90625 \r\nL 38.28125 72.90625 \r\nL 38.28125 8.296875 \r\nL 54.390625 8.296875 \r\nL 54.390625 0 \r\nL 12.40625 0 \r\nz\r\n\" id=\"DejaVuSans-49\"/>\r\n       </defs>\r\n       <use xlink:href=\"#DejaVuSans-49\"/>\r\n       <use x=\"63.623047\" xlink:href=\"#DejaVuSans-46\"/>\r\n       <use x=\"95.410156\" xlink:href=\"#DejaVuSans-48\"/>\r\n      </g>\r\n     </g>\r\n    </g>\r\n   </g>\r\n   <g id=\"patch_8\">\r\n    <path d=\"M 316.281563 239.758125 \r\nL 316.281563 238.90875 \r\nL 316.281563 23.1675 \r\nL 316.281563 22.318125 \r\nL 327.153563 22.318125 \r\nL 327.153563 23.1675 \r\nL 327.153563 238.90875 \r\nL 327.153563 239.758125 \r\nz\r\n\" style=\"fill:none;stroke:#000000;stroke-linejoin:miter;stroke-width:0.8;\"/>\r\n   </g>\r\n  </g>\r\n </g>\r\n <defs>\r\n  <clipPath id=\"pc30b71ef93\">\r\n   <rect height=\"217.44\" width=\"217.44\" x=\"82.101562\" y=\"22.318125\"/>\r\n  </clipPath>\r\n  <clipPath id=\"p08bfec811e\">\r\n   <rect height=\"217.44\" width=\"10.872\" x=\"316.281563\" y=\"22.318125\"/>\r\n  </clipPath>\r\n </defs>\r\n</svg>\r\n",
      "image/png": "[encoded data removed]"
     },
     "metadata": {
      "needs_background": "light"
     }
    }
   ],
   "source": [
    "# Create correlation matrix\n",
    "corr_matrix = features.corr().abs()\n",
    "\n",
    "# Select upper triangle of correlation matrix\n",
    "upper = corr_matrix.where(np.triu(np.ones(corr_matrix.shape), k=1).astype(np.bool))\n",
    "\n",
    "fig, ax = plt.subplots(1,1)\n",
    "\n",
    "plt.imshow(upper, cmap='viridis', vmax=1, vmin=0)\n",
    "plt.colorbar()\n",
    "plt.title('Correlation Heatmap')\n",
    "feat = ['_','GDP', 'Health', 'Freedom', 'Generosity', 'Corruption']\n",
    "ax.set_xticklabels(feat, rotation=90)\n",
    "ax.set_yticklabels(feat)\n",
    "plt.xlabel('Features')\n",
    "plt.ylabel('Features')"
   ]
  },
  {
   "source": [
    "We notice that from the correlation heatmap that there exists a strong correlation between `GDP_per_capita` and `Healthy_life_expectancy`. This observation is expected as wealthier countries tend to have a better environment and infrastructure that supports healthy living. Some examples of this include better hospital facilities, access to better nutrition, and programs that promote an active lifestyle."
   ],
   "cell_type": "markdown",
   "metadata": {}
  },
  {
   "cell_type": "markdown",
   "metadata": {},
   "source": [
    "### MATCHING "
   ]
  },
  {
   "cell_type": "markdown",
   "metadata": {},
   "source": [
    "First we calculate the median of GPD per capita and then we create a dummy variable, indicating with 1 the countries that have a GPD greater than the median, and with 0 the countries with a GPD lower than the median"
   ]
  },
  {
   "cell_type": "code",
   "execution_count": 202,
   "metadata": {},
   "outputs": [
    {
     "data": {
      "text/html": [
       "<div>\n",
       "<style scoped>\n",
       "    .dataframe tbody tr th:only-of-type {\n",
       "        vertical-align: middle;\n",
       "    }\n",
       "\n",
       "    .dataframe tbody tr th {\n",
       "        vertical-align: top;\n",
       "    }\n",
       "\n",
       "    .dataframe thead th {\n",
       "        text-align: right;\n",
       "    }\n",
       "</style>\n",
       "<table border=\"1\" class=\"dataframe\">\n",
       "  <thead>\n",
       "    <tr style=\"text-align: right;\">\n",
       "      <th></th>\n",
       "      <th>Year</th>\n",
       "      <th>Country</th>\n",
       "      <th>Happiness_Score</th>\n",
       "      <th>Happiness_Rank</th>\n",
       "      <th>GDP_per_capita</th>\n",
       "      <th>Healthy_life_expectancy</th>\n",
       "      <th>Freedom</th>\n",
       "      <th>Generosity</th>\n",
       "      <th>Perceptions_of_corruption</th>\n",
       "      <th>treatment</th>\n",
       "    </tr>\n",
       "  </thead>\n",
       "  <tbody>\n",
       "    <tr>\n",
       "      <th>0</th>\n",
       "      <td>2020</td>\n",
       "      <td>Finland</td>\n",
       "      <td>7.8087</td>\n",
       "      <td>1.0</td>\n",
       "      <td>10.639267</td>\n",
       "      <td>71.900825</td>\n",
       "      <td>0.949172</td>\n",
       "      <td>-0.059482</td>\n",
       "      <td>0.195445</td>\n",
       "      <td>1</td>\n",
       "    </tr>\n",
       "    <tr>\n",
       "      <th>1</th>\n",
       "      <td>2020</td>\n",
       "      <td>Denmark</td>\n",
       "      <td>7.6456</td>\n",
       "      <td>2.0</td>\n",
       "      <td>10.774001</td>\n",
       "      <td>72.402504</td>\n",
       "      <td>0.951444</td>\n",
       "      <td>0.066202</td>\n",
       "      <td>0.168489</td>\n",
       "      <td>1</td>\n",
       "    </tr>\n",
       "    <tr>\n",
       "      <th>2</th>\n",
       "      <td>2020</td>\n",
       "      <td>Switzerland</td>\n",
       "      <td>7.5599</td>\n",
       "      <td>3.0</td>\n",
       "      <td>10.979933</td>\n",
       "      <td>74.102448</td>\n",
       "      <td>0.921337</td>\n",
       "      <td>0.105911</td>\n",
       "      <td>0.303728</td>\n",
       "      <td>1</td>\n",
       "    </tr>\n",
       "    <tr>\n",
       "      <th>3</th>\n",
       "      <td>2020</td>\n",
       "      <td>Iceland</td>\n",
       "      <td>7.5045</td>\n",
       "      <td>4.0</td>\n",
       "      <td>10.772559</td>\n",
       "      <td>73.000000</td>\n",
       "      <td>0.948892</td>\n",
       "      <td>0.246944</td>\n",
       "      <td>0.711710</td>\n",
       "      <td>1</td>\n",
       "    </tr>\n",
       "    <tr>\n",
       "      <th>4</th>\n",
       "      <td>2020</td>\n",
       "      <td>Norway</td>\n",
       "      <td>7.4880</td>\n",
       "      <td>5.0</td>\n",
       "      <td>11.087804</td>\n",
       "      <td>73.200783</td>\n",
       "      <td>0.955750</td>\n",
       "      <td>0.134533</td>\n",
       "      <td>0.263218</td>\n",
       "      <td>1</td>\n",
       "    </tr>\n",
       "    <tr>\n",
       "      <th>...</th>\n",
       "      <td>...</td>\n",
       "      <td>...</td>\n",
       "      <td>...</td>\n",
       "      <td>...</td>\n",
       "      <td>...</td>\n",
       "      <td>...</td>\n",
       "      <td>...</td>\n",
       "      <td>...</td>\n",
       "      <td>...</td>\n",
       "      <td>...</td>\n",
       "    </tr>\n",
       "    <tr>\n",
       "      <th>148</th>\n",
       "      <td>2020</td>\n",
       "      <td>Central African Republic</td>\n",
       "      <td>3.4759</td>\n",
       "      <td>149.0</td>\n",
       "      <td>6.625160</td>\n",
       "      <td>45.200001</td>\n",
       "      <td>0.640881</td>\n",
       "      <td>0.082410</td>\n",
       "      <td>0.891807</td>\n",
       "      <td>0</td>\n",
       "    </tr>\n",
       "    <tr>\n",
       "      <th>149</th>\n",
       "      <td>2020</td>\n",
       "      <td>Rwanda</td>\n",
       "      <td>3.3123</td>\n",
       "      <td>150.0</td>\n",
       "      <td>7.600104</td>\n",
       "      <td>61.098846</td>\n",
       "      <td>0.900589</td>\n",
       "      <td>0.055484</td>\n",
       "      <td>0.183541</td>\n",
       "      <td>0</td>\n",
       "    </tr>\n",
       "    <tr>\n",
       "      <th>150</th>\n",
       "      <td>2020</td>\n",
       "      <td>Zimbabwe</td>\n",
       "      <td>3.2992</td>\n",
       "      <td>151.0</td>\n",
       "      <td>7.865712</td>\n",
       "      <td>55.617260</td>\n",
       "      <td>0.711458</td>\n",
       "      <td>-0.072064</td>\n",
       "      <td>0.810237</td>\n",
       "      <td>0</td>\n",
       "    </tr>\n",
       "    <tr>\n",
       "      <th>151</th>\n",
       "      <td>2020</td>\n",
       "      <td>South Sudan</td>\n",
       "      <td>2.8166</td>\n",
       "      <td>152.0</td>\n",
       "      <td>7.425360</td>\n",
       "      <td>51.000000</td>\n",
       "      <td>0.451314</td>\n",
       "      <td>0.016519</td>\n",
       "      <td>0.763417</td>\n",
       "      <td>0</td>\n",
       "    </tr>\n",
       "    <tr>\n",
       "      <th>152</th>\n",
       "      <td>2020</td>\n",
       "      <td>Afghanistan</td>\n",
       "      <td>2.5669</td>\n",
       "      <td>153.0</td>\n",
       "      <td>7.462861</td>\n",
       "      <td>52.590000</td>\n",
       "      <td>0.396573</td>\n",
       "      <td>-0.096429</td>\n",
       "      <td>0.933687</td>\n",
       "      <td>0</td>\n",
       "    </tr>\n",
       "  </tbody>\n",
       "</table>\n",
       "<p>153 rows × 10 columns</p>\n",
       "</div>"
      ],
      "text/plain": [
       "     Year                   Country  Happiness_Score  Happiness_Rank  \\\n",
       "0    2020                   Finland           7.8087             1.0   \n",
       "1    2020                   Denmark           7.6456             2.0   \n",
       "2    2020               Switzerland           7.5599             3.0   \n",
       "3    2020                   Iceland           7.5045             4.0   \n",
       "4    2020                    Norway           7.4880             5.0   \n",
       "..    ...                       ...              ...             ...   \n",
       "148  2020  Central African Republic           3.4759           149.0   \n",
       "149  2020                    Rwanda           3.3123           150.0   \n",
       "150  2020                  Zimbabwe           3.2992           151.0   \n",
       "151  2020               South Sudan           2.8166           152.0   \n",
       "152  2020               Afghanistan           2.5669           153.0   \n",
       "\n",
       "     GDP_per_capita  Healthy_life_expectancy   Freedom  Generosity  \\\n",
       "0         10.639267                71.900825  0.949172   -0.059482   \n",
       "1         10.774001                72.402504  0.951444    0.066202   \n",
       "2         10.979933                74.102448  0.921337    0.105911   \n",
       "3         10.772559                73.000000  0.948892    0.246944   \n",
       "4         11.087804                73.200783  0.955750    0.134533   \n",
       "..              ...                      ...       ...         ...   \n",
       "148        6.625160                45.200001  0.640881    0.082410   \n",
       "149        7.600104                61.098846  0.900589    0.055484   \n",
       "150        7.865712                55.617260  0.711458   -0.072064   \n",
       "151        7.425360                51.000000  0.451314    0.016519   \n",
       "152        7.462861                52.590000  0.396573   -0.096429   \n",
       "\n",
       "     Perceptions_of_corruption  treatment  \n",
       "0                     0.195445          1  \n",
       "1                     0.168489          1  \n",
       "2                     0.303728          1  \n",
       "3                     0.711710          1  \n",
       "4                     0.263218          1  \n",
       "..                         ...        ...  \n",
       "148                   0.891807          0  \n",
       "149                   0.183541          0  \n",
       "150                   0.810237          0  \n",
       "151                   0.763417          0  \n",
       "152                   0.933687          0  \n",
       "\n",
       "[153 rows x 10 columns]"
      ]
     },
     "execution_count": 202,
     "metadata": {},
     "output_type": "execute_result"
    }
   ],
   "source": [
    "y2020_matching = y2020.copy()\n",
    "median = y2020_matching['GDP_per_capita'].median()\n",
    "median\n",
    "y2020_matching['treatment']= np.where(y2020_matching['GDP_per_capita']>median, 1,0)\n",
    "y2020_matching"
   ]
  },
  {
   "cell_type": "markdown",
   "metadata": {},
   "source": [
    "For each characteristic of the dataset we will compare the control group with the treatment group"
   ]
  },
  {
   "cell_type": "code",
   "execution_count": 203,
   "metadata": {},
   "outputs": [
    {
     "data": {
      "image/png": "[encoded data removed]",
      "text/plain": [
       "<Figure size 360x360 with 1 Axes>"
      ]
     },
     "metadata": {
      "needs_background": "light"
     },
     "output_type": "display_data"
    }
   ],
   "source": [
    "#Happiness Score\n",
    "y2020_matching.boxplot(by='treatment', column='Happiness_Score', figsize = [5, 5], grid=True)\n",
    "plt.show()"
   ]
  },
  {
   "cell_type": "code",
   "execution_count": 204,
   "metadata": {},
   "outputs": [
    {
     "data": {
      "image/png": "[encoded data removed]",
      "text/plain": [
       "<Figure size 360x360 with 1 Axes>"
      ]
     },
     "metadata": {
      "needs_background": "light"
     },
     "output_type": "display_data"
    }
   ],
   "source": [
    "# Healthy life expectancy\n",
    "y2020_matching.boxplot(by='treatment', column='Healthy_life_expectancy', figsize = [5, 5], grid=True)\n",
    "plt.show()"
   ]
  },
  {
   "cell_type": "code",
   "execution_count": 205,
   "metadata": {},
   "outputs": [
    {
     "data": {
      "image/png": "[encoded data removed]",
      "text/plain": [
       "<Figure size 360x360 with 1 Axes>"
      ]
     },
     "metadata": {
      "needs_background": "light"
     },
     "output_type": "display_data"
    }
   ],
   "source": [
    "#Freedom\n",
    "y2020_matching.boxplot(by='treatment', column='Freedom', figsize = [5, 5], grid=True)\n",
    "plt.show()"
   ]
  },
  {
   "cell_type": "code",
   "execution_count": 206,
   "metadata": {},
   "outputs": [
    {
     "data": {
      "image/png": "[encoded data removed]",
      "text/plain": [
       "<Figure size 360x360 with 1 Axes>"
      ]
     },
     "metadata": {
      "needs_background": "light"
     },
     "output_type": "display_data"
    }
   ],
   "source": [
    "#Generosity\n",
    "y2020_matching.boxplot(by='treatment', column='Generosity', figsize = [5, 5], grid=True)\n",
    "plt.show()"
   ]
  },
  {
   "cell_type": "code",
   "execution_count": 207,
   "metadata": {},
   "outputs": [
    {
     "data": {
      "image/png": "[encoded data removed]",
      "text/plain": [
       "<Figure size 360x360 with 1 Axes>"
      ]
     },
     "metadata": {
      "needs_background": "light"
     },
     "output_type": "display_data"
    }
   ],
   "source": [
    "#Perceptions of corruption\n",
    "y2020_matching.boxplot(by='treatment', column='Perceptions_of_corruption', figsize = [5, 5], grid=True)\n",
    "plt.show()"
   ]
  },
  {
   "cell_type": "markdown",
   "metadata": {},
   "source": [
    "### Propensity score model"
   ]
  },
  {
   "cell_type": "code",
   "execution_count": 208,
   "metadata": {},
   "outputs": [
    {
     "name": "stdout",
     "output_type": "stream",
     "text": [
      "Optimization terminated successfully.\n",
      "         Current function value: 0.349780\n",
      "         Iterations 8\n",
      "                           Logit Regression Results                           \n",
      "==============================================================================\n",
      "Dep. Variable:              treatment   No. Observations:                  153\n",
      "Model:                          Logit   Df Residuals:                      148\n",
      "Method:                           MLE   Df Model:                            4\n",
      "Date:                Sun, 06 Dec 2020   Pseudo R-squ.:                  0.4954\n",
      "Time:                        22:24:45   Log-Likelihood:                -53.516\n",
      "converged:                       True   LL-Null:                       -106.05\n",
      "Covariance Type:            nonrobust   LLR p-value:                 8.209e-22\n",
      "=============================================================================================\n",
      "                                coef    std err          z      P>|z|      [0.025      0.975]\n",
      "---------------------------------------------------------------------------------------------\n",
      "Intercept                   -25.1238      5.011     -5.013      0.000     -34.946     -15.302\n",
      "Healthy_life_expectancy       0.4102      0.073      5.589      0.000       0.266       0.554\n",
      "Freedom                      -0.0803      0.297     -0.271      0.787      -0.662       0.501\n",
      "Generosity                   -0.3715      0.290     -1.280      0.201      -0.940       0.197\n",
      "Perceptions_of_corruption    -2.3071      1.886     -1.223      0.221      -6.003       1.389\n",
      "=============================================================================================\n"
     ]
    }
   ],
   "source": [
    "# let's standardize the continuous features\n",
    "y2020_matching['Healthy life expectancy'] = (y2020_matching['Healthy_life_expectancy'] - y2020_matching['Healthy_life_expectancy'].mean())/y2020_matching['Healthy_life_expectancy'].std()\n",
    "y2020_matching['Freedom'] = (y2020_matching['Freedom'] - y2020_matching['Freedom'].mean())/y2020_matching['Freedom'].std()\n",
    "y2020_matching['Generosity'] = (y2020_matching['Generosity'] - y2020_matching['Generosity'].mean())/y2020_matching['Generosity'].std()\n",
    "y2020_matching['Perceptions of corruption'] = (y2020_matching['Perceptions_of_corruption'] - y2020_matching['Perceptions_of_corruption'].mean())/y2020_matching['Perceptions_of_corruption'].std()\n",
    "\n",
    "mod = smf.logit(formula='treatment ~ Healthy_life_expectancy + Freedom + Generosity + Perceptions_of_corruption ', data=y2020_matching)\n",
    "\n",
    "res = mod.fit()\n",
    "\n",
    "# # Extract the estimated propensity scores\n",
    "y2020_matching['Propensity_score'] = res.predict()\n",
    "\n",
    "print(res.summary())"
   ]
  },
  {
   "cell_type": "code",
   "execution_count": 209,
   "metadata": {},
   "outputs": [],
   "source": [
    "def get_similarity(propensity_score1, propensity_score2):\n",
    "    '''Calculate similarity for instances with given propensity scores'''\n",
    "    return 1-np.abs(propensity_score1-propensity_score2)"
   ]
  },
  {
   "cell_type": "code",
   "execution_count": 212,
   "metadata": {},
   "outputs": [],
   "source": [
    "# Separate the treatment and control groups\n",
    "treatment_df = y2020_matching[y2020_matching['treatment'] == 1]\n",
    "control_df = y2020_matching[y2020_matching['treatment'] == 0]\n",
    "\n",
    "# Create an empty undirected graph\n",
    "G = nx.Graph()\n",
    "\n",
    "# Loop through all the pairs of instances\n",
    "for control_id, control_row in control_df.iterrows():\n",
    "    for treatment_id, treatment_row in treatment_df.iterrows():\n",
    "\n",
    "        # Calculate the similarity \n",
    "        similarity = get_similarity(control_row['Propensity_score'],\n",
    "                                    treatment_row['Propensity_score'])\n",
    "\n",
    "        # Add an edge between the two instances weighted by the similarity between them\n",
    "        G.add_weighted_edges_from([(control_id, treatment_id, similarity)])\n",
    "\n",
    "# Generate and return the maximum weight matching on the generated graph\n",
    "matching = nx.max_weight_matching(G)"
   ]
  },
  {
   "cell_type": "code",
   "execution_count": 213,
   "metadata": {},
   "outputs": [
    {
     "data": {
      "text/plain": [
       "{(0, 62),\n",
       " (1, 98),\n",
       " (2, 55),\n",
       " (4, 127),\n",
       " (8, 129),\n",
       " (9, 59),\n",
       " (10, 116),\n",
       " (14, 151),\n",
       " (16, 97),\n",
       " (17, 140),\n",
       " (18, 123),\n",
       " (20, 85),\n",
       " (21, 141),\n",
       " (24, 133),\n",
       " (25, 90),\n",
       " (27, 126),\n",
       " (28, 78),\n",
       " (32, 37),\n",
       " (33, 12),\n",
       " (34, 95),\n",
       " (35, 111),\n",
       " (36, 134),\n",
       " (40, 65),\n",
       " (41, 135),\n",
       " (42, 150),\n",
       " (43, 139),\n",
       " (44, 119),\n",
       " (45, 22),\n",
       " (46, 103),\n",
       " (48, 136),\n",
       " (53, 87),\n",
       " (56, 122),\n",
       " (57, 30),\n",
       " (66, 71),\n",
       " (67, 108),\n",
       " (68, 61),\n",
       " (69, 31),\n",
       " (72, 128),\n",
       " (73, 26),\n",
       " (75, 142),\n",
       " (80, 89),\n",
       " (81, 100),\n",
       " (82, 60),\n",
       " (83, 23),\n",
       " (86, 143),\n",
       " (88, 64),\n",
       " (91, 47),\n",
       " (92, 149),\n",
       " (93, 70),\n",
       " (96, 77),\n",
       " (99, 51),\n",
       " (101, 109),\n",
       " (102, 94),\n",
       " (104, 11),\n",
       " (105, 49),\n",
       " (106, 63),\n",
       " (107, 125),\n",
       " (110, 7),\n",
       " (112, 19),\n",
       " (113, 58),\n",
       " (114, 5),\n",
       " (115, 76),\n",
       " (118, 6),\n",
       " (120, 79),\n",
       " (121, 54),\n",
       " (124, 52),\n",
       " (130, 3),\n",
       " (131, 15),\n",
       " (132, 117),\n",
       " (137, 74),\n",
       " (138, 29),\n",
       " (144, 38),\n",
       " (145, 50),\n",
       " (146, 84),\n",
       " (147, 39),\n",
       " (152, 13)}"
      ]
     },
     "execution_count": 213,
     "metadata": {},
     "output_type": "execute_result"
    }
   ],
   "source": [
    "matching"
   ]
  },
  {
   "cell_type": "code",
   "execution_count": 216,
   "metadata": {},
   "outputs": [
    {
     "data": {
      "text/html": [
       "<div>\n",
       "<style scoped>\n",
       "    .dataframe tbody tr th:only-of-type {\n",
       "        vertical-align: middle;\n",
       "    }\n",
       "\n",
       "    .dataframe tbody tr th {\n",
       "        vertical-align: top;\n",
       "    }\n",
       "\n",
       "    .dataframe thead th {\n",
       "        text-align: right;\n",
       "    }\n",
       "</style>\n",
       "<table border=\"1\" class=\"dataframe\">\n",
       "  <thead>\n",
       "    <tr style=\"text-align: right;\">\n",
       "      <th></th>\n",
       "      <th>Year</th>\n",
       "      <th>Country</th>\n",
       "      <th>Happiness_Score</th>\n",
       "      <th>Happiness_Rank</th>\n",
       "      <th>GDP_per_capita</th>\n",
       "      <th>Healthy_life_expectancy</th>\n",
       "      <th>Freedom</th>\n",
       "      <th>Generosity</th>\n",
       "      <th>Perceptions_of_corruption</th>\n",
       "      <th>treatment</th>\n",
       "      <th>Healthy life expectancy</th>\n",
       "      <th>Perceptions of corruption</th>\n",
       "      <th>Propensity_score</th>\n",
       "    </tr>\n",
       "  </thead>\n",
       "  <tbody>\n",
       "    <tr>\n",
       "      <th>106</th>\n",
       "      <td>2020</td>\n",
       "      <td>Bangladesh</td>\n",
       "      <td>4.8328</td>\n",
       "      <td>107.0</td>\n",
       "      <td>8.287064</td>\n",
       "      <td>64.503067</td>\n",
       "      <td>0.995573</td>\n",
       "      <td>-0.125793</td>\n",
       "      <td>0.661844</td>\n",
       "      <td>0</td>\n",
       "      <td>0.008152</td>\n",
       "      <td>-0.406894</td>\n",
       "      <td>0.443280</td>\n",
       "    </tr>\n",
       "    <tr>\n",
       "      <th>63</th>\n",
       "      <td>2020</td>\n",
       "      <td>Serbia</td>\n",
       "      <td>5.7782</td>\n",
       "      <td>64.0</td>\n",
       "      <td>9.680981</td>\n",
       "      <td>68.210205</td>\n",
       "      <td>-0.482775</td>\n",
       "      <td>-0.389358</td>\n",
       "      <td>0.843509</td>\n",
       "      <td>1</td>\n",
       "      <td>0.533403</td>\n",
       "      <td>0.630172</td>\n",
       "      <td>0.748402</td>\n",
       "    </tr>\n",
       "    <tr>\n",
       "      <th>68</th>\n",
       "      <td>2020</td>\n",
       "      <td>Bosnia and Herzegovina</td>\n",
       "      <td>5.6741</td>\n",
       "      <td>69.0</td>\n",
       "      <td>9.455817</td>\n",
       "      <td>67.808136</td>\n",
       "      <td>-1.120737</td>\n",
       "      <td>0.743322</td>\n",
       "      <td>0.933769</td>\n",
       "      <td>0</td>\n",
       "      <td>0.476435</td>\n",
       "      <td>1.145436</td>\n",
       "      <td>0.585981</td>\n",
       "    </tr>\n",
       "    <tr>\n",
       "      <th>61</th>\n",
       "      <td>2020</td>\n",
       "      <td>Japan</td>\n",
       "      <td>5.8708</td>\n",
       "      <td>62.0</td>\n",
       "      <td>10.579689</td>\n",
       "      <td>75.000969</td>\n",
       "      <td>0.225843</td>\n",
       "      <td>-1.530492</td>\n",
       "      <td>0.654558</td>\n",
       "      <td>1</td>\n",
       "      <td>1.495561</td>\n",
       "      <td>-0.448485</td>\n",
       "      <td>0.990791</td>\n",
       "    </tr>\n",
       "    <tr>\n",
       "      <th>131</th>\n",
       "      <td>2020</td>\n",
       "      <td>Swaziland</td>\n",
       "      <td>4.3081</td>\n",
       "      <td>132.0</td>\n",
       "      <td>9.162674</td>\n",
       "      <td>51.188236</td>\n",
       "      <td>-1.159201</td>\n",
       "      <td>-1.216222</td>\n",
       "      <td>0.708263</td>\n",
       "      <td>0</td>\n",
       "      <td>-1.878376</td>\n",
       "      <td>-0.141900</td>\n",
       "      <td>0.005389</td>\n",
       "    </tr>\n",
       "    <tr>\n",
       "      <th>...</th>\n",
       "      <td>...</td>\n",
       "      <td>...</td>\n",
       "      <td>...</td>\n",
       "      <td>...</td>\n",
       "      <td>...</td>\n",
       "      <td>...</td>\n",
       "      <td>...</td>\n",
       "      <td>...</td>\n",
       "      <td>...</td>\n",
       "      <td>...</td>\n",
       "      <td>...</td>\n",
       "      <td>...</td>\n",
       "      <td>...</td>\n",
       "    </tr>\n",
       "    <tr>\n",
       "      <th>60</th>\n",
       "      <td>2020</td>\n",
       "      <td>South Korea</td>\n",
       "      <td>5.8724</td>\n",
       "      <td>61.0</td>\n",
       "      <td>10.510567</td>\n",
       "      <td>73.602730</td>\n",
       "      <td>-1.446646</td>\n",
       "      <td>-0.189948</td>\n",
       "      <td>0.789067</td>\n",
       "      <td>1</td>\n",
       "      <td>1.297449</td>\n",
       "      <td>0.319384</td>\n",
       "      <td>0.968652</td>\n",
       "    </tr>\n",
       "    <tr>\n",
       "      <th>138</th>\n",
       "      <td>2020</td>\n",
       "      <td>Sierra Leone</td>\n",
       "      <td>3.9264</td>\n",
       "      <td>139.0</td>\n",
       "      <td>7.268803</td>\n",
       "      <td>50.865143</td>\n",
       "      <td>-0.577700</td>\n",
       "      <td>0.679994</td>\n",
       "      <td>0.861331</td>\n",
       "      <td>0</td>\n",
       "      <td>-1.924154</td>\n",
       "      <td>0.731910</td>\n",
       "      <td>0.001571</td>\n",
       "    </tr>\n",
       "    <tr>\n",
       "      <th>29</th>\n",
       "      <td>2020</td>\n",
       "      <td>Italy</td>\n",
       "      <td>6.3874</td>\n",
       "      <td>30.0</td>\n",
       "      <td>10.481836</td>\n",
       "      <td>73.601685</td>\n",
       "      <td>-1.007827</td>\n",
       "      <td>-0.190323</td>\n",
       "      <td>0.873405</td>\n",
       "      <td>1</td>\n",
       "      <td>1.297301</td>\n",
       "      <td>0.800836</td>\n",
       "      <td>0.960859</td>\n",
       "    </tr>\n",
       "    <tr>\n",
       "      <th>146</th>\n",
       "      <td>2020</td>\n",
       "      <td>Botswana</td>\n",
       "      <td>3.4789</td>\n",
       "      <td>147.0</td>\n",
       "      <td>9.711204</td>\n",
       "      <td>58.924454</td>\n",
       "      <td>0.322346</td>\n",
       "      <td>-1.553442</td>\n",
       "      <td>0.777931</td>\n",
       "      <td>1</td>\n",
       "      <td>-0.782261</td>\n",
       "      <td>0.255809</td>\n",
       "      <td>0.099811</td>\n",
       "    </tr>\n",
       "    <tr>\n",
       "      <th>84</th>\n",
       "      <td>2020</td>\n",
       "      <td>Ivory Coast</td>\n",
       "      <td>5.2333</td>\n",
       "      <td>85.0</td>\n",
       "      <td>8.225561</td>\n",
       "      <td>49.503773</td>\n",
       "      <td>-0.470775</td>\n",
       "      <td>-0.193815</td>\n",
       "      <td>0.790772</td>\n",
       "      <td>0</td>\n",
       "      <td>-2.117042</td>\n",
       "      <td>0.329114</td>\n",
       "      <td>0.001451</td>\n",
       "    </tr>\n",
       "  </tbody>\n",
       "</table>\n",
       "<p>152 rows × 13 columns</p>\n",
       "</div>"
      ],
      "text/plain": [
       "     Year                 Country  Happiness_Score  Happiness_Rank  \\\n",
       "106  2020              Bangladesh           4.8328           107.0   \n",
       "63   2020                  Serbia           5.7782            64.0   \n",
       "68   2020  Bosnia and Herzegovina           5.6741            69.0   \n",
       "61   2020                   Japan           5.8708            62.0   \n",
       "131  2020               Swaziland           4.3081           132.0   \n",
       "..    ...                     ...              ...             ...   \n",
       "60   2020             South Korea           5.8724            61.0   \n",
       "138  2020            Sierra Leone           3.9264           139.0   \n",
       "29   2020                   Italy           6.3874            30.0   \n",
       "146  2020                Botswana           3.4789           147.0   \n",
       "84   2020             Ivory Coast           5.2333            85.0   \n",
       "\n",
       "     GDP_per_capita  Healthy_life_expectancy   Freedom  Generosity  \\\n",
       "106        8.287064                64.503067  0.995573   -0.125793   \n",
       "63         9.680981                68.210205 -0.482775   -0.389358   \n",
       "68         9.455817                67.808136 -1.120737    0.743322   \n",
       "61        10.579689                75.000969  0.225843   -1.530492   \n",
       "131        9.162674                51.188236 -1.159201   -1.216222   \n",
       "..              ...                      ...       ...         ...   \n",
       "60        10.510567                73.602730 -1.446646   -0.189948   \n",
       "138        7.268803                50.865143 -0.577700    0.679994   \n",
       "29        10.481836                73.601685 -1.007827   -0.190323   \n",
       "146        9.711204                58.924454  0.322346   -1.553442   \n",
       "84         8.225561                49.503773 -0.470775   -0.193815   \n",
       "\n",
       "     Perceptions_of_corruption  treatment  Healthy life expectancy  \\\n",
       "106                   0.661844          0                 0.008152   \n",
       "63                    0.843509          1                 0.533403   \n",
       "68                    0.933769          0                 0.476435   \n",
       "61                    0.654558          1                 1.495561   \n",
       "131                   0.708263          0                -1.878376   \n",
       "..                         ...        ...                      ...   \n",
       "60                    0.789067          1                 1.297449   \n",
       "138                   0.861331          0                -1.924154   \n",
       "29                    0.873405          1                 1.297301   \n",
       "146                   0.777931          1                -0.782261   \n",
       "84                    0.790772          0                -2.117042   \n",
       "\n",
       "     Perceptions of corruption  Propensity_score  \n",
       "106                  -0.406894          0.443280  \n",
       "63                    0.630172          0.748402  \n",
       "68                    1.145436          0.585981  \n",
       "61                   -0.448485          0.990791  \n",
       "131                  -0.141900          0.005389  \n",
       "..                         ...               ...  \n",
       "60                    0.319384          0.968652  \n",
       "138                   0.731910          0.001571  \n",
       "29                    0.800836          0.960859  \n",
       "146                   0.255809          0.099811  \n",
       "84                    0.329114          0.001451  \n",
       "\n",
       "[152 rows x 13 columns]"
      ]
     },
     "execution_count": 216,
     "metadata": {},
     "output_type": "execute_result"
    }
   ],
   "source": [
    "matchingdf = y2020_matching.iloc[[subj_id for t in matching for subj_id in t]]\n",
    "matchingdf"
   ]
  }
 ],
 "metadata": {
  "kernelspec": {
   "display_name": "Python 3",
   "language": "python",
   "name": "python3"
  },
  "language_info": {
   "codemirror_mode": {
    "name": "ipython",
    "version": 3
   },
   "file_extension": ".py",
   "mimetype": "text/x-python",
   "name": "python",
   "nbconvert_exporter": "python",
   "pygments_lexer": "ipython3",
   "version": "3.8.5-final"
  }
 },
 "nbformat": 4,
 "nbformat_minor": 4
}